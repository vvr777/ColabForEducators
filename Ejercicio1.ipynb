{
  "nbformat": 4,
  "nbformat_minor": 0,
  "metadata": {
    "colab": {
      "provenance": []
    },
    "kernelspec": {
      "name": "python3",
      "display_name": "Python 3"
    },
    "language_info": {
      "name": "python"
    }
  },
  "cells": [
    {
      "cell_type": "markdown",
      "source": [
        "# **Aprendiendo Python**"
      ],
      "metadata": {
        "id": "xj9M4_sqBxer"
      }
    },
    {
      "cell_type": "code",
      "execution_count": 8,
      "metadata": {
        "colab": {
          "base_uri": "https://localhost:8080/"
        },
        "id": "aS8lPaR7BmrE",
        "outputId": "076a5e53-2175-4630-a62f-1b9149f4d1b8"
      },
      "outputs": [
        {
          "output_type": "stream",
          "name": "stdout",
          "text": [
            "El valor de la suma es: 7\n"
          ]
        }
      ],
      "source": [
        "a = 3\n",
        "b = 4\n",
        "c = a + b\n",
        "print(\"El valor de la suma es:\",c)"
      ]
    },
    {
      "cell_type": "markdown",
      "source": [],
      "metadata": {
        "id": "yVQRE4BYQpTp"
      }
    },
    {
      "cell_type": "code",
      "source": [
        "a = int(input(\" Ingrese un valor: \"))\n",
        "b = 2 * a\n",
        "print(b)"
      ],
      "metadata": {
        "colab": {
          "base_uri": "https://localhost:8080/"
        },
        "id": "lKqhkwX5k3fh",
        "outputId": "f9c4b8f4-aa78-4c22-a665-f37a5ccd8baa"
      },
      "execution_count": 13,
      "outputs": [
        {
          "output_type": "stream",
          "name": "stdout",
          "text": [
            " Ingrese un valor: 5\n",
            "10\n"
          ]
        }
      ]
    }
  ]
}
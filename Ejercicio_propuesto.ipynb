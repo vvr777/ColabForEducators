{
  "nbformat": 4,
  "nbformat_minor": 0,
  "metadata": {
    "colab": {
      "provenance": []
    },
    "kernelspec": {
      "name": "python3",
      "display_name": "Python 3"
    },
    "language_info": {
      "name": "python"
    }
  },
  "cells": [
    {
      "cell_type": "markdown",
      "source": [
        "# **Ejercicio propuesto**"
      ],
      "metadata": {
        "id": "p65mfehs0lLP"
      }
    },
    {
      "cell_type": "markdown",
      "source": [
        "Del archivo \"banco1.xls\" realizar las siguientes consultas:\n",
        "\n",
        "1) ¿Cuántos registros tiene el dataframe?\n",
        "\n",
        "2) Mostrar los clientes que tienen una edad mayor a 50 años.\n",
        "\n",
        "3) Mostrar los clientes que tienen una edad entre 40 y 50 años (ambos inclusive).\n",
        "\n",
        "4) Mostrar los clientes que tienen una edad menor al promedio de edades.\n",
        "\n",
        "5) Mostrar los clientes casados que viven en Comas.\n",
        "\n",
        "6) Mostrar el promedio de tiempo de espera por grado académico.\n",
        "\n",
        "7) Mostrar la edad media de los clientes solteros, según su grado académico.\n",
        "\n",
        "8) Añadir una nueva columna booleana para ver si el cliente es adulto mayor (edad mayor o igual a 60 años) o no."
      ],
      "metadata": {
        "id": "XJ5NOdZA1XyQ"
      }
    },
    {
      "cell_type": "code",
      "execution_count": null,
      "metadata": {
        "id": "ft4o0WFo0j6q"
      },
      "outputs": [],
      "source": []
    }
  ]
}
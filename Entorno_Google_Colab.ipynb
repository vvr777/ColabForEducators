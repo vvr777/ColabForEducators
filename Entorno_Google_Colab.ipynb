{
  "nbformat": 4,
  "nbformat_minor": 0,
  "metadata": {
    "colab": {
      "provenance": []
    },
    "kernelspec": {
      "name": "python3",
      "display_name": "Python 3"
    },
    "language_info": {
      "name": "python"
    }
  },
  "cells": [
    {
      "cell_type": "markdown",
      "source": [
        "## **ENTORNO GOOGLE COLAB**"
      ],
      "metadata": {
        "id": "yWHlYuF2kCNS"
      }
    },
    {
      "cell_type": "markdown",
      "source": [
        "##<font color='steelblue'>Contenidos:</font>\n",
        "1. Google Colab\n",
        "1. Tu primer cuaderno Colab\n",
        "1. Inserción de imágenes\n",
        "1. Celdas de código\n",
        "1. Gráficos\n",
        "1. Código oculto\n",
        "1. Incrustar webs y videos\n",
        "1. Integración con drive\n",
        "1. Guardar\n",
        "1. Compartir\n",
        "1. Conexión con drive\n",
        "\n"
      ],
      "metadata": {
        "id": "LM2ZUu31V9HS"
      }
    },
    {
      "cell_type": "markdown",
      "source": [
        "## <font color='steelblue'>1. Google Colab</font>\n"
      ],
      "metadata": {
        "id": "SesRoXZfZ7q9"
      }
    },
    {
      "cell_type": "markdown",
      "source": [
        "### <font color='steelblue'>La Aplicación web Colaboratory </font>\n",
        "\n",
        "La aplicación web [COLABORATORY](https://colab.research.google.com/notebooks/welcome.ipynb), también conocida como *Google Colab*, permite a los usuarios de *Google*:\n",
        "\n",
        "   * Editar el código en el navegador.\n",
        "\n",
        "   * Ejecutar el código desde el navegador.\n",
        "\n",
        "   * Visualizar los resultados de los cálculos junto al código que los generó.\n",
        "\n",
        "   * Comentar los resultados utilizando el lenguaje de marcas *Markdown*.\n",
        "\n",
        "Todos los cuadernos Colab se almacenan y gestionan respecto a edición y permisos, como cualquier otro documento de Google desde Google Drive."
      ],
      "metadata": {
        "id": "G38oMvH1iBal"
      }
    },
    {
      "cell_type": "markdown",
      "source": [
        "### <font color='steelblue'>Los entornos de ejecución de Colab</font>\n",
        "\n",
        "[COLABORATORY](https://colab.research.google.com/notebooks/welcome.ipynb) está pensado para programar en diferentes lenguajes de programación. En cada cuaderno que abre un usuario, la aplicación web inicia un entorno de ejecución que permite ejecutar el código de ese cuaderno. Cada entorno de ejecución es capaz de ejecutar código en un solo lenguaje de programación.\n",
        "\n",
        "En este módulo trabajaremos con [Python 3.0](https://www.python.org/download/releases/3.0/)"
      ],
      "metadata": {
        "id": "W5rDhtybjP7r"
      }
    },
    {
      "cell_type": "markdown",
      "source": [
        "### <font color='steelblue'>Los documentos de Colab</font>\n",
        "\n",
        "Los cuadernos de Jupyter en Colab se pueden construir con las entradas y salidas de una sesión interactiva, así como el texto narrativo con que queramos acompañar la ejecución.\n",
        "\n",
        "Los cuadernos constan de una secuencia lineal de celdas, de dos tipos básicos:\n",
        "  \n",
        "   \n",
        "*   **Celdas de texto**: en las que se escribe texto y que puede incluir enlaces, ecuaciones, imágenes, indexaciones, etc., utilizando el lenguaje [Markdown](https://www.markdownguide.org/)\n",
        "\n",
        "*  **Celdas de código**: en las que se emplaza código que se puede ejecutar en vivo, y que generan asimismo otras celdas con los resultados de la ejecución.  \n",
        "\n",
        "Los archivos de tipo Colab, se guardan en Google Drive con la extensión \".ipynb\"."
      ],
      "metadata": {
        "id": "2aX6d_qNiZgF"
      }
    },
    {
      "cell_type": "markdown",
      "source": [
        "## <font color='steelblue'>2. Tu primer cuaderno Colab</font>\n"
      ],
      "metadata": {
        "id": "Dy-4PRSSkw20"
      }
    },
    {
      "cell_type": "markdown",
      "source": [
        "En este apartado pretendemos ofrecerte una guía completa paso a paso para crear y trabajar con tu primer cuaderno Colab.\n",
        "\n",
        "**Nota:** Como Colab utiliza implícitamente Google Drive para almacenar los cuadernos, asegúrate de haber iniciado sesión en tu cuenta de Google Drive antes de continuar.\n",
        "\n",
        "\n",
        "**Paso 1:** La primera vez que usas Google Colab en tu ordenador, abre la siguiente URL en tu navegador: https://colab.research.google.com.\n",
        "\n",
        "Tu navegador mostrará algo parecido a la siguiente pantalla (si has iniciado sesión en Google Drive):\n",
        "\n",
        "<img src=https://raw.githubusercontent.com/ia4legos/Statistics/main/images/img_10_20_10.png>\n",
        "\n",
        "\n",
        "**Paso 2:** Al clicar en **Nuevo cuaderno**, en la parte inferior, se abre un nuevo cuaderno como se muestra a continuación.\n",
        "\n",
        "<img src=https://raw.githubusercontent.com/ia4legos/Statistics/main/images/img_10_20_20.png>\n",
        "\n",
        "Por defecto aparece una primera celda de código, en la que podremos empezar a introducir código de Python.\n",
        "\n",
        "Por defecto, Colab utiliza la convención de nombres UntitledXX.pyinb. Para cambiar su nombre, hay que hacer clic en el nombre, cambiarlo con el nombre deseado (sin modificar o suprimir la extensión .ipynb) y pulsar la tecla ENTER.\n",
        "\n",
        "<img src=https://raw.githubusercontent.com/ia4legos/Statistics/main/images/img_10_20_30.png>\n",
        "\n",
        "\n",
        "Llamamos a este cuaderno **MiPrimerCuadernoColab**.\n",
        "\n",
        "Como ya hemos dicho, la primera celda que aparece es de tipo código. Al aproximar el cursor al borde inferior de la celda aparecerán dos opciones, \"+Código\", y \"+Texto\", que nos permitirán añadir otras celdas de código o texto, conforme las necesitemos.\n",
        "\n",
        "<img src=https://raw.githubusercontent.com/ia4legos/Statistics/main/images/img_10_20_40.png>\n",
        "\n",
        "También podemos añadir celdas pulsando los botones que aparecen debajo en la barra superior del cuaderno, a la izquierda:\n",
        "\n",
        "<img src=https://raw.githubusercontent.com/ia4legos/Statistics/main/images/img_10_20_50.png>\n",
        "\n",
        "La nueva celda se crea debajo de la que tenemos seleccionada. Con todo, podemos intercambiar el orden entre celdas utilizando sucesivamente las flechas arriba/abajo que aparecen en la parte derecha superior de la celda.\n",
        "\n",
        "<img src=https://raw.githubusercontent.com/ia4legos/Statistics/main/images/img_10_20_60.png>\n",
        "\n",
        "\n",
        "**Nota:** para poder moverla en ambos sentidos, tiene que haber una celda arriba y otra abajo. Si no es el caso, las flechas aparecerán solo en un sentido.\n",
        "\n",
        "Si queremos eliminar una celda cualquiera, basta con borrarla utilizando el icono de papelera en la parte derecha superior de la celda.\n",
        "<img src=https://raw.githubusercontent.com/ia4legos/Statistics/main/images/img_10_20_70.png>\n",
        "\n",
        "\n",
        "Cuando termines tu sesión y cierres el cuaderno, este habrá quedado archivado en Google Drive, en una carpeta llamada *Colab Notebooks*, desde donde podrás reabrirlo la próxima vez que quieras utilizarlo.\n",
        "\n",
        "La próxima vez que quieras crear un cuaderno Colab, podrás hacerlo directamente desde Google Drive, clicando en \"+Nuevo >  Más > Google Colaboratory\", pues ya se habrá instalado la aplicación *Colaboratory* en Drive.\n"
      ],
      "metadata": {
        "id": "2y00zS4glSVu"
      }
    },
    {
      "cell_type": "markdown",
      "source": [
        "```markdown\n",
        "---\n",
        "```\n",
        "\n",
        "---"
      ],
      "metadata": {
        "id": "BZvzCOfmeMTk"
      }
    },
    {
      "cell_type": "markdown",
      "source": [
        "## <font color='steelblue'>3. Inserción de imágenes</font>"
      ],
      "metadata": {
        "id": "QTzPw5LqVpUK"
      }
    },
    {
      "cell_type": "markdown",
      "source": [],
      "metadata": {
        "id": "RV6l4sgTgJ6A"
      }
    },
    {
      "cell_type": "markdown",
      "source": [
        "Para insertar imágenes tenemos dos opciones:\n",
        "\n",
        "- mediante un enlace de una imagen que esté en la web\n",
        "- usando una imagen almacenada en Google Drive y su identificador de objeto al compartirla."
      ],
      "metadata": {
        "id": "ZZRRWSpRWC3Q"
      }
    },
    {
      "cell_type": "markdown",
      "source": [
        "Insertar una **imagen en la web** con su url pública en internet es similar a añadir un hipervínculo en un documento. Basta con utilizar la sintaxis a continuación:\n",
        "\n",
        "\n",
        "A modo de ejemplo:\n",
        "Imagen de ADN obtenida de Pixabay:\n",
        "\n",
        "https://cdn.pixabay.com/photo/2013/07/18/10/55/dna-163466_960_720.jpg\n",
        "\n",
        "\n",
        "![Imagen de ADN obtenida de Pixabay](https://cdn.pixabay.com/photo/2013/07/18/10/55/dna-163466_960_720.jpg)\n",
        "\n"
      ],
      "metadata": {
        "id": "0V2flwEWWkDt"
      }
    },
    {
      "cell_type": "markdown",
      "source": [
        "Para visualizar una **imagen desde Drive**, primero hay que subirla a nuestro Google Drive. Al pulsar la opción \"Obtener enlace\", y asegurarnos de que cualquier persona con el enlace la pueda ver (lo más habitual si la vamos a publicar desde un cuaderno Colab).\n",
        "\n",
        "<img src=https://raw.githubusercontent.com/ia4legos/Statistics/main/images/img_10_30_10.png>\n",
        "\n",
        "A continuación hemos de copiar su identificador de objeto, que es el código alfanumérico que aparece subrayado a continuación:\n",
        "<img src=https://raw.githubusercontent.com/ia4legos/Statistics/main/images/img_10_30_20.png>\n",
        "\n",
        "Para insertar la imagen, la sintaxis es igual que antes, pero en este caso el link debe tener las siguientes características:\n",
        "\n",
        "* empezará con la dirección 'https://drive.google.com/thumbnail?id='\n",
        "\n",
        "* continuará con su identificador de objeto https://drive.google.com/thumbnail?id=11CZN1oJGApsnWQOH4PnlpqsWt0rOKeZT\n",
        "\n",
        "* y finalizará con '&sz=...', donde en los puntos suspensivos indicamos el tamaño deseado para la imagen. Así, `h50` significará un alto de 50 píxeles, `w800` un ancho de 800 píxeles, y un número cualquiera no iniciado por `h` o `w`, mantendrá las proporciones originales de la imagen. https://drive.google.com/thumbnail?id=11CZN1oJGApsnWQOH4PnlpqsWt0rOKeZT&sz=w800\n",
        "\n",
        "Se muestran a continuación tres ejemplos de inserción de imágenes de Drive:\n",
        "\n",
        "```markdown\n",
        "![12003.jpg](https://drive.google.com/thumbnail?id=1WX10d2u17KQS4jINnbg-Oz12mq3v3djx&sz=h50)\n",
        "\n",
        "![12003.jpg](https://drive.google.com/thumbnail?id=14FTlWu1A6JV9A6WXrM5cmTLfwvNVTtWf&sz=w300)\n",
        "\n",
        "![12003.jpg](https://drive.google.com/thumbnail?id=1WX10d2u17KQS4jINnbg-Oz12mq3v3djx&sz=800)\n",
        "```\n",
        "\n",
        "![12003.jpg](https://drive.google.com/thumbnail?id=1WX10d2u17KQS4jINnbg-Oz12mq3v3djx&sz=h50)\n",
        "\n",
        "![12003.jpg](https://drive.google.com/thumbnail?id=14FTlWu1A6JV9A6WXrM5cmTLfwvNVTtWf&sz=w300)\n",
        "\n",
        "![12003.jpg](https://drive.google.com/thumbnail?id=1WX10d2u17KQS4jINnbg-Oz12mq3v3djx&sz=100)"
      ],
      "metadata": {
        "id": "E6_LeXI0Xxu8"
      }
    },
    {
      "cell_type": "markdown",
      "source": [
        "## <font color='steelblue'>4. Celdas de código</font>\n",
        "\n",
        "\n",
        "Veamos a continuación cómo sacar el máximo provecho a las **celdas de código**."
      ],
      "metadata": {
        "id": "Shw_VqD8QsSU"
      }
    },
    {
      "cell_type": "markdown",
      "source": [
        "### <font color='steelblue'>Ejecutar</font>"
      ],
      "metadata": {
        "id": "DctWGBpeQ1Bc"
      }
    },
    {
      "cell_type": "markdown",
      "source": [
        "\n",
        "\n",
        "En primer lugar, una celda de código solo se podrá ejecutar si previamente hemos conectado el entorno de trabajo en red, cuestión que resolvemos pulsando el botón 'Conectar' situado en la parte superior derecha del cuaderno.\n",
        "\n",
        "<img src=https://raw.githubusercontent.com/ia4legos/Statistics/main/images/img_10_50_10.png>\n",
        "\n",
        "\n",
        "Una vez conectado, nos aparecerá algo parecido a esto, que confirma que disponemos de RAM y disco duro para ejecutar nuestro código:\n",
        "\n",
        "<img src=https://raw.githubusercontent.com/ia4legos/Statistics/main/images/img_10_50_20.png>\n",
        "\n",
        "Ya conectado el entorno y creada una celda de código, podemos ejecutarla de distintos modos, clicando en:\n",
        "\n",
        "* el **icono de reproducción**, al lado izquierdo de la celda;\n",
        "* **Cmd + Enter** (en Mac) o **Ctrl + Enter** (en Windows), si el cursor está posicionado sobre la celda;\n",
        "* **Shift + Enter**, que ejecuta la celda seleccionada y además mueve el foco a continuación a la siguiente celda;\n",
        "* **Alt + Enter** que ejecuta la celda seleccionada y crea otra celda de código a continuación.\n",
        "\n",
        "Hay opciones adicionales para ejecutar algunas o todas las celdas en el menú **Entorno de Ejecución / Runtime**.\n",
        "\n"
      ],
      "metadata": {
        "id": "GBqH-Jm5-UtU"
      }
    },
    {
      "cell_type": "markdown",
      "source": [
        "Prueba tú mismo/a a utilizar estas opciones sobre la siguiente celda de código."
      ],
      "metadata": {
        "id": "fgTCAsE7QoGI"
      }
    },
    {
      "cell_type": "code",
      "source": [
        "#esto es un comentario\n",
        "a=40\n",
        "a"
      ],
      "metadata": {
        "colab": {
          "base_uri": "https://localhost:8080/"
        },
        "id": "-So_xpe-CMFO",
        "outputId": "4c82a851-96a6-41a5-a7cd-75cdc81d52d2"
      },
      "execution_count": null,
      "outputs": [
        {
          "output_type": "execute_result",
          "data": {
            "text/plain": [
              "40"
            ]
          },
          "metadata": {},
          "execution_count": 6
        }
      ]
    },
    {
      "cell_type": "markdown",
      "source": [
        "## <font color='steelblue'>5. Gráficos</font>"
      ],
      "metadata": {
        "id": "luv_WcI-FSjP"
      }
    },
    {
      "cell_type": "markdown",
      "source": [
        "Hay muchos tipos de salidas enriquecidas, como los gráficos, que podemos generar con una celda de código. Veamos algunos ejemplos a continuación, representando un histograma en primer lugar, una función en cuyo gráfico los ejes se definen con expresiones matemáticas, y un tercer gráfico compuesto que además permite exportarlo en distintos formatos."
      ],
      "metadata": {
        "id": "SQK412e4HacP"
      }
    },
    {
      "cell_type": "code",
      "source": [
        "# @title\n",
        "import matplotlib.pyplot as plt\n",
        "import numpy as np\n",
        "\n",
        "#generamos datos aleatorios\n",
        "\n",
        "n = 10+ np.random.randn(1000000)\n",
        "\n",
        "#dibujamos histograma\n",
        "plt.hist(n, bins=50)\n",
        "plt.title(\"Histograma 24 de mayo de 2022\")\n",
        "plt.show()"
      ],
      "metadata": {
        "colab": {
          "base_uri": "https://localhost:8080/",
          "height": 281
        },
        "id": "WKFVyVjDFlpC",
        "outputId": "cf446920-ad17-41f8-cb3b-45817f576063"
      },
      "execution_count": null,
      "outputs": [
        {
          "output_type": "display_data",
          "data": {
            "text/plain": [
              "<Figure size 432x288 with 1 Axes>"
            ],
            "image/png": "[encoded data removed]"
          },
          "metadata": {
            "needs_background": "light"
          }
        }
      ]
    },
    {
      "cell_type": "markdown",
      "source": [
        "## <font color='steelblue'>6. Código oculto</font>"
      ],
      "metadata": {
        "id": "lFdY_2OcIRCz"
      }
    },
    {
      "cell_type": "markdown",
      "source": [
        "En determinadas circunstancias nos puede interesar ocultar el código para mejorar la estética de un cuaderno, especialmente cuando estamos contando conceptos con código (por ejemplo gráficos) y el código -que quizás es demasiado largo- no aporta contenido relevante para el lector.  \n",
        "\n",
        "Para ocultar código en una celda, basta seleccionarla, acudir al menú ':' en la barra superior, acceder a 'Formulario' y seleccionar la opción 'Ocultar código'. Volveremos sobre esto cuando desarrollemos los Formularios. No obstante, veamos a continuación un ejemplo de un gráfico interactivo con código oculto.\n",
        "\n",
        "Si clicas en 'Mostrar código' se desplegará el código oculto. Si quieres volver al estado inicial, basta clicar dos veces sobre la celda-formulario.\n"
      ],
      "metadata": {
        "id": "_YCFxZSxIWDm"
      }
    },
    {
      "cell_type": "markdown",
      "source": [
        "## <font color='steelblue'>7. Incrustar webs y vídeos</font>"
      ],
      "metadata": {
        "id": "6ySYDotZJEWP"
      }
    },
    {
      "cell_type": "markdown",
      "source": [
        "Con una celda de código también podemos conseguir que aparezca incrustados en nuestro cuaderno, webs o vídeos de youTube, sin necesidad de acceder a ellos a través de hipervínculos.\n",
        "\n",
        "Para incrustar una web hemos de importar la función `IFrame` de la librería `IPython.display` y utilizar la siguiente sintaxis:"
      ],
      "metadata": {
        "id": "imHI_KNaJUdm"
      }
    },
    {
      "cell_type": "code",
      "source": [
        "from IPython.display import IFrame\n",
        "IFrame('https://es.wikipedia.org/wiki/Python', width=800, height=500)"
      ],
      "metadata": {
        "colab": {
          "base_uri": "https://localhost:8080/",
          "height": 521
        },
        "id": "DY9mFA5_JkbM",
        "outputId": "eaa88f15-0ecc-4058-fe0b-e5261cf8982d"
      },
      "execution_count": null,
      "outputs": [
        {
          "output_type": "execute_result",
          "data": {
            "text/plain": [
              "<IPython.lib.display.IFrame at 0x7c92c41f1900>"
            ],
            "text/html": [
              "\n",
              "        <iframe\n",
              "            width=\"800\"\n",
              "            height=\"500\"\n",
              "            src=\"https://es.wikipedia.org/wiki/Python\"\n",
              "            frameborder=\"0\"\n",
              "            allowfullscreen\n",
              "            \n",
              "        ></iframe>\n",
              "        "
            ]
          },
          "metadata": {},
          "execution_count": 3
        }
      ]
    },
    {
      "cell_type": "markdown",
      "source": [
        "Para incrustar un vídeo de YouTube, hay que utilizar la función `YouTubeVideo` de la misma librería, e introducir el identificador del vídeo entre comillas, esto es, el código alfanumérico que hay a continuación de 'youtu.be/'. Por ejemplo, en el vídeo 'https://youtu.be/We0dKwg01j4',  el identificador es 'We0dKwg01j4'."
      ],
      "metadata": {
        "id": "G4UWeyAmIYQR"
      }
    },
    {
      "cell_type": "code",
      "source": [
        "from IPython.display import YouTubeVideo\n",
        "YouTubeVideo('We0dKwg01j4', width=800, height=450)"
      ],
      "metadata": {
        "colab": {
          "base_uri": "https://localhost:8080/",
          "height": 471
        },
        "id": "MMInXysQJk1n",
        "outputId": "cd4f775a-0eb7-486b-85b6-8d35e01ddabb"
      },
      "execution_count": null,
      "outputs": [
        {
          "output_type": "execute_result",
          "data": {
            "text/plain": [
              "<IPython.lib.display.YouTubeVideo at 0x7c92c41f1480>"
            ],
            "text/html": [
              "\n",
              "        <iframe\n",
              "            width=\"800\"\n",
              "            height=\"450\"\n",
              "            src=\"https://www.youtube.com/embed/We0dKwg01j4\"\n",
              "            frameborder=\"0\"\n",
              "            allowfullscreen\n",
              "            \n",
              "        ></iframe>\n",
              "        "
            ],
            "image/jpeg": "[encoded data removed]"
          },
          "metadata": {},
          "execution_count": 4
        }
      ]
    },
    {
      "cell_type": "markdown",
      "source": [
        "## <font color='steelblue'>8. Integración con Drive</font>"
      ],
      "metadata": {
        "id": "JAeweOlsUzQO"
      }
    },
    {
      "cell_type": "markdown",
      "source": [
        "Los cuadernos Colab se crean y almacenan en Google Drive, y quedan enlazados directamente con él. Revisamos a continuación algunas funcionalidades básicas para aprovechar al máximo las prestaciones que ofrece este entorno en la nube, como son guardar, compartir con otros usuarios y conectar con nuestro Google Drive para importar/exportar archivos.\n",
        "\n",
        "Estas funciones que describimos a continuación pueden ser utilizadas por todo aquel usuario que es propietario o editor de un documento; no las puede hacer un usuario que sólo tiene permisos de lectura o para comentar.\n"
      ],
      "metadata": {
        "id": "wDlDPQqIVw7B"
      }
    },
    {
      "cell_type": "markdown",
      "source": [
        "## <font color='steelblue'>9. Guardar</font>"
      ],
      "metadata": {
        "id": "H3b3aLhsWrzz"
      }
    },
    {
      "cell_type": "markdown",
      "source": [
        "Cuando queremos **guardar** los cambios realizados en un cuaderno colab, tenemos varias opciones, a las que accedemos a través del menú de Google en la parte superior del cuaderno (bajo el título):\n",
        "\n",
        "* **Archivo -> Guardar una copia en Drive** crea una copia del cuaderno en Drive. Es especialmente útil cuando queremos conservar el documento previo que editamos, y otro con los cambios realizados.\n",
        "\n",
        "* **Archivo -> Guardar** guarda el cuaderno sobre la copia previa.\n",
        "\n",
        "* **Archivo -> Guardar y punto de control** guarda el cuaderno y fija la versión para que podamos acceder a ella a través del historial de revisiones.\n",
        "\n",
        "Por defecto, los cuadernos Colab se almacenan en una carpeta que se crea en **Mi unidad** llamada **Colab Notebooks**, si bien podemos moverlos a otras carpetas.\n",
        "\n",
        "Si queremos ver o recuperar algún elemento en versiones previas, podemos consultar el historial del archivo en  **Archivo -> Historial de revisiones**."
      ],
      "metadata": {
        "id": "AT9vJUo2W-zy"
      }
    },
    {
      "cell_type": "markdown",
      "source": [
        "## <font color='steelblue'>10. Compartir</font>"
      ],
      "metadata": {
        "id": "fP1bjVYrWwWP"
      }
    },
    {
      "cell_type": "markdown",
      "source": [
        "Si queremos compartir un cuaderno de Colab para que otros usuarios específicos puedan acceder al mismo, con permisos de Lector, Comentador o Editor, basta pulsar el icono de **Compartir** que aparece en la parte superior derecha del cuaderno e incluir sus usuarios de Gmail.\n",
        "\n",
        "<img src=https://raw.githubusercontent.com/ia4legos/Statistics/main/images/img_10_70_10.png>\n",
        "\n",
        "Podemos gestionar el acceso general también a través de esta opción, eligiendo asimismo los permisos tolerados, y conseguir el enlace compartido para enviarlo por correo electrónico a quien deseemos.\n"
      ],
      "metadata": {
        "id": "pPsEINoaY6zw"
      }
    },
    {
      "cell_type": "markdown",
      "source": [
        "## <font color='steelblue'>11. Conexión con Drive</font>"
      ],
      "metadata": {
        "id": "OXBv-WrZWy-C"
      }
    },
    {
      "cell_type": "markdown",
      "source": [
        "Como usuarios de Gmail, podemos acceder a documentos en Drive desde un cuaderno Colab (por ejemplo una hoja de cálculo con datos que queremos analizar), y también guardar documentos con resultados en nuestro Drive. Para ello es preciso ejecutar un sencillo comando que realiza esa primera conexión a nuestro Drive,\n",
        "\n",
        "```markdown\n",
        "# Ejecutar esta celda para conectar Google Drive.\n",
        "from google.colab import drive\n",
        "drive.mount('/content/drive')\n",
        "```\n",
        "\n",
        "Cuando ejecutemos este código, habremos de especificar nuestro usuario de Gmail y aceptar ciertos permisos, que detallamos a continuación:\n",
        "\n",
        "\n",
        "1. Se nos pide permiso para que el cuaderno acceda a nuestros archivos en Google Drive. Hay que pulsar en **Conectar con Google Drive**\n",
        "\n",
        "  <img src=https://raw.githubusercontent.com/ia4legos/Statistics/main/images/img_10_70_20.png>\n",
        "\n",
        "2. A continuación debemos seleccionar la cuenta de Gmail que queramos conectar:\n",
        "\n",
        "  <img src=https://raw.githubusercontent.com/ia4legos/Statistics/main/images/img_10_70_30.png>\n",
        "\n",
        "3. Por último, se nos solicita confirmar que confiamos en Google Drive, facilitándonos la política de privacidad y términos del servicio. Tenemos que llegar al final del documento y seleccionar la opción **Permitir**.\n",
        "\n",
        "  <img src=https://raw.githubusercontent.com/ia4legos/Statistics/main/images/img_10_70_40.png>\n",
        "\n",
        "Una vez terminado todo este proceso, debemos esperar un par de segundos y ya quedará conectado nuestro cuaderno Colab a nuestro Google Drive.\n",
        "\n",
        "Ahora prueba tú a conectar tu Google Drive ejecutando la celda a continuación.\n"
      ],
      "metadata": {
        "id": "JH2fKi8ab-mb"
      }
    },
    {
      "cell_type": "code",
      "source": [
        "# Ejecutar esta celda para conectar con tu Google Drive.\n",
        "from google.colab import drive\n",
        "drive.mount('/content/drive')"
      ],
      "metadata": {
        "id": "4WiASwg7bf30",
        "colab": {
          "base_uri": "https://localhost:8080/"
        },
        "outputId": "fb46a424-8bf1-484f-b3f3-82cd6837aa58"
      },
      "execution_count": null,
      "outputs": [
        {
          "output_type": "stream",
          "name": "stdout",
          "text": [
            "Mounted at /content/drive\n"
          ]
        }
      ]
    }
  ]
}
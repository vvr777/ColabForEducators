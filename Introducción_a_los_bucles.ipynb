{
  "nbformat": 4,
  "nbformat_minor": 0,
  "metadata": {
    "colab": {
      "provenance": []
    },
    "kernelspec": {
      "name": "python3",
      "display_name": "Python 3"
    },
    "language_info": {
      "name": "python"
    }
  },
  "cells": [
    {
      "cell_type": "markdown",
      "source": [
        "## **INTRODUCCIÓN A LOS BUCLES**"
      ],
      "metadata": {
        "id": "qC2g4iBrwElT"
      }
    },
    {
      "cell_type": "markdown",
      "source": [
        "## <font color='steelblue'>Contenidos:</font>\n",
        "\n",
        "1. Bucles: el comando `for`\n",
        "1. Índices\n",
        "  1. Indexar diccionarios: `keys()`,`values()`,`items()`\n",
        "  1. Indexar con secuencias: `range()`\n",
        "  1. Indexación múltiple: `zip()`\n",
        "  1. Indexar y enumerar: `enumerate()`\n",
        "1. Operaciones habituales en bucles\n",
        "  1. Guardar resultados: listas vacías y `append()`\n",
        "  1. Contadores\n",
        "  1. Detener y continuar: `breal` y `continue`."
      ],
      "metadata": {
        "id": "LM2ZUu31V9HS"
      }
    },
    {
      "cell_type": "markdown",
      "source": [
        "## <font color='steelblue'>1. Bucles: el comando `for` </font>\n"
      ],
      "metadata": {
        "id": "SesRoXZfZ7q9"
      }
    },
    {
      "cell_type": "markdown",
      "source": [
        "Imagina que te pedimos construir un programa que deletree una palabra y escriba cada letra en una línea. Ya sabemos que con el comando `print` podemos escribir por líneas, y con el comando `list` podemos separar las letras en elementos independientes. Bastará después, ejecutar `print` con cada uno de los elementos de dicha lista. Es decir, repetir el comando tantas veces como letras tiene la palabra."
      ],
      "metadata": {
        "id": "CeKVFJDYzQGM"
      }
    },
    {
      "cell_type": "code",
      "source": [
        "palabra=\"hola\"\n",
        "letras=list(palabra)\n",
        "print(palabra)\n",
        "print(letras)\n",
        "print(letras[0])\n",
        "print(letras[1])\n",
        "print(letras[2])\n",
        "print(letras[3])"
      ],
      "metadata": {
        "colab": {
          "base_uri": "https://localhost:8080/"
        },
        "id": "RU6PxGPdyrUv",
        "outputId": "e894660d-7997-4247-9e73-f46661ccb5f1"
      },
      "execution_count": null,
      "outputs": [
        {
          "output_type": "stream",
          "name": "stdout",
          "text": [
            "hola\n",
            "['h', 'o', 'l', 'a']\n",
            "h\n",
            "o\n",
            "l\n",
            "a\n"
          ]
        }
      ]
    },
    {
      "cell_type": "markdown",
      "source": [
        "El código se hace más largo, si en lugar de deletrear una palabra queremos deletrear una frase, o incluso el texto de un libro. De hecho es muy frecuente en programación, tener que repetir una misma operación sobre muchos elementos, estén en una cadena, en un vector, en una matriz,... y a veces la repetición puede referirse a miles de veces.\n",
        "\n",
        "Surgen así los **bucles**, para reducir el código en operaciones repetitivas que ejecutamos al recorrer cada uno de los elementos de un objeto.\n",
        "\n",
        "La idea para construir un bucle es la misma que hemos utilizado al escribir el código directamente: aislamos cada uno de los elementos a operar en el objeto, los reconocemos con un índice, y recorremos sus elementos a través del índice. Así es como funciona el comando `for`, que nos permite iterar (repetir) un proceso sobre cada uno de los elementos de un objeto, programando la operación a realizar una única vez. La forma de utilizarlo es:\n",
        "\n",
        "```\n",
        "for index in objeto_iterable:\n",
        "  codigo sobre index\n",
        "```\n",
        "\n",
        "Así utilizamos un índice o *index* con el que identificamos y recorremos cada uno de los elementos del 'objeto_iterable' a través del comando `in`, y a continuación, tras utilizar los dos puntos para indicar que a continuación se iniciará la acción, saltamos de línea, indentamos con una sangría y programamos el código que queremos ejecutar sobre 'index'.\n",
        "\n",
        "El ejemplo de deletrear con el que iniciamos esta sección quedaría simplificado de la siguiente manera:\n"
      ],
      "metadata": {
        "id": "2y00zS4glSVu"
      }
    },
    {
      "cell_type": "code",
      "source": [
        "for letra in \"hola\":\n",
        "    print(letra)"
      ],
      "metadata": {
        "colab": {
          "base_uri": "https://localhost:8080/"
        },
        "id": "3i1vukbG0gtD",
        "outputId": "ae5c812f-a35b-4775-8c9a-40b7abf7dd45"
      },
      "execution_count": null,
      "outputs": [
        {
          "output_type": "stream",
          "name": "stdout",
          "text": [
            "h\n",
            "o\n",
            "l\n",
            "a\n"
          ]
        }
      ]
    },
    {
      "cell_type": "code",
      "source": [
        "#mejor para la comprensión\n",
        "for letra in letras:\n",
        "    print(letra)"
      ],
      "metadata": {
        "id": "PXucv-5FlDKq",
        "colab": {
          "base_uri": "https://localhost:8080/"
        },
        "outputId": "527bd2e3-2231-4beb-d1a3-12b506171509"
      },
      "execution_count": null,
      "outputs": [
        {
          "output_type": "stream",
          "name": "stdout",
          "text": [
            "h\n",
            "o\n",
            "l\n",
            "a\n"
          ]
        }
      ]
    },
    {
      "cell_type": "markdown",
      "source": [
        "Apreciamos pues, que el índice 'letra' no es una variable previamente creada, y al añadir `in \"hola\"`, reconoce y recorre cada uno de los elementos o caracteres de la cadena de caracteres \"hola\", imprimiéndolos con el comando `print(letra)`.\n",
        "\n",
        "\n"
      ],
      "metadata": {
        "id": "wcL4UQNNuQYu"
      }
    },
    {
      "cell_type": "markdown",
      "source": [
        "Cuando el objeto iterable no es una palabra, sino que es una lista, reconoce como elementos cada uno de los elementos de la lista. Podríamos así, por ejemplo, escribir en pantalla cada uno de los elementos de una lista con el código:\n"
      ],
      "metadata": {
        "id": "AMrZzbW6u9Hg"
      }
    },
    {
      "cell_type": "code",
      "source": [
        "recintos = [\"Elche\", \"Sant Joan\", \"Altea\", \"Orihuela\"]\n",
        "for recinto in recintos:\n",
        "  print(recinto)"
      ],
      "metadata": {
        "colab": {
          "base_uri": "https://localhost:8080/"
        },
        "id": "3w1p8iN3vDuS",
        "outputId": "63947553-4ec0-430d-8843-67a5a7815ab2"
      },
      "execution_count": null,
      "outputs": [
        {
          "output_type": "stream",
          "name": "stdout",
          "text": [
            "Elche\n",
            "Sant Joan\n",
            "Altea\n",
            "Orihuela\n"
          ]
        }
      ]
    },
    {
      "cell_type": "markdown",
      "source": [
        "Y podríamos también anidar bucles, por ejemplo para separar primero los elementos de la lista y luego sus letras, y visualizarlas de esta forma en pantalla.\n",
        "\n",
        "**Nota:** Con el fin de añadir una línea después de cada palabra, añadimos un espacio final a cada uno de los elementos de la lista, que se pintará también como un carácter más."
      ],
      "metadata": {
        "id": "veRI22Uavt_Y"
      }
    },
    {
      "cell_type": "code",
      "source": [
        "recintos = [\"Elche \", \"Sant Joan \", \"Altea \", \"Orihuela\"]\n",
        "for recinto in recintos:\n",
        "  for letra in recinto:\n",
        "    print(letra)"
      ],
      "metadata": {
        "colab": {
          "base_uri": "https://localhost:8080/"
        },
        "id": "J-IEDF1Bv4GG",
        "outputId": "9423519e-219a-4f84-eb27-f5fa3935d2da"
      },
      "execution_count": null,
      "outputs": [
        {
          "output_type": "stream",
          "name": "stdout",
          "text": [
            "E\n",
            "l\n",
            "c\n",
            "h\n",
            "e\n",
            " \n",
            "S\n",
            "a\n",
            "n\n",
            "t\n",
            " \n",
            "J\n",
            "o\n",
            "a\n",
            "n\n",
            " \n",
            "A\n",
            "l\n",
            "t\n",
            "e\n",
            "a\n",
            " \n",
            "O\n",
            "r\n",
            "i\n",
            "h\n",
            "u\n",
            "e\n",
            "l\n",
            "a\n"
          ]
        }
      ]
    },
    {
      "cell_type": "markdown",
      "source": [
        "Por supuesto, también podemos combinar bucles `for` con condicionales `if`, para ejecutar de forma iterativa un código con el que queremos comprobar alguna condición.\n",
        "\n",
        "\n",
        "Por ejemplo, queremos visualizar en pantalla si cada una de las cadenas de texto en la lista dada tiene la letra 'o', y si la tiene, cuántas veces se repite. Utilizamos para ello la función `count('x')` con la que contamos cuántas veces aparece en una cadena la secuencia 'x', e incluimos la condición `if` dentro del bucle `for`."
      ],
      "metadata": {
        "id": "Nb_CL9qVzVjl"
      }
    },
    {
      "cell_type": "code",
      "source": [
        "recintos = [\"Elche\", \"Sant Joan\", \"Altea\", \"Orihuela\"]\n",
        "for recinto in recintos:\n",
        "    print(\"o\", recinto.lower(), 'o' in recinto.lower())\n",
        "    if 'o' in recinto.lower():\n",
        "        print(f\"El recinto de {recinto} tiene {recinto.lower().count('o')} o\")\n",
        "    else:\n",
        "        print(f\"El recinto de {recinto} no tiene la letra o\")"
      ],
      "metadata": {
        "colab": {
          "base_uri": "https://localhost:8080/"
        },
        "id": "-J-UE8Dxx8_q",
        "outputId": "e929f743-e220-445d-ba9b-78c24a88c002"
      },
      "execution_count": null,
      "outputs": [
        {
          "output_type": "stream",
          "name": "stdout",
          "text": [
            "o elche False\n",
            "El recinto de Elche no tiene la letra o\n",
            "o sant joan True\n",
            "El recinto de Sant Joan tiene 1 o\n",
            "o altea False\n",
            "El recinto de Altea no tiene la letra o\n",
            "o orihuela True\n",
            "El recinto de Orihuela tiene 1 o\n"
          ]
        }
      ]
    },
    {
      "cell_type": "markdown",
      "source": [
        "##<font color='steelblue'>2. Índices </font>"
      ],
      "metadata": {
        "id": "_zM_epgg7KcM"
      }
    },
    {
      "cell_type": "markdown",
      "source": [
        "Ya hemos visto que si tenemos una cadena de texto, se indexan automáticamente sus caracteres. También se produce esta indexación automática si tenemos una lista, de modo que podemos recorrer sus elementos simplemente aludiendo al objeto lista."
      ],
      "metadata": {
        "id": "cMR9Csg49puD"
      }
    },
    {
      "cell_type": "code",
      "source": [
        "recintos = [\"Elche\", \"Sant Joan\", \"Altea\", \"Orihuela\"]\n",
        "# indexación automática de los caracteres en una palabra\n",
        "for letras in recintos[1]:\n",
        "  print(letras)\n",
        "# indexación automática de los elementos de una lista\n",
        "print()\n",
        "for recinto in recintos:\n",
        "  print(recinto)\n"
      ],
      "metadata": {
        "colab": {
          "base_uri": "https://localhost:8080/"
        },
        "id": "lPzWUPrZ-D6j",
        "outputId": "b6b4da9b-6574-4e58-d419-6aa2da1141cc"
      },
      "execution_count": null,
      "outputs": [
        {
          "output_type": "stream",
          "name": "stdout",
          "text": [
            "S\n",
            "a\n",
            "n\n",
            "t\n",
            " \n",
            "J\n",
            "o\n",
            "a\n",
            "n\n",
            "\n",
            "Elche\n",
            "Sant Joan\n",
            "Altea\n",
            "Orihuela\n"
          ]
        }
      ]
    },
    {
      "cell_type": "markdown",
      "source": [
        "En ocasiones, sin embargo, nos interesan otros modos de indexar listas, tuplas o incluso diccionarios, y  de ahí que nos resulten útiles funciones como `keys()`, `values()`, `items()`, `range()`, `zip()` y `enumerate()`, que describimos a continuación."
      ],
      "metadata": {
        "id": "uqPr_ONo-XCQ"
      }
    },
    {
      "cell_type": "markdown",
      "source": [
        "### <font color='steelblue'>Indexar diccionarios: `keys()`,`values()`,`items()`"
      ],
      "metadata": {
        "id": "xZ4-6OAsW1oz"
      }
    },
    {
      "cell_type": "markdown",
      "source": [
        "Ya vimos que para recorrer los elementos de una lista en un bucle, basta con aludir directamente a la lista. En un diccionario, sin embargo, puesto que tenemos dos tipos de elementos, las etiquetas (*key*) y los valores (*value*), podemos utilizar la indexación típica de los diccionarios.\n",
        "\n",
        "Veamos un ejemplo en el que queremos mostrar en pantalla y de modo personalizado, las calificaciones de Juan en cada asignatura.\n",
        "\n",
        "\n",
        "\n",
        "\n"
      ],
      "metadata": {
        "id": "1s0gFrouNfJj"
      }
    },
    {
      "cell_type": "code",
      "source": [
        "asignaturas = {\n",
        "    \"Bioquímica I\": 9,\n",
        "    \"Anatomía Humana I\": 8.5,\n",
        "    \"Histología\": 9.3\n",
        "}\n",
        "for asignatura in asignaturas:\n",
        "  print(f\"En {asignatura} Juan ha sacado un {asignaturas[asignatura]}\")"
      ],
      "metadata": {
        "id": "4Wn4qrPY5kqf",
        "colab": {
          "base_uri": "https://localhost:8080/"
        },
        "outputId": "f3ead73d-7d69-496b-c2c9-06a67794e0ea"
      },
      "execution_count": null,
      "outputs": [
        {
          "output_type": "stream",
          "name": "stdout",
          "text": [
            "En Bioquímica I Juan ha sacado un 9\n",
            "En Anatomía Humana I Juan ha sacado un 8.5\n",
            "En Histología Juan ha sacado un 9.3\n"
          ]
        }
      ]
    },
    {
      "cell_type": "markdown",
      "source": [
        "Otro modo de recorrer solo las etiquetas del diccionario en un bucle, es a través de la función `keys()`. Si lo queremos hacer con los valores, usamos `values()`."
      ],
      "metadata": {
        "id": "5bLvHth_Id1D"
      }
    },
    {
      "cell_type": "code",
      "source": [
        "# Queremos mostrar las asignaturas de las que se examinó Juan\n",
        "# usamos las claves\n",
        "for asignatura in asignaturas.keys():\n",
        "  print(f'Juan se examinó de {asignatura}')\n"
      ],
      "metadata": {
        "id": "VbhbsK3M7O7A",
        "colab": {
          "base_uri": "https://localhost:8080/"
        },
        "outputId": "082c10ea-b0dd-43e8-b6f7-7a5f85eb94ab"
      },
      "execution_count": null,
      "outputs": [
        {
          "output_type": "stream",
          "name": "stdout",
          "text": [
            "Juan se examinó de Bioquímica I\n",
            "Juan se examinó de Anatomía Humana I\n",
            "Juan se examinó de Histología\n"
          ]
        }
      ]
    },
    {
      "cell_type": "code",
      "source": [
        "# Queremos mostrar las calificaciones obtenidas\n",
        "#  usamos los valores\n",
        "for nota in asignaturas.values():\n",
        "  print(f'Juan ha sacado un {nota}')"
      ],
      "metadata": {
        "colab": {
          "base_uri": "https://localhost:8080/"
        },
        "id": "_4sAI8sX7YVd",
        "outputId": "c831a2a2-553f-433f-ecf7-eab45ec39172"
      },
      "execution_count": null,
      "outputs": [
        {
          "output_type": "stream",
          "name": "stdout",
          "text": [
            "Juan ha sacado un 9\n",
            "Juan ha sacado un 8.5\n",
            "Juan ha sacado un 9.3\n"
          ]
        }
      ]
    },
    {
      "cell_type": "markdown",
      "source": [
        "Sin embargo, hay otro modo de aludir y recorrer en un bucle y de modo conjunto, las etiquetas o claves y los valores de un diccionario. Esto se hace a través de la función `items()`, que genera dos índices: uno para las claves o etiquetas y otro para los valores de los distintos elementos del diccionario, siempre en ese orden (clave,valor).\n",
        "\n",
        "Así, si construimos un bucle recorriendo los elementos de un diccionario con la función `items()`, hemos de aludir a los dos índices (clave,valor) y en este orden:\n",
        "```\n",
        "for clave,valor in diccionario.items():\n",
        "  código a ejecutar sobre (clave,valor)\n",
        "```\n",
        "\n",
        "Volvemos al mensaje personalizado en el que proporcionamos asignaturas y calificaciones de Juan, construido ahora con `items()`.\n",
        "\n"
      ],
      "metadata": {
        "id": "NKb71YwsIMPv"
      }
    },
    {
      "cell_type": "code",
      "source": [
        "asignaturas = {\n",
        "    \"Bioquímica I\": 9,\n",
        "    \"Anatomía Humana I\": 8.5,\n",
        "    \"Histología\": 9.3\n",
        "}\n",
        "\n",
        "for asignatura,nota in asignaturas.items():\n",
        "  print(f\"En {asignatura} Juan ha sacado un {nota}.\")"
      ],
      "metadata": {
        "id": "SBl0_7n3NxGM",
        "colab": {
          "base_uri": "https://localhost:8080/"
        },
        "outputId": "41eb577a-f19c-4ad8-d04d-c0ffc44704e3"
      },
      "execution_count": null,
      "outputs": [
        {
          "output_type": "stream",
          "name": "stdout",
          "text": [
            "En Bioquímica I Juan ha sacado un 9.\n",
            "En Anatomía Humana I Juan ha sacado un 8.5.\n",
            "En Histología Juan ha sacado un 9.3.\n"
          ]
        }
      ]
    },
    {
      "cell_type": "markdown",
      "source": [
        "### <font color='steelblue'>Indexar con secuencias: `range()`</font>\n"
      ],
      "metadata": {
        "id": "Dy-4PRSSkw20"
      }
    },
    {
      "cell_type": "markdown",
      "source": [
        "En ocasiones, en lugar de recorrer todos los elementos de un objeto para repetir un proceso, sólo queremos aplicarlo (recorrer) sobre algunos de sus elementos.\n",
        "\n",
        "Por ejemplo, para la siguiente frase épica\n",
        ">*“Haz algo original y ninguna inteligencia artificial podrá reemplazarte.”*\n",
        "\n",
        "podrían solicitarnos mostrar en pantalla, a razón de una palabra por línea, solo las tres primeras palabras. Para ello bastaría convertir en lista la frase anterior, reconociendo cada una de las palabras como un elemento de la lista, con la función `split()` que ya vimos, y escribir en pantalla las palabras que ocupan las posiciones 0, 1 y 2 en la lista para resolver el primer problema.\n",
        "\n",
        "Con código 'bruto', resolveríamos el  problema con la sintaxis:"
      ],
      "metadata": {
        "id": "4F-wYnAPt0o2"
      }
    },
    {
      "cell_type": "code",
      "source": [
        "frase_ia = \"Haz algo original y ninguna inteligencia artificial podrá reemplazarte\"\n",
        "# convertimos a lista\n",
        "palabras = frase_ia.split()\n",
        "print(palabras)\n",
        "print(palabras[0])\n",
        "print(palabras[1])\n",
        "print(palabras[2])"
      ],
      "metadata": {
        "colab": {
          "base_uri": "https://localhost:8080/"
        },
        "id": "F7UIYOv9t1Z0",
        "outputId": "2e52e08f-54fa-4b36-c41c-2d27ca240919"
      },
      "execution_count": null,
      "outputs": [
        {
          "output_type": "stream",
          "name": "stdout",
          "text": [
            "['Haz', 'algo', 'original', 'y', 'ninguna', 'inteligencia', 'artificial', 'podrá', 'reemplazarte']\n",
            "Haz\n",
            "algo\n",
            "original\n"
          ]
        }
      ]
    },
    {
      "cell_type": "markdown",
      "source": [
        "Si queremos aplicar lo que ya sabemos de bucles, podríamos crear una lista de índices con el 0,1,2 y recorrerlos para replicar el proceso anterior reduciendo código:"
      ],
      "metadata": {
        "id": "WpCW0onOu5dR"
      }
    },
    {
      "cell_type": "code",
      "source": [
        "indexes = [0,1,2]\n",
        "for i in indexes:\n",
        "  print(palabras[i])"
      ],
      "metadata": {
        "colab": {
          "base_uri": "https://localhost:8080/"
        },
        "id": "w9xIxP86vE-M",
        "outputId": "f6dcc696-bba0-43c7-9c62-4bedd0612340"
      },
      "execution_count": null,
      "outputs": [
        {
          "output_type": "stream",
          "name": "stdout",
          "text": [
            "Haz\n",
            "algo\n",
            "original\n"
          ]
        }
      ]
    },
    {
      "cell_type": "markdown",
      "source": [
        "En otras ocasiones, necesitamos repetir (iterar) un mismo proceso muchas veces, hecho que es muy frecuente en algoritmos iterativos de cálculo y optimización.\n",
        "\n",
        "Por poner un ejemplo, nos piden repetir $n$ veces y de forma iterativa, un cálculo que consiste en restar una unidad a un número y dividirlo por dos,\n",
        "$$x \\rightarrow \\frac{x-1}{2} \\rightarrow  \\frac{\\frac{x-1}{2} -1}{2} \\rightarrow ...$$\n",
        "\n",
        "Siguiendo el ejemplo anterior, bastará con tener una lista de índices y recorrerlas con un bucle para pintar cada valor.\n",
        "```\n",
        "x=25\n",
        "for i in indexes:\n",
        "  x = (x-1)/2\n",
        "```\n",
        "\n"
      ],
      "metadata": {
        "id": "6EMMgV1uFgWV"
      }
    },
    {
      "cell_type": "markdown",
      "source": [
        "Vemos pues, que los problemas planteados se resuelven construyendo una secuencia de índices, en una lista `indexes`, y con ella programando el bucle. Pero cuando la secuencia es grande o muy grande, perderíamos mucho tiempo si creamos nosotros la lista de índices tecleando cada valor (imagina la secuencia $\\{0,1,2,...,1000\\}$).\n",
        "\n",
        "Surge entonces un modo sencillo y rápido de crear una secuencia de números con la función `range()`.\n",
        "\n",
        "La función `range(start, stop, step)` nos proporciona una secuencia de números enteros a modo de lista, entre un valor inicial `start`, un valor final `stop` (que en realidad será el valor entero siguiente al deseado), y a saltos de amplitud `step`.\n",
        "\n",
        "Si el salto es de '1', podemos obviarlo en la sintaxis. Si utilizamos saltos negativos, `start` habrá de ser mayor que `stop`.\n",
        "\n",
        "Si queremos generar una secuencia de longitud $n$ que arranca del cero, basta con utilizar\n",
        "`range(n)`, que proporciona la secuencia $\\{0,1,2,...,n-1\\}$.\n",
        "\n",
        "Así, la secuencia de índices $\\{0,1,2\\}$ que buscamos para resolver nuestro primer problema se construye fácilmente con `range(3)`:"
      ],
      "metadata": {
        "id": "1cfibyrsxu2Z"
      }
    },
    {
      "cell_type": "code",
      "source": [
        "# secuencia 0,1,2:\n",
        "indexes = range(3)\n",
        "# que para visualizarla hemos de explicitarla como lista\n",
        "print(list(indexes))\n",
        "# verificamos que tiene 3 elementos\n",
        "print(len(indexes))\n",
        "# y la utilizamos para definir el bucle\n",
        "for i in indexes:\n",
        "  print(palabras[i])"
      ],
      "metadata": {
        "colab": {
          "base_uri": "https://localhost:8080/"
        },
        "id": "0Q4ZN7zgGBhO",
        "outputId": "d0cd3e6d-a8dc-48ba-89e4-346fae67bcb6"
      },
      "execution_count": null,
      "outputs": [
        {
          "output_type": "stream",
          "name": "stdout",
          "text": [
            "[0, 1, 2]\n",
            "3\n",
            "Haz\n",
            "algo\n",
            "original\n"
          ]
        }
      ]
    },
    {
      "cell_type": "markdown",
      "source": [
        "Igualmente la utilizaríamos para realizar el cálculo iterativo propuesto, por ejemplo, 50 veces, partiendo del valor $x=25$:"
      ],
      "metadata": {
        "id": "J0li327rr3qS"
      }
    },
    {
      "cell_type": "code",
      "source": [
        "x=25\n",
        "indexes = range(49)\n",
        "for i in indexes:\n",
        "  x = (x-1)/2\n",
        "print(x)"
      ],
      "metadata": {
        "colab": {
          "base_uri": "https://localhost:8080/"
        },
        "id": "GP2cdwzksECQ",
        "outputId": "b8e201a4-1369-4c4a-d1dc-eabb8da67d43"
      },
      "execution_count": null,
      "outputs": [
        {
          "output_type": "stream",
          "name": "stdout",
          "text": [
            "-0.9999999999999538\n"
          ]
        }
      ]
    },
    {
      "cell_type": "markdown",
      "source": [
        "Veamos más ejemplos de secuencias con diferentes saltos, ascendentes y descendentes.\n"
      ],
      "metadata": {
        "id": "Ny-ELYxY-bAb"
      }
    },
    {
      "cell_type": "code",
      "source": [
        "# pintamos las palabras que ocupan las posiciones con índice par (según Python)\n",
        "for i in range(0,len(palabras),2):\n",
        "  print(palabras[i])\n",
        "\n"
      ],
      "metadata": {
        "colab": {
          "base_uri": "https://localhost:8080/"
        },
        "id": "vtTDSph1HHoe",
        "outputId": "9a385e8d-feda-433b-c192-6ac6d48ec819"
      },
      "execution_count": null,
      "outputs": [
        {
          "output_type": "stream",
          "name": "stdout",
          "text": [
            "Haz\n",
            "original\n",
            "ninguna\n",
            "artificial\n",
            "reemplazarte\n"
          ]
        }
      ]
    },
    {
      "cell_type": "code",
      "source": [
        "# pintamos las 5 últimas palabras de la frase_ia\n",
        "ini = len(palabras)-5\n",
        "for i in range(ini,ini+5):\n",
        "  print(palabras[i])\n",
        "\n"
      ],
      "metadata": {
        "colab": {
          "base_uri": "https://localhost:8080/"
        },
        "id": "cZavVIUF0ECd",
        "outputId": "8ea5262b-2ced-4681-f036-5781ae0b6196"
      },
      "execution_count": null,
      "outputs": [
        {
          "output_type": "stream",
          "name": "stdout",
          "text": [
            "ninguna\n",
            "inteligencia\n",
            "artificial\n",
            "podrá\n",
            "reemplazarte\n"
          ]
        }
      ]
    },
    {
      "cell_type": "code",
      "source": [
        "# pintamos las 5 últimas palabras de la frase_ia 'al revés'\n",
        "ini = len(palabras)-1\n",
        "for i in range(ini, ini-5,-1):\n",
        "  print(palabras[i])"
      ],
      "metadata": {
        "colab": {
          "base_uri": "https://localhost:8080/"
        },
        "id": "a6amq_v20FXp",
        "outputId": "0f6ee85e-39e6-478b-d54f-3c2581776c80"
      },
      "execution_count": null,
      "outputs": [
        {
          "output_type": "stream",
          "name": "stdout",
          "text": [
            "reemplazarte\n",
            "podrá\n",
            "artificial\n",
            "inteligencia\n",
            "ninguna\n"
          ]
        }
      ]
    },
    {
      "cell_type": "markdown",
      "source": [
        "Sin duda la función `range()` nos resultará útil en más situaciones, pero será muy frecuente utilizarla en bucles para identificar los índices sobre los que iterar un cálculo repetidas veces.\n",
        "\n",
        "Veamos un último ejemplo en el que combinamos un bucle con una condición. Queremos recorrer las palabras pares de la frase_ia e imprimir en pantalla, para cada palabra, si contiene o no la letra 'a'."
      ],
      "metadata": {
        "id": "FWuJml6eCg2s"
      }
    },
    {
      "cell_type": "code",
      "source": [
        "indexes = range(1,len(palabras),2)\n",
        "print(indexes)\n",
        "for i in indexes:\n",
        "  if 'a' in palabras[i]:\n",
        "    print(f\"La palabra '{palabras[i]}' tiene la letra 'a'\")\n",
        "  else:\n",
        "    print(f\"La palabra '{palabras[i]}' no tiene la letra 'a'\")"
      ],
      "metadata": {
        "colab": {
          "base_uri": "https://localhost:8080/"
        },
        "id": "SKVLI1K_dNd5",
        "outputId": "a4dcce99-fd1e-4ae8-f7f9-71f09d371562"
      },
      "execution_count": null,
      "outputs": [
        {
          "output_type": "stream",
          "name": "stdout",
          "text": [
            "range(1, 9, 2)\n",
            "La palabra 'algo' tiene la letra 'a'\n",
            "La palabra 'y' no tiene la letra 'a'\n",
            "La palabra 'inteligencia' tiene la letra 'a'\n",
            "La palabra 'podrá' no tiene la letra 'a'\n"
          ]
        }
      ]
    },
    {
      "cell_type": "markdown",
      "source": [
        "### <font color='steelblue'>Indexación múltiple: `zip()`</font>"
      ],
      "metadata": {
        "id": "4iHKryLD71Zm"
      }
    },
    {
      "cell_type": "markdown",
      "source": [
        "Imagina ahora que tenemos una lista con las asignaturas y otra con las calificaciones de cada alumno, y queremos generar mensajes personalizados con las calificaciones de cada uno.\n",
        "\n",
        "Pues bien, podemos generar la secuencia de índices de una cualquiera de las listas, a partir de su longitud y con la función `range()`,  y recorrer ambas listas con dicha secuencia de índices.\n",
        "```\n",
        "for i in range(len(lista1)):\n",
        "  código sobre (lista1[i],lista2[i])\n",
        "```\n",
        "\n",
        "\n",
        "Así podríamos resolver el problema planteado, con la sintaxis:\n"
      ],
      "metadata": {
        "id": "ehjtxpyKQeIm"
      }
    },
    {
      "cell_type": "code",
      "source": [
        "asignaturas=[\"Bioquímica I\", \"Anatomía Humana I\",\"Histología\"]\n",
        "notas = [9,8.5,9.3]\n",
        "for i in range(len(asignaturas)):\n",
        "  print(f'En {asignaturas[i]} Juan ha sacado un {notas[i]}.')"
      ],
      "metadata": {
        "colab": {
          "base_uri": "https://localhost:8080/"
        },
        "id": "CmtfDuqNQxd6",
        "outputId": "57f066f2-1d6e-4737-ec15-19481b2330c7"
      },
      "execution_count": null,
      "outputs": [
        {
          "output_type": "stream",
          "name": "stdout",
          "text": [
            "En Bioquímica I Juan ha sacado un 9.\n",
            "En Anatomía Humana I Juan ha sacado un 8.5.\n",
            "En Histología Juan ha sacado un 9.3.\n"
          ]
        }
      ]
    },
    {
      "cell_type": "markdown",
      "source": [
        "Obviamente se produciría un mensaje de error si las dos listas no tuvieran la misma longitud."
      ],
      "metadata": {
        "id": "eUOHgDDp5DUo"
      }
    },
    {
      "cell_type": "markdown",
      "source": [
        "Otra opción interesante y que nos evitaría errores cuando las dos listas tienen longitud distinta, es colapsar ambas listas con la función `zip` y obtener directamente los índices para ambos elementos, sobre los que podemos programar el código a ejecutar.\n",
        "```\n",
        "for index1,index2 in zip(lista1,lista2):\n",
        "  código sobre (index1,index2)\n",
        "```\n",
        "Obviamente, los índices se generan en el mismo orden en que se introducen las listas en la función `zip()`.\n",
        "\n",
        "Veamos el ejemplo anterior, resuelto ahora con `zip()`."
      ],
      "metadata": {
        "id": "R4a0hnDaGbJK"
      }
    },
    {
      "cell_type": "code",
      "source": [
        "for asignatura, nota in zip(asignaturas,notas):\n",
        "  print(f'En {asignatura} Juan ha sacado un {nota}.')"
      ],
      "metadata": {
        "colab": {
          "base_uri": "https://localhost:8080/"
        },
        "id": "-vncGifOSWPv",
        "outputId": "fa3d00a7-3aba-4091-db77-64f2b5269cf9"
      },
      "execution_count": null,
      "outputs": [
        {
          "output_type": "stream",
          "name": "stdout",
          "text": [
            "En Bioquímica I Juan ha sacado un 9.\n",
            "En Anatomía Humana I Juan ha sacado un 8.5.\n",
            "En Histología Juan ha sacado un 9.3.\n"
          ]
        }
      ]
    },
    {
      "cell_type": "markdown",
      "source": [
        "Si las dos listas no son del mismo tamaño, el resultado cuando utilizamos `zip()` vendrá dado por la lista con menos elementos."
      ],
      "metadata": {
        "id": "EVi-ngsPyTfo"
      }
    },
    {
      "cell_type": "code",
      "source": [
        "asignaturas=[\"Bioquímica I\", \"Anatomía Humana I\",\"Histología\"]\n",
        "notas = [9,8.5,9.3,10]\n",
        "for asignatura, nota in zip(asignaturas,notas):\n",
        "  print(f'En {asignatura} Juan ha sacado un {nota}.')"
      ],
      "metadata": {
        "id": "rjJ5d0SLG6oa",
        "colab": {
          "base_uri": "https://localhost:8080/"
        },
        "outputId": "13595518-b4fb-4b6d-c063-ff2df8d5e8dd"
      },
      "execution_count": null,
      "outputs": [
        {
          "output_type": "stream",
          "name": "stdout",
          "text": [
            "En Bioquímica I Juan ha sacado un 9.\n",
            "En Anatomía Humana I Juan ha sacado un 8.5.\n",
            "En Histología Juan ha sacado un 9.3.\n"
          ]
        }
      ]
    },
    {
      "cell_type": "markdown",
      "source": [
        "Igualmente podríamos usar `zip` para colapsar más de dos listas, en cuyo caso se generan tantos índices como elementos colapsados. Veamos un ejemplo con tres listas."
      ],
      "metadata": {
        "id": "m1obPyRj4WeT"
      }
    },
    {
      "cell_type": "code",
      "source": [
        "asignaturas=[\"Bioquímica I\", \"Anatomía Humana I\",\"Histología\"]\n",
        "notas = [9,8.5,9.3,10]\n",
        "parcial = [1, 2, 3]\n",
        "for asignatura, nota, parcial in zip(asignaturas,notas,parcial):\n",
        "  print(f'En {asignatura} Juan ha sacado un {nota} en el parcial {parcial}.')"
      ],
      "metadata": {
        "id": "9iqJJPmD4eX5",
        "colab": {
          "base_uri": "https://localhost:8080/"
        },
        "outputId": "5d9a697d-708a-46b7-b4b7-154d356b2f56"
      },
      "execution_count": null,
      "outputs": [
        {
          "output_type": "stream",
          "name": "stdout",
          "text": [
            "En Bioquímica I Juan ha sacado un 9 en el parcial 1.\n",
            "En Anatomía Humana I Juan ha sacado un 8.5 en el parcial 2.\n",
            "En Histología Juan ha sacado un 9.3 en el parcial 3.\n"
          ]
        }
      ]
    },
    {
      "cell_type": "markdown",
      "source": [
        "Si recapacitamos un poco, la función `zip()` reproduce el comportamiento de `items()` en los diccionarios, colapsando las dos listas que se generan con `keys()` y `values()`."
      ],
      "metadata": {
        "id": "vV7VAyJzG610"
      }
    },
    {
      "cell_type": "code",
      "source": [
        "asignaturas = {\n",
        "    \"Bioquímica I\": 9,\n",
        "    \"Anatomía Humana I\": 8.5,\n",
        "    \"Histología\": 9.3\n",
        "}\n",
        "\n",
        "for asignatura,nota in zip(asignaturas.keys(), asignaturas.values()):\n",
        "  print(f\"En {asignatura} Juan ha sacado un {nota}.\")"
      ],
      "metadata": {
        "id": "DRvbVYKtC6du",
        "colab": {
          "base_uri": "https://localhost:8080/"
        },
        "outputId": "ebacc085-08da-4e70-a382-896576959bbf"
      },
      "execution_count": null,
      "outputs": [
        {
          "output_type": "stream",
          "name": "stdout",
          "text": [
            "En Bioquímica I Juan ha sacado un 9.\n",
            "En Anatomía Humana I Juan ha sacado un 8.5.\n",
            "En Histología Juan ha sacado un 9.3.\n"
          ]
        }
      ]
    },
    {
      "cell_type": "markdown",
      "source": [
        "### <font color='steelblue'>Indexar y enumerar: `enumerate()`"
      ],
      "metadata": {
        "id": "SlCP5r5oJjze"
      }
    },
    {
      "cell_type": "markdown",
      "source": [
        "Recopilamos la siguiente frase 'épica', para la que queremos identificar con ordinales cada una de sus palabras, y mostrarlas en pantalla junto con su orden.\n",
        "\n",
        ">*“Haz algo original y ninguna inteligencia artificial podrá reemplazarte.”*\n",
        "\n",
        "Para hacerlo, el primer paso es convertir en lista dicha frase, para diferenciar en elementos distintos cada una de sus palabras. Recordamos que eso lo hacemos directamente con `split()`. A continuación podemos mostrar en pantalla las palabras con `print()`."
      ],
      "metadata": {
        "id": "0J4TUz6h_7Dx"
      }
    },
    {
      "cell_type": "code",
      "source": [
        "frase_ia = 'Haz algo original y ninguna inteligencia artificial podrá reemplazarte'\n",
        "palabras = frase_ia.split()\n",
        "for i in palabras:\n",
        "  print(i)"
      ],
      "metadata": {
        "colab": {
          "base_uri": "https://localhost:8080/"
        },
        "id": "vMfmcBQr_rzV",
        "outputId": "98559793-7487-490e-befa-3ee87c2d10c0"
      },
      "execution_count": null,
      "outputs": [
        {
          "output_type": "stream",
          "name": "stdout",
          "text": [
            "Haz\n",
            "algo\n",
            "original\n",
            "y\n",
            "ninguna\n",
            "inteligencia\n",
            "artificial\n",
            "podrá\n",
            "reemplazarte\n"
          ]
        }
      ]
    },
    {
      "cell_type": "markdown",
      "source": [
        "Sin embargo, no tenemos el ordinal asociado a cada palabra. Para conseguirlo, tenemos la función `enumerate()`, que añade un índice numérico ordenado a los valores de una lista."
      ],
      "metadata": {
        "id": "Na7w1BjgCpO5"
      }
    },
    {
      "cell_type": "code",
      "source": [
        "print(list(enumerate(palabras)))"
      ],
      "metadata": {
        "colab": {
          "base_uri": "https://localhost:8080/"
        },
        "id": "iJlmBSlSk9pZ",
        "outputId": "b2e53497-c860-49bc-a900-806f0d647b0c"
      },
      "execution_count": null,
      "outputs": [
        {
          "output_type": "stream",
          "name": "stdout",
          "text": [
            "[(0, 'Haz'), (1, 'algo'), (2, 'original'), (3, 'y'), (4, 'ninguna'), (5, 'inteligencia'), (6, 'artificial'), (7, 'podrá'), (8, 'reemplazarte')]\n"
          ]
        }
      ]
    },
    {
      "cell_type": "markdown",
      "source": [
        "Surgen así dos índices generados con `enumerate()`, uno para identificar el orden y otro para identificar los elementos de la lista sobre la que aplicamos la función. Así podemos construir un bucle que opere sobre ambos, orden y elemento, y en ese orden, a través de la sintaxis:\n",
        "```\n",
        "for orden, elemento in enumerate(lista):\n",
        "  código sobre (orden,elemento)\n",
        "```\n",
        "\n",
        "Volvemos al problema que planteamos al inicio, y ahora sí podemos pintar cada palabra en una línea, identificándola con su ordinal a través de la sintaxis:\n"
      ],
      "metadata": {
        "id": "N7jp9SU9SlYd"
      }
    },
    {
      "cell_type": "code",
      "source": [
        "for i,palabra in enumerate(palabras):\n",
        "  print(f'La palabra {i} es {palabra}')"
      ],
      "metadata": {
        "colab": {
          "base_uri": "https://localhost:8080/"
        },
        "id": "oOOjsn9KzcjY",
        "outputId": "ad234e63-2717-41d2-81fa-1ccf8b5ee858"
      },
      "execution_count": null,
      "outputs": [
        {
          "output_type": "stream",
          "name": "stdout",
          "text": [
            "La palabra 0 es Haz\n",
            "La palabra 1 es algo\n",
            "La palabra 2 es original\n",
            "La palabra 3 es y\n",
            "La palabra 4 es ninguna\n",
            "La palabra 5 es inteligencia\n",
            "La palabra 6 es artificial\n",
            "La palabra 7 es podrá\n",
            "La palabra 8 es reemplazarte\n"
          ]
        }
      ]
    },
    {
      "cell_type": "markdown",
      "source": [
        "Si queremos que la ordenación se inicie con cierto número de inicio, 'num_inicio', y no con '0', podemos incluirlo como argumento de la función `enumerate()`.\n",
        "```\n",
        "for orden, elemento in enumerate(lista,num_inicio):\n",
        "  código sobre (orden,elemento)\n",
        "```"
      ],
      "metadata": {
        "id": "gROqVNfdO6vZ"
      }
    },
    {
      "cell_type": "code",
      "source": [
        "# iniciamos la numeración de palabras en '1'\n",
        "for i,palabra in enumerate(palabras,1):\n",
        "  print(f'La palabra {i} es {palabra}')"
      ],
      "metadata": {
        "colab": {
          "base_uri": "https://localhost:8080/"
        },
        "id": "Mhqr_JJaPED4",
        "outputId": "5350d310-db4a-4f5b-901c-1f2b79ad0dfc"
      },
      "execution_count": null,
      "outputs": [
        {
          "output_type": "stream",
          "name": "stdout",
          "text": [
            "La palabra 1 es Haz\n",
            "La palabra 2 es algo\n",
            "La palabra 3 es original\n",
            "La palabra 4 es y\n",
            "La palabra 5 es ninguna\n",
            "La palabra 6 es inteligencia\n",
            "La palabra 7 es artificial\n",
            "La palabra 8 es podrá\n",
            "La palabra 9 es reemplazarte\n"
          ]
        }
      ]
    },
    {
      "cell_type": "markdown",
      "source": [
        "También podemos aplicar `enumerate()` a diccionarios, para enumerar sus elementos. Puesto que `enumerate()` añade un índice para la ordenación, este quedará diferenciado de los índices propios del diccionario -escritos entre paréntesis-, con la sintaxis:\n",
        "```\n",
        "for orden, (key,value) in enumerate(diccionario.items()):\n",
        "  código sobre (orden,key,value)\n",
        "```\n",
        "\n",
        "Volvamos al ejemplo que ya planteamos cuando trabajamos anteriormente con diccionarios, para mostrar un mensaje personalizado con las calificaciones de Juan."
      ],
      "metadata": {
        "id": "m7b2a6UW5qD0"
      }
    },
    {
      "cell_type": "code",
      "source": [
        "asignaturas = {\n",
        "    \"Introducción a la Programación\": 16,\n",
        "    \"Programación I\": 15,\n",
        "    \"Algoritmos\": 18\n",
        "}\n",
        "for n, (asignatura,nota) in enumerate(asignaturas.items(),1):\n",
        "  print(f\"Asignatura {n}: en {asignatura} Juan ha sacado un {nota}.\")"
      ],
      "metadata": {
        "id": "TrXUzUMG6A_N",
        "colab": {
          "base_uri": "https://localhost:8080/"
        },
        "outputId": "33fff7f7-2221-40fb-ef49-5a982c82801f"
      },
      "execution_count": null,
      "outputs": [
        {
          "output_type": "stream",
          "name": "stdout",
          "text": [
            "Asignatura 1: en Introducción a la Programación Juan ha sacado un 16.\n",
            "Asignatura 2: en Programación I Juan ha sacado un 15.\n",
            "Asignatura 3: en Algoritmos Juan ha sacado un 18.\n"
          ]
        }
      ]
    },
    {
      "cell_type": "markdown",
      "source": [
        "## <font color='steelblue'>3. Operaciones habituales en bucles </font>"
      ],
      "metadata": {
        "id": "EjT3mXJ-yGVd"
      }
    },
    {
      "cell_type": "markdown",
      "source": [
        "Una vez hemos trabajado con múltiples modos de indexar en bucles, vamos a revisar algunas de las operaciones más comunes en la práctica, como son:\n",
        "- construir objetos reuniendo los resultados que surgen en las sucesivas iteraciones de un bucle\n",
        "- construir contadores que acumulan cuántas veces se dan ciertos eventos de interés en las sucesivas iteraciones de un bucle\n",
        "- detener un bucle si acontece algún evento en particular, o reanudarlo si se da alguna otra condición."
      ],
      "metadata": {
        "id": "706ZjT11kFQ3"
      }
    },
    {
      "cell_type": "markdown",
      "source": [
        "### <font color='steelblue'>Guardar resultados: listas vacías y `append()` </font>"
      ],
      "metadata": {
        "id": "rfm-RsDBkGd7"
      }
    },
    {
      "cell_type": "markdown",
      "source": [
        "Nos proponen un reto que consiste en calcular el cuadrado de cada uno de los primeros 10 números naturales y guardarlos en un vector.\n",
        "\n",
        "Sabemos que esos 10 primeros números naturales los podemos conseguir con la secuencia `range(1,11)`, que da una lista. Ahora llega el momento de realizar el cálculo correspondiente sobre cada uno de sus elementos, cuestión que resolvemos con un bucle como el siguiente:"
      ],
      "metadata": {
        "id": "-nxRWgZrAh6H"
      }
    },
    {
      "cell_type": "code",
      "source": [
        "secuencia = range(1,11)\n",
        "for i in secuencia:\n",
        "  print(i**2)"
      ],
      "metadata": {
        "colab": {
          "base_uri": "https://localhost:8080/"
        },
        "id": "fDmo2Xs7AYbI",
        "outputId": "bc744f83-cd67-4374-8216-6f6434ce2040"
      },
      "execution_count": null,
      "outputs": [
        {
          "output_type": "stream",
          "name": "stdout",
          "text": [
            "1\n",
            "4\n",
            "9\n",
            "16\n",
            "25\n",
            "36\n",
            "49\n",
            "64\n",
            "81\n",
            "100\n"
          ]
        }
      ]
    },
    {
      "cell_type": "markdown",
      "source": [
        "La cuestión es ahora dónde y cómo almacenar esos resultados que se van generando en cada una de las iteraciones del bucle.\n",
        "\n",
        "Para ello podemos crear una lista vacía que actúe de contenedor de todos los valores que se van generando, e ir añadiendo en ella esos resultados a través de la función `append()`, que los concatena en elementos consecutivos de la lista.\n"
      ],
      "metadata": {
        "id": "gHEgzp6kzOxj"
      }
    },
    {
      "cell_type": "code",
      "source": [
        "# almacenamos los resultados en 'resul'\n",
        "resul = []\n",
        "for i in range(1,11):\n",
        "  resul.append(i**2)\n",
        "print(resul)"
      ],
      "metadata": {
        "colab": {
          "base_uri": "https://localhost:8080/"
        },
        "id": "sG-ufcXdBZ6l",
        "outputId": "79bd3243-5d3b-4c4a-caa1-e0f2cc357e4f"
      },
      "execution_count": null,
      "outputs": [
        {
          "output_type": "stream",
          "name": "stdout",
          "text": [
            "[1, 4, 9, 16, 25, 36, 49, 64, 81, 100]\n"
          ]
        }
      ]
    },
    {
      "cell_type": "markdown",
      "source": [
        "Compliquemos algo más el ejemplo anterior. Sobre la secuencia 1-10, si el número es par, calculamos su cuadrado, y si es impar, lo multiplicamos por 3. Para resolverlo procedemos igual que antes, pero incluyendo una condición para verificar si el número es par o no, y realizar los cálculos pertinentes en cada caso. Comprobar que un número es par consiste simplemente en comprobar si es divisible por 2, esto es, si al dividirlo por 2, el resto es cero, `i%2 ==0`. El problema se resuelve pues, con el siguiente código:"
      ],
      "metadata": {
        "id": "7xSsDuxNee6S"
      }
    },
    {
      "cell_type": "code",
      "source": [
        "resul = []\n",
        "for i in range(1,11):\n",
        "  if i%2 == 0:\n",
        "    resul.append(i**2)\n",
        "  else:\n",
        "    resul.append(i*3)\n",
        "print(resul)"
      ],
      "metadata": {
        "colab": {
          "base_uri": "https://localhost:8080/"
        },
        "id": "vivUKpv8Dcxf",
        "outputId": "0e2f6abc-e071-41b7-98f7-cff816a1bc02"
      },
      "execution_count": null,
      "outputs": [
        {
          "output_type": "stream",
          "name": "stdout",
          "text": [
            "[3, 4, 9, 16, 15, 36, 21, 64, 27, 100]\n"
          ]
        }
      ]
    },
    {
      "cell_type": "markdown",
      "source": [
        "### <font color='steelblue'>Contadores </font>"
      ],
      "metadata": {
        "id": "3dmqLEiKBT-v"
      }
    },
    {
      "cell_type": "markdown",
      "source": [
        "Los contadores son muy comunes y útiles en programación, y en particular en los bucles, pues nos permiten contar (acumular) el número de eventos de interés que acontecen en las sucesivas iteraciones de un bucle.\n",
        "\n",
        "Supón que te damos una lista de palabras y te pedimos que contabilices cuántas veces se repite la letra 'e'.\n",
        "\n",
        "Resolvemos este problema a través de un bucle con el que recorremos cada una de las palabras de la lista, y comprobamos cuántas letras 'e' contienen a través de la función `count()`. Acumulamos estos conteos en un contador general que habremos inicializado a cero antes de lanzar el bucle, y al que le sumaremos en cada iteración el número de letras 'e' encontradas.\n",
        "\n",
        "Veamos el código, en el que además tomamos la precaución de convertir a minúsculas todas las letras antes de buscar la letra de interés (igualmente si tuviéramos tildes, en lugar de buscar solo la cadena `'e'`, buscaríamos `'e' or 'é'`)."
      ],
      "metadata": {
        "id": "at_r29C1D0WX"
      }
    },
    {
      "cell_type": "code",
      "source": [
        "palabras = [\"Elefante\", \"Botella\", \"Avión\", \"Coche\", \"Universidad\"]\n",
        "# inicializamos el contador a cero\n",
        "contador_e = 0\n",
        "for palabra in palabras:\n",
        "  # contamos el número de 'e' en cada palabra\n",
        "  num_e = palabra.lower().count('e')\n",
        "  # y la sumamos al contador\n",
        "  contador_e += num_e\n",
        "print(f\"En la lista {palabras}\")\n",
        "print(f\"se repite {contador_e} veces la letra 'e'\")"
      ],
      "metadata": {
        "colab": {
          "base_uri": "https://localhost:8080/"
        },
        "id": "WO3sQW2WESdv",
        "outputId": "364c300a-b705-4a32-9b48-9679509aef7a"
      },
      "execution_count": null,
      "outputs": [
        {
          "output_type": "stream",
          "name": "stdout",
          "text": [
            "En la lista ['Elefante', 'Botella', 'Avión', 'Coche', 'Universidad']\n",
            "se repite 6 veces la letra 'e'\n"
          ]
        }
      ]
    },
    {
      "cell_type": "markdown",
      "source": [
        "Si nos plantean contabilizar además el número de palabras que al menos tienen una letra 'e', lo resolvemos añadiendo otro contador para el número de palabras con e, y una condición `if`.\n"
      ],
      "metadata": {
        "id": "8coFWLXFGuc8"
      }
    },
    {
      "cell_type": "code",
      "source": [
        "palabras = [\"Elefante\", \"Botella\", \"Avión\", \"Coche\", \"Universidad\"]\n",
        "contador_e = 0\n",
        "palabras_e = 0\n",
        "for palabra in palabras:\n",
        "  num_e = palabra.lower().count('e')\n",
        "  contador_e += num_e\n",
        "  # si la palabra tiene al menos una 'e'...\n",
        "  if num_e > 0:\n",
        "    # incrementamos el contador de palabras con 'e'\n",
        "    palabras_e+=1\n",
        "print(f\"En la lista {palabras}\")\n",
        "print(f\"se repite {contador_e} veces la letra 'e'\")\n",
        "print(f\"y {palabras_e} palabras tienen la letra 'e'\")"
      ],
      "metadata": {
        "colab": {
          "base_uri": "https://localhost:8080/"
        },
        "id": "9tZP7Wocnboh",
        "outputId": "3a44b067-0476-41a9-f230-191489da0b47"
      },
      "execution_count": null,
      "outputs": [
        {
          "output_type": "stream",
          "name": "stdout",
          "text": [
            "En la lista ['Elefante', 'Botella', 'Avión', 'Coche', 'Universidad']\n",
            "se repite 6 veces la letra 'e'\n",
            "y 4 palabras tienen la letra 'e'\n"
          ]
        }
      ]
    },
    {
      "cell_type": "markdown",
      "source": [
        "Vayamos por último a un ejemplo de aula. Tenemos las calificaciones de un grupo de alumnos y queremos contabilizar el número de aprobados, el de calificaciones entre 4 y 5 (susceptibles de hacer media) y de calificaciones por debajo de 4, que suspenden.\n",
        "Utilizamos un contador para cada grupo, y a partir de los resultados de las condiciones que incluimos, van incrementando el contador en una unidad o no."
      ],
      "metadata": {
        "id": "v0PSMe5Zn2ax"
      }
    },
    {
      "cell_type": "code",
      "source": [
        "notas = [2.5, 3.7, 4.1, 5.7, 8.5, 4.5, 9]\n",
        "aprobados = 0\n",
        "fronterizos = 0\n",
        "suspensos = 0\n",
        "for nota in notas:\n",
        "  if nota >= 5:\n",
        "    aprobados += 1\n",
        "  elif nota >= 4:\n",
        "    fronterizos +=1\n",
        "  else:\n",
        "    suspensos += 1\n",
        "print(f\"En esta clase hay {aprobados} alumnos aprobados, {fronterizos} que pueden hacer media y {suspensos} suspensos.\")"
      ],
      "metadata": {
        "colab": {
          "base_uri": "https://localhost:8080/"
        },
        "id": "n3DM-AB6ohv6",
        "outputId": "617db89a-d25a-4a71-842d-83803e4d0d68"
      },
      "execution_count": null,
      "outputs": [
        {
          "output_type": "stream",
          "name": "stdout",
          "text": [
            "En esta clase hay 3 alumnos aprobados, 2 que pueden hacer media y 2 suspensos.\n"
          ]
        }
      ]
    },
    {
      "cell_type": "markdown",
      "source": [
        "### <font color='steelblue'>Detener y continuar: `break` y `continue`</font>"
      ],
      "metadata": {
        "id": "eE-RAtz3ZL1f"
      }
    },
    {
      "cell_type": "markdown",
      "source": [
        "En ocasiones, cuando estamos inmersos en un proceso iterativo que hemos programado con un bucle, si se da cierto evento nos puede interesar detener el bucle. Para ello utilizamos la sentencia de escape `break`.\n",
        "\n",
        "\n",
        "Veámoslo con un ejemplo. Nos dan una secuencia de números, no correlativos, y nos piden extraer los primeros 10 números pares, y una vez extraídos, parar. Como ya hemos visto, podemos resolver este problema con un bucle, recorriendo la secuencia y guardando los valores \"pares\" en una lista vacía con la función `append()`. El añadido aquí viene en que una vez que encontremos los 10 valores (registrados en un contador), queremos detener el bucle, y esto lo haremos con la sentencia `break`, que opera del siguiente modo:\n",
        "```\n",
        "for i in indexes:\n",
        "  if condicion_parada:\n",
        "    break\n",
        "  else:\n",
        "    código si condicion_parada=False\n",
        "```\n"
      ],
      "metadata": {
        "id": "NEADVUO0FJPe"
      }
    },
    {
      "cell_type": "code",
      "source": [
        "# lista para almacenar los números pares\n",
        "pares = []\n",
        "# contador para contabilizar los números pares\n",
        "numeros_pares = 0\n",
        "# número límite de pares\n",
        "n_pares = 10\n",
        "secuencia = range(0, 100, 3)\n",
        "for i in secuencia:\n",
        "  if i%2 == 0:\n",
        "    pares.append(i)\n",
        "    numeros_pares += 1\n",
        "    # cuando llegamos a n_pares, salimos\n",
        "    if numeros_pares == n_pares:\n",
        "      print(f\"Ya encontré {n_pares} números pares.\")\n",
        "      break\n",
        "print(f\"Los primeros {n_pares} números pares son: {pares}\")"
      ],
      "metadata": {
        "colab": {
          "base_uri": "https://localhost:8080/"
        },
        "id": "Fcwf-YdcGPhX",
        "outputId": "6ab31a5a-1a51-406d-c652-81200cbcca50"
      },
      "execution_count": null,
      "outputs": [
        {
          "output_type": "stream",
          "name": "stdout",
          "text": [
            "Ya encontré 10 números pares.\n",
            "Los primeros 10 números pares son: [0, 6, 12, 18, 24, 30, 36, 42, 48, 54]\n"
          ]
        }
      ]
    },
    {
      "cell_type": "markdown",
      "source": [
        "La sentencia `continue` opera al contrario que `break` y continúa con la siguiente iteración del bucle si se da cierta condición.\n",
        "\n",
        "\n",
        "Modificamos ahora el problema anterior, para conseguir todos los números pares de una secuencia dada. También queremos saber su número. Así, usamos `if-else` para testar si el número es divisible por 2. Si no lo es, el bucle continúa (`continue`) con el siguiente número de la secuencia; si lo es, entonces guardamos el número par en la lista vacía definida al inicio. El número de valores pares en la secuencia se obtiene finalmente con la longitud de la lista, calculada con la función `len()`.\n"
      ],
      "metadata": {
        "id": "t_m_Kv4ZBcrD"
      }
    },
    {
      "cell_type": "code",
      "source": [
        "# lista para almacenar los números pares\n",
        "pares = []\n",
        "secuencia = range(0, 100, 3)\n",
        "for i in secuencia:\n",
        "  if (i%2 != 0):\n",
        "    continue\n",
        "  else:\n",
        "    pares.append(i)\n",
        "n_pares = len(pares)\n",
        "print(f\"Hay {n_pares} números pares \")\n",
        "print(f\"y son: {pares}\")"
      ],
      "metadata": {
        "colab": {
          "base_uri": "https://localhost:8080/"
        },
        "id": "wpy7-aIO13cH",
        "outputId": "acc056da-8b52-4634-a5fb-afa66e9c1168"
      },
      "execution_count": null,
      "outputs": [
        {
          "output_type": "stream",
          "name": "stdout",
          "text": [
            "Hay 17 números pares \n",
            "y son: [0, 6, 12, 18, 24, 30, 36, 42, 48, 54, 60, 66, 72, 78, 84, 90, 96]\n"
          ]
        }
      ]
    }
  ]
}
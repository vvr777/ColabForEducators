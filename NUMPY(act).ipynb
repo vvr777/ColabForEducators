{
  "cells": [
    {
      "cell_type": "markdown",
      "metadata": {
        "id": "jABvglRzk4jk"
      },
      "source": [
        "\n",
        "# **LIBRERÍA NUMPY**"
      ]
    },
    {
      "cell_type": "markdown",
      "metadata": {
        "id": "hUxGK6QQk4jl"
      },
      "source": [
        "Sinonimo de *Numerical Python*, `numpy` es una librería que proporciona herramientas para trabajar con alto rendimiento sobre arreglos multidimensionales.\n",
        "\n",
        "\n",
        "## Características:\n",
        "Dentro de las principales características de `numpy` se encuentran:\n",
        "- Ofrece un poderoso objeto para manipular arreglos multidimensionales: `ndarray`.\n",
        "- Posee herramientas para realizar operaciones matemáticas y lógicas sobre arreglos, operaciones relacionadas con algebra lineal, transformadas de Fourier, entre otras.\n",
        "\n",
        "Para importar los módulos de la librería `numpy`, por convención se utiliza:"
      ]
    },
    {
      "cell_type": "code",
      "execution_count": 1,
      "metadata": {
        "id": "lpBlRNq1k4jl"
      },
      "outputs": [],
      "source": [
        "# Importamos Numpy con el alias np\n",
        "import numpy as np"
      ]
    },
    {
      "cell_type": "markdown",
      "metadata": {
        "id": "tAE0zntZk4jm"
      },
      "source": [
        "## Arrays\n",
        "\n",
        "\n",
        "Las funcionalidades de `numpy` se basan en en el objeto `ndarray`.\n",
        "\n",
        "Un `ndarray`, también conocido por el alias de `array`, es un arreglo N-dimensional con elementos del mismo tipo e indexado por una tupla de enteros positivos.\n",
        "\n",
        "\n",
        "```python\n",
        "a = numpy.array(data, dtype = None, ndmin = 0, ...)\n",
        "```\n",
        "- data: datos de mismo tipo en forma de matriz o una secuencia anidada.\n",
        "- dtype (opcional): tipos de datos deseados en el arreglo.\n",
        "- ndmin: especifica el número mínimo de dimensiones del arreglo resultante."
      ]
    },
    {
      "cell_type": "markdown",
      "metadata": {
        "id": "9JqT64mPk4jm"
      },
      "source": [
        "Crea una lista y conviértela en una matriz numpy:"
      ]
    },
    {
      "cell_type": "code",
      "execution_count": 2,
      "metadata": {
        "colab": {
          "base_uri": "https://localhost:8080/"
        },
        "id": "PQAmeBh3k4jm",
        "outputId": "05a671d9-5ab8-4dd8-ae0c-4e9c5573c88d"
      },
      "outputs": [
        {
          "output_type": "execute_result",
          "data": {
            "text/plain": [
              "array([[0, 1, 2, 3],\n",
              "       [4, 5, 6, 7],\n",
              "       [1, 2, 3, 4]])"
            ]
          },
          "metadata": {},
          "execution_count": 2
        }
      ],
      "source": [
        "a = np.array([[0,1,2,3],[4,5,6,7],[1,2,3,4]])\n",
        "a"
      ]
    },
    {
      "cell_type": "code",
      "source": [
        "b = np.array([[\"a1\",\"a2\",\"a3\",\"a4\"],[4,5,6,7],[1,2,3,4.3]])\n",
        "b"
      ],
      "metadata": {
        "colab": {
          "base_uri": "https://localhost:8080/"
        },
        "id": "gp2z4NTTfblQ",
        "outputId": "a59976b9-bf53-4dc5-ced5-18c9c1d8a9af"
      },
      "execution_count": 21,
      "outputs": [
        {
          "output_type": "execute_result",
          "data": {
            "text/plain": [
              "array([['a1', 'a2', 'a3', 'a4'],\n",
              "       ['4', '5', '6', '7'],\n",
              "       ['1', '2', '3', '4.3']], dtype='<U32')"
            ]
          },
          "metadata": {},
          "execution_count": 21
        }
      ]
    },
    {
      "cell_type": "code",
      "source": [
        "b.ndim"
      ],
      "metadata": {
        "colab": {
          "base_uri": "https://localhost:8080/"
        },
        "id": "IIShMq3yf1f3",
        "outputId": "3a179fec-f2f5-40a9-bddb-0a7e5c053b65"
      },
      "execution_count": 22,
      "outputs": [
        {
          "output_type": "execute_result",
          "data": {
            "text/plain": [
              "2"
            ]
          },
          "metadata": {},
          "execution_count": 22
        }
      ]
    },
    {
      "cell_type": "code",
      "source": [
        "b.shape"
      ],
      "metadata": {
        "colab": {
          "base_uri": "https://localhost:8080/"
        },
        "id": "JUhWu875f33P",
        "outputId": "d382b04d-6493-4965-ca1f-095960c5b226"
      },
      "execution_count": 23,
      "outputs": [
        {
          "output_type": "execute_result",
          "data": {
            "text/plain": [
              "(3, 4)"
            ]
          },
          "metadata": {},
          "execution_count": 23
        }
      ]
    },
    {
      "cell_type": "code",
      "source": [
        "b.size"
      ],
      "metadata": {
        "colab": {
          "base_uri": "https://localhost:8080/"
        },
        "id": "FBC6kU_Df7AX",
        "outputId": "2529d470-cca8-4566-fa75-75adb1aa2ae5"
      },
      "execution_count": 24,
      "outputs": [
        {
          "output_type": "execute_result",
          "data": {
            "text/plain": [
              "12"
            ]
          },
          "metadata": {},
          "execution_count": 24
        }
      ]
    },
    {
      "cell_type": "code",
      "source": [
        "b.dtype"
      ],
      "metadata": {
        "colab": {
          "base_uri": "https://localhost:8080/"
        },
        "id": "QlNNGi0kf_8w",
        "outputId": "c92b9de0-9016-4152-9806-dfc4cc75da63"
      },
      "execution_count": 25,
      "outputs": [
        {
          "output_type": "execute_result",
          "data": {
            "text/plain": [
              "dtype('<U32')"
            ]
          },
          "metadata": {},
          "execution_count": 25
        }
      ]
    },
    {
      "cell_type": "markdown",
      "metadata": {
        "id": "Uk7KRvB0k4jm"
      },
      "source": [
        "O simplemente pasa una lista directamente:"
      ]
    },
    {
      "cell_type": "code",
      "execution_count": 3,
      "metadata": {
        "colab": {
          "base_uri": "https://localhost:8080/"
        },
        "id": "7GVmlczCk4jm",
        "outputId": "72673014-15c5-48b1-b0d6-ccdd5e29cda3"
      },
      "outputs": [
        {
          "output_type": "execute_result",
          "data": {
            "text/plain": [
              "array([4, 5, 6])"
            ]
          },
          "metadata": {},
          "execution_count": 3
        }
      ],
      "source": [
        "y = np.array([4, 5, 6])\n",
        "y"
      ]
    },
    {
      "cell_type": "markdown",
      "metadata": {
        "id": "uJxUNfwSk4jm"
      },
      "source": [
        "Pasa una lista de listas para crear una matriz multidimensional:"
      ]
    },
    {
      "cell_type": "code",
      "execution_count": 26,
      "metadata": {
        "colab": {
          "base_uri": "https://localhost:8080/"
        },
        "id": "pvPqEiN2k4jm",
        "outputId": "1e239654-9b75-494b-9b38-923d9ed0e8f7"
      },
      "outputs": [
        {
          "output_type": "execute_result",
          "data": {
            "text/plain": [
              "array([[0, 1, 2, 3],\n",
              "       [4, 5, 6, 7],\n",
              "       [1, 2, 3, 4]])"
            ]
          },
          "metadata": {},
          "execution_count": 26
        }
      ],
      "source": [
        "m = np.array([[0,1,2,3],[4,5,6,7],[1,2,3,4]])\n",
        "m"
      ]
    },
    {
      "cell_type": "markdown",
      "metadata": {
        "id": "yCWkH9vGk4jn"
      },
      "source": [
        "Dentro de los principales atributos del objeto `ndarray`, se encuentran:\n",
        "- `ndarray.shape`: tupla con las dimensiones del arreglo.\n",
        "- `ndarray.ndim`: numero de dimensiones del arreglo.\n",
        "- `ndarray.size`: número de elementos del arreglo.\n",
        "- `ndarray.dtype`: tipo de dato de los elementos del arreglo."
      ]
    },
    {
      "cell_type": "code",
      "execution_count": 5,
      "metadata": {
        "colab": {
          "base_uri": "https://localhost:8080/"
        },
        "id": "_D_ZqkZvk4jn",
        "outputId": "1366647e-3970-4de3-fa33-fe13f3348298"
      },
      "outputs": [
        {
          "output_type": "execute_result",
          "data": {
            "text/plain": [
              "(3, 4)"
            ]
          },
          "metadata": {},
          "execution_count": 5
        }
      ],
      "source": [
        "m.shape"
      ]
    },
    {
      "cell_type": "code",
      "execution_count": 6,
      "metadata": {
        "colab": {
          "base_uri": "https://localhost:8080/"
        },
        "id": "f5jk9pRqk4jn",
        "outputId": "2ddaea89-d319-4d38-c0a0-d1c19ccf9493"
      },
      "outputs": [
        {
          "output_type": "execute_result",
          "data": {
            "text/plain": [
              "2"
            ]
          },
          "metadata": {},
          "execution_count": 6
        }
      ],
      "source": [
        "m.ndim"
      ]
    },
    {
      "cell_type": "code",
      "execution_count": 7,
      "metadata": {
        "colab": {
          "base_uri": "https://localhost:8080/"
        },
        "id": "wnB0MZmek4jn",
        "outputId": "f2abc04d-1475-4479-c38d-24fc213d8de4"
      },
      "outputs": [
        {
          "output_type": "execute_result",
          "data": {
            "text/plain": [
              "12"
            ]
          },
          "metadata": {},
          "execution_count": 7
        }
      ],
      "source": [
        "m.size"
      ]
    },
    {
      "cell_type": "code",
      "execution_count": 14,
      "metadata": {
        "colab": {
          "base_uri": "https://localhost:8080/"
        },
        "id": "kBjoFcxgk4jn",
        "outputId": "d1d4f2a9-7ba9-4332-8dbe-c4f83f598b98"
      },
      "outputs": [
        {
          "output_type": "execute_result",
          "data": {
            "text/plain": [
              "dtype('int64')"
            ]
          },
          "metadata": {},
          "execution_count": 14
        }
      ],
      "source": [
        "m.dtype"
      ]
    },
    {
      "cell_type": "markdown",
      "metadata": {
        "id": "tmkHDxa0k4jn"
      },
      "source": [
        "Numpy cuenta con funciones especiales para crear arreglos con valores definidos por defecto, por ejemplo:\n",
        "- **zeros**: crea arreglo solamente con 0's.\n",
        "- **ones**: crea arreglo solamente con 1's.\n",
        "- **eye**: crea una matriz identidad de tamaño n.\n",
        "- **full**: crea un arreglo con un valor constante especificado."
      ]
    },
    {
      "cell_type": "code",
      "execution_count": 27,
      "metadata": {
        "colab": {
          "base_uri": "https://localhost:8080/"
        },
        "id": "daZpwiUsk4jn",
        "outputId": "6f652876-8852-473e-be67-feb229691e7f"
      },
      "outputs": [
        {
          "output_type": "execute_result",
          "data": {
            "text/plain": [
              "array([[0., 0., 0.],\n",
              "       [0., 0., 0.],\n",
              "       [0., 0., 0.]])"
            ]
          },
          "metadata": {},
          "execution_count": 27
        }
      ],
      "source": [
        "np.zeros((3,3))"
      ]
    },
    {
      "cell_type": "code",
      "execution_count": 28,
      "metadata": {
        "colab": {
          "base_uri": "https://localhost:8080/"
        },
        "id": "m8Jr1xsIk4jn",
        "outputId": "392f0f6f-c547-48c9-b1b8-4cfa5d0be0ae"
      },
      "outputs": [
        {
          "output_type": "execute_result",
          "data": {
            "text/plain": [
              "array([[1.],\n",
              "       [1.],\n",
              "       [1.],\n",
              "       [1.],\n",
              "       [1.]])"
            ]
          },
          "metadata": {},
          "execution_count": 28
        }
      ],
      "source": [
        "np.ones((5,1))"
      ]
    },
    {
      "cell_type": "code",
      "execution_count": 29,
      "metadata": {
        "colab": {
          "base_uri": "https://localhost:8080/"
        },
        "id": "3ssvX8kvk4jn",
        "outputId": "1902d5a1-047b-4fa1-da27-d2d5125383ae"
      },
      "outputs": [
        {
          "output_type": "execute_result",
          "data": {
            "text/plain": [
              "array([[1., 0., 0., 0.],\n",
              "       [0., 1., 0., 0.],\n",
              "       [0., 0., 1., 0.],\n",
              "       [0., 0., 0., 1.]])"
            ]
          },
          "metadata": {},
          "execution_count": 29
        }
      ],
      "source": [
        "np.eye(4)"
      ]
    },
    {
      "cell_type": "markdown",
      "metadata": {
        "id": "75-J6mrzk4jn"
      },
      "source": [
        "<br>`reshape` devuelve una matriz con los mismos datos en una nueva forma:"
      ]
    },
    {
      "cell_type": "code",
      "execution_count": 30,
      "metadata": {
        "colab": {
          "base_uri": "https://localhost:8080/"
        },
        "id": "XjJm98_Zk4jo",
        "outputId": "b26bb6c7-8fe8-4043-bd59-127fa555e160"
      },
      "outputs": [
        {
          "output_type": "execute_result",
          "data": {
            "text/plain": [
              "array([[1., 1., 1.],\n",
              "       [1., 1., 1.],\n",
              "       [1., 1., 1.],\n",
              "       [1., 1., 1.],\n",
              "       [1., 1., 1.],\n",
              "       [1., 1., 1.]])"
            ]
          },
          "metadata": {},
          "execution_count": 30
        }
      ],
      "source": [
        "n1 = np.ones((6, 3))\n",
        "n1"
      ]
    },
    {
      "cell_type": "code",
      "execution_count": 31,
      "metadata": {
        "colab": {
          "base_uri": "https://localhost:8080/"
        },
        "id": "djzKnO4jk4jo",
        "outputId": "b73e7661-dcad-4234-c4d4-6feaf84eb967"
      },
      "outputs": [
        {
          "output_type": "execute_result",
          "data": {
            "text/plain": [
              "array([[1., 1., 1., 1., 1., 1., 1., 1., 1.],\n",
              "       [1., 1., 1., 1., 1., 1., 1., 1., 1.]])"
            ]
          },
          "metadata": {},
          "execution_count": 31
        }
      ],
      "source": [
        "n2 = n1.reshape(2, 9) # reshape array to be 2x9\n",
        "n2"
      ]
    },
    {
      "cell_type": "code",
      "execution_count": 32,
      "metadata": {
        "colab": {
          "base_uri": "https://localhost:8080/"
        },
        "id": "qwfeAp7Ck4jo",
        "outputId": "21e56bfd-4149-4494-c5f2-49266870213d"
      },
      "outputs": [
        {
          "output_type": "execute_result",
          "data": {
            "text/plain": [
              "array([[1., 1., 1., 1., 1., 1., 1., 1., 1., 1., 1., 1., 1., 1., 1., 1.,\n",
              "        1., 1.]])"
            ]
          },
          "metadata": {},
          "execution_count": 32
        }
      ],
      "source": [
        "n3 = n1.reshape(1, 18) # reshape array to be 1x18\n",
        "n3"
      ]
    },
    {
      "cell_type": "markdown",
      "metadata": {
        "id": "tPkScETgk4jo"
      },
      "source": [
        "<br>`arange` devuelve valores espaciados uniformemente dentro de un intervalo dado."
      ]
    },
    {
      "cell_type": "code",
      "execution_count": 33,
      "metadata": {
        "colab": {
          "base_uri": "https://localhost:8080/"
        },
        "id": "AdvS8vLRk4jo",
        "outputId": "33805b54-9313-4ddc-f691-8bca2311f8b0"
      },
      "outputs": [
        {
          "output_type": "execute_result",
          "data": {
            "text/plain": [
              "array([ 0,  2,  4,  6,  8, 10, 12, 14, 16, 18, 20, 22, 24, 26, 28])"
            ]
          },
          "metadata": {},
          "execution_count": 33
        }
      ],
      "source": [
        "n4 = np.arange(0, 30, 2) # inicia en 0, aumenta de 2 en 2 y se detiene en una valor anterior a 30\n",
        "n4"
      ]
    },
    {
      "cell_type": "markdown",
      "metadata": {
        "id": "v4etY1EIk4jo"
      },
      "source": [
        "<br>`linspace` devuelve números espaciados uniformemente en un intervalo especificado:"
      ]
    },
    {
      "cell_type": "code",
      "execution_count": 34,
      "metadata": {
        "colab": {
          "base_uri": "https://localhost:8080/"
        },
        "id": "jnBuiCxDk4jo",
        "outputId": "dae3f184-d62a-4b15-c0a8-6b1cef7d06f2"
      },
      "outputs": [
        {
          "output_type": "execute_result",
          "data": {
            "text/plain": [
              "array([0. , 0.5, 1. , 1.5, 2. , 2.5, 3. , 3.5, 4. ])"
            ]
          },
          "metadata": {},
          "execution_count": 34
        }
      ],
      "source": [
        "n5 = np.linspace(0, 4, 9) # Devuelve 9 valores espaciados uniformemente de 0 a 4\n",
        "n5"
      ]
    },
    {
      "cell_type": "code",
      "source": [
        "n6 = np.linspace(0, 4, 15) # Devuelve 9 valores espaciados uniformemente de 0 a 4\n",
        "n6"
      ],
      "metadata": {
        "colab": {
          "base_uri": "https://localhost:8080/"
        },
        "id": "y1OWiHmchHmw",
        "outputId": "e99be6b9-efb1-437a-9700-426ce53d15a6"
      },
      "execution_count": 35,
      "outputs": [
        {
          "output_type": "execute_result",
          "data": {
            "text/plain": [
              "array([0.        , 0.28571429, 0.57142857, 0.85714286, 1.14285714,\n",
              "       1.42857143, 1.71428571, 2.        , 2.28571429, 2.57142857,\n",
              "       2.85714286, 3.14285714, 3.42857143, 3.71428571, 4.        ])"
            ]
          },
          "metadata": {},
          "execution_count": 35
        }
      ]
    },
    {
      "cell_type": "markdown",
      "metadata": {
        "id": "6_iO1Azjk4jo"
      },
      "source": [
        "<br> `resize` cambia la forma y el tamaño de la matriz de forma definitiva:"
      ]
    },
    {
      "cell_type": "code",
      "execution_count": 36,
      "metadata": {
        "colab": {
          "base_uri": "https://localhost:8080/"
        },
        "id": "WKSpfbBuk4jo",
        "outputId": "0c9f4c73-a8f8-46df-d153-e6d6fa950971"
      },
      "outputs": [
        {
          "output_type": "execute_result",
          "data": {
            "text/plain": [
              "array([[0. , 0.5, 1. ],\n",
              "       [1.5, 2. , 2.5],\n",
              "       [3. , 3.5, 4. ]])"
            ]
          },
          "metadata": {},
          "execution_count": 36
        }
      ],
      "source": [
        "n5.resize(3, 3)\n",
        "n5"
      ]
    },
    {
      "cell_type": "markdown",
      "metadata": {
        "id": "KzOL-Ln0k4jo"
      },
      "source": [
        "<br>**diag** extrae una diagonal o construye una matriz diagonal:"
      ]
    },
    {
      "cell_type": "code",
      "execution_count": 37,
      "metadata": {
        "colab": {
          "base_uri": "https://localhost:8080/"
        },
        "id": "ESuutzs8k4jo",
        "outputId": "587e9197-407d-4faa-ad0d-85bc7eaa4408"
      },
      "outputs": [
        {
          "output_type": "execute_result",
          "data": {
            "text/plain": [
              "array([[4, 0, 0, 0],\n",
              "       [0, 5, 0, 0],\n",
              "       [0, 0, 6, 0],\n",
              "       [0, 0, 0, 7]])"
            ]
          },
          "metadata": {},
          "execution_count": 37
        }
      ],
      "source": [
        "np.diag([4,5,6,7])"
      ]
    },
    {
      "cell_type": "markdown",
      "metadata": {
        "id": "Dsvoh1w7k4jo"
      },
      "source": [
        "<br>Crea una matriz usando la lista de repetición (o ver `np.tile`):"
      ]
    },
    {
      "cell_type": "code",
      "execution_count": 38,
      "metadata": {
        "colab": {
          "base_uri": "https://localhost:8080/"
        },
        "id": "iRUtpu9Yk4jp",
        "outputId": "6df82bc5-51a2-41fe-96e4-c038937d2de6"
      },
      "outputs": [
        {
          "output_type": "execute_result",
          "data": {
            "text/plain": [
              "array([1, 2, 3, 1, 2, 3, 1, 2, 3])"
            ]
          },
          "metadata": {},
          "execution_count": 38
        }
      ],
      "source": [
        "np.array([1, 2, 3] * 3)"
      ]
    },
    {
      "cell_type": "code",
      "execution_count": 39,
      "metadata": {
        "colab": {
          "base_uri": "https://localhost:8080/"
        },
        "id": "ALAwwWljk4jp",
        "outputId": "be0624af-90e7-4118-9ace-9ff4d7d62f3a"
      },
      "outputs": [
        {
          "output_type": "execute_result",
          "data": {
            "text/plain": [
              "array([[1, 2, 3, 1, 2, 3, 1, 2, 3]])"
            ]
          },
          "metadata": {},
          "execution_count": 39
        }
      ],
      "source": [
        "np.tile(np.arange(1,4),(1,3)) # (1,3): 1 es el número de filas y 3 es el número de repeticiones."
      ]
    },
    {
      "cell_type": "markdown",
      "metadata": {
        "id": "PiAt2lXkk4jp"
      },
      "source": [
        "<br>Repite elementos de un array usando `repeat`."
      ]
    },
    {
      "cell_type": "code",
      "execution_count": 40,
      "metadata": {
        "colab": {
          "base_uri": "https://localhost:8080/"
        },
        "id": "W1tI2FTOk4jp",
        "outputId": "9909454d-10ab-4ff3-9533-97ff3fb7f202"
      },
      "outputs": [
        {
          "output_type": "execute_result",
          "data": {
            "text/plain": [
              "array([1, 1, 1, 2, 2, 2, 3, 3, 3])"
            ]
          },
          "metadata": {},
          "execution_count": 40
        }
      ],
      "source": [
        "np.repeat([1, 2, 3], 3)"
      ]
    },
    {
      "cell_type": "markdown",
      "metadata": {
        "id": "AD8DGUzNk4jp"
      },
      "source": [
        "### Vector aleatorio"
      ]
    },
    {
      "cell_type": "code",
      "execution_count": 41,
      "metadata": {
        "colab": {
          "base_uri": "https://localhost:8080/"
        },
        "id": "OZtRcoP-k4jp",
        "outputId": "a74fceac-c3dd-4f39-a688-70cbdd7e2f7f"
      },
      "outputs": [
        {
          "output_type": "stream",
          "name": "stdout",
          "text": [
            "[0.69646919 0.28613933 0.22685145 0.55131477 0.71946897 0.42310646\n",
            " 0.9807642  0.68482974 0.4809319  0.39211752]\n"
          ]
        }
      ],
      "source": [
        "np.random.seed(123)  #si defino la semilla, se reproducen los mismos números aleatorios\n",
        "w = np.random.rand(10) #vector aleatorio de elementos uniformes entre 0 y 1\n",
        "print(w)"
      ]
    },
    {
      "cell_type": "code",
      "execution_count": 42,
      "metadata": {
        "colab": {
          "base_uri": "https://localhost:8080/"
        },
        "id": "3vTwt79qk4jp",
        "outputId": "641ec53e-12af-4ad8-866d-671f69741b12"
      },
      "outputs": [
        {
          "output_type": "stream",
          "name": "stdout",
          "text": [
            "[ 1.26593626 -0.8667404  -0.67888615 -0.09470897  1.49138963 -0.638902\n",
            " -0.44398196 -0.43435128  2.20593008  2.18678609]\n"
          ]
        }
      ],
      "source": [
        "x = np.random.randn(10) #vector aleatorio de elementos normales estandar\n",
        "print(x)"
      ]
    },
    {
      "cell_type": "code",
      "execution_count": 43,
      "metadata": {
        "colab": {
          "base_uri": "https://localhost:8080/"
        },
        "id": "I9C6m2rOk4ju",
        "outputId": "9ee5fc47-09ce-47c9-d615-3a2b448a459f"
      },
      "outputs": [
        {
          "output_type": "stream",
          "name": "stdout",
          "text": [
            "[8 0 7 9 3 4 6 1 5 6]\n"
          ]
        }
      ],
      "source": [
        "y = np.random.randint(0,10,10) #vector aleatorio de elementos enteros\n",
        "print(y)"
      ]
    },
    {
      "cell_type": "markdown",
      "metadata": {
        "id": "UgqKQn8Lk4ju"
      },
      "source": [
        "## Matrices"
      ]
    },
    {
      "cell_type": "code",
      "execution_count": 44,
      "metadata": {
        "colab": {
          "base_uri": "https://localhost:8080/"
        },
        "id": "9D4r5xq3k4jv",
        "outputId": "9463136e-2672-4342-d5fa-360a9a3ad4f1"
      },
      "outputs": [
        {
          "output_type": "stream",
          "name": "stdout",
          "text": [
            "(4, 4)\n",
            "[[ 0  1  2  3]\n",
            " [ 4  5  6  7]\n",
            " [ 8  9 10 11]\n",
            " [ 3  5  6  9]]\n"
          ]
        }
      ],
      "source": [
        "a = np.array([[0,1,2,3], [4,5,6,7], [8,9,10,11] , [3,5,6,9]])\n",
        "print(np.shape(a))\n",
        "print(a)"
      ]
    },
    {
      "cell_type": "code",
      "execution_count": 45,
      "metadata": {
        "colab": {
          "base_uri": "https://localhost:8080/"
        },
        "id": "14VQg_hvk4jv",
        "outputId": "448f8bb9-f642-48ab-f854-360b6185689c"
      },
      "outputs": [
        {
          "output_type": "stream",
          "name": "stdout",
          "text": [
            "[0 1 2 3 4]\n",
            "[[0 0 0 0 0]\n",
            " [0 1 0 0 0]\n",
            " [0 0 2 0 0]\n",
            " [0 0 0 3 0]\n",
            " [0 0 0 0 4]]\n"
          ]
        }
      ],
      "source": [
        "#Creación de una matriz diagonal\n",
        "\n",
        "#Primero un rango lineal\n",
        "a = np.arange(5)\n",
        "print(a)\n",
        "\n",
        "#Y ahora lo convertimos en diagonal\n",
        "diagonal = np.diag(a)\n",
        "print(diagonal)"
      ]
    },
    {
      "cell_type": "code",
      "execution_count": 46,
      "metadata": {
        "scrolled": true,
        "colab": {
          "base_uri": "https://localhost:8080/"
        },
        "id": "nxZqe_tdk4jv",
        "outputId": "57bf0349-cb75-4c1f-a421-cce1a64bb9c2"
      },
      "outputs": [
        {
          "output_type": "stream",
          "name": "stdout",
          "text": [
            "[[6 7]\n",
            " [8 9]]\n",
            "[[6 7 6 7 6 7]\n",
            " [8 9 8 9 8 9]\n",
            " [6 7 6 7 6 7]\n",
            " [8 9 8 9 8 9]]\n"
          ]
        }
      ],
      "source": [
        "#Matriz a base de \"tiles\" (baldosas)\n",
        "ar = np.array([[6,7],[8,9]])\n",
        "print(ar)\n",
        "tiles = np.tile(ar,(2,3))\n",
        "print(tiles)"
      ]
    },
    {
      "cell_type": "code",
      "execution_count": 47,
      "metadata": {
        "colab": {
          "base_uri": "https://localhost:8080/"
        },
        "id": "1TlgjyY1k4jv",
        "outputId": "e336fd24-1c92-479c-8168-301a0452b94f"
      },
      "outputs": [
        {
          "output_type": "stream",
          "name": "stdout",
          "text": [
            "[0 1 2 3 4 5 6 7 8]\n",
            "[[0 1 2]\n",
            " [3 4 5]\n",
            " [6 7 8]]\n"
          ]
        }
      ],
      "source": [
        "#Cambio de forma de un vector\n",
        "\n",
        "#Creamos un vector lineal y lo reorganizamos como matriz 3x3\n",
        "x = np.arange(9)\n",
        "print(x)\n",
        "x = x.reshape(3,3)\n",
        "print(x)"
      ]
    },
    {
      "cell_type": "markdown",
      "metadata": {
        "id": "-YxNm6Hrk4jv"
      },
      "source": [
        "### Trabajo con matrices"
      ]
    },
    {
      "cell_type": "code",
      "execution_count": 48,
      "metadata": {
        "colab": {
          "base_uri": "https://localhost:8080/"
        },
        "id": "LHHlpI_kk4jv",
        "outputId": "a6981c07-3c79-4574-d30b-4312ebd611b5"
      },
      "outputs": [
        {
          "output_type": "execute_result",
          "data": {
            "text/plain": [
              "array([[1, 1, 1],\n",
              "       [1, 1, 1]])"
            ]
          },
          "metadata": {},
          "execution_count": 48
        }
      ],
      "source": [
        "p = np.ones([2, 3], int)\n",
        "p"
      ]
    },
    {
      "cell_type": "markdown",
      "metadata": {
        "id": "4KXxvhaik4jv"
      },
      "source": [
        "<br> Utiliza `vstack` para apilar las matrices o arrays en secuencia verticalmente (en sentido de fila):"
      ]
    },
    {
      "cell_type": "code",
      "execution_count": 50,
      "metadata": {
        "colab": {
          "base_uri": "https://localhost:8080/"
        },
        "id": "NQIcSAmbk4jv",
        "outputId": "fbd51972-c303-408e-ca09-76d8d9726005"
      },
      "outputs": [
        {
          "output_type": "execute_result",
          "data": {
            "text/plain": [
              "array([[1, 1, 1],\n",
              "       [1, 1, 1],\n",
              "       [2, 2, 2],\n",
              "       [2, 2, 2]])"
            ]
          },
          "metadata": {},
          "execution_count": 50
        }
      ],
      "source": [
        "np.vstack((p, 2*p))"
      ]
    },
    {
      "cell_type": "markdown",
      "metadata": {
        "id": "8cfaQ1apk4jv"
      },
      "source": [
        "<br>Usa `hstack` para apilar las matrices en secuencia horizontalmente (en sentido de columna):"
      ]
    },
    {
      "cell_type": "code",
      "execution_count": 51,
      "metadata": {
        "colab": {
          "base_uri": "https://localhost:8080/"
        },
        "id": "3JiAgybok4jv",
        "outputId": "3476d04e-1b8f-47a2-bb50-c4c3d9301bd5"
      },
      "outputs": [
        {
          "output_type": "execute_result",
          "data": {
            "text/plain": [
              "array([[1, 1, 1, 2, 2, 2],\n",
              "       [1, 1, 1, 2, 2, 2]])"
            ]
          },
          "metadata": {},
          "execution_count": 51
        }
      ],
      "source": [
        "np.hstack((p, 2*p))"
      ]
    },
    {
      "cell_type": "markdown",
      "metadata": {
        "id": "Rr1W7fVrk4jw"
      },
      "source": [
        "<br>Usa `column_stack` para concatenar por matrices horizontalmente (permite concatenar una matriz con un array unidimensional):"
      ]
    },
    {
      "cell_type": "code",
      "execution_count": 52,
      "metadata": {
        "colab": {
          "base_uri": "https://localhost:8080/"
        },
        "id": "NCKYCuMkk4jw",
        "outputId": "195ff5e8-54c6-4dd3-df49-1883013b0c2c"
      },
      "outputs": [
        {
          "output_type": "execute_result",
          "data": {
            "text/plain": [
              "array([[1, 1, 1, 3],\n",
              "       [1, 1, 1, 5]])"
            ]
          },
          "metadata": {},
          "execution_count": 52
        }
      ],
      "source": [
        "np.column_stack((p,[3,5]))"
      ]
    },
    {
      "cell_type": "markdown",
      "metadata": {
        "id": "h1uoWIVpk4jw"
      },
      "source": [
        "### Operaciones con arrays"
      ]
    },
    {
      "cell_type": "markdown",
      "metadata": {
        "id": "9q4fVfGyk4jw"
      },
      "source": [
        "Usa `+`, `-`,` * `,` / `y` ** `para realizar sumas, restas, multiplicaciones, divisiones y potencias por elementos:"
      ]
    },
    {
      "cell_type": "code",
      "execution_count": 53,
      "metadata": {
        "colab": {
          "base_uri": "https://localhost:8080/"
        },
        "id": "N2v41T5_k4jw",
        "outputId": "821977b0-8aa8-4b9f-c513-a265c0810664"
      },
      "outputs": [
        {
          "output_type": "stream",
          "name": "stdout",
          "text": [
            "[1 2 3]\n",
            "[4 5 6]\n"
          ]
        }
      ],
      "source": [
        "x = np.array([1,2,3])\n",
        "y = np.array([4,5,6])\n",
        "print(x)\n",
        "print(y)"
      ]
    },
    {
      "cell_type": "code",
      "execution_count": 54,
      "metadata": {
        "colab": {
          "base_uri": "https://localhost:8080/"
        },
        "id": "VAhZ0qkCk4jw",
        "outputId": "871b4078-dbdb-4c04-cdcd-5460e5211bf5"
      },
      "outputs": [
        {
          "output_type": "stream",
          "name": "stdout",
          "text": [
            "[4 5 6]\n",
            "[-2 -1  0]\n",
            "[3 6 9]\n",
            "[0.33333333 0.66666667 1.        ]\n"
          ]
        }
      ],
      "source": [
        "print(x + 3) # adición por un escalar\n",
        "print(x - 3) # resta por un escalar\n",
        "print(x * 3) # multiplicación por un escalar\n",
        "print(x / 3) # división por un escalar"
      ]
    },
    {
      "cell_type": "code",
      "execution_count": 55,
      "metadata": {
        "colab": {
          "base_uri": "https://localhost:8080/"
        },
        "id": "t-Hkz7vlk4jw",
        "outputId": "2f456ac1-892b-468b-ac61-ca087d468f5d"
      },
      "outputs": [
        {
          "output_type": "stream",
          "name": "stdout",
          "text": [
            "[5 7 9]\n",
            "[-3 -3 -3]\n"
          ]
        }
      ],
      "source": [
        "print(x + y) # adición por elementos     [1 2 3] + [4 5 6] = [5  7  9]\n",
        "print(x - y) # resta por elementos      [1 2 3] - [4 5 6] = [-3 -3 -3]"
      ]
    },
    {
      "cell_type": "code",
      "execution_count": 56,
      "metadata": {
        "colab": {
          "base_uri": "https://localhost:8080/"
        },
        "id": "tFA5k79Hk4jw",
        "outputId": "23addeb1-cb28-47ba-aa33-d4211f4c3ee6"
      },
      "outputs": [
        {
          "output_type": "stream",
          "name": "stdout",
          "text": [
            "[ 4 10 18]\n",
            "[0.25 0.4  0.5 ]\n"
          ]
        }
      ],
      "source": [
        "print(x * y) # multiplicación por elementos  [1 2 3] * [4 5 6] = [4  10  18]\n",
        "print(x / y) # división por elementos        [1 2 3] / [4 5 6] = [0.25  0.4  0.5]"
      ]
    },
    {
      "cell_type": "code",
      "execution_count": 57,
      "metadata": {
        "colab": {
          "base_uri": "https://localhost:8080/"
        },
        "id": "NmfMlnTvk4jw",
        "outputId": "e1ced9e8-b638-47fa-bd77-efce658d65a1"
      },
      "outputs": [
        {
          "output_type": "stream",
          "name": "stdout",
          "text": [
            "[1 4 9]\n"
          ]
        }
      ],
      "source": [
        "print(x**2) # potenciación por elementos  [1 2 3] ^2 =  [1 4 9]"
      ]
    },
    {
      "cell_type": "markdown",
      "metadata": {
        "id": "P1jf8Upik4jw"
      },
      "source": [
        "<br>**Dot Product:**  \n",
        "\n",
        "$ \\begin{bmatrix}x_1 \\ x_2 \\ x_3\\end{bmatrix}\n",
        "\\cdot\n",
        "\\begin{bmatrix}y_1 \\\\ y_2 \\\\ y_3\\end{bmatrix}\n",
        "= x_1 y_1 + x_2 y_2 + x_3 y_3$"
      ]
    },
    {
      "cell_type": "code",
      "execution_count": 58,
      "metadata": {
        "colab": {
          "base_uri": "https://localhost:8080/"
        },
        "id": "fEV-Woo2k4jx",
        "outputId": "61cf72a6-c9fd-4d2c-aa71-5c876e9ce6a8"
      },
      "outputs": [
        {
          "output_type": "execute_result",
          "data": {
            "text/plain": [
              "32"
            ]
          },
          "metadata": {},
          "execution_count": 58
        }
      ],
      "source": [
        "x.dot(y) # dot product  1*4 + 2*5 + 3*6"
      ]
    },
    {
      "cell_type": "code",
      "execution_count": 59,
      "metadata": {
        "colab": {
          "base_uri": "https://localhost:8080/"
        },
        "id": "Dh_GoOKvk4jx",
        "outputId": "86f241ac-2e21-46e0-d27d-6910fb278f83"
      },
      "outputs": [
        {
          "output_type": "execute_result",
          "data": {
            "text/plain": [
              "32"
            ]
          },
          "metadata": {},
          "execution_count": 59
        }
      ],
      "source": [
        "np.dot(x,y)"
      ]
    },
    {
      "cell_type": "markdown",
      "metadata": {
        "id": "FKBVKPQ3k4jx"
      },
      "source": [
        "Por otro lado, hay funciones universales que realizan operaciones con 2 arrays y regresan un array como salida."
      ]
    },
    {
      "cell_type": "code",
      "execution_count": 60,
      "metadata": {
        "colab": {
          "base_uri": "https://localhost:8080/"
        },
        "id": "iataeKbTk4jx",
        "outputId": "76cf95c6-61d8-459b-fbac-37278d203647"
      },
      "outputs": [
        {
          "output_type": "execute_result",
          "data": {
            "text/plain": [
              "array([5, 7, 9])"
            ]
          },
          "metadata": {},
          "execution_count": 60
        }
      ],
      "source": [
        "np.add(x,y)"
      ]
    },
    {
      "cell_type": "code",
      "execution_count": 61,
      "metadata": {
        "colab": {
          "base_uri": "https://localhost:8080/"
        },
        "id": "xALmW-Rck4jx",
        "outputId": "49022150-eb5e-41be-bc5e-aaa2e76fad21"
      },
      "outputs": [
        {
          "output_type": "execute_result",
          "data": {
            "text/plain": [
              "array([ 4, 10, 18])"
            ]
          },
          "metadata": {},
          "execution_count": 61
        }
      ],
      "source": [
        "np.multiply(x,y)"
      ]
    },
    {
      "cell_type": "code",
      "execution_count": 62,
      "metadata": {
        "colab": {
          "base_uri": "https://localhost:8080/"
        },
        "id": "Cv0zduZ-k4jx",
        "outputId": "a7f78b11-a1d5-450d-8f7e-3f863d66f45f"
      },
      "outputs": [
        {
          "output_type": "execute_result",
          "data": {
            "text/plain": [
              "array([  1,  32, 729])"
            ]
          },
          "metadata": {},
          "execution_count": 62
        }
      ],
      "source": [
        "np.power(x,y)"
      ]
    },
    {
      "cell_type": "markdown",
      "metadata": {
        "id": "NqfEkL1yk4jx"
      },
      "source": [
        "<br>\n",
        "Veamos las matrices de transposición. La transposición permuta las dimensiones de la matriz."
      ]
    },
    {
      "cell_type": "code",
      "execution_count": 63,
      "metadata": {
        "colab": {
          "base_uri": "https://localhost:8080/"
        },
        "id": "uF_9x7Hqk4jx",
        "outputId": "3335ce16-a5d7-4246-fbeb-1d98302f37af"
      },
      "outputs": [
        {
          "output_type": "execute_result",
          "data": {
            "text/plain": [
              "array([[ 4,  5,  6],\n",
              "       [16, 25, 36]])"
            ]
          },
          "metadata": {},
          "execution_count": 63
        }
      ],
      "source": [
        "z = np.array([y, y**2])\n",
        "z"
      ]
    },
    {
      "cell_type": "markdown",
      "metadata": {
        "id": "x34rHVzTk4jx"
      },
      "source": [
        "<br>La forma de la matriz `z` es` (2,3) `antes de la transposición:"
      ]
    },
    {
      "cell_type": "code",
      "execution_count": 64,
      "metadata": {
        "colab": {
          "base_uri": "https://localhost:8080/"
        },
        "id": "X6S0R1vik4jy",
        "outputId": "2b1815dd-76f3-4857-f722-088dc564e6f0"
      },
      "outputs": [
        {
          "output_type": "execute_result",
          "data": {
            "text/plain": [
              "(2, 3)"
            ]
          },
          "metadata": {},
          "execution_count": 64
        }
      ],
      "source": [
        "z.shape"
      ]
    },
    {
      "cell_type": "markdown",
      "metadata": {
        "id": "eaYUM5rYk4jy"
      },
      "source": [
        "<br>Usa `.T` para transponer una matriz:"
      ]
    },
    {
      "cell_type": "code",
      "execution_count": 65,
      "metadata": {
        "colab": {
          "base_uri": "https://localhost:8080/"
        },
        "id": "39sw5dt5k4jy",
        "outputId": "0b8f38b2-e252-4d2d-bf22-d6f04136a171"
      },
      "outputs": [
        {
          "output_type": "execute_result",
          "data": {
            "text/plain": [
              "array([[ 4, 16],\n",
              "       [ 5, 25],\n",
              "       [ 6, 36]])"
            ]
          },
          "metadata": {},
          "execution_count": 65
        }
      ],
      "source": [
        "z.T"
      ]
    },
    {
      "cell_type": "markdown",
      "metadata": {
        "id": "SC2E7sdCk4jy"
      },
      "source": [
        "<br>El número de filas se ha intercambiado con el número de columnas."
      ]
    },
    {
      "cell_type": "code",
      "execution_count": 66,
      "metadata": {
        "colab": {
          "base_uri": "https://localhost:8080/"
        },
        "id": "eZ9je1S9k4jy",
        "outputId": "eb659ee9-e127-4394-b873-af2f213deecf"
      },
      "outputs": [
        {
          "output_type": "execute_result",
          "data": {
            "text/plain": [
              "(3, 2)"
            ]
          },
          "metadata": {},
          "execution_count": 66
        }
      ],
      "source": [
        "z.T.shape"
      ]
    },
    {
      "cell_type": "markdown",
      "metadata": {
        "id": "VwDJRAmPk4jy"
      },
      "source": [
        "Probando la multiplicación dot en matrices (producto matricial)"
      ]
    },
    {
      "cell_type": "code",
      "execution_count": 67,
      "metadata": {
        "colab": {
          "base_uri": "https://localhost:8080/"
        },
        "id": "AwHKCtPmk4jy",
        "outputId": "f41f357f-0b38-4601-8052-7d32d3fb1402"
      },
      "outputs": [
        {
          "output_type": "execute_result",
          "data": {
            "text/plain": [
              "array([[  77,  405],\n",
              "       [ 405, 2177]])"
            ]
          },
          "metadata": {},
          "execution_count": 67
        }
      ],
      "source": [
        "np.dot(z,z.T)"
      ]
    },
    {
      "cell_type": "code",
      "execution_count": 68,
      "metadata": {
        "colab": {
          "base_uri": "https://localhost:8080/"
        },
        "id": "-KoS2-nFk4jy",
        "outputId": "f8086c85-6ef4-46d9-8cf7-eed1d9538da2"
      },
      "outputs": [
        {
          "output_type": "execute_result",
          "data": {
            "text/plain": [
              "array([[ 272,  420,  600],\n",
              "       [ 420,  650,  930],\n",
              "       [ 600,  930, 1332]])"
            ]
          },
          "metadata": {},
          "execution_count": 68
        }
      ],
      "source": [
        "np.dot(z.T,z)"
      ]
    },
    {
      "cell_type": "markdown",
      "metadata": {
        "id": "riFpeB-_k4jy"
      },
      "source": [
        "#### Determinante e inversa de una matriz"
      ]
    },
    {
      "cell_type": "code",
      "execution_count": 69,
      "metadata": {
        "colab": {
          "base_uri": "https://localhost:8080/"
        },
        "id": "btAV0y6nk4jy",
        "outputId": "69f75a16-e780-4190-8deb-45111021ce04"
      },
      "outputs": [
        {
          "output_type": "execute_result",
          "data": {
            "text/plain": [
              "array([[30, 27, 34, 33],\n",
              "       [12, 40,  3, 42],\n",
              "       [ 5,  0, 11, 34],\n",
              "       [10, 22, 13, 18]])"
            ]
          },
          "metadata": {},
          "execution_count": 69
        }
      ],
      "source": [
        "w = np.random.randint(0, 50, (4,4))\n",
        "w"
      ]
    },
    {
      "cell_type": "code",
      "execution_count": 70,
      "metadata": {
        "colab": {
          "base_uri": "https://localhost:8080/"
        },
        "id": "dWgkY4wck4jz",
        "outputId": "bfb11f22-1e04-4443-ba68-3598514c7012"
      },
      "outputs": [
        {
          "output_type": "execute_result",
          "data": {
            "text/plain": [
              "-203125.99999999988"
            ]
          },
          "metadata": {},
          "execution_count": 70
        }
      ],
      "source": [
        "#Determinante: sobre matrices cuadradas\n",
        "np.linalg.det(w)"
      ]
    },
    {
      "cell_type": "code",
      "execution_count": 71,
      "metadata": {
        "colab": {
          "base_uri": "https://localhost:8080/"
        },
        "id": "3-I2-SVak4jz",
        "outputId": "47bbf062-4228-47d9-bf73-ee58498dfda8"
      },
      "outputs": [
        {
          "output_type": "execute_result",
          "data": {
            "text/plain": [
              "array([[ 0.08703957,  0.05345451, -0.04250564, -0.2040113 ],\n",
              "       [-0.02002698,  0.00150153, -0.01804791,  0.06730305],\n",
              "       [-0.02778571, -0.05937202,  0.02510757,  0.14204976],\n",
              "       [-0.00381044,  0.01134764,  0.02753956, -0.01595561]])"
            ]
          },
          "metadata": {},
          "execution_count": 71
        }
      ],
      "source": [
        "#Inversa: sobre matrices cuadradas con determinante diferente de cero\n",
        "np.linalg.inv(w)"
      ]
    },
    {
      "cell_type": "markdown",
      "metadata": {
        "id": "iGV9Lilzk4jz"
      },
      "source": [
        "## Funciones sobre arrays"
      ]
    },
    {
      "cell_type": "markdown",
      "metadata": {
        "id": "nfiIMl98k4jz"
      },
      "source": [
        "*Numpy* tiene muchas funciones matemáticas integradas que se pueden realizar sobre arrays."
      ]
    },
    {
      "cell_type": "code",
      "execution_count": 72,
      "metadata": {
        "colab": {
          "base_uri": "https://localhost:8080/"
        },
        "id": "mPGRvgcRk4jz",
        "outputId": "dcfd0ca6-9355-45ac-d93c-bd005e5650e3"
      },
      "outputs": [
        {
          "output_type": "execute_result",
          "data": {
            "text/plain": [
              "array([12, 13,  9,  3,  5])"
            ]
          },
          "metadata": {},
          "execution_count": 72
        }
      ],
      "source": [
        "a = np.array([12, 13, 9, 3, 5])\n",
        "a"
      ]
    },
    {
      "cell_type": "code",
      "execution_count": 73,
      "metadata": {
        "colab": {
          "base_uri": "https://localhost:8080/"
        },
        "id": "TjrIRnFSk4jz",
        "outputId": "18e0591a-1ef6-4715-d791-44a756d5d316"
      },
      "outputs": [
        {
          "output_type": "execute_result",
          "data": {
            "text/plain": [
              "42"
            ]
          },
          "metadata": {},
          "execution_count": 73
        }
      ],
      "source": [
        "a.sum()  #suma"
      ]
    },
    {
      "cell_type": "code",
      "execution_count": 74,
      "metadata": {
        "colab": {
          "base_uri": "https://localhost:8080/"
        },
        "id": "IFUiheiAk4jz",
        "outputId": "faf03076-13b9-4268-fa93-a54dc0fa4592"
      },
      "outputs": [
        {
          "output_type": "execute_result",
          "data": {
            "text/plain": [
              "42"
            ]
          },
          "metadata": {},
          "execution_count": 74
        }
      ],
      "source": [
        "# alternativamente\n",
        "np.sum(a)"
      ]
    },
    {
      "cell_type": "code",
      "execution_count": 75,
      "metadata": {
        "colab": {
          "base_uri": "https://localhost:8080/"
        },
        "id": "bLJqREr7k4jz",
        "outputId": "e06437a8-d420-4f85-8517-5fe7de608c4b"
      },
      "outputs": [
        {
          "output_type": "execute_result",
          "data": {
            "text/plain": [
              "21060"
            ]
          },
          "metadata": {},
          "execution_count": 75
        }
      ],
      "source": [
        "a.prod()  #productoria"
      ]
    },
    {
      "cell_type": "code",
      "execution_count": 76,
      "metadata": {
        "colab": {
          "base_uri": "https://localhost:8080/"
        },
        "id": "f6cYirzik4jz",
        "outputId": "c31345e8-a9a3-42d5-c0c1-6aac638605fe"
      },
      "outputs": [
        {
          "output_type": "execute_result",
          "data": {
            "text/plain": [
              "13"
            ]
          },
          "metadata": {},
          "execution_count": 76
        }
      ],
      "source": [
        "a.max()  #maximo"
      ]
    },
    {
      "cell_type": "code",
      "execution_count": 77,
      "metadata": {
        "colab": {
          "base_uri": "https://localhost:8080/"
        },
        "id": "C4DU0GcRk4jz",
        "outputId": "a8a66d67-5267-4b75-e999-311833f09be1"
      },
      "outputs": [
        {
          "output_type": "execute_result",
          "data": {
            "text/plain": [
              "3"
            ]
          },
          "metadata": {},
          "execution_count": 77
        }
      ],
      "source": [
        "a.min()  #mínimo"
      ]
    },
    {
      "cell_type": "code",
      "execution_count": 78,
      "metadata": {
        "colab": {
          "base_uri": "https://localhost:8080/"
        },
        "id": "yJEIDHcVk4j0",
        "outputId": "c2bd1216-3111-4ff9-accd-7d8376fcdd60"
      },
      "outputs": [
        {
          "output_type": "execute_result",
          "data": {
            "text/plain": [
              "8.4"
            ]
          },
          "metadata": {},
          "execution_count": 78
        }
      ],
      "source": [
        "a.mean()  #promedio"
      ]
    },
    {
      "cell_type": "code",
      "execution_count": 79,
      "metadata": {
        "colab": {
          "base_uri": "https://localhost:8080/"
        },
        "id": "JFU0IiCak4j0",
        "outputId": "d473e38a-a56a-46cb-e101-b07226ac4cba"
      },
      "outputs": [
        {
          "output_type": "execute_result",
          "data": {
            "text/plain": [
              "9.0"
            ]
          },
          "metadata": {},
          "execution_count": 79
        }
      ],
      "source": [
        "np.median(a)  #mediana"
      ]
    },
    {
      "cell_type": "code",
      "execution_count": 80,
      "metadata": {
        "colab": {
          "base_uri": "https://localhost:8080/"
        },
        "id": "a6bvg2Ywk4j0",
        "outputId": "f72cccfa-33a4-44a1-a2b5-9e8e927b0048"
      },
      "outputs": [
        {
          "output_type": "execute_result",
          "data": {
            "text/plain": [
              "3.878143885933063"
            ]
          },
          "metadata": {},
          "execution_count": 80
        }
      ],
      "source": [
        "a.std()   #desviación estándar"
      ]
    },
    {
      "cell_type": "markdown",
      "metadata": {
        "id": "ErdC1jQ6k4j0"
      },
      "source": [
        "<br>`argmax` y` argmin` devuelven el índice del valor máximo y mínimo en la matriz:"
      ]
    },
    {
      "cell_type": "code",
      "execution_count": 81,
      "metadata": {
        "colab": {
          "base_uri": "https://localhost:8080/"
        },
        "id": "HS1_nETak4j0",
        "outputId": "a0757f91-06d0-48da-bbde-34289f2012f4"
      },
      "outputs": [
        {
          "output_type": "execute_result",
          "data": {
            "text/plain": [
              "1"
            ]
          },
          "metadata": {},
          "execution_count": 81
        }
      ],
      "source": [
        "a.argmax()"
      ]
    },
    {
      "cell_type": "code",
      "execution_count": 82,
      "metadata": {
        "colab": {
          "base_uri": "https://localhost:8080/"
        },
        "id": "YcFPOvVsk4j0",
        "outputId": "459216e0-deda-4a0f-e74a-fb484e6a5175"
      },
      "outputs": [
        {
          "output_type": "execute_result",
          "data": {
            "text/plain": [
              "3"
            ]
          },
          "metadata": {},
          "execution_count": 82
        }
      ],
      "source": [
        "a.argmin()"
      ]
    },
    {
      "cell_type": "markdown",
      "metadata": {
        "id": "5H_4dm_Lk4j0"
      },
      "source": [
        "Otras funciones:"
      ]
    },
    {
      "cell_type": "code",
      "execution_count": 83,
      "metadata": {
        "colab": {
          "base_uri": "https://localhost:8080/"
        },
        "id": "ZCmlM_ZHk4j0",
        "outputId": "38059a9c-f43d-4ba0-a855-bb6ef03f77a4"
      },
      "outputs": [
        {
          "output_type": "execute_result",
          "data": {
            "text/plain": [
              "array([1.62754791e+05, 4.42413392e+05, 8.10308393e+03, 2.00855369e+01,\n",
              "       1.48413159e+02])"
            ]
          },
          "metadata": {},
          "execution_count": 83
        }
      ],
      "source": [
        "np.exp(a)"
      ]
    },
    {
      "cell_type": "code",
      "execution_count": 84,
      "metadata": {
        "colab": {
          "base_uri": "https://localhost:8080/"
        },
        "id": "3ZcgODavk4j0",
        "outputId": "75920188-04ee-46ca-ec87-b8b746c670b0"
      },
      "outputs": [
        {
          "output_type": "execute_result",
          "data": {
            "text/plain": [
              "array([2.48490665, 2.56494936, 2.19722458, 1.09861229, 1.60943791])"
            ]
          },
          "metadata": {},
          "execution_count": 84
        }
      ],
      "source": [
        "np.log(a)"
      ]
    },
    {
      "cell_type": "code",
      "execution_count": 85,
      "metadata": {
        "colab": {
          "base_uri": "https://localhost:8080/"
        },
        "id": "FDEUqSD0k4j0",
        "outputId": "c5c254fc-dc08-48e4-f675-192ae3066969"
      },
      "outputs": [
        {
          "output_type": "execute_result",
          "data": {
            "text/plain": [
              "array([3.46410162, 3.60555128, 3.        , 1.73205081, 2.23606798])"
            ]
          },
          "metadata": {},
          "execution_count": 85
        }
      ],
      "source": [
        "np.sqrt(a)"
      ]
    },
    {
      "cell_type": "markdown",
      "metadata": {
        "id": "X0lvIh2fk4j0"
      },
      "source": [
        "## Indexar/Seleccionar elementos"
      ]
    },
    {
      "cell_type": "code",
      "execution_count": 86,
      "metadata": {
        "colab": {
          "base_uri": "https://localhost:8080/"
        },
        "id": "EvzFOFS1k4j1",
        "outputId": "d00b497b-426b-4264-d53f-ff7d3dd58840"
      },
      "outputs": [
        {
          "output_type": "execute_result",
          "data": {
            "text/plain": [
              "array([  0,   1,   4,   9,  16,  25,  36,  49,  64,  81, 100, 121, 144])"
            ]
          },
          "metadata": {},
          "execution_count": 86
        }
      ],
      "source": [
        "s = np.arange(13)**2\n",
        "s"
      ]
    },
    {
      "cell_type": "markdown",
      "metadata": {
        "id": "qrLBAR9gk4j1"
      },
      "source": [
        "Usa la notación de corchetes para obtener el valor de un índice específico. Recuerda que la indexación comienza en 0:"
      ]
    },
    {
      "cell_type": "code",
      "execution_count": 87,
      "metadata": {
        "colab": {
          "base_uri": "https://localhost:8080/"
        },
        "id": "Pv54jGj2k4j1",
        "outputId": "cc8576a1-6501-4171-e676-f0fa7bbb9806"
      },
      "outputs": [
        {
          "output_type": "execute_result",
          "data": {
            "text/plain": [
              "(0, 16, 144)"
            ]
          },
          "metadata": {},
          "execution_count": 87
        }
      ],
      "source": [
        "s[0], s[4], s[-1]"
      ]
    },
    {
      "cell_type": "markdown",
      "metadata": {
        "id": "9zyZbrh_k4j1"
      },
      "source": [
        "<br>Usa `:` para indicar un rango. `array[start:stop]`\n",
        "\n",
        "\n",
        "Si se deja vacío `start` o `stop`, el inicio/final de la matriz será predeterminado:"
      ]
    },
    {
      "cell_type": "code",
      "execution_count": 88,
      "metadata": {
        "colab": {
          "base_uri": "https://localhost:8080/"
        },
        "id": "m7zegJZUk4j1",
        "outputId": "27c207f4-dd8f-43d3-b438-956732ec6c60"
      },
      "outputs": [
        {
          "output_type": "execute_result",
          "data": {
            "text/plain": [
              "array([ 1,  4,  9, 16])"
            ]
          },
          "metadata": {},
          "execution_count": 88
        }
      ],
      "source": [
        "s[1:5]"
      ]
    },
    {
      "cell_type": "markdown",
      "metadata": {
        "id": "BpZG7-Cak4j1"
      },
      "source": [
        "<br>\n",
        "Usa negativos para contar desde el final:"
      ]
    },
    {
      "cell_type": "code",
      "execution_count": 89,
      "metadata": {
        "colab": {
          "base_uri": "https://localhost:8080/"
        },
        "id": "NEWrOjbnk4j1",
        "outputId": "c7877585-da02-493e-e5e1-f6b614777fcd"
      },
      "outputs": [
        {
          "output_type": "execute_result",
          "data": {
            "text/plain": [
              "array([ 81, 100, 121, 144])"
            ]
          },
          "metadata": {},
          "execution_count": 89
        }
      ],
      "source": [
        "s[-4:]"
      ]
    },
    {
      "cell_type": "markdown",
      "metadata": {
        "id": "Vq2AZfnvk4j1"
      },
      "source": [
        "<br>Se puede usar un segundo símbolo `:` para indicar la magnitud del paso en el que se van a tomar los elmentos: `array[start:stop:stepsize]`\n",
        "\n",
        "Aquí estamos comenzando en el quinto elemento desde el final, y contando en 2 hacia atrás hasta llegar al comienzo de la matriz:"
      ]
    },
    {
      "cell_type": "code",
      "execution_count": 90,
      "metadata": {
        "colab": {
          "base_uri": "https://localhost:8080/"
        },
        "id": "ITaYYseQk4j1",
        "outputId": "abaa5911-1222-498e-a64e-5c8b3f7dbbcf"
      },
      "outputs": [
        {
          "output_type": "execute_result",
          "data": {
            "text/plain": [
              "array([64, 36, 16,  4,  0])"
            ]
          },
          "metadata": {},
          "execution_count": 90
        }
      ],
      "source": [
        "s[-5::-2]"
      ]
    },
    {
      "cell_type": "code",
      "execution_count": 91,
      "metadata": {
        "colab": {
          "base_uri": "https://localhost:8080/"
        },
        "id": "AFw2ulrek4j1",
        "outputId": "af70f366-b09c-4e7b-ff6e-26272f748124"
      },
      "outputs": [
        {
          "output_type": "execute_result",
          "data": {
            "text/plain": [
              "array([ 64, 100, 144])"
            ]
          },
          "metadata": {},
          "execution_count": 91
        }
      ],
      "source": [
        "s[-5::2]"
      ]
    },
    {
      "cell_type": "markdown",
      "metadata": {
        "id": "ZBwm3VOIk4j2"
      },
      "source": [
        "<br> **Para matrices:** Usa la notación de paréntesis para dividir: `matriz [fila, columna]`"
      ]
    },
    {
      "cell_type": "code",
      "execution_count": 92,
      "metadata": {
        "colab": {
          "base_uri": "https://localhost:8080/"
        },
        "id": "lwTfv-tAk4j2",
        "outputId": "6f2a9ae4-68fb-4927-f07c-b8294b477766"
      },
      "outputs": [
        {
          "output_type": "execute_result",
          "data": {
            "text/plain": [
              "array([[36, 15, 43, 27, 44, 30,  6, 45, 26, 16],\n",
              "       [ 6, 14, 39, 11,  7,  1, 43, 37, 25, 20],\n",
              "       [49, 12, 18, 17,  1, 44, 41, 48, 27, 49],\n",
              "       [22,  3,  3, 11, 21, 25, 39, 41, 34,  3],\n",
              "       [11,  3, 30,  6,  9, 23, 14, 38, 19,  6],\n",
              "       [12, 27, 38, 17, 46, 10, 35, 35,  1, 47],\n",
              "       [45, 16,  5, 40, 45, 22, 46, 15, 40, 25],\n",
              "       [45, 49,  0, 35, 29,  1, 19,  4, 30,  7],\n",
              "       [29, 38,  1, 12,  3, 44,  7, 38, 24,  6],\n",
              "       [13, 28, 44, 20, 36, 48, 32, 40, 24, 45]])"
            ]
          },
          "metadata": {},
          "execution_count": 92
        }
      ],
      "source": [
        "r = np.random.randint(0, 50, (10,10))\n",
        "r"
      ]
    },
    {
      "cell_type": "code",
      "execution_count": 93,
      "metadata": {
        "colab": {
          "base_uri": "https://localhost:8080/"
        },
        "id": "XY8F0V0vk4j2",
        "outputId": "c743d920-9ead-45b5-d206-7eed1ebb21bd"
      },
      "outputs": [
        {
          "output_type": "execute_result",
          "data": {
            "text/plain": [
              "18"
            ]
          },
          "metadata": {},
          "execution_count": 93
        }
      ],
      "source": [
        "r[2, 2]"
      ]
    },
    {
      "cell_type": "markdown",
      "metadata": {
        "id": "BFvaDkXwk4j2"
      },
      "source": [
        "<br>Y usa `:` para seleccionar un rango de filas o columnas. ¡Ten en cuenta que el índice 6 no existe!"
      ]
    },
    {
      "cell_type": "code",
      "execution_count": 94,
      "metadata": {
        "colab": {
          "base_uri": "https://localhost:8080/"
        },
        "id": "-wYtPU_mk4j2",
        "outputId": "a9606f9f-c702-4f64-ac77-d9de7cd20ffd"
      },
      "outputs": [
        {
          "output_type": "execute_result",
          "data": {
            "text/plain": [
              "array([11, 21, 25])"
            ]
          },
          "metadata": {},
          "execution_count": 94
        }
      ],
      "source": [
        "r[3, 3:6]"
      ]
    },
    {
      "cell_type": "code",
      "execution_count": 95,
      "metadata": {
        "colab": {
          "base_uri": "https://localhost:8080/"
        },
        "id": "WM7YI4kGk4j2",
        "outputId": "331ee5e6-aef5-4729-8971-4bae61c45d4f"
      },
      "outputs": [
        {
          "output_type": "execute_result",
          "data": {
            "text/plain": [
              "array([[36, 15, 43],\n",
              "       [ 6, 14, 39]])"
            ]
          },
          "metadata": {},
          "execution_count": 95
        }
      ],
      "source": [
        "r[0:2,0:3]"
      ]
    },
    {
      "cell_type": "code",
      "execution_count": 96,
      "metadata": {
        "colab": {
          "base_uri": "https://localhost:8080/"
        },
        "id": "qPpqe-EZk4j2",
        "outputId": "99be5335-b942-43d9-d3d7-5668cc825c63"
      },
      "outputs": [
        {
          "output_type": "execute_result",
          "data": {
            "text/plain": [
              "array([[39, 11,  7,  1, 43, 37, 25, 20]])"
            ]
          },
          "metadata": {},
          "execution_count": 96
        }
      ],
      "source": [
        "r[1:2, 2:]"
      ]
    },
    {
      "cell_type": "markdown",
      "metadata": {
        "id": "RhAdF9SBk4j2"
      },
      "source": [
        "<br>Aquí estamos seleccionando todas las filas hasta (y sin incluir) la fila 2, y todas las columnas hasta (y sin incluir) la última columna:"
      ]
    },
    {
      "cell_type": "code",
      "execution_count": 97,
      "metadata": {
        "colab": {
          "base_uri": "https://localhost:8080/"
        },
        "id": "Z9OYhqyXk4j2",
        "outputId": "2d43ef4b-a380-4699-9468-f1047dd5f607"
      },
      "outputs": [
        {
          "output_type": "execute_result",
          "data": {
            "text/plain": [
              "array([[36, 15, 43, 27, 44, 30,  6, 45, 26],\n",
              "       [ 6, 14, 39, 11,  7,  1, 43, 37, 25]])"
            ]
          },
          "metadata": {},
          "execution_count": 97
        }
      ],
      "source": [
        "r[:2, :-1]"
      ]
    },
    {
      "cell_type": "code",
      "execution_count": 98,
      "metadata": {
        "colab": {
          "base_uri": "https://localhost:8080/"
        },
        "id": "x7Fq29Iek4j2",
        "outputId": "ad112cd0-fc9f-4e48-d311-e95aafc45ac0"
      },
      "outputs": [
        {
          "output_type": "execute_result",
          "data": {
            "text/plain": [
              "array([[36, 15, 43, 27, 44, 30,  6, 45, 26],\n",
              "       [ 6, 14, 39, 11,  7,  1, 43, 37, 25]])"
            ]
          },
          "metadata": {},
          "execution_count": 98
        }
      ],
      "source": [
        "r[0:2, 0:-1]"
      ]
    },
    {
      "cell_type": "markdown",
      "metadata": {
        "id": "EHkW1l5pk4j3"
      },
      "source": [
        "\n",
        "\n",
        "Esta es una porción de la última fila, y solo los elementos pares:"
      ]
    },
    {
      "cell_type": "code",
      "execution_count": 99,
      "metadata": {
        "colab": {
          "base_uri": "https://localhost:8080/"
        },
        "id": "2GPKhaiEk4j3",
        "outputId": "45800e23-e4e6-4774-fcd9-7bf2e817e374"
      },
      "outputs": [
        {
          "output_type": "execute_result",
          "data": {
            "text/plain": [
              "array([13, 44, 36, 32, 24])"
            ]
          },
          "metadata": {},
          "execution_count": 99
        }
      ],
      "source": [
        "r[-1, ::2]"
      ]
    },
    {
      "cell_type": "markdown",
      "metadata": {
        "id": "9a685faqk4j3"
      },
      "source": [
        "<br>También podemos realizar indexación condicional. Aquí estamos seleccionando valores de la matriz que son mayores que 30:"
      ]
    },
    {
      "cell_type": "code",
      "execution_count": 100,
      "metadata": {
        "colab": {
          "base_uri": "https://localhost:8080/"
        },
        "id": "IwddZ5kgk4j3",
        "outputId": "607e6fac-675b-42ec-b1d6-98890fd4956f"
      },
      "outputs": [
        {
          "output_type": "execute_result",
          "data": {
            "text/plain": [
              "array([36, 43, 44, 30, 45, 39, 43, 37, 49, 44, 41, 48, 49, 39, 41, 34, 30,\n",
              "       38, 38, 46, 35, 35, 47, 45, 40, 45, 46, 40, 45, 49, 35, 29, 30, 29,\n",
              "       38, 44, 38, 44, 36, 48, 32, 40, 45])"
            ]
          },
          "metadata": {},
          "execution_count": 100
        }
      ],
      "source": [
        "r[r > 28]"
      ]
    },
    {
      "cell_type": "markdown",
      "metadata": {
        "id": "zADSi1DZk4j3"
      },
      "source": [
        "<br>Aquí estamos asignando el valor 30 a todos los valores de la matriz que son mayores que 30."
      ]
    },
    {
      "cell_type": "code",
      "execution_count": 101,
      "metadata": {
        "colab": {
          "base_uri": "https://localhost:8080/"
        },
        "id": "Cy78i46gk4j3",
        "outputId": "138a4c2f-d055-4992-cfe1-54b08900374a"
      },
      "outputs": [
        {
          "output_type": "execute_result",
          "data": {
            "text/plain": [
              "array([[30, 15, 30, 27, 30, 30,  6, 30, 26, 16],\n",
              "       [ 6, 14, 30, 11,  7,  1, 30, 30, 25, 20],\n",
              "       [30, 12, 18, 17,  1, 30, 30, 30, 27, 30],\n",
              "       [22,  3,  3, 11, 21, 25, 30, 30, 30,  3],\n",
              "       [11,  3, 30,  6,  9, 23, 14, 30, 19,  6],\n",
              "       [12, 27, 30, 17, 30, 10, 30, 30,  1, 30],\n",
              "       [30, 16,  5, 30, 30, 22, 30, 15, 30, 25],\n",
              "       [30, 30,  0, 30, 29,  1, 19,  4, 30,  7],\n",
              "       [29, 30,  1, 12,  3, 30,  7, 30, 24,  6],\n",
              "       [13, 28, 30, 20, 30, 30, 30, 30, 24, 30]])"
            ]
          },
          "metadata": {},
          "execution_count": 101
        }
      ],
      "source": [
        "r[r > 30] = 30\n",
        "r"
      ]
    },
    {
      "cell_type": "markdown",
      "metadata": {
        "id": "_bUlciFVk4j3"
      },
      "source": [
        "### Slicing"
      ]
    },
    {
      "cell_type": "code",
      "execution_count": 102,
      "metadata": {
        "colab": {
          "base_uri": "https://localhost:8080/"
        },
        "id": "wjZMSwyHk4j3",
        "outputId": "a0b404bf-4e94-42b5-b672-238d017832d3"
      },
      "outputs": [
        {
          "output_type": "execute_result",
          "data": {
            "text/plain": [
              "array([2, 3])"
            ]
          },
          "metadata": {},
          "execution_count": 102
        }
      ],
      "source": [
        "x = np.array([1,2,3])\n",
        "x[1:]"
      ]
    },
    {
      "cell_type": "code",
      "execution_count": 103,
      "metadata": {
        "colab": {
          "base_uri": "https://localhost:8080/"
        },
        "id": "Nuck6_Qyk4j3",
        "outputId": "475e5df0-a2ab-48e5-f8be-074eb76a064e"
      },
      "outputs": [
        {
          "output_type": "execute_result",
          "data": {
            "text/plain": [
              "array([[30, 11,  7,  1, 30, 30, 25, 20]])"
            ]
          },
          "metadata": {},
          "execution_count": 103
        }
      ],
      "source": [
        "r[1:2, 2:]"
      ]
    },
    {
      "cell_type": "code",
      "execution_count": null,
      "metadata": {
        "colab": {
          "base_uri": "https://localhost:8080/"
        },
        "id": "XrpWbtcNk4j3",
        "outputId": "c255f58c-ffb9-4d15-91cc-16cd769ec165"
      },
      "outputs": [
        {
          "output_type": "execute_result",
          "data": {
            "text/plain": [
              "array([[30, 15, 30],\n",
              "       [ 6, 14, 30]])"
            ]
          },
          "metadata": {},
          "execution_count": 104
        }
      ],
      "source": [
        "r[0:2,0:3]"
      ]
    },
    {
      "cell_type": "code",
      "execution_count": null,
      "metadata": {
        "colab": {
          "base_uri": "https://localhost:8080/"
        },
        "id": "h7DAHfjTk4j3",
        "outputId": "d98bb5eb-8a1f-4b0a-a541-5936a69cb8d1"
      },
      "outputs": [
        {
          "output_type": "execute_result",
          "data": {
            "text/plain": [
              "array([[ True, False,  True,  True,  True,  True, False,  True,  True,\n",
              "        False],\n",
              "       [False, False,  True, False, False, False,  True,  True, False,\n",
              "        False],\n",
              "       [ True, False, False, False, False,  True,  True,  True,  True,\n",
              "         True],\n",
              "       [False, False, False, False, False, False,  True,  True,  True,\n",
              "        False],\n",
              "       [False, False,  True, False, False, False, False,  True, False,\n",
              "        False],\n",
              "       [False,  True,  True, False,  True, False,  True,  True, False,\n",
              "         True],\n",
              "       [ True, False, False,  True,  True, False,  True, False,  True,\n",
              "        False],\n",
              "       [ True,  True, False,  True,  True, False, False, False,  True,\n",
              "        False],\n",
              "       [ True,  True, False, False, False,  True, False,  True, False,\n",
              "        False],\n",
              "       [False,  True,  True, False,  True,  True,  True,  True, False,\n",
              "         True]])"
            ]
          },
          "metadata": {},
          "execution_count": 105
        }
      ],
      "source": [
        "# Numpy permite crear máscaras fácilmente usando condiciones booleanas\n",
        "r>25"
      ]
    },
    {
      "cell_type": "code",
      "execution_count": null,
      "metadata": {
        "colab": {
          "base_uri": "https://localhost:8080/"
        },
        "id": "5SjaJp_Tk4j4",
        "outputId": "1531cd90-3f48-4b67-b972-0b2ee2bcddf8"
      },
      "outputs": [
        {
          "output_type": "execute_result",
          "data": {
            "text/plain": [
              "array([30, 30, 27, 30, 30, 30, 26, 30, 30, 30, 30, 30, 30, 30, 27, 30, 30,\n",
              "       30, 30, 30, 30, 27, 30, 30, 30, 30, 30, 30, 30, 30, 30, 30, 30, 30,\n",
              "       30, 29, 30, 29, 30, 30, 30, 28, 30, 30, 30, 30, 30, 30])"
            ]
          },
          "metadata": {},
          "execution_count": 106
        }
      ],
      "source": [
        "# Extraer los valores de x que satisfacen la condición booleana. Para ello usamos la máscara\n",
        "r[r>25]"
      ]
    },
    {
      "cell_type": "code",
      "execution_count": null,
      "metadata": {
        "colab": {
          "base_uri": "https://localhost:8080/"
        },
        "id": "gvigHuhDk4j4",
        "outputId": "fc70dade-c69f-4164-82f1-63eadd784c31"
      },
      "outputs": [
        {
          "output_type": "execute_result",
          "data": {
            "text/plain": [
              "array([213, 178, 177, 181, 190, 202, 226, 259, 236, 173])"
            ]
          },
          "metadata": {},
          "execution_count": 107
        }
      ],
      "source": [
        "# Sumar los valores de un arreglo 2D a lo largo del eje Y (columnas)\n",
        "np.sum(r, axis=0)"
      ]
    },
    {
      "cell_type": "code",
      "execution_count": null,
      "metadata": {
        "colab": {
          "base_uri": "https://localhost:8080/"
        },
        "id": "YOpN-T25k4j4",
        "outputId": "01b0bd9e-803d-4bc2-da06-ef490eb6d84a"
      },
      "outputs": [
        {
          "output_type": "execute_result",
          "data": {
            "text/plain": [
              "array([240, 174, 225, 178, 151, 217, 233, 180, 172, 265])"
            ]
          },
          "metadata": {},
          "execution_count": 108
        }
      ],
      "source": [
        "# Sumar los valores de un arrego 2D a lo largo del eje X (filas)\n",
        "np.sum(r, axis=1)"
      ]
    },
    {
      "cell_type": "markdown",
      "metadata": {
        "id": "WLyfB60yk4j4"
      },
      "source": [
        "### Copiando arrays"
      ]
    },
    {
      "cell_type": "markdown",
      "metadata": {
        "id": "9V61FHssk4j4"
      },
      "source": [
        "<br>Para evitar esto, use `r.copy` para crear una copia que no afecte la matriz original:"
      ]
    },
    {
      "cell_type": "code",
      "execution_count": null,
      "metadata": {
        "colab": {
          "base_uri": "https://localhost:8080/"
        },
        "id": "NpuV0G2Uk4j4",
        "outputId": "70806f7c-bcfe-4d34-f5ad-24eee53d8387"
      },
      "outputs": [
        {
          "output_type": "execute_result",
          "data": {
            "text/plain": [
              "array([[30, 15, 30, 27, 30, 30,  6, 30, 26, 16],\n",
              "       [ 6, 14, 30, 11,  7,  1, 30, 30, 25, 20],\n",
              "       [30, 12, 18, 17,  1, 30, 30, 30, 27, 30],\n",
              "       [22,  3,  3, 11, 21, 25, 30, 30, 30,  3],\n",
              "       [11,  3, 30,  6,  9, 23, 14, 30, 19,  6],\n",
              "       [12, 27, 30, 17, 30, 10, 30, 30,  1, 30],\n",
              "       [30, 16,  5, 30, 30, 22, 30, 15, 30, 25],\n",
              "       [30, 30,  0, 30, 29,  1, 19,  4, 30,  7],\n",
              "       [29, 30,  1, 12,  3, 30,  7, 30, 24,  6],\n",
              "       [13, 28, 30, 20, 30, 30, 30, 30, 24, 30]])"
            ]
          },
          "metadata": {},
          "execution_count": 109
        }
      ],
      "source": [
        "copia_r = r.copy()\n",
        "copia_r"
      ]
    },
    {
      "cell_type": "markdown",
      "metadata": {
        "id": "QxAj_PDtk4j4"
      },
      "source": [
        "### Iterando sobre matrices"
      ]
    },
    {
      "cell_type": "markdown",
      "metadata": {
        "id": "OHXWXmEDk4j4"
      },
      "source": [
        "Creamos una nueva matriz de 4 por 3 con números aleatorios de 0-9:"
      ]
    },
    {
      "cell_type": "code",
      "execution_count": null,
      "metadata": {
        "colab": {
          "base_uri": "https://localhost:8080/"
        },
        "id": "wvis0krYk4j4",
        "outputId": "8e28d505-0e98-43ee-c0fe-a66ddec5a8c6"
      },
      "outputs": [
        {
          "output_type": "execute_result",
          "data": {
            "text/plain": [
              "array([[ 77,   8, 206],\n",
              "       [390,  65, 222],\n",
              "       [198, 552, 887],\n",
              "       [970,  76, 460]])"
            ]
          },
          "metadata": {},
          "execution_count": 110
        }
      ],
      "source": [
        "test = np.random.randint(0, 1000, (4,3))\n",
        "test"
      ]
    },
    {
      "cell_type": "markdown",
      "metadata": {
        "id": "bEKsO7uok4j5"
      },
      "source": [
        "Iterar por fila:"
      ]
    },
    {
      "cell_type": "code",
      "execution_count": null,
      "metadata": {
        "colab": {
          "base_uri": "https://localhost:8080/"
        },
        "id": "FZs1ZaHlk4j5",
        "outputId": "f3883edb-4434-47d1-a6d2-5cb0ea0c973d"
      },
      "outputs": [
        {
          "output_type": "stream",
          "name": "stdout",
          "text": [
            "[ 77   8 206]\n",
            "[390  65 222]\n",
            "[198 552 887]\n",
            "[970  76 460]\n"
          ]
        }
      ],
      "source": [
        "for row in test:\n",
        "    print(row)"
      ]
    },
    {
      "cell_type": "markdown",
      "metadata": {
        "id": "7Pzh8u9Ik4j5"
      },
      "source": [
        "\n",
        "\n",
        "Iterar por índice y por fila con **enumerate**:"
      ]
    },
    {
      "cell_type": "code",
      "execution_count": null,
      "metadata": {
        "colab": {
          "base_uri": "https://localhost:8080/"
        },
        "id": "nNqIA5Agk4j5",
        "outputId": "ae65a500-91e0-4b10-acd7-96c13ebbfeb7"
      },
      "outputs": [
        {
          "output_type": "stream",
          "name": "stdout",
          "text": [
            "row 0 is [ 77   8 206]\n",
            "row 1 is [390  65 222]\n",
            "row 2 is [198 552 887]\n",
            "row 3 is [970  76 460]\n"
          ]
        }
      ],
      "source": [
        "for i, row in enumerate(test):\n",
        "    print('row', i, 'is', row)"
      ]
    },
    {
      "cell_type": "markdown",
      "metadata": {
        "id": "YhCZ34Bik4j5"
      },
      "source": [
        "## Filtros en Arrays\n",
        "\n",
        "Suponga que desea tomar el valor de una matriz `X` cuando el valor correspondiente en una condición es True, y de lo contrario tome el valor de la matriz `Y`. Dentro de *Numpy* hay una función llamada **np.where** que resuelve la situación anterior.\n",
        "\n",
        "```python\n",
        "result = np.where(cond, xarr, yarr)\n",
        "```"
      ]
    },
    {
      "cell_type": "code",
      "execution_count": null,
      "metadata": {
        "colab": {
          "base_uri": "https://localhost:8080/"
        },
        "id": "xG5YmnNgk4j5",
        "outputId": "5786c005-5341-4d68-f63c-0ed269ae5b05"
      },
      "outputs": [
        {
          "output_type": "execute_result",
          "data": {
            "text/plain": [
              "array([1.1, 2.2, 1.3, 1.4, 2.5])"
            ]
          },
          "metadata": {},
          "execution_count": 113
        }
      ],
      "source": [
        "xarr = np.array([1.1, 1.2, 1.3, 1.4, 1.5])\n",
        "yarr = np.array([2.1, 2.2, 2.3, 2.4, 2.5])\n",
        "cond = np.array([True, False, True, True, False])\n",
        "np.where(cond,xarr,yarr)"
      ]
    },
    {
      "cell_type": "code",
      "execution_count": null,
      "metadata": {
        "colab": {
          "base_uri": "https://localhost:8080/"
        },
        "id": "PKAAhUH6k4j5",
        "outputId": "c5725a4b-4b23-460b-eb2a-4aa0401ad6c2"
      },
      "outputs": [
        {
          "output_type": "execute_result",
          "data": {
            "text/plain": [
              "array([1, 1, 1, 0, 0])"
            ]
          },
          "metadata": {},
          "execution_count": 114
        }
      ],
      "source": [
        "np.where(xarr>1.3,0,1)"
      ]
    }
  ],
  "metadata": {
    "kernelspec": {
      "display_name": "Python 3",
      "language": "python",
      "name": "python3"
    },
    "language_info": {
      "codemirror_mode": {
        "name": "ipython",
        "version": 3
      },
      "file_extension": ".py",
      "mimetype": "text/x-python",
      "name": "python",
      "nbconvert_exporter": "python",
      "pygments_lexer": "ipython3",
      "version": "3.7.5"
    },
    "colab": {
      "provenance": []
    }
  },
  "nbformat": 4,
  "nbformat_minor": 0
}
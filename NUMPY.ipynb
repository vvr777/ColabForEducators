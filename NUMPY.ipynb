{
  "cells": [
    {
      "cell_type": "markdown",
      "metadata": {
        "id": "jABvglRzk4jk"
      },
      "source": [
        "\n",
        "# **LIBRERÍA NUMPY**"
      ]
    },
    {
      "cell_type": "markdown",
      "metadata": {
        "id": "hUxGK6QQk4jl"
      },
      "source": [
        "Sinonimo de *Numerical Python*, `numpy` es una librería que proporciona herramientas para trabajar con alto rendimiento sobre arreglos multidimensionales.\n",
        "\n",
        "\n",
        "## Características:\n",
        "Dentro de las principales características de `numpy` se encuentran:\n",
        "- Ofrece un poderoso objeto para manipular arreglos multidimensionales: `ndarray`.\n",
        "- Posee herramientas para realizar operaciones matemáticas y lógicas sobre arreglos, operaciones relacionadas con algebra lineal, transformadas de Fourier, entre otras.\n",
        "\n",
        "Para importar los módulos de la librería `numpy`, por convención se utiliza:"
      ]
    },
    {
      "cell_type": "code",
      "execution_count": 1,
      "metadata": {
        "id": "lpBlRNq1k4jl"
      },
      "outputs": [],
      "source": [
        "# Importamos Numpy con el alias np\n",
        "import numpy as np"
      ]
    },
    {
      "cell_type": "markdown",
      "metadata": {
        "id": "tAE0zntZk4jm"
      },
      "source": [
        "## Arrays\n",
        "\n",
        "\n",
        "Las funcionalidades de `numpy` se basan en en el objeto `ndarray`.\n",
        "\n",
        "Un `ndarray`, también conocido por el alias de `array`, es un arreglo N-dimensional con elementos del mismo tipo e indexado por una tupla de enteros positivos.\n",
        "\n",
        "\n",
        "```python\n",
        "a = numpy.array(data, dtype = None, ndmin = 0, ...)\n",
        "```\n",
        "- data: datos de mismo tipo en forma de matriz o una secuencia anidada.\n",
        "- dtype (opcional): tipos de datos deseados en el arreglo.\n",
        "- ndmin: especifica el número mínimo de dimensiones del arreglo resultante."
      ]
    },
    {
      "cell_type": "markdown",
      "metadata": {
        "id": "9JqT64mPk4jm"
      },
      "source": [
        "Crea una lista y conviértela en una matriz numpy:"
      ]
    },
    {
      "cell_type": "code",
      "execution_count": 2,
      "metadata": {
        "colab": {
          "base_uri": "https://localhost:8080/"
        },
        "id": "PQAmeBh3k4jm",
        "outputId": "2d2db554-d7cb-4361-d5e6-120df49be483"
      },
      "outputs": [
        {
          "output_type": "execute_result",
          "data": {
            "text/plain": [
              "array([[0, 1, 2, 3],\n",
              "       [4, 5, 6, 7],\n",
              "       [1, 2, 3, 4]])"
            ]
          },
          "metadata": {},
          "execution_count": 2
        }
      ],
      "source": [
        "a = np.array([[0,1,2,3],[4,5,6,7],[1,2,3,4]])\n",
        "a"
      ]
    },
    {
      "cell_type": "markdown",
      "metadata": {
        "id": "Uk7KRvB0k4jm"
      },
      "source": [
        "O simplemente pasa una lista directamente:"
      ]
    },
    {
      "cell_type": "code",
      "execution_count": 3,
      "metadata": {
        "colab": {
          "base_uri": "https://localhost:8080/"
        },
        "id": "7GVmlczCk4jm",
        "outputId": "c83b95ab-2045-4d22-ead2-971c4b071a8f"
      },
      "outputs": [
        {
          "output_type": "execute_result",
          "data": {
            "text/plain": [
              "array([4, 5, 6])"
            ]
          },
          "metadata": {},
          "execution_count": 3
        }
      ],
      "source": [
        "y = np.array([4, 5, 6])\n",
        "y"
      ]
    },
    {
      "cell_type": "markdown",
      "metadata": {
        "id": "uJxUNfwSk4jm"
      },
      "source": [
        "Pasa una lista de listas para crear una matriz multidimensional:"
      ]
    },
    {
      "cell_type": "code",
      "execution_count": 4,
      "metadata": {
        "colab": {
          "base_uri": "https://localhost:8080/"
        },
        "id": "pvPqEiN2k4jm",
        "outputId": "6b9cfed4-5b24-4cee-9e5b-247bb639618f"
      },
      "outputs": [
        {
          "output_type": "execute_result",
          "data": {
            "text/plain": [
              "array([[0, 1, 2, 3],\n",
              "       [4, 5, 6, 7],\n",
              "       [1, 2, 3, 4]])"
            ]
          },
          "metadata": {},
          "execution_count": 4
        }
      ],
      "source": [
        "m = np.array([[0,1,2,3],[4,5,6,7],[1,2,3,4]])\n",
        "m"
      ]
    },
    {
      "cell_type": "markdown",
      "metadata": {
        "id": "yCWkH9vGk4jn"
      },
      "source": [
        "Dentro de los principales atributos del objeto `ndarray`, se encuentran:\n",
        "- `ndarray.shape`: tupla con las dimensiones del arreglo.\n",
        "- `ndarray.ndim`: numero de dimensiones del arreglo.\n",
        "- `ndarray.size`: número de elementos del arreglo.\n",
        "- `ndarray.dtype`: tipo de dato de los elementos del arreglo."
      ]
    },
    {
      "cell_type": "code",
      "execution_count": 5,
      "metadata": {
        "colab": {
          "base_uri": "https://localhost:8080/"
        },
        "id": "_D_ZqkZvk4jn",
        "outputId": "4fe0ed57-2bd2-4b2a-a3f0-a645953e1935"
      },
      "outputs": [
        {
          "output_type": "execute_result",
          "data": {
            "text/plain": [
              "(3, 4)"
            ]
          },
          "metadata": {},
          "execution_count": 5
        }
      ],
      "source": [
        "m.shape"
      ]
    },
    {
      "cell_type": "code",
      "execution_count": 6,
      "metadata": {
        "colab": {
          "base_uri": "https://localhost:8080/"
        },
        "id": "f5jk9pRqk4jn",
        "outputId": "fc44d3fd-5b9b-4a6f-ef3a-496600967a7e"
      },
      "outputs": [
        {
          "output_type": "execute_result",
          "data": {
            "text/plain": [
              "2"
            ]
          },
          "metadata": {},
          "execution_count": 6
        }
      ],
      "source": [
        "m.ndim"
      ]
    },
    {
      "cell_type": "code",
      "execution_count": 7,
      "metadata": {
        "colab": {
          "base_uri": "https://localhost:8080/"
        },
        "id": "wnB0MZmek4jn",
        "outputId": "3702fae8-9489-40d0-92f4-fd518690c844"
      },
      "outputs": [
        {
          "output_type": "execute_result",
          "data": {
            "text/plain": [
              "12"
            ]
          },
          "metadata": {},
          "execution_count": 7
        }
      ],
      "source": [
        "m.size"
      ]
    },
    {
      "cell_type": "code",
      "execution_count": 8,
      "metadata": {
        "colab": {
          "base_uri": "https://localhost:8080/"
        },
        "id": "kBjoFcxgk4jn",
        "outputId": "3b91967a-ba10-4b47-e8f4-08efb25953f8"
      },
      "outputs": [
        {
          "output_type": "execute_result",
          "data": {
            "text/plain": [
              "dtype('int64')"
            ]
          },
          "metadata": {},
          "execution_count": 8
        }
      ],
      "source": [
        "m.dtype"
      ]
    },
    {
      "cell_type": "markdown",
      "metadata": {
        "id": "tmkHDxa0k4jn"
      },
      "source": [
        "Numpy cuenta con funciones especiales para crear arreglos con valores definidos por defecto, por ejemplo:\n",
        "- **zeros**: crea arreglo solamente con 0's.\n",
        "- **ones**: crea arreglo solamente con 1's.\n",
        "- **eye**: crea una matriz identidad de tamaño n.\n",
        "- **full**: crea un arreglo con un valor constante especificado."
      ]
    },
    {
      "cell_type": "code",
      "execution_count": 9,
      "metadata": {
        "colab": {
          "base_uri": "https://localhost:8080/"
        },
        "id": "daZpwiUsk4jn",
        "outputId": "3af18740-208d-4757-a228-24f1cf2efacd"
      },
      "outputs": [
        {
          "output_type": "execute_result",
          "data": {
            "text/plain": [
              "array([[0., 0., 0.],\n",
              "       [0., 0., 0.],\n",
              "       [0., 0., 0.]])"
            ]
          },
          "metadata": {},
          "execution_count": 9
        }
      ],
      "source": [
        "np.zeros((3,3))"
      ]
    },
    {
      "cell_type": "code",
      "execution_count": 10,
      "metadata": {
        "colab": {
          "base_uri": "https://localhost:8080/"
        },
        "id": "m8Jr1xsIk4jn",
        "outputId": "11520533-7aca-40a8-bc16-2e617348cd17"
      },
      "outputs": [
        {
          "output_type": "execute_result",
          "data": {
            "text/plain": [
              "array([[1.],\n",
              "       [1.],\n",
              "       [1.],\n",
              "       [1.],\n",
              "       [1.]])"
            ]
          },
          "metadata": {},
          "execution_count": 10
        }
      ],
      "source": [
        "np.ones((5,1))"
      ]
    },
    {
      "cell_type": "code",
      "execution_count": 11,
      "metadata": {
        "colab": {
          "base_uri": "https://localhost:8080/"
        },
        "id": "3ssvX8kvk4jn",
        "outputId": "0b1cd6c5-a35a-4cfb-ea02-824340bbac46"
      },
      "outputs": [
        {
          "output_type": "execute_result",
          "data": {
            "text/plain": [
              "array([[1., 0., 0., 0.],\n",
              "       [0., 1., 0., 0.],\n",
              "       [0., 0., 1., 0.],\n",
              "       [0., 0., 0., 1.]])"
            ]
          },
          "metadata": {},
          "execution_count": 11
        }
      ],
      "source": [
        "np.eye(4)"
      ]
    },
    {
      "cell_type": "markdown",
      "metadata": {
        "id": "75-J6mrzk4jn"
      },
      "source": [
        "<br>`reshape` devuelve una matriz con los mismos datos en una nueva forma:"
      ]
    },
    {
      "cell_type": "code",
      "execution_count": 13,
      "metadata": {
        "colab": {
          "base_uri": "https://localhost:8080/"
        },
        "id": "XjJm98_Zk4jo",
        "outputId": "a44cad1f-700b-4779-d3b2-f1075e0891b9"
      },
      "outputs": [
        {
          "output_type": "execute_result",
          "data": {
            "text/plain": [
              "array([[1., 1., 1.],\n",
              "       [1., 1., 1.],\n",
              "       [1., 1., 1.],\n",
              "       [1., 1., 1.],\n",
              "       [1., 1., 1.],\n",
              "       [1., 1., 1.]])"
            ]
          },
          "metadata": {},
          "execution_count": 13
        }
      ],
      "source": [
        "n1 = np.ones((6, 3))\n",
        "n1"
      ]
    },
    {
      "cell_type": "code",
      "execution_count": 19,
      "metadata": {
        "colab": {
          "base_uri": "https://localhost:8080/"
        },
        "id": "djzKnO4jk4jo",
        "outputId": "5290b123-31c3-4be8-8ff7-7bc4ba93e619"
      },
      "outputs": [
        {
          "output_type": "execute_result",
          "data": {
            "text/plain": [
              "array([[1., 1., 1., 1., 1., 1., 1., 1., 1.],\n",
              "       [1., 1., 1., 1., 1., 1., 1., 1., 1.]])"
            ]
          },
          "metadata": {},
          "execution_count": 19
        }
      ],
      "source": [
        "n2 = n1.reshape(2, 9) # reshape array to be 2x9\n",
        "n2"
      ]
    },
    {
      "cell_type": "code",
      "execution_count": 20,
      "metadata": {
        "colab": {
          "base_uri": "https://localhost:8080/"
        },
        "id": "qwfeAp7Ck4jo",
        "outputId": "41949a17-88ee-413a-fcbc-6447508e7779"
      },
      "outputs": [
        {
          "output_type": "execute_result",
          "data": {
            "text/plain": [
              "array([[1., 1., 1., 1., 1., 1., 1., 1., 1., 1., 1., 1., 1., 1., 1., 1.,\n",
              "        1., 1.]])"
            ]
          },
          "metadata": {},
          "execution_count": 20
        }
      ],
      "source": [
        "n3 = n1.reshape(1, 18) # reshape array to be 1x18\n",
        "n3"
      ]
    },
    {
      "cell_type": "markdown",
      "metadata": {
        "id": "tPkScETgk4jo"
      },
      "source": [
        "<br>`arange` devuelve valores espaciados uniformemente dentro de un intervalo dado."
      ]
    },
    {
      "cell_type": "code",
      "execution_count": 22,
      "metadata": {
        "colab": {
          "base_uri": "https://localhost:8080/"
        },
        "id": "AdvS8vLRk4jo",
        "outputId": "0990f782-38ed-488f-de00-1ab968668fa0"
      },
      "outputs": [
        {
          "output_type": "execute_result",
          "data": {
            "text/plain": [
              "array([ 0,  2,  4,  6,  8, 10, 12, 14, 16, 18, 20, 22, 24, 26, 28])"
            ]
          },
          "metadata": {},
          "execution_count": 22
        }
      ],
      "source": [
        "n4 = np.arange(0, 30, 2) # inicia en 0, aumenta de 2 en 2 y se detiene en una valor anterior a 30\n",
        "n4"
      ]
    },
    {
      "cell_type": "markdown",
      "metadata": {
        "id": "v4etY1EIk4jo"
      },
      "source": [
        "<br>`linspace` devuelve números espaciados uniformemente en un intervalo especificado:"
      ]
    },
    {
      "cell_type": "code",
      "execution_count": 23,
      "metadata": {
        "colab": {
          "base_uri": "https://localhost:8080/"
        },
        "id": "jnBuiCxDk4jo",
        "outputId": "56e4d59d-1451-4521-bb2f-0c54a9ab2d15"
      },
      "outputs": [
        {
          "output_type": "execute_result",
          "data": {
            "text/plain": [
              "array([0. , 0.5, 1. , 1.5, 2. , 2.5, 3. , 3.5, 4. ])"
            ]
          },
          "metadata": {},
          "execution_count": 23
        }
      ],
      "source": [
        "n5 = np.linspace(0, 4, 9) # Devuelve 9 valores espaciados uniformemente de 0 a 4\n",
        "n5"
      ]
    },
    {
      "cell_type": "markdown",
      "metadata": {
        "id": "6_iO1Azjk4jo"
      },
      "source": [
        "<br> `resize` cambia la forma y el tamaño de la matriz de forma definitiva:"
      ]
    },
    {
      "cell_type": "code",
      "execution_count": 24,
      "metadata": {
        "colab": {
          "base_uri": "https://localhost:8080/"
        },
        "id": "WKSpfbBuk4jo",
        "outputId": "155e56da-b38b-4297-9af7-e6e7f83ab25a"
      },
      "outputs": [
        {
          "output_type": "execute_result",
          "data": {
            "text/plain": [
              "array([[0. , 0.5, 1. ],\n",
              "       [1.5, 2. , 2.5],\n",
              "       [3. , 3.5, 4. ]])"
            ]
          },
          "metadata": {},
          "execution_count": 24
        }
      ],
      "source": [
        "n5.resize(3, 3)\n",
        "n5"
      ]
    },
    {
      "cell_type": "markdown",
      "metadata": {
        "id": "KzOL-Ln0k4jo"
      },
      "source": [
        "<br>**diag** extrae una diagonal o construye una matriz diagonal:"
      ]
    },
    {
      "cell_type": "code",
      "execution_count": 25,
      "metadata": {
        "colab": {
          "base_uri": "https://localhost:8080/"
        },
        "id": "ESuutzs8k4jo",
        "outputId": "dbce38b4-0a98-4ac5-9edb-fa3ee3ba4653"
      },
      "outputs": [
        {
          "output_type": "execute_result",
          "data": {
            "text/plain": [
              "array([[4, 0, 0, 0],\n",
              "       [0, 5, 0, 0],\n",
              "       [0, 0, 6, 0],\n",
              "       [0, 0, 0, 7]])"
            ]
          },
          "metadata": {},
          "execution_count": 25
        }
      ],
      "source": [
        "np.diag([4,5,6,7])"
      ]
    },
    {
      "cell_type": "markdown",
      "metadata": {
        "id": "Dsvoh1w7k4jo"
      },
      "source": [
        "<br>Crea una matriz usando la lista de repetición (o ver `np.tile`):"
      ]
    },
    {
      "cell_type": "code",
      "execution_count": 26,
      "metadata": {
        "colab": {
          "base_uri": "https://localhost:8080/"
        },
        "id": "iRUtpu9Yk4jp",
        "outputId": "685fad16-50d3-4fa3-84e8-8bd6b30148fe"
      },
      "outputs": [
        {
          "output_type": "execute_result",
          "data": {
            "text/plain": [
              "array([1, 2, 3, 1, 2, 3, 1, 2, 3])"
            ]
          },
          "metadata": {},
          "execution_count": 26
        }
      ],
      "source": [
        "np.array([1, 2, 3] * 3)"
      ]
    },
    {
      "cell_type": "code",
      "execution_count": 37,
      "metadata": {
        "colab": {
          "base_uri": "https://localhost:8080/"
        },
        "id": "ALAwwWljk4jp",
        "outputId": "5d93f4e3-2bad-487f-819c-e2fb767c6130"
      },
      "outputs": [
        {
          "output_type": "execute_result",
          "data": {
            "text/plain": [
              "array([[1, 2, 3, 1, 2, 3, 1, 2, 3]])"
            ]
          },
          "metadata": {},
          "execution_count": 37
        }
      ],
      "source": [
        "np.tile(np.arange(1,4),(1,3)) # (1,3): 1 es el número de filas y 3 es el número de repeticiones."
      ]
    },
    {
      "cell_type": "markdown",
      "metadata": {
        "id": "PiAt2lXkk4jp"
      },
      "source": [
        "<br>Repite elementos de un array usando `repeat`."
      ]
    },
    {
      "cell_type": "code",
      "execution_count": 38,
      "metadata": {
        "colab": {
          "base_uri": "https://localhost:8080/"
        },
        "id": "W1tI2FTOk4jp",
        "outputId": "45cd49c5-4b96-45a5-b51d-9f23b55b720f"
      },
      "outputs": [
        {
          "output_type": "execute_result",
          "data": {
            "text/plain": [
              "array([1, 1, 1, 2, 2, 2, 3, 3, 3])"
            ]
          },
          "metadata": {},
          "execution_count": 38
        }
      ],
      "source": [
        "np.repeat([1, 2, 3], 3)"
      ]
    },
    {
      "cell_type": "markdown",
      "metadata": {
        "id": "AD8DGUzNk4jp"
      },
      "source": [
        "### Vector aleatorio"
      ]
    },
    {
      "cell_type": "code",
      "execution_count": 39,
      "metadata": {
        "colab": {
          "base_uri": "https://localhost:8080/"
        },
        "id": "OZtRcoP-k4jp",
        "outputId": "5a0a16ce-e766-4664-b81d-7adcd1549c2a"
      },
      "outputs": [
        {
          "output_type": "stream",
          "name": "stdout",
          "text": [
            "[0.69646919 0.28613933 0.22685145 0.55131477 0.71946897 0.42310646\n",
            " 0.9807642  0.68482974 0.4809319  0.39211752]\n"
          ]
        }
      ],
      "source": [
        "np.random.seed(123)  #si defino la semilla, se reproducen los mismos números aleatorios\n",
        "w = np.random.rand(10) #vector aleatorio de elementos uniformes entre 0 y 1\n",
        "print(w)"
      ]
    },
    {
      "cell_type": "code",
      "execution_count": 40,
      "metadata": {
        "colab": {
          "base_uri": "https://localhost:8080/"
        },
        "id": "3vTwt79qk4jp",
        "outputId": "18be375e-43f9-4650-c4a6-4e1fc093556d"
      },
      "outputs": [
        {
          "output_type": "stream",
          "name": "stdout",
          "text": [
            "[ 1.26593626 -0.8667404  -0.67888615 -0.09470897  1.49138963 -0.638902\n",
            " -0.44398196 -0.43435128  2.20593008  2.18678609]\n"
          ]
        }
      ],
      "source": [
        "x = np.random.randn(10) #vector aleatorio de elementos normales estandar\n",
        "print(x)"
      ]
    },
    {
      "cell_type": "code",
      "execution_count": 41,
      "metadata": {
        "colab": {
          "base_uri": "https://localhost:8080/"
        },
        "id": "I9C6m2rOk4ju",
        "outputId": "05f10a03-ba4c-4b6d-8795-4746ddad2477"
      },
      "outputs": [
        {
          "output_type": "stream",
          "name": "stdout",
          "text": [
            "[8 0 7 9 3 4 6 1 5 6]\n"
          ]
        }
      ],
      "source": [
        "y = np.random.randint(0,10,10) #vector aleatorio de elementos enteros\n",
        "print(y)"
      ]
    },
    {
      "cell_type": "markdown",
      "metadata": {
        "id": "UgqKQn8Lk4ju"
      },
      "source": [
        "## Matrices"
      ]
    },
    {
      "cell_type": "code",
      "execution_count": 42,
      "metadata": {
        "colab": {
          "base_uri": "https://localhost:8080/"
        },
        "id": "9D4r5xq3k4jv",
        "outputId": "11ede357-fa62-418a-e0d9-b119f8bee579"
      },
      "outputs": [
        {
          "output_type": "stream",
          "name": "stdout",
          "text": [
            "(4, 4)\n",
            "[[ 0  1  2  3]\n",
            " [ 4  5  6  7]\n",
            " [ 8  9 10 11]\n",
            " [ 3  5  6  9]]\n"
          ]
        }
      ],
      "source": [
        "a = np.array([[0,1,2,3], [4,5,6,7], [8,9,10,11] , [3,5,6,9]])\n",
        "print(np.shape(a))\n",
        "print(a)"
      ]
    },
    {
      "cell_type": "code",
      "execution_count": 43,
      "metadata": {
        "colab": {
          "base_uri": "https://localhost:8080/"
        },
        "id": "14VQg_hvk4jv",
        "outputId": "c1105994-ba7d-4385-a0aa-dba2ca65f767"
      },
      "outputs": [
        {
          "output_type": "stream",
          "name": "stdout",
          "text": [
            "[0 1 2 3 4]\n",
            "[[0 0 0 0 0]\n",
            " [0 1 0 0 0]\n",
            " [0 0 2 0 0]\n",
            " [0 0 0 3 0]\n",
            " [0 0 0 0 4]]\n"
          ]
        }
      ],
      "source": [
        "#Creación de una matriz diagonal\n",
        "\n",
        "#Primero un rango lineal\n",
        "a = np.arange(5)\n",
        "print(a)\n",
        "\n",
        "#Y ahora lo convertimos en diagonal\n",
        "diagonal = np.diag(a)\n",
        "print(diagonal)"
      ]
    },
    {
      "cell_type": "code",
      "execution_count": 44,
      "metadata": {
        "scrolled": true,
        "colab": {
          "base_uri": "https://localhost:8080/"
        },
        "id": "nxZqe_tdk4jv",
        "outputId": "7cf766cd-3df8-4d8b-a352-82f68590714d"
      },
      "outputs": [
        {
          "output_type": "stream",
          "name": "stdout",
          "text": [
            "[[6 7]\n",
            " [8 9]]\n",
            "[[6 7 6 7 6 7]\n",
            " [8 9 8 9 8 9]\n",
            " [6 7 6 7 6 7]\n",
            " [8 9 8 9 8 9]]\n"
          ]
        }
      ],
      "source": [
        "#Matriz a base de \"tiles\" (baldosas)\n",
        "ar = np.array([[6,7],[8,9]])\n",
        "print(ar)\n",
        "tiles = np.tile(ar,(2,3))\n",
        "print(tiles)"
      ]
    },
    {
      "cell_type": "code",
      "execution_count": 45,
      "metadata": {
        "colab": {
          "base_uri": "https://localhost:8080/"
        },
        "id": "1TlgjyY1k4jv",
        "outputId": "c3eefc9d-9f4b-4380-d79e-5f5c75245e1f"
      },
      "outputs": [
        {
          "output_type": "stream",
          "name": "stdout",
          "text": [
            "[0 1 2 3 4 5 6 7 8]\n",
            "[[0 1 2]\n",
            " [3 4 5]\n",
            " [6 7 8]]\n"
          ]
        }
      ],
      "source": [
        "#Cambio de forma de un vector\n",
        "\n",
        "#Creamos un vector lineal y lo reorganizamos como matriz 3x3\n",
        "x = np.arange(9)\n",
        "print(x)\n",
        "x = x.reshape(3,3)\n",
        "print(x)"
      ]
    },
    {
      "cell_type": "markdown",
      "metadata": {
        "id": "-YxNm6Hrk4jv"
      },
      "source": [
        "### Trabajo con matrices"
      ]
    },
    {
      "cell_type": "code",
      "execution_count": 46,
      "metadata": {
        "colab": {
          "base_uri": "https://localhost:8080/"
        },
        "id": "LHHlpI_kk4jv",
        "outputId": "7cf36a41-8eeb-4077-d8cb-c745b41071f9"
      },
      "outputs": [
        {
          "output_type": "execute_result",
          "data": {
            "text/plain": [
              "array([[1, 1, 1],\n",
              "       [1, 1, 1]])"
            ]
          },
          "metadata": {},
          "execution_count": 46
        }
      ],
      "source": [
        "p = np.ones([2, 3], int)\n",
        "p"
      ]
    },
    {
      "cell_type": "markdown",
      "metadata": {
        "id": "4KXxvhaik4jv"
      },
      "source": [
        "<br> Utiliza `vstack` para apilar las matrices o arrays en secuencia verticalmente (en sentido de fila):"
      ]
    },
    {
      "cell_type": "code",
      "execution_count": 47,
      "metadata": {
        "colab": {
          "base_uri": "https://localhost:8080/"
        },
        "id": "NQIcSAmbk4jv",
        "outputId": "8d13108d-2b1b-4463-81b3-7b5309c39d86"
      },
      "outputs": [
        {
          "output_type": "execute_result",
          "data": {
            "text/plain": [
              "array([[1, 1, 1],\n",
              "       [1, 1, 1],\n",
              "       [2, 2, 2],\n",
              "       [2, 2, 2]])"
            ]
          },
          "metadata": {},
          "execution_count": 47
        }
      ],
      "source": [
        "np.vstack((p, 2*p))"
      ]
    },
    {
      "cell_type": "markdown",
      "metadata": {
        "id": "8cfaQ1apk4jv"
      },
      "source": [
        "<br>Usa `hstack` para apilar las matrices en secuencia horizontalmente (en sentido de columna):"
      ]
    },
    {
      "cell_type": "code",
      "execution_count": 48,
      "metadata": {
        "colab": {
          "base_uri": "https://localhost:8080/"
        },
        "id": "3JiAgybok4jv",
        "outputId": "a6e932d1-86bb-456e-b171-cfa4c8eadb73"
      },
      "outputs": [
        {
          "output_type": "execute_result",
          "data": {
            "text/plain": [
              "array([[1, 1, 1, 2, 2, 2],\n",
              "       [1, 1, 1, 2, 2, 2]])"
            ]
          },
          "metadata": {},
          "execution_count": 48
        }
      ],
      "source": [
        "np.hstack((p, 2*p))"
      ]
    },
    {
      "cell_type": "markdown",
      "metadata": {
        "id": "Rr1W7fVrk4jw"
      },
      "source": [
        "<br>Usa `column_stack` para concatenar por matrices horizontalmente (permite concatenar una matriz con un array unidimensional):"
      ]
    },
    {
      "cell_type": "code",
      "execution_count": 49,
      "metadata": {
        "colab": {
          "base_uri": "https://localhost:8080/"
        },
        "id": "NCKYCuMkk4jw",
        "outputId": "f0e0a2f2-d528-453e-f570-0a2836359360"
      },
      "outputs": [
        {
          "output_type": "execute_result",
          "data": {
            "text/plain": [
              "array([[1, 1, 1, 3],\n",
              "       [1, 1, 1, 5]])"
            ]
          },
          "metadata": {},
          "execution_count": 49
        }
      ],
      "source": [
        "np.column_stack((p,[3,5]))"
      ]
    },
    {
      "cell_type": "markdown",
      "metadata": {
        "id": "h1uoWIVpk4jw"
      },
      "source": [
        "### Operaciones con arrays"
      ]
    },
    {
      "cell_type": "markdown",
      "metadata": {
        "id": "9q4fVfGyk4jw"
      },
      "source": [
        "Usa `+`, `-`,` * `,` / `y` ** `para realizar sumas, restas, multiplicaciones, divisiones y potencias por elementos:"
      ]
    },
    {
      "cell_type": "code",
      "execution_count": 56,
      "metadata": {
        "colab": {
          "base_uri": "https://localhost:8080/"
        },
        "id": "N2v41T5_k4jw",
        "outputId": "37a0c300-dcfb-458e-f5cc-116610d68015"
      },
      "outputs": [
        {
          "output_type": "stream",
          "name": "stdout",
          "text": [
            "[1 2 3]\n",
            "[4 5 6]\n"
          ]
        }
      ],
      "source": [
        "x = np.array([1,2,3])\n",
        "y = np.array([4,5,6])\n",
        "print(x)\n",
        "print(y)"
      ]
    },
    {
      "cell_type": "code",
      "execution_count": 51,
      "metadata": {
        "colab": {
          "base_uri": "https://localhost:8080/"
        },
        "id": "VAhZ0qkCk4jw",
        "outputId": "d72af8cb-f498-4f82-ce88-7f15a204fd4c"
      },
      "outputs": [
        {
          "output_type": "stream",
          "name": "stdout",
          "text": [
            "[4 5 6]\n",
            "[-2 -1  0]\n",
            "[3 6 9]\n",
            "[0.33333333 0.66666667 1.        ]\n"
          ]
        }
      ],
      "source": [
        "print(x + 3) # adición por un escalar\n",
        "print(x - 3) # resta por un escalar\n",
        "print(x * 3) # multiplicación por un escalar\n",
        "print(x / 3) # división por un escalar"
      ]
    },
    {
      "cell_type": "code",
      "execution_count": 52,
      "metadata": {
        "colab": {
          "base_uri": "https://localhost:8080/"
        },
        "id": "t-Hkz7vlk4jw",
        "outputId": "eeb9d7a6-7c73-4a18-c90f-a74e8fed8d89"
      },
      "outputs": [
        {
          "output_type": "stream",
          "name": "stdout",
          "text": [
            "[5 7 9]\n",
            "[-3 -3 -3]\n"
          ]
        }
      ],
      "source": [
        "print(x + y) # adición por elementos     [1 2 3] + [4 5 6] = [5  7  9]\n",
        "print(x - y) # resta por elementos      [1 2 3] - [4 5 6] = [-3 -3 -3]"
      ]
    },
    {
      "cell_type": "code",
      "execution_count": 53,
      "metadata": {
        "colab": {
          "base_uri": "https://localhost:8080/"
        },
        "id": "tFA5k79Hk4jw",
        "outputId": "4636a7af-aa73-40b3-abcc-c99920371df1"
      },
      "outputs": [
        {
          "output_type": "stream",
          "name": "stdout",
          "text": [
            "[ 4 10 18]\n",
            "[0.25 0.4  0.5 ]\n"
          ]
        }
      ],
      "source": [
        "print(x * y) # multiplicación por elementos  [1 2 3] * [4 5 6] = [4  10  18]\n",
        "print(x / y) # división por elementos        [1 2 3] / [4 5 6] = [0.25  0.4  0.5]"
      ]
    },
    {
      "cell_type": "code",
      "execution_count": 54,
      "metadata": {
        "colab": {
          "base_uri": "https://localhost:8080/"
        },
        "id": "NmfMlnTvk4jw",
        "outputId": "9dc0f99c-6afb-4ee3-b253-5b1a35dbb73f"
      },
      "outputs": [
        {
          "output_type": "stream",
          "name": "stdout",
          "text": [
            "[1 4 9]\n"
          ]
        }
      ],
      "source": [
        "print(x**2) # potenciación por elementos  [1 2 3] ^2 =  [1 4 9]"
      ]
    },
    {
      "cell_type": "markdown",
      "metadata": {
        "id": "P1jf8Upik4jw"
      },
      "source": [
        "<br>**Dot Product:**  \n",
        "\n",
        "$ \\begin{bmatrix}x_1 \\ x_2 \\ x_3\\end{bmatrix}\n",
        "\\cdot\n",
        "\\begin{bmatrix}y_1 \\\\ y_2 \\\\ y_3\\end{bmatrix}\n",
        "= x_1 y_1 + x_2 y_2 + x_3 y_3$"
      ]
    },
    {
      "cell_type": "code",
      "execution_count": 57,
      "metadata": {
        "colab": {
          "base_uri": "https://localhost:8080/"
        },
        "id": "fEV-Woo2k4jx",
        "outputId": "c6ad6590-3b07-443b-f334-7901f2d554d1"
      },
      "outputs": [
        {
          "output_type": "execute_result",
          "data": {
            "text/plain": [
              "32"
            ]
          },
          "metadata": {},
          "execution_count": 57
        }
      ],
      "source": [
        "x.dot(y) # dot product  1*4 + 2*5 + 3*6"
      ]
    },
    {
      "cell_type": "code",
      "execution_count": 58,
      "metadata": {
        "colab": {
          "base_uri": "https://localhost:8080/"
        },
        "id": "Dh_GoOKvk4jx",
        "outputId": "2f49aaa9-22c6-4dee-d6a4-b6cbcb2e0532"
      },
      "outputs": [
        {
          "output_type": "execute_result",
          "data": {
            "text/plain": [
              "32"
            ]
          },
          "metadata": {},
          "execution_count": 58
        }
      ],
      "source": [
        "np.dot(x,y)"
      ]
    },
    {
      "cell_type": "markdown",
      "metadata": {
        "id": "FKBVKPQ3k4jx"
      },
      "source": [
        "Por otro lado, hay funciones universales que realizan operaciones con 2 arrays y regresan un array como salida."
      ]
    },
    {
      "cell_type": "code",
      "execution_count": 59,
      "metadata": {
        "colab": {
          "base_uri": "https://localhost:8080/"
        },
        "id": "iataeKbTk4jx",
        "outputId": "87018d8a-f78d-4653-dc61-2d2bd30be12e"
      },
      "outputs": [
        {
          "output_type": "execute_result",
          "data": {
            "text/plain": [
              "array([5, 7, 9])"
            ]
          },
          "metadata": {},
          "execution_count": 59
        }
      ],
      "source": [
        "np.add(x,y)"
      ]
    },
    {
      "cell_type": "code",
      "execution_count": 60,
      "metadata": {
        "colab": {
          "base_uri": "https://localhost:8080/"
        },
        "id": "xALmW-Rck4jx",
        "outputId": "0b1d4ce4-7328-4664-811f-6d51ca96e7ef"
      },
      "outputs": [
        {
          "output_type": "execute_result",
          "data": {
            "text/plain": [
              "array([ 4, 10, 18])"
            ]
          },
          "metadata": {},
          "execution_count": 60
        }
      ],
      "source": [
        "np.multiply(x,y)"
      ]
    },
    {
      "cell_type": "code",
      "execution_count": 61,
      "metadata": {
        "colab": {
          "base_uri": "https://localhost:8080/"
        },
        "id": "Cv0zduZ-k4jx",
        "outputId": "528b38b4-5589-43ea-8ce1-30abc4b7ea7a"
      },
      "outputs": [
        {
          "output_type": "execute_result",
          "data": {
            "text/plain": [
              "array([  1,  32, 729])"
            ]
          },
          "metadata": {},
          "execution_count": 61
        }
      ],
      "source": [
        "np.power(x,y)"
      ]
    },
    {
      "cell_type": "markdown",
      "metadata": {
        "id": "NqfEkL1yk4jx"
      },
      "source": [
        "<br>\n",
        "Veamos las matrices de transposición. La transposición permuta las dimensiones de la matriz."
      ]
    },
    {
      "cell_type": "code",
      "execution_count": 62,
      "metadata": {
        "colab": {
          "base_uri": "https://localhost:8080/"
        },
        "id": "uF_9x7Hqk4jx",
        "outputId": "0dae67cd-e5ee-423a-8f25-790d09440cd7"
      },
      "outputs": [
        {
          "output_type": "execute_result",
          "data": {
            "text/plain": [
              "array([[ 4,  5,  6],\n",
              "       [16, 25, 36]])"
            ]
          },
          "metadata": {},
          "execution_count": 62
        }
      ],
      "source": [
        "z = np.array([y, y**2])\n",
        "z"
      ]
    },
    {
      "cell_type": "markdown",
      "metadata": {
        "id": "x34rHVzTk4jx"
      },
      "source": [
        "<br>La forma de la matriz `z` es` (2,3) `antes de la transposición:"
      ]
    },
    {
      "cell_type": "code",
      "execution_count": 63,
      "metadata": {
        "colab": {
          "base_uri": "https://localhost:8080/"
        },
        "id": "X6S0R1vik4jy",
        "outputId": "f5ffc8fb-d837-4290-c41b-e08e046f078f"
      },
      "outputs": [
        {
          "output_type": "execute_result",
          "data": {
            "text/plain": [
              "(2, 3)"
            ]
          },
          "metadata": {},
          "execution_count": 63
        }
      ],
      "source": [
        "z.shape"
      ]
    },
    {
      "cell_type": "markdown",
      "metadata": {
        "id": "eaYUM5rYk4jy"
      },
      "source": [
        "<br>Usa `.T` para transponer una matriz:"
      ]
    },
    {
      "cell_type": "code",
      "execution_count": 64,
      "metadata": {
        "colab": {
          "base_uri": "https://localhost:8080/"
        },
        "id": "39sw5dt5k4jy",
        "outputId": "e6d55ea7-b413-4375-bae4-789f4a2c6b17"
      },
      "outputs": [
        {
          "output_type": "execute_result",
          "data": {
            "text/plain": [
              "array([[ 4, 16],\n",
              "       [ 5, 25],\n",
              "       [ 6, 36]])"
            ]
          },
          "metadata": {},
          "execution_count": 64
        }
      ],
      "source": [
        "z.T"
      ]
    },
    {
      "cell_type": "markdown",
      "metadata": {
        "id": "SC2E7sdCk4jy"
      },
      "source": [
        "<br>El número de filas se ha intercambiado con el número de columnas."
      ]
    },
    {
      "cell_type": "code",
      "execution_count": 65,
      "metadata": {
        "colab": {
          "base_uri": "https://localhost:8080/"
        },
        "id": "eZ9je1S9k4jy",
        "outputId": "44846214-c516-434b-acd1-68168d9df2df"
      },
      "outputs": [
        {
          "output_type": "execute_result",
          "data": {
            "text/plain": [
              "(3, 2)"
            ]
          },
          "metadata": {},
          "execution_count": 65
        }
      ],
      "source": [
        "z.T.shape"
      ]
    },
    {
      "cell_type": "markdown",
      "metadata": {
        "id": "VwDJRAmPk4jy"
      },
      "source": [
        "Probando la multiplicación dot en matrices (producto matricial)"
      ]
    },
    {
      "cell_type": "code",
      "execution_count": 66,
      "metadata": {
        "colab": {
          "base_uri": "https://localhost:8080/"
        },
        "id": "AwHKCtPmk4jy",
        "outputId": "c75c99bf-f250-4bde-a655-c0df244fa658"
      },
      "outputs": [
        {
          "output_type": "execute_result",
          "data": {
            "text/plain": [
              "array([[  77,  405],\n",
              "       [ 405, 2177]])"
            ]
          },
          "metadata": {},
          "execution_count": 66
        }
      ],
      "source": [
        "np.dot(z,z.T)"
      ]
    },
    {
      "cell_type": "code",
      "execution_count": 67,
      "metadata": {
        "colab": {
          "base_uri": "https://localhost:8080/"
        },
        "id": "-KoS2-nFk4jy",
        "outputId": "d8de68e5-ee68-4ddf-c592-0ef54b29f49e"
      },
      "outputs": [
        {
          "output_type": "execute_result",
          "data": {
            "text/plain": [
              "array([[ 272,  420,  600],\n",
              "       [ 420,  650,  930],\n",
              "       [ 600,  930, 1332]])"
            ]
          },
          "metadata": {},
          "execution_count": 67
        }
      ],
      "source": [
        "np.dot(z.T,z)"
      ]
    },
    {
      "cell_type": "markdown",
      "metadata": {
        "id": "riFpeB-_k4jy"
      },
      "source": [
        "#### Determinante e inversa de una matriz"
      ]
    },
    {
      "cell_type": "code",
      "execution_count": 68,
      "metadata": {
        "colab": {
          "base_uri": "https://localhost:8080/"
        },
        "id": "btAV0y6nk4jy",
        "outputId": "1b9c1b98-4f74-4a42-d782-aa8f6ebc0a26"
      },
      "outputs": [
        {
          "output_type": "execute_result",
          "data": {
            "text/plain": [
              "array([[30, 27, 34, 33],\n",
              "       [12, 40,  3, 42],\n",
              "       [ 5,  0, 11, 34],\n",
              "       [10, 22, 13, 18]])"
            ]
          },
          "metadata": {},
          "execution_count": 68
        }
      ],
      "source": [
        "w = np.random.randint(0, 50, (4,4))\n",
        "w"
      ]
    },
    {
      "cell_type": "code",
      "execution_count": 69,
      "metadata": {
        "colab": {
          "base_uri": "https://localhost:8080/"
        },
        "id": "dWgkY4wck4jz",
        "outputId": "acad36b3-139a-41b2-90d4-f6fd476bee38"
      },
      "outputs": [
        {
          "output_type": "execute_result",
          "data": {
            "text/plain": [
              "-203125.99999999988"
            ]
          },
          "metadata": {},
          "execution_count": 69
        }
      ],
      "source": [
        "#Determinante: sobre matrices cuadradas\n",
        "np.linalg.det(w)"
      ]
    },
    {
      "cell_type": "code",
      "execution_count": 70,
      "metadata": {
        "colab": {
          "base_uri": "https://localhost:8080/"
        },
        "id": "3-I2-SVak4jz",
        "outputId": "bd34ad9f-e0ad-406a-e0bd-41493b403967"
      },
      "outputs": [
        {
          "output_type": "execute_result",
          "data": {
            "text/plain": [
              "array([[ 0.08703957,  0.05345451, -0.04250564, -0.2040113 ],\n",
              "       [-0.02002698,  0.00150153, -0.01804791,  0.06730305],\n",
              "       [-0.02778571, -0.05937202,  0.02510757,  0.14204976],\n",
              "       [-0.00381044,  0.01134764,  0.02753956, -0.01595561]])"
            ]
          },
          "metadata": {},
          "execution_count": 70
        }
      ],
      "source": [
        "#Inversa: sobre matrices cuadradas con determinante diferente de cero\n",
        "np.linalg.inv(w)"
      ]
    },
    {
      "cell_type": "markdown",
      "metadata": {
        "id": "iGV9Lilzk4jz"
      },
      "source": [
        "## Funciones sobre arrays"
      ]
    },
    {
      "cell_type": "markdown",
      "metadata": {
        "id": "nfiIMl98k4jz"
      },
      "source": [
        "*Numpy* tiene muchas funciones matemáticas integradas que se pueden realizar sobre arrays."
      ]
    },
    {
      "cell_type": "code",
      "execution_count": 71,
      "metadata": {
        "colab": {
          "base_uri": "https://localhost:8080/"
        },
        "id": "mPGRvgcRk4jz",
        "outputId": "4b50acb9-3c9f-427f-b685-2cebe94a021a"
      },
      "outputs": [
        {
          "output_type": "execute_result",
          "data": {
            "text/plain": [
              "array([12, 13,  9,  3,  5])"
            ]
          },
          "metadata": {},
          "execution_count": 71
        }
      ],
      "source": [
        "a = np.array([12, 13, 9, 3, 5])\n",
        "a"
      ]
    },
    {
      "cell_type": "code",
      "execution_count": 72,
      "metadata": {
        "colab": {
          "base_uri": "https://localhost:8080/"
        },
        "id": "TjrIRnFSk4jz",
        "outputId": "2d6da404-1e45-4cab-9d52-ae7bff829162"
      },
      "outputs": [
        {
          "output_type": "execute_result",
          "data": {
            "text/plain": [
              "42"
            ]
          },
          "metadata": {},
          "execution_count": 72
        }
      ],
      "source": [
        "a.sum()  #suma"
      ]
    },
    {
      "cell_type": "code",
      "execution_count": 73,
      "metadata": {
        "colab": {
          "base_uri": "https://localhost:8080/"
        },
        "id": "IFUiheiAk4jz",
        "outputId": "6392ee77-568f-4fc6-eaa4-977316d338af"
      },
      "outputs": [
        {
          "output_type": "execute_result",
          "data": {
            "text/plain": [
              "42"
            ]
          },
          "metadata": {},
          "execution_count": 73
        }
      ],
      "source": [
        "# alternativamente\n",
        "np.sum(a)"
      ]
    },
    {
      "cell_type": "code",
      "execution_count": 74,
      "metadata": {
        "colab": {
          "base_uri": "https://localhost:8080/"
        },
        "id": "bLJqREr7k4jz",
        "outputId": "e5b87af9-8f6e-4c7c-9529-4b71fa0143fb"
      },
      "outputs": [
        {
          "output_type": "execute_result",
          "data": {
            "text/plain": [
              "21060"
            ]
          },
          "metadata": {},
          "execution_count": 74
        }
      ],
      "source": [
        "a.prod()  #productoria"
      ]
    },
    {
      "cell_type": "code",
      "execution_count": 75,
      "metadata": {
        "colab": {
          "base_uri": "https://localhost:8080/"
        },
        "id": "f6cYirzik4jz",
        "outputId": "bebc9069-ee81-4954-d35f-a4ee9362d43b"
      },
      "outputs": [
        {
          "output_type": "execute_result",
          "data": {
            "text/plain": [
              "13"
            ]
          },
          "metadata": {},
          "execution_count": 75
        }
      ],
      "source": [
        "a.max()  #maximo"
      ]
    },
    {
      "cell_type": "code",
      "execution_count": 76,
      "metadata": {
        "colab": {
          "base_uri": "https://localhost:8080/"
        },
        "id": "C4DU0GcRk4jz",
        "outputId": "a1f5c2e3-35df-44e9-b65d-3f1ff1a327db"
      },
      "outputs": [
        {
          "output_type": "execute_result",
          "data": {
            "text/plain": [
              "3"
            ]
          },
          "metadata": {},
          "execution_count": 76
        }
      ],
      "source": [
        "a.min()  #mínimo"
      ]
    },
    {
      "cell_type": "code",
      "execution_count": 77,
      "metadata": {
        "colab": {
          "base_uri": "https://localhost:8080/"
        },
        "id": "yJEIDHcVk4j0",
        "outputId": "d97ec029-fd66-4416-f831-56b690787396"
      },
      "outputs": [
        {
          "output_type": "execute_result",
          "data": {
            "text/plain": [
              "8.4"
            ]
          },
          "metadata": {},
          "execution_count": 77
        }
      ],
      "source": [
        "a.mean()  #promedio"
      ]
    },
    {
      "cell_type": "code",
      "execution_count": 78,
      "metadata": {
        "colab": {
          "base_uri": "https://localhost:8080/"
        },
        "id": "JFU0IiCak4j0",
        "outputId": "0b0ed56d-527d-479b-85de-3ef60e69ff17"
      },
      "outputs": [
        {
          "output_type": "execute_result",
          "data": {
            "text/plain": [
              "9.0"
            ]
          },
          "metadata": {},
          "execution_count": 78
        }
      ],
      "source": [
        "np.median(a)  #mediana"
      ]
    },
    {
      "cell_type": "code",
      "execution_count": 79,
      "metadata": {
        "colab": {
          "base_uri": "https://localhost:8080/"
        },
        "id": "a6bvg2Ywk4j0",
        "outputId": "6479cdce-5686-4f59-e76c-316f8e5ba258"
      },
      "outputs": [
        {
          "output_type": "execute_result",
          "data": {
            "text/plain": [
              "3.878143885933063"
            ]
          },
          "metadata": {},
          "execution_count": 79
        }
      ],
      "source": [
        "a.std()   #desviación estándar"
      ]
    },
    {
      "cell_type": "markdown",
      "metadata": {
        "id": "ErdC1jQ6k4j0"
      },
      "source": [
        "<br>`argmax` y` argmin` devuelven el índice del valor máximo y mínimo en la matriz:"
      ]
    },
    {
      "cell_type": "code",
      "execution_count": 80,
      "metadata": {
        "colab": {
          "base_uri": "https://localhost:8080/"
        },
        "id": "HS1_nETak4j0",
        "outputId": "4c863c47-11c4-45b7-837e-86c418d8dabf"
      },
      "outputs": [
        {
          "output_type": "execute_result",
          "data": {
            "text/plain": [
              "1"
            ]
          },
          "metadata": {},
          "execution_count": 80
        }
      ],
      "source": [
        "a.argmax()"
      ]
    },
    {
      "cell_type": "code",
      "execution_count": 81,
      "metadata": {
        "colab": {
          "base_uri": "https://localhost:8080/"
        },
        "id": "YcFPOvVsk4j0",
        "outputId": "63b7d86d-0ebd-4f71-ef18-05b4e207143a"
      },
      "outputs": [
        {
          "output_type": "execute_result",
          "data": {
            "text/plain": [
              "3"
            ]
          },
          "metadata": {},
          "execution_count": 81
        }
      ],
      "source": [
        "a.argmin()"
      ]
    },
    {
      "cell_type": "markdown",
      "metadata": {
        "id": "5H_4dm_Lk4j0"
      },
      "source": [
        "Otras funciones:"
      ]
    },
    {
      "cell_type": "code",
      "execution_count": 82,
      "metadata": {
        "colab": {
          "base_uri": "https://localhost:8080/"
        },
        "id": "ZCmlM_ZHk4j0",
        "outputId": "95a481de-93e0-44d4-f29e-61bef551b984"
      },
      "outputs": [
        {
          "output_type": "execute_result",
          "data": {
            "text/plain": [
              "array([1.62754791e+05, 4.42413392e+05, 8.10308393e+03, 2.00855369e+01,\n",
              "       1.48413159e+02])"
            ]
          },
          "metadata": {},
          "execution_count": 82
        }
      ],
      "source": [
        "np.exp(a)"
      ]
    },
    {
      "cell_type": "code",
      "execution_count": 83,
      "metadata": {
        "colab": {
          "base_uri": "https://localhost:8080/"
        },
        "id": "3ZcgODavk4j0",
        "outputId": "440ddbd8-a7d1-4aa8-dfa7-a493f280c4ac"
      },
      "outputs": [
        {
          "output_type": "execute_result",
          "data": {
            "text/plain": [
              "array([2.48490665, 2.56494936, 2.19722458, 1.09861229, 1.60943791])"
            ]
          },
          "metadata": {},
          "execution_count": 83
        }
      ],
      "source": [
        "np.log(a)"
      ]
    },
    {
      "cell_type": "code",
      "execution_count": 84,
      "metadata": {
        "colab": {
          "base_uri": "https://localhost:8080/"
        },
        "id": "FDEUqSD0k4j0",
        "outputId": "0231f685-ca00-43c3-c33d-6f7b72e7f301"
      },
      "outputs": [
        {
          "output_type": "execute_result",
          "data": {
            "text/plain": [
              "array([3.46410162, 3.60555128, 3.        , 1.73205081, 2.23606798])"
            ]
          },
          "metadata": {},
          "execution_count": 84
        }
      ],
      "source": [
        "np.sqrt(a)"
      ]
    },
    {
      "cell_type": "markdown",
      "metadata": {
        "id": "X0lvIh2fk4j0"
      },
      "source": [
        "## Indexar/Seleccionar elementos"
      ]
    },
    {
      "cell_type": "code",
      "execution_count": 85,
      "metadata": {
        "colab": {
          "base_uri": "https://localhost:8080/"
        },
        "id": "EvzFOFS1k4j1",
        "outputId": "9af66b5b-bf4f-4b42-c2d3-f8c0a84c3f7e"
      },
      "outputs": [
        {
          "output_type": "execute_result",
          "data": {
            "text/plain": [
              "array([  0,   1,   4,   9,  16,  25,  36,  49,  64,  81, 100, 121, 144])"
            ]
          },
          "metadata": {},
          "execution_count": 85
        }
      ],
      "source": [
        "s = np.arange(13)**2\n",
        "s"
      ]
    },
    {
      "cell_type": "markdown",
      "metadata": {
        "id": "qrLBAR9gk4j1"
      },
      "source": [
        "Usa la notación de corchetes para obtener el valor de un índice específico. Recuerda que la indexación comienza en 0:"
      ]
    },
    {
      "cell_type": "code",
      "execution_count": 86,
      "metadata": {
        "colab": {
          "base_uri": "https://localhost:8080/"
        },
        "id": "Pv54jGj2k4j1",
        "outputId": "b5436e1c-96f5-416a-a33f-ca6680813650"
      },
      "outputs": [
        {
          "output_type": "execute_result",
          "data": {
            "text/plain": [
              "(0, 16, 144)"
            ]
          },
          "metadata": {},
          "execution_count": 86
        }
      ],
      "source": [
        "s[0], s[4], s[-1]"
      ]
    },
    {
      "cell_type": "markdown",
      "metadata": {
        "id": "9zyZbrh_k4j1"
      },
      "source": [
        "<br>Usa `:` para indicar un rango. `array[start:stop]`\n",
        "\n",
        "\n",
        "Si se deja vacío `start` o `stop`, el inicio/final de la matriz será predeterminado:"
      ]
    },
    {
      "cell_type": "code",
      "execution_count": 87,
      "metadata": {
        "colab": {
          "base_uri": "https://localhost:8080/"
        },
        "id": "m7zegJZUk4j1",
        "outputId": "ab1a520c-759d-4094-b74a-6e27af80753e"
      },
      "outputs": [
        {
          "output_type": "execute_result",
          "data": {
            "text/plain": [
              "array([ 1,  4,  9, 16])"
            ]
          },
          "metadata": {},
          "execution_count": 87
        }
      ],
      "source": [
        "s[1:5]"
      ]
    },
    {
      "cell_type": "markdown",
      "metadata": {
        "id": "BpZG7-Cak4j1"
      },
      "source": [
        "<br>\n",
        "Usa negativos para contar desde el final:"
      ]
    },
    {
      "cell_type": "code",
      "execution_count": 88,
      "metadata": {
        "colab": {
          "base_uri": "https://localhost:8080/"
        },
        "id": "NEWrOjbnk4j1",
        "outputId": "35e9deca-234f-4468-c6a4-577c424f73a5"
      },
      "outputs": [
        {
          "output_type": "execute_result",
          "data": {
            "text/plain": [
              "array([ 81, 100, 121, 144])"
            ]
          },
          "metadata": {},
          "execution_count": 88
        }
      ],
      "source": [
        "s[-4:]"
      ]
    },
    {
      "cell_type": "markdown",
      "metadata": {
        "id": "Vq2AZfnvk4j1"
      },
      "source": [
        "<br>Se puede usar un segundo símbolo `:` para indicar la magnitud del paso en el que se van a tomar los elmentos: `array[start:stop:stepsize]`\n",
        "\n",
        "Aquí estamos comenzando en el quinto elemento desde el final, y contando en 2 hacia atrás hasta llegar al comienzo de la matriz:"
      ]
    },
    {
      "cell_type": "code",
      "execution_count": 90,
      "metadata": {
        "colab": {
          "base_uri": "https://localhost:8080/"
        },
        "id": "ITaYYseQk4j1",
        "outputId": "2e04cbdf-1642-42a1-e24b-44a4004f5dad"
      },
      "outputs": [
        {
          "output_type": "execute_result",
          "data": {
            "text/plain": [
              "array([64, 36, 16,  4,  0])"
            ]
          },
          "metadata": {},
          "execution_count": 90
        }
      ],
      "source": [
        "s[-5::-2]"
      ]
    },
    {
      "cell_type": "code",
      "execution_count": 91,
      "metadata": {
        "colab": {
          "base_uri": "https://localhost:8080/"
        },
        "id": "AFw2ulrek4j1",
        "outputId": "295a3fdf-5a9e-4f99-ed01-43bc14e33c7b"
      },
      "outputs": [
        {
          "output_type": "execute_result",
          "data": {
            "text/plain": [
              "array([ 64, 100, 144])"
            ]
          },
          "metadata": {},
          "execution_count": 91
        }
      ],
      "source": [
        "s[-5::2]"
      ]
    },
    {
      "cell_type": "markdown",
      "metadata": {
        "id": "ZBwm3VOIk4j2"
      },
      "source": [
        "<br> **Para matrices:** Usa la notación de paréntesis para dividir: `matriz [fila, columna]`"
      ]
    },
    {
      "cell_type": "code",
      "execution_count": 92,
      "metadata": {
        "colab": {
          "base_uri": "https://localhost:8080/"
        },
        "id": "lwTfv-tAk4j2",
        "outputId": "77c58c9e-5e9d-43fb-acdf-6e4417a2a2ae"
      },
      "outputs": [
        {
          "output_type": "execute_result",
          "data": {
            "text/plain": [
              "array([[36, 15, 43, 27, 44, 30,  6, 45, 26, 16],\n",
              "       [ 6, 14, 39, 11,  7,  1, 43, 37, 25, 20],\n",
              "       [49, 12, 18, 17,  1, 44, 41, 48, 27, 49],\n",
              "       [22,  3,  3, 11, 21, 25, 39, 41, 34,  3],\n",
              "       [11,  3, 30,  6,  9, 23, 14, 38, 19,  6],\n",
              "       [12, 27, 38, 17, 46, 10, 35, 35,  1, 47],\n",
              "       [45, 16,  5, 40, 45, 22, 46, 15, 40, 25],\n",
              "       [45, 49,  0, 35, 29,  1, 19,  4, 30,  7],\n",
              "       [29, 38,  1, 12,  3, 44,  7, 38, 24,  6],\n",
              "       [13, 28, 44, 20, 36, 48, 32, 40, 24, 45]])"
            ]
          },
          "metadata": {},
          "execution_count": 92
        }
      ],
      "source": [
        "r = np.random.randint(0, 50, (10,10))\n",
        "r"
      ]
    },
    {
      "cell_type": "code",
      "execution_count": 93,
      "metadata": {
        "colab": {
          "base_uri": "https://localhost:8080/"
        },
        "id": "XY8F0V0vk4j2",
        "outputId": "162e1435-438c-4052-e117-7a4ee57abc57"
      },
      "outputs": [
        {
          "output_type": "execute_result",
          "data": {
            "text/plain": [
              "18"
            ]
          },
          "metadata": {},
          "execution_count": 93
        }
      ],
      "source": [
        "r[2, 2]"
      ]
    },
    {
      "cell_type": "markdown",
      "metadata": {
        "id": "BFvaDkXwk4j2"
      },
      "source": [
        "<br>Y usa `:` para seleccionar un rango de filas o columnas. ¡Ten en cuenta que el índice 6 no existe!"
      ]
    },
    {
      "cell_type": "code",
      "execution_count": 94,
      "metadata": {
        "colab": {
          "base_uri": "https://localhost:8080/"
        },
        "id": "-wYtPU_mk4j2",
        "outputId": "126d8390-2708-4fb8-8e1c-9ef5826ca038"
      },
      "outputs": [
        {
          "output_type": "execute_result",
          "data": {
            "text/plain": [
              "array([11, 21, 25])"
            ]
          },
          "metadata": {},
          "execution_count": 94
        }
      ],
      "source": [
        "r[3, 3:6]"
      ]
    },
    {
      "cell_type": "code",
      "execution_count": 95,
      "metadata": {
        "colab": {
          "base_uri": "https://localhost:8080/"
        },
        "id": "WM7YI4kGk4j2",
        "outputId": "a9b4297d-9434-4361-8788-82c1339b7937"
      },
      "outputs": [
        {
          "output_type": "execute_result",
          "data": {
            "text/plain": [
              "array([[36, 15, 43],\n",
              "       [ 6, 14, 39]])"
            ]
          },
          "metadata": {},
          "execution_count": 95
        }
      ],
      "source": [
        "r[0:2,0:3]"
      ]
    },
    {
      "cell_type": "code",
      "execution_count": 96,
      "metadata": {
        "colab": {
          "base_uri": "https://localhost:8080/"
        },
        "id": "qPpqe-EZk4j2",
        "outputId": "b5fa9c82-0fe3-4e63-d6ef-9bebd57cf140"
      },
      "outputs": [
        {
          "output_type": "execute_result",
          "data": {
            "text/plain": [
              "array([[39, 11,  7,  1, 43, 37, 25, 20]])"
            ]
          },
          "metadata": {},
          "execution_count": 96
        }
      ],
      "source": [
        "r[1:2, 2:]"
      ]
    },
    {
      "cell_type": "markdown",
      "metadata": {
        "id": "RhAdF9SBk4j2"
      },
      "source": [
        "<br>Aquí estamos seleccionando todas las filas hasta (y sin incluir) la fila 2, y todas las columnas hasta (y sin incluir) la última columna:"
      ]
    },
    {
      "cell_type": "code",
      "execution_count": 97,
      "metadata": {
        "colab": {
          "base_uri": "https://localhost:8080/"
        },
        "id": "Z9OYhqyXk4j2",
        "outputId": "c7eb1b41-78ff-4d13-a723-a28936dd724e"
      },
      "outputs": [
        {
          "output_type": "execute_result",
          "data": {
            "text/plain": [
              "array([[36, 15, 43, 27, 44, 30,  6, 45, 26],\n",
              "       [ 6, 14, 39, 11,  7,  1, 43, 37, 25]])"
            ]
          },
          "metadata": {},
          "execution_count": 97
        }
      ],
      "source": [
        "r[:2, :-1]"
      ]
    },
    {
      "cell_type": "code",
      "execution_count": 98,
      "metadata": {
        "colab": {
          "base_uri": "https://localhost:8080/"
        },
        "id": "x7Fq29Iek4j2",
        "outputId": "5719cd5f-e986-42e3-d733-16e3ae3a2681"
      },
      "outputs": [
        {
          "output_type": "execute_result",
          "data": {
            "text/plain": [
              "array([[36, 15, 43, 27, 44, 30,  6, 45, 26],\n",
              "       [ 6, 14, 39, 11,  7,  1, 43, 37, 25]])"
            ]
          },
          "metadata": {},
          "execution_count": 98
        }
      ],
      "source": [
        "r[0:2, 0:-1]"
      ]
    },
    {
      "cell_type": "markdown",
      "metadata": {
        "id": "EHkW1l5pk4j3"
      },
      "source": [
        "\n",
        "\n",
        "Esta es una porción de la última fila, y solo los elementos pares:"
      ]
    },
    {
      "cell_type": "code",
      "execution_count": 99,
      "metadata": {
        "colab": {
          "base_uri": "https://localhost:8080/"
        },
        "id": "2GPKhaiEk4j3",
        "outputId": "ef2eb284-a086-47a2-8c4c-709af4ef04bd"
      },
      "outputs": [
        {
          "output_type": "execute_result",
          "data": {
            "text/plain": [
              "array([13, 44, 36, 32, 24])"
            ]
          },
          "metadata": {},
          "execution_count": 99
        }
      ],
      "source": [
        "r[-1, ::2]"
      ]
    },
    {
      "cell_type": "markdown",
      "metadata": {
        "id": "9a685faqk4j3"
      },
      "source": [
        "<br>También podemos realizar indexación condicional. Aquí estamos seleccionando valores de la matriz que son mayores que 30:"
      ]
    },
    {
      "cell_type": "code",
      "execution_count": 100,
      "metadata": {
        "colab": {
          "base_uri": "https://localhost:8080/"
        },
        "id": "IwddZ5kgk4j3",
        "outputId": "dee660ac-79f7-493c-bcf5-764e01295b46"
      },
      "outputs": [
        {
          "output_type": "execute_result",
          "data": {
            "text/plain": [
              "array([36, 43, 44, 30, 45, 39, 43, 37, 49, 44, 41, 48, 49, 39, 41, 34, 30,\n",
              "       38, 38, 46, 35, 35, 47, 45, 40, 45, 46, 40, 45, 49, 35, 29, 30, 29,\n",
              "       38, 44, 38, 44, 36, 48, 32, 40, 45])"
            ]
          },
          "metadata": {},
          "execution_count": 100
        }
      ],
      "source": [
        "r[r > 28]"
      ]
    },
    {
      "cell_type": "markdown",
      "metadata": {
        "id": "zADSi1DZk4j3"
      },
      "source": [
        "<br>Aquí estamos asignando el valor 30 a todos los valores de la matriz que son mayores que 30."
      ]
    },
    {
      "cell_type": "code",
      "execution_count": 101,
      "metadata": {
        "colab": {
          "base_uri": "https://localhost:8080/"
        },
        "id": "Cy78i46gk4j3",
        "outputId": "e1feb41a-a8c2-4de3-8c00-03a91b90e64a"
      },
      "outputs": [
        {
          "output_type": "execute_result",
          "data": {
            "text/plain": [
              "array([[30, 15, 30, 27, 30, 30,  6, 30, 26, 16],\n",
              "       [ 6, 14, 30, 11,  7,  1, 30, 30, 25, 20],\n",
              "       [30, 12, 18, 17,  1, 30, 30, 30, 27, 30],\n",
              "       [22,  3,  3, 11, 21, 25, 30, 30, 30,  3],\n",
              "       [11,  3, 30,  6,  9, 23, 14, 30, 19,  6],\n",
              "       [12, 27, 30, 17, 30, 10, 30, 30,  1, 30],\n",
              "       [30, 16,  5, 30, 30, 22, 30, 15, 30, 25],\n",
              "       [30, 30,  0, 30, 29,  1, 19,  4, 30,  7],\n",
              "       [29, 30,  1, 12,  3, 30,  7, 30, 24,  6],\n",
              "       [13, 28, 30, 20, 30, 30, 30, 30, 24, 30]])"
            ]
          },
          "metadata": {},
          "execution_count": 101
        }
      ],
      "source": [
        "r[r > 30] = 30\n",
        "r"
      ]
    },
    {
      "cell_type": "markdown",
      "metadata": {
        "id": "_bUlciFVk4j3"
      },
      "source": [
        "### Slicing"
      ]
    },
    {
      "cell_type": "code",
      "execution_count": 102,
      "metadata": {
        "colab": {
          "base_uri": "https://localhost:8080/"
        },
        "id": "wjZMSwyHk4j3",
        "outputId": "b66d45d6-9b46-4019-daae-413b9087ea73"
      },
      "outputs": [
        {
          "output_type": "execute_result",
          "data": {
            "text/plain": [
              "array([2, 3])"
            ]
          },
          "metadata": {},
          "execution_count": 102
        }
      ],
      "source": [
        "x = np.array([1,2,3])\n",
        "x[1:]"
      ]
    },
    {
      "cell_type": "code",
      "execution_count": 103,
      "metadata": {
        "colab": {
          "base_uri": "https://localhost:8080/"
        },
        "id": "Nuck6_Qyk4j3",
        "outputId": "69405f2d-c438-49b0-9077-fe82ae3d3e3a"
      },
      "outputs": [
        {
          "output_type": "execute_result",
          "data": {
            "text/plain": [
              "array([[30, 11,  7,  1, 30, 30, 25, 20]])"
            ]
          },
          "metadata": {},
          "execution_count": 103
        }
      ],
      "source": [
        "r[1:2, 2:]"
      ]
    },
    {
      "cell_type": "code",
      "execution_count": 104,
      "metadata": {
        "colab": {
          "base_uri": "https://localhost:8080/"
        },
        "id": "XrpWbtcNk4j3",
        "outputId": "c255f58c-ffb9-4d15-91cc-16cd769ec165"
      },
      "outputs": [
        {
          "output_type": "execute_result",
          "data": {
            "text/plain": [
              "array([[30, 15, 30],\n",
              "       [ 6, 14, 30]])"
            ]
          },
          "metadata": {},
          "execution_count": 104
        }
      ],
      "source": [
        "r[0:2,0:3]"
      ]
    },
    {
      "cell_type": "code",
      "execution_count": 105,
      "metadata": {
        "colab": {
          "base_uri": "https://localhost:8080/"
        },
        "id": "h7DAHfjTk4j3",
        "outputId": "d98bb5eb-8a1f-4b0a-a541-5936a69cb8d1"
      },
      "outputs": [
        {
          "output_type": "execute_result",
          "data": {
            "text/plain": [
              "array([[ True, False,  True,  True,  True,  True, False,  True,  True,\n",
              "        False],\n",
              "       [False, False,  True, False, False, False,  True,  True, False,\n",
              "        False],\n",
              "       [ True, False, False, False, False,  True,  True,  True,  True,\n",
              "         True],\n",
              "       [False, False, False, False, False, False,  True,  True,  True,\n",
              "        False],\n",
              "       [False, False,  True, False, False, False, False,  True, False,\n",
              "        False],\n",
              "       [False,  True,  True, False,  True, False,  True,  True, False,\n",
              "         True],\n",
              "       [ True, False, False,  True,  True, False,  True, False,  True,\n",
              "        False],\n",
              "       [ True,  True, False,  True,  True, False, False, False,  True,\n",
              "        False],\n",
              "       [ True,  True, False, False, False,  True, False,  True, False,\n",
              "        False],\n",
              "       [False,  True,  True, False,  True,  True,  True,  True, False,\n",
              "         True]])"
            ]
          },
          "metadata": {},
          "execution_count": 105
        }
      ],
      "source": [
        "# Numpy permite crear máscaras fácilmente usando condiciones booleanas\n",
        "r>25"
      ]
    },
    {
      "cell_type": "code",
      "execution_count": 106,
      "metadata": {
        "colab": {
          "base_uri": "https://localhost:8080/"
        },
        "id": "5SjaJp_Tk4j4",
        "outputId": "1531cd90-3f48-4b67-b972-0b2ee2bcddf8"
      },
      "outputs": [
        {
          "output_type": "execute_result",
          "data": {
            "text/plain": [
              "array([30, 30, 27, 30, 30, 30, 26, 30, 30, 30, 30, 30, 30, 30, 27, 30, 30,\n",
              "       30, 30, 30, 30, 27, 30, 30, 30, 30, 30, 30, 30, 30, 30, 30, 30, 30,\n",
              "       30, 29, 30, 29, 30, 30, 30, 28, 30, 30, 30, 30, 30, 30])"
            ]
          },
          "metadata": {},
          "execution_count": 106
        }
      ],
      "source": [
        "# Extraer los valores de x que satisfacen la condición booleana. Para ello usamos la máscara\n",
        "r[r>25]"
      ]
    },
    {
      "cell_type": "code",
      "execution_count": 107,
      "metadata": {
        "colab": {
          "base_uri": "https://localhost:8080/"
        },
        "id": "gvigHuhDk4j4",
        "outputId": "fc70dade-c69f-4164-82f1-63eadd784c31"
      },
      "outputs": [
        {
          "output_type": "execute_result",
          "data": {
            "text/plain": [
              "array([213, 178, 177, 181, 190, 202, 226, 259, 236, 173])"
            ]
          },
          "metadata": {},
          "execution_count": 107
        }
      ],
      "source": [
        "# Sumar los valores de un arreglo 2D a lo largo del eje Y (columnas)\n",
        "np.sum(r, axis=0)"
      ]
    },
    {
      "cell_type": "code",
      "execution_count": 108,
      "metadata": {
        "colab": {
          "base_uri": "https://localhost:8080/"
        },
        "id": "YOpN-T25k4j4",
        "outputId": "01b0bd9e-803d-4bc2-da06-ef490eb6d84a"
      },
      "outputs": [
        {
          "output_type": "execute_result",
          "data": {
            "text/plain": [
              "array([240, 174, 225, 178, 151, 217, 233, 180, 172, 265])"
            ]
          },
          "metadata": {},
          "execution_count": 108
        }
      ],
      "source": [
        "# Sumar los valores de un arrego 2D a lo largo del eje X (filas)\n",
        "np.sum(r, axis=1)"
      ]
    },
    {
      "cell_type": "markdown",
      "metadata": {
        "id": "WLyfB60yk4j4"
      },
      "source": [
        "### Copiando arrays"
      ]
    },
    {
      "cell_type": "markdown",
      "metadata": {
        "id": "9V61FHssk4j4"
      },
      "source": [
        "<br>Para evitar esto, use `r.copy` para crear una copia que no afecte la matriz original:"
      ]
    },
    {
      "cell_type": "code",
      "execution_count": 109,
      "metadata": {
        "colab": {
          "base_uri": "https://localhost:8080/"
        },
        "id": "NpuV0G2Uk4j4",
        "outputId": "70806f7c-bcfe-4d34-f5ad-24eee53d8387"
      },
      "outputs": [
        {
          "output_type": "execute_result",
          "data": {
            "text/plain": [
              "array([[30, 15, 30, 27, 30, 30,  6, 30, 26, 16],\n",
              "       [ 6, 14, 30, 11,  7,  1, 30, 30, 25, 20],\n",
              "       [30, 12, 18, 17,  1, 30, 30, 30, 27, 30],\n",
              "       [22,  3,  3, 11, 21, 25, 30, 30, 30,  3],\n",
              "       [11,  3, 30,  6,  9, 23, 14, 30, 19,  6],\n",
              "       [12, 27, 30, 17, 30, 10, 30, 30,  1, 30],\n",
              "       [30, 16,  5, 30, 30, 22, 30, 15, 30, 25],\n",
              "       [30, 30,  0, 30, 29,  1, 19,  4, 30,  7],\n",
              "       [29, 30,  1, 12,  3, 30,  7, 30, 24,  6],\n",
              "       [13, 28, 30, 20, 30, 30, 30, 30, 24, 30]])"
            ]
          },
          "metadata": {},
          "execution_count": 109
        }
      ],
      "source": [
        "copia_r = r.copy()\n",
        "copia_r"
      ]
    },
    {
      "cell_type": "markdown",
      "metadata": {
        "id": "QxAj_PDtk4j4"
      },
      "source": [
        "### Iterando sobre matrices"
      ]
    },
    {
      "cell_type": "markdown",
      "metadata": {
        "id": "OHXWXmEDk4j4"
      },
      "source": [
        "Creamos una nueva matriz de 4 por 3 con números aleatorios de 0-9:"
      ]
    },
    {
      "cell_type": "code",
      "execution_count": 110,
      "metadata": {
        "colab": {
          "base_uri": "https://localhost:8080/"
        },
        "id": "wvis0krYk4j4",
        "outputId": "8e28d505-0e98-43ee-c0fe-a66ddec5a8c6"
      },
      "outputs": [
        {
          "output_type": "execute_result",
          "data": {
            "text/plain": [
              "array([[ 77,   8, 206],\n",
              "       [390,  65, 222],\n",
              "       [198, 552, 887],\n",
              "       [970,  76, 460]])"
            ]
          },
          "metadata": {},
          "execution_count": 110
        }
      ],
      "source": [
        "test = np.random.randint(0, 1000, (4,3))\n",
        "test"
      ]
    },
    {
      "cell_type": "markdown",
      "metadata": {
        "id": "bEKsO7uok4j5"
      },
      "source": [
        "Iterar por fila:"
      ]
    },
    {
      "cell_type": "code",
      "execution_count": 111,
      "metadata": {
        "colab": {
          "base_uri": "https://localhost:8080/"
        },
        "id": "FZs1ZaHlk4j5",
        "outputId": "f3883edb-4434-47d1-a6d2-5cb0ea0c973d"
      },
      "outputs": [
        {
          "output_type": "stream",
          "name": "stdout",
          "text": [
            "[ 77   8 206]\n",
            "[390  65 222]\n",
            "[198 552 887]\n",
            "[970  76 460]\n"
          ]
        }
      ],
      "source": [
        "for row in test:\n",
        "    print(row)"
      ]
    },
    {
      "cell_type": "markdown",
      "metadata": {
        "id": "7Pzh8u9Ik4j5"
      },
      "source": [
        "\n",
        "\n",
        "Iterar por índice y por fila con **enumerate**:"
      ]
    },
    {
      "cell_type": "code",
      "execution_count": 112,
      "metadata": {
        "colab": {
          "base_uri": "https://localhost:8080/"
        },
        "id": "nNqIA5Agk4j5",
        "outputId": "ae65a500-91e0-4b10-acd7-96c13ebbfeb7"
      },
      "outputs": [
        {
          "output_type": "stream",
          "name": "stdout",
          "text": [
            "row 0 is [ 77   8 206]\n",
            "row 1 is [390  65 222]\n",
            "row 2 is [198 552 887]\n",
            "row 3 is [970  76 460]\n"
          ]
        }
      ],
      "source": [
        "for i, row in enumerate(test):\n",
        "    print('row', i, 'is', row)"
      ]
    },
    {
      "cell_type": "markdown",
      "metadata": {
        "id": "YhCZ34Bik4j5"
      },
      "source": [
        "## Filtros en Arrays\n",
        "\n",
        "Suponga que desea tomar el valor de una matriz `X` cuando el valor correspondiente en una condición es True, y de lo contrario tome el valor de la matriz `Y`. Dentro de *Numpy* hay una función llamada **np.where** que resuelve la situación anterior.\n",
        "\n",
        "```python\n",
        "result = np.where(cond, xarr, yarr)\n",
        "```"
      ]
    },
    {
      "cell_type": "code",
      "execution_count": 113,
      "metadata": {
        "colab": {
          "base_uri": "https://localhost:8080/"
        },
        "id": "xG5YmnNgk4j5",
        "outputId": "5786c005-5341-4d68-f63c-0ed269ae5b05"
      },
      "outputs": [
        {
          "output_type": "execute_result",
          "data": {
            "text/plain": [
              "array([1.1, 2.2, 1.3, 1.4, 2.5])"
            ]
          },
          "metadata": {},
          "execution_count": 113
        }
      ],
      "source": [
        "xarr = np.array([1.1, 1.2, 1.3, 1.4, 1.5])\n",
        "yarr = np.array([2.1, 2.2, 2.3, 2.4, 2.5])\n",
        "cond = np.array([True, False, True, True, False])\n",
        "np.where(cond,xarr,yarr)"
      ]
    },
    {
      "cell_type": "code",
      "execution_count": 114,
      "metadata": {
        "colab": {
          "base_uri": "https://localhost:8080/"
        },
        "id": "PKAAhUH6k4j5",
        "outputId": "c5725a4b-4b23-460b-eb2a-4aa0401ad6c2"
      },
      "outputs": [
        {
          "output_type": "execute_result",
          "data": {
            "text/plain": [
              "array([1, 1, 1, 0, 0])"
            ]
          },
          "metadata": {},
          "execution_count": 114
        }
      ],
      "source": [
        "np.where(xarr>1.3,0,1)"
      ]
    }
  ],
  "metadata": {
    "kernelspec": {
      "display_name": "Python 3",
      "language": "python",
      "name": "python3"
    },
    "language_info": {
      "codemirror_mode": {
        "name": "ipython",
        "version": 3
      },
      "file_extension": ".py",
      "mimetype": "text/x-python",
      "name": "python",
      "nbconvert_exporter": "python",
      "pygments_lexer": "ipython3",
      "version": "3.7.5"
    },
    "colab": {
      "provenance": []
    }
  },
  "nbformat": 4,
  "nbformat_minor": 0
}
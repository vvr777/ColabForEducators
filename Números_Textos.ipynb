{
  "nbformat": 4,
  "nbformat_minor": 0,
  "metadata": {
    "colab": {
      "provenance": []
    },
    "kernelspec": {
      "name": "python3",
      "display_name": "Python 3"
    },
    "language_info": {
      "name": "python"
    }
  },
  "cells": [
    {
      "cell_type": "markdown",
      "source": [
        "## **MANIPULACIÓN DE NÚMEROS Y TEXTOS**"
      ],
      "metadata": {
        "id": "3GUwlZrwlY0Q"
      }
    },
    {
      "cell_type": "markdown",
      "source": [
        "### <font color=\"steelblue\">Contenidos:</font>\n",
        "1. Elementos básicos en Python\n",
        "1. Cálculos básicos con Python\n",
        "1. Cadenas de texto\n",
        "1. Variables\n",
        "1. Salidas por pantalla: print()\n",
        "1. Indexar cadenas\n",
        "1. Seccionar cadenas\n",
        "1. Ejercicio\n"
      ],
      "metadata": {
        "id": "LM2ZUu31V9HS"
      }
    },
    {
      "cell_type": "markdown",
      "source": [
        "## <font color='steelblue'>1. Elementos básicos en Python</font>\n"
      ],
      "metadata": {
        "id": "SesRoXZfZ7q9"
      }
    },
    {
      "cell_type": "markdown",
      "source": [
        "Python es un lenguaje de programación relativamente fácil de aprender, y desde ya trabajaremos interaccionando con código para hacer crecer tus destrezas en programación.\n",
        "\n",
        "Vamos a escribir y ejecutar un programa muy sencillo en el que damos la bienvenida al curso. Edita el código a continuación e incluye, en los puntos suspensivos, tu nombre y la fecha de hoy. A continuación ejecútalo."
      ],
      "metadata": {
        "id": "flfy4Wmmxsaw"
      }
    },
    {
      "cell_type": "code",
      "source": [
        "# sustituye los puntos suspensivos por tu nombre\n",
        "print(\"Hola mundo, soy ....\")\n",
        "# sustituye los puntos suspensivos por la fecha de hoy (día, mes y año)\n",
        "print(\"Hoy es .. de .... de ... e inicio mi aventura.\")"
      ],
      "metadata": {
        "colab": {
          "base_uri": "https://localhost:8080/"
        },
        "id": "Kc66jwnWxvBj",
        "outputId": "180956ed-ff7a-498e-c885-b2fd9c4ce7de"
      },
      "execution_count": null,
      "outputs": [
        {
          "output_type": "stream",
          "name": "stdout",
          "text": [
            "Hola mundo, soy ....\n",
            "Hoy es .. de .... de ... e inicio mi aventura.\n"
          ]
        }
      ]
    },
    {
      "cell_type": "markdown",
      "source": [
        "Comenzamos describiendo los elementos básicos en que se estructura y fundamenta el lenguaje Python. Estos elementos, llamados *tokens* son de varios tipos, y los describimos a continuación:  \n",
        "\n",
        "* reglas de ensamblaje\n",
        "* palabras reservadas (*keywords*)\n",
        "* funciones integradas (*built-in functions*)\n",
        "* literales\n",
        "* operadores\n",
        "* delimitadores\n",
        "* identificadores\n",
        "\n",
        "En cualquier caso, en este modulo solo pretendemos introducir y listar los elementos básicos de programación con Python, que en módulos posteriores iremos desarrollando en detalle.\n",
        "Para ampliar conocimientos, consulta este tutorial sobre [*Lexical analysis*](https://docs.python.org/3/reference/lexical_analysis.html)."
      ],
      "metadata": {
        "id": "tdHcXqp_x0sH"
      }
    },
    {
      "cell_type": "markdown",
      "source": [
        "### <font color=\"steelblue\">Reglas de ensamblaje</font>\n",
        "\n",
        "Las reglas de ensamblaje se refieren a las normas que rigen la escritura y conexión de distintas órdenes y acciones a ejecutar.\n",
        "\n",
        "Un programa de Python se estructura en distintas líneas de código, en cada una de las cuales se escribe una sola acción u orden. Puede haber varias órdenes en una misma línea, pero en ese caso han de estar separadas por un punto y coma (`;`)."
      ],
      "metadata": {
        "id": "ZmAMlFfkYegK"
      }
    },
    {
      "cell_type": "code",
      "source": [
        "a = 5\n",
        "b = 3\n",
        "print(a+b)"
      ],
      "metadata": {
        "colab": {
          "base_uri": "https://localhost:8080/"
        },
        "id": "avRmz7WOyC8p",
        "outputId": "0372b6e8-67d2-4247-a176-9722a8deba5c"
      },
      "execution_count": null,
      "outputs": [
        {
          "output_type": "stream",
          "name": "stdout",
          "text": [
            "8\n"
          ]
        }
      ]
    },
    {
      "cell_type": "code",
      "source": [
        "a = 5; b = 3; print(a+b)"
      ],
      "metadata": {
        "colab": {
          "base_uri": "https://localhost:8080/"
        },
        "id": "UxSsv5QTyDN2",
        "outputId": "e46e3583-2cb3-4673-ad1d-37f18f1e7e35"
      },
      "execution_count": null,
      "outputs": [
        {
          "output_type": "stream",
          "name": "stdout",
          "text": [
            "8\n"
          ]
        }
      ]
    },
    {
      "cell_type": "markdown",
      "source": [
        "Los espacios al final de línea no son significativos y no tienen efectos. Sin embargo, los espacios al principio de una línea (el sangrado) se utilizan para indicar el nivel de agrupamiento de comandos, diferenciando bloques de líneas de código que se ejecutan juntas, una a continuación de otra.\n",
        "\n",
        "El **sangrado inicial** es una de las características de Python que lo distinguen de otros lenguajes. Por defecto, una línea de código **no** puede contener espacios iniciales, a menos que forme parte de un bloque de instrucciones. Además, todas las líneas de código que conforman un bloque han de contener exactamente el mismo sangrado o número de espacios iniciales.\n",
        "\n",
        "Esto genera un código fácil de entender, diferenciando bloques de ejecución.\n",
        "\n",
        "Así por ejemplo, el código a continuación dará error al contener un espacio delante de `a=3`. Pruébalo."
      ],
      "metadata": {
        "id": "5b5rxFbZyHYb"
      }
    },
    {
      "cell_type": "code",
      "source": [
        "x = 2\n",
        "  a = 3"
      ],
      "metadata": {
        "colab": {
          "base_uri": "https://localhost:8080/",
          "height": 140
        },
        "id": "EE9b3SDWoJen",
        "outputId": "44d0156e-2b3b-42a1-d691-934398f57f86"
      },
      "execution_count": null,
      "outputs": [
        {
          "output_type": "error",
          "ename": "IndentationError",
          "evalue": "ignored",
          "traceback": [
            "\u001b[0;36m  File \u001b[0;32m\"<ipython-input-7-053da4ec528d>\"\u001b[0;36m, line \u001b[0;32m2\u001b[0m\n\u001b[0;31m    a = 3\u001b[0m\n\u001b[0m    ^\u001b[0m\n\u001b[0;31mIndentationError\u001b[0m\u001b[0;31m:\u001b[0m unexpected indent\n"
          ]
        }
      ]
    },
    {
      "cell_type": "markdown",
      "source": [
        "Para introducir un comentario en una celda de código, basta iniciarlo con el carácter '#'. Cuando Python encuentra este carácter, ignora la ejecución del resto de la línea."
      ],
      "metadata": {
        "id": "10Bn1fwzyPkC"
      }
    },
    {
      "cell_type": "code",
      "source": [
        "# Esto es un comentario\n",
        "a = 3 # aquí ya no pasa nada\n",
        "print(a)"
      ],
      "metadata": {
        "colab": {
          "base_uri": "https://localhost:8080/"
        },
        "id": "PRA21GpjyQCH",
        "outputId": "d17385b7-2f43-4e72-d702-856797c47e22"
      },
      "execution_count": null,
      "outputs": [
        {
          "output_type": "stream",
          "name": "stdout",
          "text": [
            "3\n"
          ]
        }
      ]
    },
    {
      "cell_type": "markdown",
      "source": [
        "### <font color=\"steelblue\">Palabras reservadas</font>\n",
        "\n",
        "Las palabras reservadas de Python (o [*keywords*](https://eiposgrados.com/blog-python/palabras-reservadas-python/) son las que forman su núcleo, y no han de utilizarse para nombrar ningún objeto (variables, funciones,...), si bien pueden aparecer en cadenas de texto. Son las siguientes:\n",
        "\n",
        "![Alt text](https://drive.google.com/thumbnail?id=1EquEotO1cr8kujKzpg5VxKdZMuG9mvSH&sz=w800)\n",
        "\n",
        "\n",
        "Al igual que palabras reservadas, hay funciones preprogramadas en Python, cuyo nombre es preferible no utilizar para definir funciones u objetos propios. Una de ellas es **`print()`**, que como hemos visto previamente,  permite imprimir el valor de una variable o el resultado de una comparación.\n",
        "\n"
      ],
      "metadata": {
        "id": "KmFBOvduacDo"
      }
    },
    {
      "cell_type": "markdown",
      "source": [
        "### <font color=\"steelblue\">Literales</font>\n",
        "\n",
        "Los literales son los datos simples que Python es capaz de manejar, y son de dos tipos:\n",
        "* **números**: valores lógicos, enteros, decimales y complejos, en notación decimal, octal o hexadecimal\n",
        "* **cadenas de texto**."
      ],
      "metadata": {
        "id": "G38oMvH1iBal"
      }
    },
    {
      "cell_type": "markdown",
      "source": [
        "### <font color=\"steelblue\">Operadores</font>\n",
        "\n",
        "Los operadores son los caracteres que definen operaciones matemáticas (lógicas y aritméticas). Son los siguientes:\n",
        "\n",
        "<img src=https://raw.githubusercontent.com/ia4legos/Statistics/main/images/img_20_10_10.png>\n",
        "\n"
      ],
      "metadata": {
        "id": "W5rDhtybjP7r"
      }
    },
    {
      "cell_type": "markdown",
      "source": [
        "### <font color=\"steelblue\">Delimitadores</font>\n",
        "\n",
        "\n",
        "Los delimitadores son los caracteres que permiten delimitar, separar o representar expresiones. Son los siguientes:\n",
        "\n",
        "<img src=https://raw.githubusercontent.com/ia4legos/Statistics/main/images/img_20_10_20.png>\n"
      ],
      "metadata": {
        "id": "Ot3_WNoCyE-e"
      }
    },
    {
      "cell_type": "markdown",
      "source": [
        "### <font color=\"steelblue\">Identificadores</font>\n",
        "\n",
        "Los identificadores son las palabras que se utilizan para nombrar elementos creados en Python. Los identificadores están formados por letras (mayúsculas y minúsculas), números y el carácter guión bajo '_'.\n",
        "El primer caracter del identificador de un elemento cualquiera debe ser una letra.\n",
        "\n",
        "Más adelante describiremos en detalle los tipos de elementos posibles en Python, que son **variables** u objetos que almacenan información, **funciones** que agrupan instrucciones, **clases** que combinan ambos, **módulos** que agrupan los elementos anteriores, etc.\n",
        "\n"
      ],
      "metadata": {
        "id": "5Qe9Mvj9zjLq"
      }
    },
    {
      "cell_type": "markdown",
      "source": [
        "## <font color='steelblue'>2. Cálculos básicos con Python</font>\n"
      ],
      "metadata": {
        "id": "Dy-4PRSSkw20"
      }
    },
    {
      "cell_type": "markdown",
      "source": [
        "En un cuaderno Jupyter las celdas de código nos permiten programar y ejecutar código, y en particular, realizar operaciones. Veamos a continuación cómo programar las operaciones básicas en Python.\n"
      ],
      "metadata": {
        "id": "2y00zS4glSVu"
      }
    },
    {
      "cell_type": "markdown",
      "source": [
        "### <font color=\"steelblue\">Las cuatro operaciones básicas</font>\n",
        "\n",
        "Las cuatro operaciones aritméticas básicas son la suma (`+`), la resta (`-`), la multiplicación (`*`) y la división (`/`). Al sumar, restar o multiplicar números enteros, el resultado es entero. La división de dos números enteros es decimal. Al hacer operaciones en las que intervienen números enteros y decimales, el resultado es siempre decimal. En el caso de que el resultado decimal de una operación no tenga parte decimal, Python escribe 0 como parte decimal. Los decimales utilizan como separador el punto '.'"
      ],
      "metadata": {
        "id": "ygfAcmpG0jGO"
      }
    },
    {
      "cell_type": "code",
      "source": [
        "# suma\n",
        "2 + 8"
      ],
      "metadata": {
        "colab": {
          "base_uri": "https://localhost:8080/"
        },
        "id": "3i1vukbG0gtD",
        "outputId": "acdb9018-3c01-4eb8-e00a-3d09f6126ac6"
      },
      "execution_count": null,
      "outputs": [
        {
          "output_type": "execute_result",
          "data": {
            "text/plain": [
              "10"
            ]
          },
          "metadata": {},
          "execution_count": 6
        }
      ]
    },
    {
      "cell_type": "code",
      "source": [
        "# si queremos visualizar el resultado de dos o más operaciones, utilizamos 'print'\n",
        "print(4.5*3)\n",
        "print(4.5*2)"
      ],
      "metadata": {
        "colab": {
          "base_uri": "https://localhost:8080/"
        },
        "id": "_rPiDg2y0qQC",
        "outputId": "3c5f5db6-d841-440b-c70f-48cb73177195"
      },
      "execution_count": null,
      "outputs": [
        {
          "output_type": "stream",
          "name": "stdout",
          "text": [
            "13.5\n",
            "9.0\n"
          ]
        }
      ]
    },
    {
      "cell_type": "code",
      "source": [
        "# resultados enteros\n",
        "print(1 + 2)\n",
        "print(3 - 4)\n",
        "print(5 * 6)"
      ],
      "metadata": {
        "colab": {
          "base_uri": "https://localhost:8080/"
        },
        "id": "HvHo2Dp80wrB",
        "outputId": "12e50eb5-8b9b-4dec-b8e2-9b5d18b5cdac"
      },
      "execution_count": null,
      "outputs": [
        {
          "output_type": "stream",
          "name": "stdout",
          "text": [
            "3\n",
            "-1\n",
            "30\n"
          ]
        }
      ]
    },
    {
      "cell_type": "code",
      "source": [
        "# resultados decimales\n",
        "print(9/2)\n",
        "print(9/3)"
      ],
      "metadata": {
        "colab": {
          "base_uri": "https://localhost:8080/"
        },
        "id": "9HWWyA-P01lo",
        "outputId": "450abec3-0f02-4405-fb4a-2ebf951cc61c"
      },
      "execution_count": null,
      "outputs": [
        {
          "output_type": "stream",
          "name": "stdout",
          "text": [
            "4.5\n",
            "3.0\n"
          ]
        }
      ]
    },
    {
      "cell_type": "code",
      "source": [
        "# dividir por cero genera un error\n",
        "5/0"
      ],
      "metadata": {
        "colab": {
          "base_uri": "https://localhost:8080/",
          "height": 193
        },
        "id": "uPy5e0pk0guF",
        "outputId": "0badbac5-47cc-4338-dbe5-3b4984deddb2"
      },
      "execution_count": null,
      "outputs": [
        {
          "output_type": "error",
          "ename": "ZeroDivisionError",
          "evalue": "ignored",
          "traceback": [
            "\u001b[0;31m---------------------------------------------------------------------------\u001b[0m",
            "\u001b[0;31mZeroDivisionError\u001b[0m                         Traceback (most recent call last)",
            "\u001b[0;32m<ipython-input-12-d27c10faadea>\u001b[0m in \u001b[0;36m<cell line: 2>\u001b[0;34m()\u001b[0m\n\u001b[1;32m      1\u001b[0m \u001b[0;31m# dividir por cero genera un error\u001b[0m\u001b[0;34m\u001b[0m\u001b[0;34m\u001b[0m\u001b[0m\n\u001b[0;32m----> 2\u001b[0;31m \u001b[0;36m5\u001b[0m\u001b[0;34m/\u001b[0m\u001b[0;36m0\u001b[0m\u001b[0;34m\u001b[0m\u001b[0;34m\u001b[0m\u001b[0m\n\u001b[0m",
            "\u001b[0;31mZeroDivisionError\u001b[0m: division by zero"
          ]
        }
      ]
    },
    {
      "cell_type": "markdown",
      "source": [
        "### <font color=\"steelblue\">Potencias</font>\n",
        "\n",
        "Para elevar un número a una potencia se utiliza el operador `**`. Esto es, para calcular $3^5$ tendremos que escribir:\n",
        "\n"
      ],
      "metadata": {
        "id": "TGmVqwsp57lf"
      }
    },
    {
      "cell_type": "code",
      "source": [
        "3**5"
      ],
      "metadata": {
        "colab": {
          "base_uri": "https://localhost:8080/"
        },
        "id": "SCccuW_96P12",
        "outputId": "68f98136-8e04-4a94-d0a2-19e51f355c75"
      },
      "execution_count": null,
      "outputs": [
        {
          "output_type": "execute_result",
          "data": {
            "text/plain": [
              "243"
            ]
          },
          "metadata": {},
          "execution_count": 13
        }
      ]
    },
    {
      "cell_type": "markdown",
      "source": [
        "### <font color=\"steelblue\">Precedencia de operadores</font>\n",
        "\n",
        "El concepto de 'precedencia de operadores' se refiere al orden en el que las operaciones son ejecutadas, y en Python se siguen las reglas habituales de prioridad (primero multiplicaciones y divisiones, después sumas y restas). En cualquier caso, utilizaremos paréntesis para agrupar cálculos y controlar la correcta ejecución de los mismos, manteniendo siempre el objetivo de generar código sencillo y fácil de leer para cualquier usuario.  \n",
        "\n",
        "\n",
        "Veamos algunos ejemplos.\n",
        "\n"
      ],
      "metadata": {
        "id": "E5V-oSOq1B0P"
      }
    },
    {
      "cell_type": "markdown",
      "source": [
        "Si queremos calcular $4 \\cdot (7 - 2) = 20$, si no tenemos cuidado colocando el paréntesis, obtendremos resultados erróneos:"
      ],
      "metadata": {
        "id": "--aibnhs4z30"
      }
    },
    {
      "cell_type": "code",
      "source": [
        "4*7-2"
      ],
      "metadata": {
        "colab": {
          "base_uri": "https://localhost:8080/"
        },
        "id": "r3v5RKRu4vDd",
        "outputId": "78607006-a723-488f-f7ea-f48cfac966d9"
      },
      "execution_count": null,
      "outputs": [
        {
          "output_type": "execute_result",
          "data": {
            "text/plain": [
              "26"
            ]
          },
          "metadata": {},
          "execution_count": 14
        }
      ]
    },
    {
      "cell_type": "markdown",
      "source": [
        "En la **celda de código** anterior, `4 * 7` es evaluado primero, y después se resta el número `2`, porque la  multiplicación (`*`) tiene prioridad a la resta  (`-`). Si queremos que primero se calcule la resta, y luego su resultado se multiplique por el 4, hemos de colocar la resta entre paréntesis:"
      ],
      "metadata": {
        "id": "0KY0WU10431B"
      }
    },
    {
      "cell_type": "code",
      "source": [
        "4*(7-2)"
      ],
      "metadata": {
        "colab": {
          "base_uri": "https://localhost:8080/"
        },
        "id": "RmpMNXPJ43af",
        "outputId": "f386bee9-5f93-4917-af58-47a5961b618d"
      },
      "execution_count": null,
      "outputs": [
        {
          "output_type": "execute_result",
          "data": {
            "text/plain": [
              "20"
            ]
          },
          "metadata": {},
          "execution_count": 15
        }
      ]
    },
    {
      "cell_type": "markdown",
      "source": [
        "Un ejemplo común donde la legibilidad es una preocupación es\n",
        "\n",
        "$$\n",
        "\\frac{10}{2 \\cdot 50} = 0.1\n",
        "$$\n",
        "\n",
        "El siguiente código es incorrecto, pues como la división y la multiplicación tienen la misma precedencia, se ejecutan consecutivamente de izquierda a derecha, esto es, primero realiza la división y el resultado lo multiplica por 50."
      ],
      "metadata": {
        "id": "GlDoHTPk5Mjd"
      }
    },
    {
      "cell_type": "code",
      "source": [
        "10/2*50"
      ],
      "metadata": {
        "colab": {
          "base_uri": "https://localhost:8080/"
        },
        "id": "AaBPuMx75T_j",
        "outputId": "cc3db26c-d4dc-4021-e78d-ed2e836b1959"
      },
      "execution_count": null,
      "outputs": [
        {
          "output_type": "execute_result",
          "data": {
            "text/plain": [
              "250.0"
            ]
          },
          "metadata": {},
          "execution_count": 16
        }
      ]
    },
    {
      "cell_type": "markdown",
      "source": [
        "Nuestra prioridad no es esa, sino que queremos que una vez ejecutado el producto en el denominador, luego realice la división del numerador entre el denominador. Esto se puede escribir de dos maneras diferentes, si bien recomendamos la segunda, pues el paréntesis describe con mayor claridad la operación realizada:"
      ],
      "metadata": {
        "id": "HYXu4ti85WMC"
      }
    },
    {
      "cell_type": "code",
      "source": [
        "print(10/2/50)\n",
        "print(10/(2*50))"
      ],
      "metadata": {
        "colab": {
          "base_uri": "https://localhost:8080/"
        },
        "id": "jhi1Wf5x5kDy",
        "outputId": "c7c295f1-5cb7-439e-be8a-cf1914ed0783"
      },
      "execution_count": null,
      "outputs": [
        {
          "output_type": "stream",
          "name": "stdout",
          "text": [
            "0.1\n",
            "0.1\n"
          ]
        }
      ]
    },
    {
      "cell_type": "markdown",
      "source": [
        "Veamos ahora un ejemplo que calcula $2^{3} \\cdot 4 = 32$, con dos formas de programarlo. La primera es técnicamente correcta, pero la segunda tiene una mejor legibilidad y facilita la comprensión."
      ],
      "metadata": {
        "id": "V0DTgaeH6V-O"
      }
    },
    {
      "cell_type": "code",
      "source": [
        "print(2**3*4)\n",
        "print((2**3)*4)"
      ],
      "metadata": {
        "colab": {
          "base_uri": "https://localhost:8080/"
        },
        "id": "IlyGCb7O6mWq",
        "outputId": "6300854e-862d-4939-b212-ef229689bcee"
      },
      "execution_count": null,
      "outputs": [
        {
          "output_type": "stream",
          "name": "stdout",
          "text": [
            "32\n",
            "32\n"
          ]
        }
      ]
    },
    {
      "cell_type": "markdown",
      "source": [
        "Si queremos calcular el índice de masa corporal, $IMC= \\frac{Peso}{Talla^2}$, donde $Peso$ está expresado en kilogramos (kg) y la $Talla$ está expresada en metros (m), para una persona con 78.3 kg y una altura de 175 cm, procedemos según:"
      ],
      "metadata": {
        "id": "APJ_dk7O6r8y"
      }
    },
    {
      "cell_type": "code",
      "source": [
        "78.3/(175/100)**2"
      ],
      "metadata": {
        "colab": {
          "base_uri": "https://localhost:8080/"
        },
        "id": "1fMGzee367FG",
        "outputId": "a0b61954-91ae-40bf-fac7-ed420997d5c5"
      },
      "execution_count": null,
      "outputs": [
        {
          "output_type": "execute_result",
          "data": {
            "text/plain": [
              "25.567346938775508"
            ]
          },
          "metadata": {},
          "execution_count": 19
        }
      ]
    },
    {
      "cell_type": "markdown",
      "source": [
        "Vemos pues que no es necesario poner entre paréntesis todo el denominador, pues la potencia se aplica directamente al número que lo precede, y no a toda la expresión previa. Con todo, si queremos mejorar la legibilidad, podríamos programar:"
      ],
      "metadata": {
        "id": "oXuR3v3t6_of"
      }
    },
    {
      "cell_type": "code",
      "source": [
        "78.3/((175/100)**2)"
      ],
      "metadata": {
        "id": "H6hdDzyW4VjD",
        "colab": {
          "base_uri": "https://localhost:8080/"
        },
        "outputId": "a7541191-1e70-4409-8ee1-56b03b0bdbc0"
      },
      "execution_count": null,
      "outputs": [
        {
          "output_type": "execute_result",
          "data": {
            "text/plain": [
              "25.567346938775508"
            ]
          },
          "metadata": {},
          "execution_count": 20
        }
      ]
    },
    {
      "cell_type": "markdown",
      "source": [
        "Por otro lado, se pueden escribir sumas y restas consecutivas, pero no se recomienda hacerlo, de nuevo para facilitar la legibilidad:"
      ],
      "metadata": {
        "id": "IGkg420i4ZSt"
      }
    },
    {
      "cell_type": "code",
      "source": [
        "print(3+-+4)\n",
        "print(3+-+-4)"
      ],
      "metadata": {
        "colab": {
          "base_uri": "https://localhost:8080/"
        },
        "id": "YV-FxjbM7D5x",
        "outputId": "c9aafe6d-3d7d-449e-f3f8-70be67fbeb7a"
      },
      "execution_count": null,
      "outputs": [
        {
          "output_type": "stream",
          "name": "stdout",
          "text": [
            "-1\n",
            "7\n"
          ]
        }
      ]
    },
    {
      "cell_type": "markdown",
      "source": [
        "No podemos escribir sin embargo, multiplicaciones y divisiones seguidas. Al ejecutar el código a continuación, obtendrás un error.\n"
      ],
      "metadata": {
        "id": "2M4BUN117JUe"
      }
    },
    {
      "cell_type": "code",
      "source": [
        "3*/4"
      ],
      "metadata": {
        "colab": {
          "base_uri": "https://localhost:8080/",
          "height": 140
        },
        "id": "5B_JDgql4s-v",
        "outputId": "ee44be39-2a39-40ff-9e50-208a573339a3"
      },
      "execution_count": null,
      "outputs": [
        {
          "output_type": "error",
          "ename": "SyntaxError",
          "evalue": "ignored",
          "traceback": [
            "\u001b[0;36m  File \u001b[0;32m\"<ipython-input-21-95eab4363054>\"\u001b[0;36m, line \u001b[0;32m1\u001b[0m\n\u001b[0;31m    3*/4\u001b[0m\n\u001b[0m      ^\u001b[0m\n\u001b[0;31mSyntaxError\u001b[0m\u001b[0;31m:\u001b[0m invalid syntax\n"
          ]
        }
      ]
    },
    {
      "cell_type": "markdown",
      "source": [
        "### <font color=\"steelblue\">La división</font>\n",
        "\n",
        "Recordemos cómo están relacionados los elementos de una división:\n",
        "\n",
        "<img src=https://raw.githubusercontent.com/ia4legos/Statistics/main/images/img_20_20_10.png>\n",
        "\n",
        "Con Python podemos acceder al cociente y al resto de una división mediante:\n",
        "* al cociente con '//'\n",
        "* al resto con '%'."
      ],
      "metadata": {
        "id": "xZrYJzCg8CH9"
      }
    },
    {
      "cell_type": "code",
      "source": [
        "#cociente entero de la división 10/4:\n",
        "10 // 4"
      ],
      "metadata": {
        "colab": {
          "base_uri": "https://localhost:8080/"
        },
        "id": "OQKKtH2e_FZP",
        "outputId": "9b8f85b0-a676-4f21-f63a-c6d867a20aa9"
      },
      "execution_count": null,
      "outputs": [
        {
          "output_type": "execute_result",
          "data": {
            "text/plain": [
              "2"
            ]
          },
          "metadata": {},
          "execution_count": 22
        }
      ]
    },
    {
      "cell_type": "code",
      "source": [
        "# resto entero de la división 10/4\n",
        "10 % 4"
      ],
      "metadata": {
        "colab": {
          "base_uri": "https://localhost:8080/"
        },
        "id": "1naszvzz_kD8",
        "outputId": "9c147951-7a38-4590-e9b2-2dcf48df2ea9"
      },
      "execution_count": null,
      "outputs": [
        {
          "output_type": "execute_result",
          "data": {
            "text/plain": [
              "2"
            ]
          },
          "metadata": {},
          "execution_count": 23
        }
      ]
    },
    {
      "cell_type": "markdown",
      "source": [
        "## <font color=\"steelblue\">3. Cadenas de texto</font>"
      ],
      "metadata": {
        "id": "EjT3mXJ-yGVd"
      }
    },
    {
      "cell_type": "markdown",
      "source": [
        "Una cadena de texto es una secuencia de caracteres delimitada por comillas."
      ],
      "metadata": {
        "id": "C318sjVFzF8P"
      }
    },
    {
      "cell_type": "markdown",
      "source": [
        "### <font color=\"steelblue\">Comillas simples y dobles</font>\n",
        "\n",
        "Las cadenas de texto se pueden delimitar con comillas simples `'` o con comillas dobles `\"`, pero en cualquier caso siempre con las mismas comillas con las que se abrieron. Habitualmente en los cuadernos Jupyter, cuando escribimos una comilla se genera automáticamente la segunda, para encuadrar el texto dentro."
      ],
      "metadata": {
        "id": "gHEgzp6kzOxj"
      }
    },
    {
      "cell_type": "code",
      "source": [
        "a = 'Esto es una cadena'\n",
        "a"
      ],
      "metadata": {
        "colab": {
          "base_uri": "https://localhost:8080/",
          "height": 35
        },
        "id": "GfCuqAIKBMM-",
        "outputId": "e3e8d508-04cb-4576-eb48-0854ceda888a"
      },
      "execution_count": null,
      "outputs": [
        {
          "output_type": "execute_result",
          "data": {
            "text/plain": [
              "'Esto es una cadena'"
            ],
            "application/vnd.google.colaboratory.intrinsic+json": {
              "type": "string"
            }
          },
          "metadata": {},
          "execution_count": 24
        }
      ]
    },
    {
      "cell_type": "markdown",
      "source": [
        "La función `print()` muestra por pantalla el contenido de la cadena pero no las comillas."
      ],
      "metadata": {
        "id": "3Tt3hCcY2zE-"
      }
    },
    {
      "cell_type": "code",
      "source": [
        "print(a)\n",
        "print(\"Esto es una cadena\")"
      ],
      "metadata": {
        "colab": {
          "base_uri": "https://localhost:8080/"
        },
        "id": "9UhHgayz1rtS",
        "outputId": "32d05051-209a-46bb-d567-8a6c305e401d"
      },
      "execution_count": null,
      "outputs": [
        {
          "output_type": "stream",
          "name": "stdout",
          "text": [
            "Esto es una cadena\n",
            "Esto es una cadena\n"
          ]
        }
      ]
    },
    {
      "cell_type": "markdown",
      "source": [
        "### <font color=\"steelblue\">Comillas triples</font>\n"
      ],
      "metadata": {
        "id": "ECYB-Vr039Jq"
      }
    },
    {
      "cell_type": "markdown",
      "source": [
        "Si en nuestro código queremos seccionar, por cuestiones de legibilidad, una cadena de texto en varias líneas, la dividimos en trozos con comillas. Al ejecutarlo sin embargo, aparecerá el texto en una sola línea. Habremos de añadir un espacio al final de cada trozo, para separar convenientemente las palabras."
      ],
      "metadata": {
        "id": "tdNrDVcJ9vgX"
      }
    },
    {
      "cell_type": "code",
      "source": [
        "print(\"Esta línea está cortada \"\n",
        "\"pero al ejecutarla se lee en la misma línea.\")"
      ],
      "metadata": {
        "colab": {
          "base_uri": "https://localhost:8080/"
        },
        "id": "ZPKnBSRS-BvJ",
        "outputId": "49d072f3-f6ac-4f04-828a-6ffcd25393ac"
      },
      "execution_count": null,
      "outputs": [
        {
          "output_type": "stream",
          "name": "stdout",
          "text": [
            "Esta línea está cortada pero al ejecutarla se lee en la misma línea.\n"
          ]
        }
      ]
    },
    {
      "cell_type": "markdown",
      "source": [
        "Si queremos que en la ejecución también aparezcan los saltos de línea, hemos de acudir a las comillas triples. Las comillas triples (de nuevo, tanto comilla simple \\' como doble \\\") nos permiten definir cadenas que ocupan más de una línea, respetando todos los espacios e interlineados que incluyamos."
      ],
      "metadata": {
        "id": "jxflJkNFFL1L"
      }
    },
    {
      "cell_type": "code",
      "source": [
        "print(\"\"\"Esta cadena\n",
        "ocupa tres líneas\n",
        " y aquí    hay varios espacios.\"\"\")"
      ],
      "metadata": {
        "colab": {
          "base_uri": "https://localhost:8080/"
        },
        "id": "EGC6dCK53tbv",
        "outputId": "406a7aae-9219-43d6-a721-c73d395b1673"
      },
      "execution_count": null,
      "outputs": [
        {
          "output_type": "stream",
          "name": "stdout",
          "text": [
            "Esta cadena\n",
            "ocupa tres líneas\n",
            " y aquí    hay varios espacios.\n"
          ]
        }
      ]
    },
    {
      "cell_type": "code",
      "source": [
        "print('''Esta cadena\n",
        "ocupa 2 líneas\n",
        " y aquí       hay varios espacios.''')"
      ],
      "metadata": {
        "colab": {
          "base_uri": "https://localhost:8080/"
        },
        "id": "M27ndQxO6F-4",
        "outputId": "2ab2f9ae-0669-4292-c9b3-c4b2118e79ed"
      },
      "execution_count": null,
      "outputs": [
        {
          "output_type": "stream",
          "name": "stdout",
          "text": [
            "Esta cadena\n",
            "ocupa 2 líneas\n",
            " y aquí       hay varios espacios.\n"
          ]
        }
      ]
    },
    {
      "cell_type": "markdown",
      "source": [
        "### <font color=\"steelblue\">Comillas dentro de comillas</font>\n",
        "\n",
        "Se pueden escribir comillas simples en cadenas delimitadas con comillas dobles y viceversa:"
      ],
      "metadata": {
        "id": "2MuOvixM6M2u"
      }
    },
    {
      "cell_type": "code",
      "source": [
        "print(\"Las comillas simples '' delimitan cadenas\")\n",
        "print('Las comillas \"dobles\" delimitan cadenas')"
      ],
      "metadata": {
        "colab": {
          "base_uri": "https://localhost:8080/"
        },
        "id": "Ql5ljqeA6hjY",
        "outputId": "2ae2ed2a-8db8-4a86-e106-5ce759e0ee10"
      },
      "execution_count": null,
      "outputs": [
        {
          "output_type": "stream",
          "name": "stdout",
          "text": [
            "Las comillas simples '' delimitan cadenas\n",
            "Las comillas \"dobles\" delimitan cadenas\n"
          ]
        }
      ]
    },
    {
      "cell_type": "markdown",
      "source": [
        "Sin embargo, no se puede escribir en el interior de una cadena comillas del mismo tipo que las comillas delimitadoras. Las siguientes líneas de código darían error:\n",
        "\n",
        "```markdown\n",
        "print(\"Las comillas dobles \" delimitan cadenas\")\n",
        "print('Las comillas simples ' delimitan cadenas')\n",
        "```\n",
        "\n",
        "Si queremos escribir el mismo tipo de comillas que las que delimitan una cadena, utilizaremos la contra-barra `\\` delante de ellas:"
      ],
      "metadata": {
        "id": "KbkoSHWd6q2_"
      }
    },
    {
      "cell_type": "code",
      "source": [
        "print(\"Las comillas dobles \\\" delimitan cadenas\")\n",
        "print('Las comillas simples \\' delimitan cadenas')"
      ],
      "metadata": {
        "colab": {
          "base_uri": "https://localhost:8080/"
        },
        "id": "MYqm0tzq7fnZ",
        "outputId": "bd3ccfe5-c1f0-441b-9586-a44c4d1affc6"
      },
      "execution_count": null,
      "outputs": [
        {
          "output_type": "stream",
          "name": "stdout",
          "text": [
            "Las comillas dobles \" delimitan cadenas\n",
            "Las comillas simples ' delimitan cadenas\n"
          ]
        }
      ]
    },
    {
      "cell_type": "markdown",
      "source": [
        "### <font color=\"steelblue\">Caracteres especiales</font>\n",
        "\n",
        "Además de las comillas, hay otros caracteres especiales en Python, que han de ir precedidos de una contra-barra `\\`. Veamos algunos ejemplos, como el salto de línea `\\n` y el tabulador `\\t`."
      ],
      "metadata": {
        "id": "pH1HHD3B7rWO"
      }
    },
    {
      "cell_type": "code",
      "source": [
        "# Salto de línea \\n\n",
        "print(\"Una línea \\n-----------\")\n",
        "\n",
        "# Tabulación \\t\n",
        "print(\"1 \\t 2 \\t 3\")"
      ],
      "metadata": {
        "colab": {
          "base_uri": "https://localhost:8080/"
        },
        "id": "8b7CD3999GRB",
        "outputId": "b7ce928c-7864-4700-eaad-87f45689054c"
      },
      "execution_count": null,
      "outputs": [
        {
          "output_type": "stream",
          "name": "stdout",
          "text": [
            "Una línea \n",
            "-----------\n",
            "1 \t 2 \t 3\n"
          ]
        }
      ]
    },
    {
      "cell_type": "markdown",
      "source": [
        "Para el salto de línea (`\\n`), si dejamos un espacio después del caracter especial aparece un espacio en la siguiente línea:"
      ],
      "metadata": {
        "id": "UQIOw7aI9chG"
      }
    },
    {
      "cell_type": "code",
      "source": [
        "# Salto de línea\n",
        "print(\"Una línea \\n otra línea\")"
      ],
      "metadata": {
        "colab": {
          "base_uri": "https://localhost:8080/"
        },
        "id": "Cm7AeO7K9pSp",
        "outputId": "3420cbb2-032d-4760-d06f-79c868915f43"
      },
      "execution_count": null,
      "outputs": [
        {
          "output_type": "stream",
          "name": "stdout",
          "text": [
            "Una línea \n",
            " otra línea\n"
          ]
        }
      ]
    },
    {
      "cell_type": "markdown",
      "source": [
        "## <font color='steelblue'>4. Variables</font>"
      ],
      "metadata": {
        "id": "3dmqLEiKBT-v"
      }
    },
    {
      "cell_type": "markdown",
      "source": [
        "Imagina una caja que rotulas con un nombre, x, en la que depositas una bola numerada con un número cualquiera; por ejemplo el 5.\n",
        "Hemos generado una representación física de una **variable numérica** llamada x, que contiene el valor 5. Ahora imagina que en lugar de una bola con el valor 5, hemos depositado un trozo de papel con un mensaje de texto. Hemos creado entonces una **variable de texto** llamada x, que contiene el mensaje de texto escrito en el papel.\n",
        "\n",
        "En Python generamos variables a través de nombres, valores/textos y el operador de asignación `=`, y nos serán muy útiles para automatizar operaciones y procesos, simplemente sustituyendo los valores de las variables.\n",
        "\n",
        "En la siguiente celda de código vamos a crear la variable numérica x, le vamos a dar el valor 2 a través del operador de asignación, y a continuación lo imprimimos en pantalla con el comando `print()`. Llamando a `x` tendremos el valor que le hemos atribuido."
      ],
      "metadata": {
        "id": "t_m_Kv4ZBcrD"
      }
    },
    {
      "cell_type": "code",
      "source": [
        "# variable numérica\n",
        "x = 2\n",
        "print(x)"
      ],
      "metadata": {
        "colab": {
          "base_uri": "https://localhost:8080/"
        },
        "id": "oIEn3DCuFSry",
        "outputId": "384e01d7-64e6-4d0c-d8d5-fc453ab39f6a"
      },
      "execution_count": null,
      "outputs": [
        {
          "output_type": "stream",
          "name": "stdout",
          "text": [
            "2\n"
          ]
        }
      ]
    },
    {
      "cell_type": "markdown",
      "source": [
        "La forma de definir variables requiere escribir siempre primero el nombre de la variable, seguida del operador asignación, y seguido del valor que le asignemos. Si se escribe al revés (`2 = x`) produciría un error.\n",
        "\n",
        "Si no hemos definido una variable previamente, al requerir su valor tendremos un error de código.\n",
        "\n",
        "\n"
      ],
      "metadata": {
        "id": "ujv8dtfCFcx4"
      }
    },
    {
      "cell_type": "code",
      "source": [
        "# no hemos definido y: por lo tanto da error\n",
        "print(y)"
      ],
      "metadata": {
        "id": "chtadX-ALhab",
        "colab": {
          "base_uri": "https://localhost:8080/",
          "height": 193
        },
        "outputId": "4a1ad46b-7cba-4f57-ecdf-03e8cf378643"
      },
      "execution_count": null,
      "outputs": [
        {
          "output_type": "error",
          "ename": "NameError",
          "evalue": "ignored",
          "traceback": [
            "\u001b[0;31m---------------------------------------------------------------------------\u001b[0m",
            "\u001b[0;31mNameError\u001b[0m                                 Traceback (most recent call last)",
            "\u001b[0;32m<ipython-input-33-42c87e7a8772>\u001b[0m in \u001b[0;36m<cell line: 2>\u001b[0;34m()\u001b[0m\n\u001b[1;32m      1\u001b[0m \u001b[0;31m# no hemos definido y: por lo tanto da error\u001b[0m\u001b[0;34m\u001b[0m\u001b[0;34m\u001b[0m\u001b[0m\n\u001b[0;32m----> 2\u001b[0;31m \u001b[0mprint\u001b[0m\u001b[0;34m(\u001b[0m\u001b[0my\u001b[0m\u001b[0;34m)\u001b[0m\u001b[0;34m\u001b[0m\u001b[0;34m\u001b[0m\u001b[0m\n\u001b[0m",
            "\u001b[0;31mNameError\u001b[0m: name 'y' is not defined"
          ]
        }
      ]
    },
    {
      "cell_type": "markdown",
      "source": [
        "\n",
        "Una variable puede almacenar números, texto o estructuras más complicadas (que trabajaremos más adelante). Si se va a almacenar texto, el texto debe escribirse entre comillas simples \\' o dobles \\\" (recordemos que son equivalentes). A las variables que almacenan texto se les suele llamar **cadenas**, cadenas de caracteres, o cadenas de texto."
      ],
      "metadata": {
        "id": "R4a0hnDaGbJK"
      }
    },
    {
      "cell_type": "code",
      "source": [
        "# Mary Eleanor Spear es una mujer importante en la historia de la estadística\n",
        "ejemplo_cadena = \"Mary Eleanor Spear\"\n",
        "print(ejemplo_cadena)"
      ],
      "metadata": {
        "colab": {
          "base_uri": "https://localhost:8080/"
        },
        "id": "P3Q6DaNWGKgO",
        "outputId": "220d87c4-f02e-4891-d780-342e8a10414e"
      },
      "execution_count": null,
      "outputs": [
        {
          "output_type": "stream",
          "name": "stdout",
          "text": [
            "Mary Eleanor Spear\n"
          ]
        }
      ]
    },
    {
      "cell_type": "markdown",
      "source": [
        "### <font color='steelblue'>Normas para nombrar variables</font>"
      ],
      "metadata": {
        "id": "XH71iMGfVNvW"
      }
    },
    {
      "cell_type": "markdown",
      "source": [
        "Los nombres de las variables pueden ser elegidos arbitrariamente, siempre respetando ciertas reglas básicas, como:\n",
        "\n",
        "- evitar caracteres especiales (+-/%&$...), símbolos de puntuación (.,;:) y tildes\n",
        "- evitar las palabras reservadas (*keywords*)\n",
        "- evitar al inicio números como carácter inicial y también el símbolo `_`, pero se pueden utilizar en otras posiciones\n",
        "- las minúsculas son distintas a las mayúsculas\n",
        "- dar nombres con sentido a las variables, que nos faciliten su uso (como las minúsculas)."
      ],
      "metadata": {
        "id": "_MqG4HAhOLNq"
      }
    },
    {
      "cell_type": "code",
      "source": [
        "resultado_bola_1=2\n",
        "resultado_bola_2=3\n",
        "print(resultado_bola_1)\n",
        "print(resultado_bola_2)"
      ],
      "metadata": {
        "colab": {
          "base_uri": "https://localhost:8080/"
        },
        "id": "n4QQvA6FOsMo",
        "outputId": "c417f19a-35dd-4409-b3ea-4b53c36b8c1b"
      },
      "execution_count": null,
      "outputs": [
        {
          "output_type": "stream",
          "name": "stdout",
          "text": [
            "2\n",
            "3\n"
          ]
        }
      ]
    },
    {
      "cell_type": "code",
      "source": [
        "x = 2\n",
        "X = 5\n",
        "print(x)\n",
        "print(X)"
      ],
      "metadata": {
        "colab": {
          "base_uri": "https://localhost:8080/"
        },
        "id": "iJlmBSlSk9pZ",
        "outputId": "f42ac5bf-bc78-47a0-c227-ce3f3a620f1a"
      },
      "execution_count": null,
      "outputs": [
        {
          "output_type": "stream",
          "name": "stdout",
          "text": [
            "2\n",
            "5\n"
          ]
        }
      ]
    },
    {
      "cell_type": "markdown",
      "source": [
        "### <font color='steelblue'>Utilizar o modificar variables</font>\n",
        "\n",
        "La utilidad de las variables es mucha, pues una vez definidas podemos operar y modificar los valores que contienen utilizando sus nombres.\n",
        "\n",
        "Imaginemos que al inicio del mes de mayo, el hospital XXXX tiene 100 pacientes hospitalizados, y el segundo día entran 5 pacientes más. El número de pacientes varía sumando 5 al número inicial. Esto lo resolvemos sencillamente con el siguiente código:"
      ],
      "metadata": {
        "id": "1s0gFrouNfJj"
      }
    },
    {
      "cell_type": "code",
      "source": [
        "# inicial\n",
        "numero_de_pacientes = 100\n",
        "# actualización\n",
        "numero_de_pacientes = numero_de_pacientes + 5\n",
        "print(numero_de_pacientes)"
      ],
      "metadata": {
        "colab": {
          "base_uri": "https://localhost:8080/"
        },
        "id": "SBl0_7n3NxGM",
        "outputId": "ead98073-34a0-4da2-9de5-fd5e25fdbc8a"
      },
      "execution_count": null,
      "outputs": [
        {
          "output_type": "stream",
          "name": "stdout",
          "text": [
            "105\n"
          ]
        }
      ]
    },
    {
      "cell_type": "markdown",
      "source": [
        "Cuando se modifica una variable, el valor anterior se pierde y no se puede recuperar (salvo si se realiza la operación contraria o hay otra variable que conserva el valor anterior).\n",
        "Hay que tener cuidado al modificar una variable que se ha utilizado para definir otras variables, porque esto puede afectar al resto de variables."
      ],
      "metadata": {
        "id": "__WXc67vOO6T"
      }
    },
    {
      "cell_type": "markdown",
      "source": [
        "También podemos crear nuevas variables a partir de otras utilizando operaciones, o simplemente asignaciones:"
      ],
      "metadata": {
        "id": "cF01DVUVN7hz"
      }
    },
    {
      "cell_type": "code",
      "source": [
        "horas = 5\n",
        "minutos = 60 * horas\n",
        "segundos = 60 * minutos\n",
        "print(segundos)"
      ],
      "metadata": {
        "colab": {
          "base_uri": "https://localhost:8080/"
        },
        "id": "GICguqVsOGpj",
        "outputId": "8db34692-61a8-4729-a50b-1ba3c8939e49"
      },
      "execution_count": null,
      "outputs": [
        {
          "output_type": "stream",
          "name": "stdout",
          "text": [
            "18000\n"
          ]
        }
      ]
    },
    {
      "cell_type": "markdown",
      "source": [
        "Antes de ejecutar la siguiente celda de código, ¿puedes predecir qué imprimirá Python?"
      ],
      "metadata": {
        "id": "VXDXyEIBO5j5"
      }
    },
    {
      "cell_type": "code",
      "source": [
        "libro = \"Perito en lunas\"\n",
        "leyendo = libro\n",
        "print(leyendo)\n",
        "print(libro)"
      ],
      "metadata": {
        "id": "_FccZgvGPBhq",
        "colab": {
          "base_uri": "https://localhost:8080/"
        },
        "outputId": "9c495857-f880-4654-cf59-a9fed794b55a"
      },
      "execution_count": null,
      "outputs": [
        {
          "output_type": "stream",
          "name": "stdout",
          "text": [
            "Perito en lunas\n",
            "Perito en lunas\n"
          ]
        }
      ]
    },
    {
      "cell_type": "markdown",
      "source": [
        "También se puede conocer a la vez el valor de dos variables o calcular su suma (o cualquier operación), asignando o sin asignar el valor a ninguna variable:"
      ],
      "metadata": {
        "id": "C2zHBp4BT2An"
      }
    },
    {
      "cell_type": "code",
      "source": [
        "a = 5\n",
        "b = 3\n",
        "ab=a+b\n",
        "print(a);print(b)\n",
        "print(a+b)\n",
        "print(ab)"
      ],
      "metadata": {
        "id": "8ZCr1I1sT6uA",
        "colab": {
          "base_uri": "https://localhost:8080/"
        },
        "outputId": "099bf1ef-b2b6-440f-887f-71c6dabbd5be"
      },
      "execution_count": null,
      "outputs": [
        {
          "output_type": "stream",
          "name": "stdout",
          "text": [
            "5\n",
            "3\n",
            "8\n",
            "8\n"
          ]
        }
      ]
    },
    {
      "cell_type": "markdown",
      "source": [
        "Cuando tratamos con variables de cadena de texto, podemos definir nuevas variables que concatenan otras, utilizando el símbolo '+'."
      ],
      "metadata": {
        "id": "IOGVDCFZdbOf"
      }
    },
    {
      "cell_type": "code",
      "source": [
        "nombre=\"Francisco\"\n",
        "apellido=\" de Quevedo\"\n",
        "autor=nombre+apellido\n",
        "print(autor)\n"
      ],
      "metadata": {
        "colab": {
          "base_uri": "https://localhost:8080/"
        },
        "id": "A876LLDVdkga",
        "outputId": "e81b2d57-92e8-4125-8436-0f33c7be8bbb"
      },
      "execution_count": null,
      "outputs": [
        {
          "output_type": "stream",
          "name": "stdout",
          "text": [
            "Francisco de Quevedo\n"
          ]
        }
      ]
    },
    {
      "cell_type": "markdown",
      "source": [
        "### <font color='steelblue'>Asignaciones aumentadas</font>\n",
        "\n",
        "Cuando una variable se modifica a partir de su propio valor, se puede utilizar la denominada **asignación aumentada**, que sintetiza el código a utilizar.\n",
        "\n",
        "Por ejemplo, la expresión `a += 5` es equivalente a `a = a + 5`\n",
        "\n",
        "En general:\n",
        "\n",
        "Asignación aumentada | Equivalente a:\n",
        "--- | :---:\n",
        "a += b | a = a+ b\n",
        "a -= b | a = a - b\n",
        "a *= b | a = a * b\n",
        "a /= b | a = a/b\n",
        "a **= b | a = a**b\n",
        "a //= b | a = a//b\n",
        "a %= b | a = a%b\n",
        "\n",
        "La anterior actualización del número de pacientes podría expresarse así:"
      ],
      "metadata": {
        "id": "cyg9bfR0O4V4"
      }
    },
    {
      "cell_type": "code",
      "source": [
        "numero_de_pacientes = 100\n",
        "numero_de_pacientes += 5\n",
        "print(numero_de_pacientes)"
      ],
      "metadata": {
        "colab": {
          "base_uri": "https://localhost:8080/"
        },
        "id": "L1erIQsBTNz7",
        "outputId": "276b8052-1077-4117-a33d-0834614aab0c"
      },
      "execution_count": null,
      "outputs": [
        {
          "output_type": "stream",
          "name": "stdout",
          "text": [
            "105\n"
          ]
        }
      ]
    },
    {
      "cell_type": "markdown",
      "source": [
        "## <font color='steelblue'>5. Salidas por pantalla: print()</font>"
      ],
      "metadata": {
        "id": "eE-RAtz3ZL1f"
      }
    },
    {
      "cell_type": "markdown",
      "source": [
        "Veamos en detalle cómo visualizar resultados en pantalla a través del comando `print()` utilizando variables y también concatenando cadenas y valores de variables, en lo que se denominan 'cadenas f'.\n",
        "\n",
        "La función `print()` permite visualizar en pantalla expresiones y también variables previamente creadas, y nos ofrece muchas opciones.\n",
        "\n",
        "Si queremos concatenar varias cadenas de texto, podemos:\n",
        "- separarlas con una coma ',' si queremos generar automáticamente un espacio entre ellas\n",
        "- separarlas con un símbolo '+' si queremos que aparezcan pegadas\n",
        "- escribirlas una a continuación de la otra, siempre que no se han asignado previamente a una variable.\n"
      ],
      "metadata": {
        "id": "2FFdX8V1cVdO"
      }
    },
    {
      "cell_type": "code",
      "source": [
        "texto=\"Hoy es\"\n",
        "dia=\"martes\"\n",
        "print(texto,dia)\n",
        "print(texto+dia)\n",
        "# para crear espacio lo incluimos en la expresión\n",
        "print(\"Hoy es \" \"martes\")"
      ],
      "metadata": {
        "colab": {
          "base_uri": "https://localhost:8080/"
        },
        "id": "7kkW6LFHnyWu",
        "outputId": "1855c34a-a78b-4e85-97a1-be508841d08d"
      },
      "execution_count": null,
      "outputs": [
        {
          "output_type": "stream",
          "name": "stdout",
          "text": [
            "Hoy es martes\n",
            "Hoy esmartes\n",
            "Hoy es martes\n"
          ]
        }
      ]
    },
    {
      "cell_type": "markdown",
      "source": [
        "Al final de cada instrucción `print()`, *Python* añade automáticamente un salto de línea. Para generar una línea adicional en blanco, se puede escribir una orden `print()` sin argumentos, o utilizar el carácter especial '\\n':"
      ],
      "metadata": {
        "id": "0P0cHHOvdLXJ"
      }
    },
    {
      "cell_type": "code",
      "source": [
        "print(\"Hola\")\n",
        "print()\n",
        "print(\"Adiós \\n\")\n",
        "print(\"Hola de nuevo\")"
      ],
      "metadata": {
        "colab": {
          "base_uri": "https://localhost:8080/"
        },
        "id": "fUYmyn_OdNZA",
        "outputId": "3410f0bd-3a6d-4f2e-9173-f2aaa9833611"
      },
      "execution_count": null,
      "outputs": [
        {
          "output_type": "stream",
          "name": "stdout",
          "text": [
            "Hola\n",
            "\n",
            "Adiós \n",
            "\n",
            "Hola de nuevo\n"
          ]
        }
      ]
    },
    {
      "cell_type": "markdown",
      "source": [
        "Si no se quiere que *Python* añada un salto de línea al final de un `print()`, se debe añadir al final el argumento `end=\"\"`, o `end=\" \"` si queremos incluir un espacio entre ellas:"
      ],
      "metadata": {
        "id": "m9JA1rxNep7s"
      }
    },
    {
      "cell_type": "code",
      "source": [
        "# sin espacios\n",
        "print(\"Hola\", end=\"\")\n",
        "print(\"y adiós.\")\n",
        "# con un espacio en la expresión\n",
        "print(\"Hola \", end=\"\")\n",
        "print(\"y Adiós\")\n",
        "# con un espacio en 'end'\n",
        "print(\"Hola\", end=\" \")\n",
        "print(\"y Adiós\")"
      ],
      "metadata": {
        "colab": {
          "base_uri": "https://localhost:8080/"
        },
        "id": "eKoGEbqdetJs",
        "outputId": "101ae032-7897-44d9-8e84-6fbd3f3b6094"
      },
      "execution_count": null,
      "outputs": [
        {
          "output_type": "stream",
          "name": "stdout",
          "text": [
            "Holay adiós.\n",
            "Hola y Adiós\n",
            "Hola y Adiós\n"
          ]
        }
      ]
    },
    {
      "cell_type": "markdown",
      "source": [
        "La función `print()` permite concatenar también expresiones o variables cadena con variables numéricas. Para ello tenemos varias opciones:\n",
        "\n",
        "- utilizando la coma para separar los argumentos"
      ],
      "metadata": {
        "id": "P701H75zlE-u"
      }
    },
    {
      "cell_type": "code",
      "source": [
        "nombre = 'Felipe'\n",
        "edad = 14\n",
        "print(\"Me llamo\", nombre, \"y tengo\", edad, \"años\")"
      ],
      "metadata": {
        "colab": {
          "base_uri": "https://localhost:8080/"
        },
        "id": "LbzQJTBclNKR",
        "outputId": "a26f64fa-a85c-4944-e16e-a23b13a72f74"
      },
      "execution_count": null,
      "outputs": [
        {
          "output_type": "stream",
          "name": "stdout",
          "text": [
            "Me llamo Felipe y tengo 14 años\n"
          ]
        }
      ]
    },
    {
      "cell_type": "markdown",
      "source": [
        "El símbolo '+' no será efectivo en este caso y generará error si queremos ejecutar\n",
        "```\n",
        "fecha = 2017\n",
        "print(\"¡Feliz \" + fecha + \"!\")\n",
        "```\n"
      ],
      "metadata": {
        "id": "CZ6HUxPVqirg"
      }
    },
    {
      "cell_type": "markdown",
      "source": [
        "- utilizando **cadenas f**, esto es, añadiendo una 'f' delante de la cadena de texto entrecomillada que contiene, entre llaves, los nombres de las variables (numéricas o cadena) que queremos integrar en la expresión.  "
      ],
      "metadata": {
        "id": "tSSpKwA7qMRc"
      }
    },
    {
      "cell_type": "code",
      "source": [
        "nombre = 'Felipe'\n",
        "edad = 14\n",
        "print(f\"Me llamo {nombre} y tengo {edad} años\")"
      ],
      "metadata": {
        "colab": {
          "base_uri": "https://localhost:8080/"
        },
        "id": "_JMxGPHF3Afu",
        "outputId": "f1c5dea0-3557-44f6-d77a-aa3c725bba9a"
      },
      "execution_count": null,
      "outputs": [
        {
          "output_type": "stream",
          "name": "stdout",
          "text": [
            "Me llamo Felipe y tengo 14 años\n"
          ]
        }
      ]
    },
    {
      "cell_type": "markdown",
      "source": [
        "También se pueden realizar operaciones con las variables dentro de estas cadenas:"
      ],
      "metadata": {
        "id": "K1WXTGJ13Meg"
      }
    },
    {
      "cell_type": "code",
      "source": [
        "horas = 2\n",
        "minutos = 60\n",
        "print(f\"{horas} horas tienen {horas * minutos} minutos\")"
      ],
      "metadata": {
        "colab": {
          "base_uri": "https://localhost:8080/"
        },
        "id": "lvc5tAYK3SAg",
        "outputId": "ba825eb6-3cbc-46c7-9227-25f606309d99"
      },
      "execution_count": null,
      "outputs": [
        {
          "output_type": "stream",
          "name": "stdout",
          "text": [
            "2 horas tienen 120 minutos\n"
          ]
        }
      ]
    },
    {
      "cell_type": "markdown",
      "source": [
        "Si queremos escribir los carácteres de llaves, `{` o `}`, se deben escribir duplicados:"
      ],
      "metadata": {
        "id": "s_rExAQ53fpu"
      }
    },
    {
      "cell_type": "code",
      "source": [
        "nombre = 'Felipe'\n",
        "print(f\"Si se escribe {{nombre}}, se escribirá el valor de la variable 'nombre', \"+\n",
        " f\"que es {nombre}.\")"
      ],
      "metadata": {
        "colab": {
          "base_uri": "https://localhost:8080/"
        },
        "id": "r9m18rFX3nuf",
        "outputId": "65abbba8-3875-441c-8e9a-33d818a7f71b"
      },
      "execution_count": null,
      "outputs": [
        {
          "output_type": "stream",
          "name": "stdout",
          "text": [
            "Si se escribe {nombre}, se escribirá el valor de la variable 'nombre', que es Felipe.\n"
          ]
        }
      ]
    },
    {
      "cell_type": "markdown",
      "source": [
        "## <font color='steelblue'>6. Indexar cadenas</font>"
      ],
      "metadata": {
        "id": "4iHKryLD71Zm"
      }
    },
    {
      "cell_type": "markdown",
      "source": [
        "Cuando trabajamos con cadenas de texto, podremos manipularlas si sabemos acceder a los diferentes caracteres que las conforman. Todos estos caracteres están indexados en Python, de modo que esta manipulación será sencilla. Veamos cómo hacerlo.\n",
        "\n",
        "El primer carácter de una cadena de texto está indexado con un 0, y consecutivamente en orden ascendente se numeran los siguientes a la derecha hasta el final. En paralelo, el último carácter de una cadena de texto está indexado en Python con el valor -1, y los siguientes a la izquierda se indexan consecutivamente con valores -2, -3 .... hasta el inicio de la expresión.\n",
        "\n",
        "Esta indexación se muestra en la siguiente imagen.\n",
        "\n",
        "<small><img src=https://raw.githubusercontent.com/ia4legos/Statistics/main/images/img_20_60_10.png height=200></small>\n",
        "\n",
        "Para acceder a los diferentes caracteres de una expresión utilizaremos pues, esta indexación escrita entre corchetes '[ índice ]'. Veamos varios ejemplos."
      ],
      "metadata": {
        "id": "V8UGgP_78W_r"
      }
    },
    {
      "cell_type": "code",
      "source": [
        "nombre = \"Felipe\"\n",
        "# accedemos a la primera letra\n",
        "primera_letra = nombre[0]\n",
        "print(\"La primera letra de {nombre} es\", primera_letra)\n",
        "# accedemos a la última letra\n",
        "ultima_letra = nombre[-1]\n",
        "print(f\"La última letra de {nombre} es\", ultima_letra)"
      ],
      "metadata": {
        "colab": {
          "base_uri": "https://localhost:8080/"
        },
        "id": "c3wiCjqdCUHv",
        "outputId": "3a8e5b6d-cfad-4741-a236-3368e791b3d3"
      },
      "execution_count": null,
      "outputs": [
        {
          "output_type": "stream",
          "name": "stdout",
          "text": [
            "La primera letra de {nombre} es F\n",
            "La última letra de Felipe es e\n"
          ]
        }
      ]
    },
    {
      "cell_type": "markdown",
      "source": [
        "Por otro lado, si queremos saber cuántos caracteres tiene la cadena, podemos usar la función `len()`."
      ],
      "metadata": {
        "id": "gDb1eRb9HEI4"
      }
    },
    {
      "cell_type": "code",
      "source": [
        "nombre = \"Felipe\"\n",
        "# número de caracteres\n",
        "len(nombre)"
      ],
      "metadata": {
        "colab": {
          "base_uri": "https://localhost:8080/"
        },
        "id": "-xVjUKtrHY-V",
        "outputId": "dbc843ee-a38a-48db-dcc0-070f7d500d52"
      },
      "execution_count": null,
      "outputs": [
        {
          "output_type": "execute_result",
          "data": {
            "text/plain": [
              "6"
            ]
          },
          "metadata": {},
          "execution_count": 51
        }
      ]
    },
    {
      "cell_type": "markdown",
      "source": [
        "Quizá ahora entiendes mejor que la indexación de derecha a izquierda comience por el '-1'. Realmente el último elemento de la cadena lo conseguimos restando 1 a la longitud de la cadena (dado que en Python la indexación siempre empieza en 0)."
      ],
      "metadata": {
        "id": "3Rrq-oBQHipB"
      }
    },
    {
      "cell_type": "code",
      "source": [
        "nombre = 'Felipe'\n",
        "print(f\"La última letra de {nombre} es\",nombre[len(nombre)-1])"
      ],
      "metadata": {
        "colab": {
          "base_uri": "https://localhost:8080/"
        },
        "id": "ndPAmKKjHvvI",
        "outputId": "41d2e248-7ce0-4183-9941-1f2fae9fd835"
      },
      "execution_count": null,
      "outputs": [
        {
          "output_type": "stream",
          "name": "stdout",
          "text": [
            "La última letra de Felipe es e\n"
          ]
        }
      ]
    },
    {
      "cell_type": "markdown",
      "source": [
        "## <font color='steelblue'>7. Seccionar cadenas </font>"
      ],
      "metadata": {
        "id": "SlCP5r5oJjze"
      }
    },
    {
      "cell_type": "markdown",
      "source": [
        "Una vez sabemos cómo localizar los diferentes caracteres de una cadena, podemos transformarlas a modo de recorte, extrayendo fragmentos o subcadenas. Para ello bastará con seleccionar el fragmento objetivo a partir de los índices que lo delimitan `[inicio:(fin+1)]`, separados por el operador rango `:`.\n",
        "\n",
        "- `inicio` es el índice del primer carácter del fragmento\n",
        "- `fin` es el índice del último carácter del fragmento.\n",
        "\n",
        "Recordemos que la indexación en Python empieza en 0.\n",
        "\n",
        "El operador  se parece a cómo se utiliza el operador en Excel\n",
        "\n",
        "<small><img src=https://raw.githubusercontent.com/ia4legos/Statistics/main/images/img_20_70_10.png weight=200></small>\n",
        "\n",
        "pero con la diferencia que, en *Python*, no se incluye el límite superior.\n",
        "\n",
        "Veamos algunos ejemplos"
      ],
      "metadata": {
        "id": "gyOQtShrJ5sR"
      }
    },
    {
      "cell_type": "code",
      "source": [
        "nombre = \"Felipe\"\n",
        "# extraemos las primeras dos letras\n",
        "fragmento = nombre[0:2]\n",
        "print(\"Las dos primeras letras son\", fragmento)\n",
        "\n",
        "# extraemos las letras entre las posiciones 2 y 5\n",
        "fragmento = nombre[1:5]\n",
        "print(\"El fragmento es\", fragmento)\n"
      ],
      "metadata": {
        "colab": {
          "base_uri": "https://localhost:8080/"
        },
        "id": "yBkKZcKbKkGH",
        "outputId": "bde59f06-7131-40db-a965-a011e2bf5c41"
      },
      "execution_count": null,
      "outputs": [
        {
          "output_type": "stream",
          "name": "stdout",
          "text": [
            "Las dos primeras letras son Fe\n",
            "El fragmento es elip\n"
          ]
        }
      ]
    },
    {
      "cell_type": "markdown",
      "source": [
        "Si queremos extraer un fragmento de la cadena a partir del primer carácter, podemos prescindir del 0 inicial, indicando sólo el índice del último carácter y sumándole 1."
      ],
      "metadata": {
        "id": "ZwknhJdMKsyn"
      }
    },
    {
      "cell_type": "code",
      "source": [
        "nombre = \"Felipe\"\n",
        "fragmento = nombre[:2]\n",
        "print(fragmento)"
      ],
      "metadata": {
        "colab": {
          "base_uri": "https://localhost:8080/"
        },
        "id": "5J6lBNv2Lt6f",
        "outputId": "3a0f1a31-35e2-4592-e4f2-1ded79d96ec3"
      },
      "execution_count": null,
      "outputs": [
        {
          "output_type": "stream",
          "name": "stdout",
          "text": [
            "Fe\n"
          ]
        }
      ]
    },
    {
      "cell_type": "markdown",
      "source": [
        "También cuando queremos extraer la última parte de una cadena, a partir de un determinado carácter y hasta el final, podemos utilizar el operador rango con un solo elemento, indicando el índice del primer carácter.\n"
      ],
      "metadata": {
        "id": "UJB-2FbaLwZi"
      }
    },
    {
      "cell_type": "code",
      "source": [
        "nombre = \"Felipe\"\n",
        "fragmento = nombre[2:]\n",
        "print(fragmento)"
      ],
      "metadata": {
        "colab": {
          "base_uri": "https://localhost:8080/"
        },
        "id": "kx9Ayq5IL6eh",
        "outputId": "558add87-cb3c-4283-cf3e-3b5703965eec"
      },
      "execution_count": null,
      "outputs": [
        {
          "output_type": "stream",
          "name": "stdout",
          "text": [
            "lipe\n"
          ]
        }
      ]
    },
    {
      "cell_type": "markdown",
      "source": [
        "Por otro lado, podemos hacer la selección desde el final, por ejemplo extrayendo los dos últimos caracteres de una cadena. Utilizaremos entonces la indexación negativa de derecha a izquierda, con la misma regla `inicio:(fin+1)` .\n"
      ],
      "metadata": {
        "id": "fAgDW0J7MJEd"
      }
    },
    {
      "cell_type": "code",
      "source": [
        "nombre = \"Felipe\"\n",
        "# últimas dos letras\n",
        "fragmento = nombre[-2:]\n",
        "print(fragmento)\n",
        "# fragmento quitando las dos últimas letras\n",
        "fragmento = nombre[:-2]\n",
        "print(fragmento)"
      ],
      "metadata": {
        "colab": {
          "base_uri": "https://localhost:8080/"
        },
        "id": "GalGrlHNN5rD",
        "outputId": "839ff162-4cad-4288-8b59-49b1f969a7a4"
      },
      "execution_count": null,
      "outputs": [
        {
          "output_type": "stream",
          "name": "stdout",
          "text": [
            "pe\n",
            "Feli\n"
          ]
        }
      ]
    },
    {
      "cell_type": "markdown",
      "source": [
        "## <font color='steelblue'>7. Ejercicio</font>"
      ],
      "metadata": {
        "id": "LkVwan8e5PfA"
      }
    },
    {
      "cell_type": "markdown",
      "source": [
        "Para la frase **\"Python aplicado a la docencia\"**, hallar:\n",
        "\n",
        "a. ¿Cuántos caracteres **\"a\"** hay en la frase?\n",
        "\n",
        "b. ¿Cuántos fragmentos **\"do\"** hay en la frase?"
      ],
      "metadata": {
        "id": "oXJnY3Plprsq"
      }
    },
    {
      "cell_type": "markdown",
      "source": [
        "En este ejercicio necesitarás la función `.count(\"x\")`, que veremos más adelante, y que se escribe justo a continuación de una variable cadena para contar cuántas veces se repite en ella un carácter o cadena de caracteres. Para probar cómo funciona, ejecuta el código a continuación."
      ],
      "metadata": {
        "id": "Ca0DRYeIQJzk"
      }
    },
    {
      "cell_type": "code",
      "source": [
        "frase = \"Python aplicado a la docencia\"\n",
        "# ¿cuántos caracteres 'a' hay en la frase?\n",
        "print(frase.count('a'))\n",
        "# ¿cuántos fragmentos \"do\" hay en la frase?\n",
        "print(frase.count('do'))"
      ],
      "metadata": {
        "id": "woukrpgNPzD5",
        "colab": {
          "base_uri": "https://localhost:8080/"
        },
        "outputId": "fd9f9892-a248-471e-cb57-5d31a1b238b2"
      },
      "execution_count": null,
      "outputs": [
        {
          "output_type": "stream",
          "name": "stdout",
          "text": [
            "5\n",
            "2\n"
          ]
        }
      ]
    }
  ]
}
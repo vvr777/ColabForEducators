{
  "nbformat": 4,
  "nbformat_minor": 0,
  "metadata": {
    "colab": {
      "provenance": []
    },
    "kernelspec": {
      "name": "python3",
      "display_name": "Python 3"
    },
    "language_info": {
      "name": "python"
    }
  },
  "cells": [
    {
      "cell_type": "markdown",
      "source": [
        "## **PANDAS**"
      ],
      "metadata": {
        "id": "HhuBK9_E9hGT"
      }
    },
    {
      "cell_type": "markdown",
      "source": [
        "## <font color='steelblue'>Introducción</font>\n",
        "\n",
        "**Descripción:** Este cuaderno introduce el módulo *Pandas*, que es básico para la manipulación eficiente de bases de datos. Estudiamos dos tipos de estructuras de datos básicas como son las series y los dataframes. Aprendemos a crearlos de distintos modos, explorarlos, describirlos, seleccionar sus elementos y realizar operaciones con ellos. Introducimos también el concepto de valor perdido o faltante en una base de datos y algunas funciones para detectarlos."
      ],
      "metadata": {
        "id": "TQMoUuV9BcMb"
      }
    },
    {
      "cell_type": "markdown",
      "source": [
        "## <font color='steelblue'> Objetivos de aprendizaje\n",
        "\n",
        "* Descubrir los tipos básicos de estructuras de datos en *Pandas*: series y dataframes.\n",
        "\n",
        "* Crear y manipular series de datos de *Pandas* para trabajar con datos unidimensionales.\n",
        "\n",
        "* Crear y manipular dataframes de *Pandas* para trabajar con bases de datos multidimensionales.\n",
        "\n",
        "* Conocer el concepto de valor perdido o faltante en una base de datos, y aplicar funciones para reconocerlos en dataframes.\n",
        "\n",
        "\n",
        "\n"
      ],
      "metadata": {
        "id": "9ltHVrooVePh"
      }
    },
    {
      "cell_type": "markdown",
      "source": [
        "## <font color='steelblue'> Contenidos </font>\n",
        "\n",
        "1. El módulo Pandas\n",
        "1. Series de datos\n",
        "1. Dataframes\n"
      ],
      "metadata": {
        "id": "LM2ZUu31V9HS"
      }
    },
    {
      "cell_type": "markdown",
      "source": [
        "## <font color='steelblue'> 1. El módulo Pandas"
      ],
      "metadata": {
        "id": "SesRoXZfZ7q9"
      }
    },
    {
      "cell_type": "markdown",
      "source": [
        "*Pandas* es una de las librerías de Python más utilizadas como herramienta de alto nivel para la manipulación y el **análisis de datos** o **ciencia de datos**. Además de implementar una tipología de objetos como las series y los dataframes, óptimas para el tratamiento analítico y estadístico de bases de datos, contiene funciones que facilitan y hacen más eficiente el análisis.\n",
        "\n",
        "Para trabajar con este módulo, importamos el módulo con la abreviatura `pd`.\n",
        "```\n",
        "import pandas as pd\n",
        "```\n",
        "Puesto que en este cuaderno trabajamos también con _NumPy_, y _matplotlib_, realizamos a continuación toda la carga de módulos precisa."
      ],
      "metadata": {
        "id": "xJ39BKHCh5LE"
      }
    },
    {
      "cell_type": "code",
      "source": [
        "# Importamos Pandas\n",
        "import pandas as pd\n",
        "\n",
        "# Importamos el resto de librerías\n",
        "import numpy as np\n",
        "%matplotlib inline\n",
        "import matplotlib.pyplot as plt\n",
        "\n",
        "# Configuración de las figuras de matplotlib\n",
        "plt.rcParams['figure.figsize'] = (15, 5)"
      ],
      "metadata": {
        "id": "aR11stEtiCMZ"
      },
      "execution_count": 3,
      "outputs": []
    },
    {
      "cell_type": "markdown",
      "source": [
        "### <font color='steelblue'>Estructuras de datos en Pandas\n",
        "\n",
        "El módulo de **Python** llamado _Pandas_ proporciona unas estructuras de datos rápidas, flexibles y expresivas, diseñadas para que el trabajo con datos _relacionales_ o _etiquetados_ sea fácil e intuitivo.\n",
        "\n",
        "_Pandas_ es adecuado para el tratamiento de diferentes tipos de datos:\n",
        "\n",
        "- Datos tabulares con columnas de tipo heterogéneo, como en una tabla de SQL o una hoja de cálculo de Excel.\n",
        "- Datos de series temporales, ordenados y no ordenados (no necesariamente de frecuencia fija).\n",
        "- Matriz de datos arbitraria, con elementos homogéneos o  heterogéneos, y con etiquetas de filas y/o columnas.\n",
        "- Cualquier otra forma de conjuntos de datos observacionales / estadísticos.\n",
        "\n",
        "Este módulo nos ofrece las siguientes estructuras de datos:\n",
        "\n",
        "* __Series__: se trata de _arrays_ unidimensionales indexados (con índice o etiqueta), similares a los diccionarios. Se pueden generar a partir de diccionarios o de listas.\n",
        "\n",
        "* __DataFrame__: son estructuras de datos similares a las tablas de bases de datos relacionales (como SQL, o más sencillo Excel). También se pueden crear a partir de listas o diccionarios.\n",
        "\n",
        "* __Panel, Panel4D y PanelND__: Estas estructuras de datos permiten trabajar con más de dos dimensiones. Dado que son estructuras complejas y además los _arrays_ de más de dos dimensiones son poco comunes, no trataremos los paneles en estos cuadernos de introdución a _Pandas_.\n",
        "\n",
        "Cuando tenemos un objeto definido con *Pandas*, para conocer de qué tipo (de los anteriores) es, utilizamos el comando:\n",
        "```\n",
        "**type(objeto)**\n",
        "```\n",
        "\n",
        "Algunas de las **ventajas** de usar _Pandas_ son:\n",
        "\n",
        "- Facilita el manejo de grandes bases de datos, con datos de diferentes tipos, y en particular de los _datos faltantes_.\n",
        "\n",
        "- Permite modificar de modo sencillo el tamaño de los objetos, como _insertar y eliminar_ columnas en un _DataFrame_, o realizar recortes y extraer subconjuntos de datos.\n",
        "\n",
        "-Permite asignar de modo sencillo etiquetas a conjuntos de datos, automática o explícitamente.\n",
        "\n",
        "- Proporciona herramientas robustas para cargar distintos tipos de archivos de datos (CSV, EXCEL, bases de datos, e incluso _HDF5 ultrarrápido_).\n",
        "\n",
        "- Dispone de una gran cantidad de funciones para manipular datos agrupadas por funcionalidad (limpiar, transformar, visualizar,...).\n",
        "\n",
        "- Sus funciones son muy eficientes para la manipulación de datos, y se integran fácilmente con otras librerías de Python.\n",
        "\n",
        "- Tiene múltiples funcionalidades para tratamiento de datos de series temporales (fechas, frecuencias, ventanas temporales, ...).\n",
        "\n",
        "- Permite transformar datos no estructurados para convertirlos en datos procesables. Los datos no estructurados son aquellos que no tienen una estructura interna identificable y por tanto carecen de valor hasta que se organizan (como por ejemplo las publicaciones en redes sociales).\n",
        "\n",
        "Como desventajas cabe mencionar que tiene una curva de aprendizaje pronunciada al inicio, y que puede requerir de mucha memoria en el computador cuando se manipulan grandes bases de datos.\n",
        "\n",
        "En conclusión, el módulo _Pandas_ es la herramienta base y más popular para realizar todas las tareas asumidas por los científicos de datos, desde el muestreo y la limpieza de datos, pasando por el análisis o modelado, hasta la visualización y la presentación de resultados."
      ],
      "metadata": {
        "id": "6T5v6wpGFUs2"
      }
    },
    {
      "cell_type": "markdown",
      "source": [
        "### <font color='steelblue'>Tipos de variables</font>\n",
        "\n",
        "En el ámbito estadístico hablamos de **variables** cuando tenemos que referirnos a características que observamos en la población de interés con algún fin informativo, explicativo o incluso predictivo. Así, para describir o explicar el gasto de las familias en nuestro país, podríamos recopilar el número de coches que tiene cada familia, los ingresos mensuales, cuánto se gasta cada semana a lo largo del año en la cesta de la compra, e incluso registrar qué productos componen dicha cesta. Todas las características que registramos para un estudio son variables y, como en el ejemplo, pueden ser de distintos tipos, hecho que influye en cómo las almacenamos y operamos con ellas.\n",
        "\n",
        "Así pues, podemos hablar de distintos **tipos de datos**, o de **variables** que _Python_ identifica de modos distintos, y que se muestran en la tabla a continuación para los ejemplos que hemos planteado anteriormente:\n",
        "\n",
        "| Tipo de dato/variable | Identificador  | Ejemplo |\n",
        "| :-------------------- | :------------- | :------------- |\n",
        "| **Cadena de texto** | `object (O)` | productos de la cesta de la compra |\n",
        "| **Número entero** | `int64`    | número de coches en la familia |\n",
        "| **Número decimal** | `float64` | ingresos mensuales |\n",
        "| **Series temporales** | `datetime64` o `timedelta` | gasto semanal en la cesta de la compra |\n",
        "\n",
        "El número '64' en los identificadores de enteros, decimales y series temporales, indica el número de bits de memoria que se asignan para almacenar datos en una celda.\n",
        "\n",
        "Cuando leemos una base de datos recopilados sobre una muestra, a veces las variables registradas no tienen bien identificado el tipo de dato que almacena, por lo que siempre será preciso una revisión exhaustiva. Para ello existen varios métodos:\n",
        "\n",
        "* **`.dtype`**, que aplicado a una variable, devuelve el identificador del tipo de dato que contiene.\n",
        "\n",
        "Cuando agrupamos varias variables, por columnas, en un _dataframe_, podemos preguntar globalmente por el tipo de datos en todas las columnas con:\n",
        "\n",
        "* **`.dtypes`**, que aplicado a un dataframe devuelve el tipo de dato para cada una de las variables/columnas.\n",
        "\n",
        "\n"
      ],
      "metadata": {
        "id": "2kwsHTaxFU0O"
      }
    },
    {
      "cell_type": "markdown",
      "source": [
        "En Estadística además, siempre hacemos otra clasificación (alternativa) de las variables, con la que tratamos de detallar, básicamente, cómo es la información que hemos recopilado, esto es, si se refiere a números, o a cualidades. Hablamos entonces de una diferenciación de las variables según dos grandes grupos, que a su vez se diferencia en otros subgrupos:\n",
        "\n",
        "* **Variables cuantitativas:** cuyas observaciones registramos con números que tienen sentido como números, y que a su vez pueden ser:\n",
        "  * __cuantitativas discretas__, que se expresan con números enteros (como el número de hijos, el número de trasplantes, el número de colegios en la comarca, ...)\n",
        "  * __cuantitativas continuas__: números que aceptan decimales (como el bmi, el peso, la distancia entre hospitales, ...).\n",
        "\n",
        "* **Variables cualitativas**, que nos propocionan información sobre una cualidad, una percepción, etc., esto es, no se responden/observan con un número, y nos permiten clasificar a los sujetos que estudiamos en grupos. Son variables de este tipo el color de ojos, la localidad de residencia, las respuestas a una encuesta de satisfacción, etc. Estos datos pueden ser cadenas de texto, pero también son representables mediante números enteros, y a veces con series temporales. Se distinguen dos subgrupos:\n",
        "\n",
        "  * __cualitativas ordinales__, en las que las respuestas o valores observables posibles tienen un orden intrínseco, como en las encuestas de satisfacción las respuestas desde Muy insatisfecho a Muy satisfecho, y que a veces se plantean con una pregunta del tipo *'Puntúa del 1 al 5'*  para obtener ya directamente la respuesta codificada y ahorrar trabajo de codificación.\n",
        "  \n",
        "  * __cualitativas nominales__, en las que la respuesta es necesariamente una cadena de texto, como el color de ojos, o la localidad de residencia.\n",
        "\n",
        "Las variables cualitativas son básicamente las variables de cadena de texto en Python, si bien para trabajar con ellas es habitual **codificar** las respuestas posibles con números que se utilizan como etiquetas para simplificar las respuestas posibles y facilitar el análisis. Así, el color de ojos se puede codificar, por ejemplo, con 1 para el verde, 2 para el azul, 3 para el marrón, y 4 para el resto, y esta codificación es arbitraria, generalmente decidida por el analista.\n",
        "\n",
        "A partir de estas definiciones, encontraremos casos en los que variables cuantitativas discretas las tratemos como cuantitativas continuas (por ejemplo cuando calculamos el número medio de hijos en España), o incluso como cualitativas nominales (si nos interesa el porcentaje de sujetos que no tienen hijos frente a los que tienen al menos uno).\n",
        "  \n",
        "Una mención especial merecen las __variables cualitativas binarias o dicotómicas__, que son aquellas en las que exclusivamente se registran dos respuestas (cualitativas) posibles, como por ejemplo si un paciente es diabético o no. En estos tipos de variables se suele optar por una codificación 0/1.\n",
        "\n",
        "Generalmente, cuando accedemos a una base de datos recopilada y almacenada por otros, se suele proporcionar una breve explicación del significado, respuestas posibles y la codificación de cada una de las variables observadas. Esta información nos permitirá asegurarnos de si efectivamente los tipos de datos que reconoce Python han sido bien registrados, o si no ha sido así, abordar las modificaciones pertinentes antes de iniciar el trabajo, para no errar en el análisis."
      ],
      "metadata": {
        "id": "VAHYh895DXYO"
      }
    },
    {
      "cell_type": "markdown",
      "source": [
        "## <font color='steelblue'> 2. Series de datos\n",
        "\n",
        "Una **serie** de datos en _Pandas_ es consiste en un vector (_array_ unidimensional) etiquetado. Sus elementos:\n",
        "\n",
        "* pueden ser de cualquier tipo (números enteros, decimales, cadenas, etc.);\n",
        "* son homogéneos, es decir, todos son del mismo tipo;\n",
        "* pueden proceder de listas, arrays o de un diccionario."
      ],
      "metadata": {
        "id": "Dy-4PRSSkw20"
      }
    },
    {
      "cell_type": "markdown",
      "source": [
        "### <font color='steelblue'>Crear\n",
        "\n",
        "Para crear una lista utilizamos la función **`Series()`** del módulo _Pandas_. Como hemos comentado, podemos crear listas a partir de listas, arrays, o incluso de un diccionario."
      ],
      "metadata": {
        "id": "HVNN3Tr8Z1nm"
      }
    },
    {
      "cell_type": "markdown",
      "source": [
        "#### <font color='steelblue'>Series con listas y arrays\n",
        "\n",
        "Empezamos generando una serie a partir de una lista, incorporada directamente como argumento en la función `Series()`, o definida previamente como una variable e incorporada en dicho argumento."
      ],
      "metadata": {
        "id": "YcM6pBtPIr7P"
      }
    },
    {
      "cell_type": "code",
      "source": [
        "# definimos una serie a partir de una lista\n",
        "serie = pd.Series([2, 24, 6, 31, -9, 3, 15])\n",
        "print(serie)\n",
        "# definimos una serie a partir de una variable (lista)\n",
        "lista = [2, 24, 6, 31, -9, 3, 15]\n",
        "serie = pd.Series(lista)\n",
        "print(serie)"
      ],
      "metadata": {
        "colab": {
          "base_uri": "https://localhost:8080/"
        },
        "id": "2tEOs6PLaomW",
        "outputId": "f8f0ab31-ecb8-4f52-94d3-7e9c16ecaf01"
      },
      "execution_count": 4,
      "outputs": [
        {
          "output_type": "stream",
          "name": "stdout",
          "text": [
            "0     2\n",
            "1    24\n",
            "2     6\n",
            "3    31\n",
            "4    -9\n",
            "5     3\n",
            "6    15\n",
            "dtype: int64\n",
            "0     2\n",
            "1    24\n",
            "2     6\n",
            "3    31\n",
            "4    -9\n",
            "5     3\n",
            "6    15\n",
            "dtype: int64\n"
          ]
        }
      ]
    },
    {
      "cell_type": "markdown",
      "source": [
        "Del mismo modo, podemos definir un array unidimensional de *Numpy* y con él crear una serie:"
      ],
      "metadata": {
        "id": "8faM45lEX1Ys"
      }
    },
    {
      "cell_type": "code",
      "source": [
        "# definimos una serie a partir de un array\n",
        "datos = np.array([2, 24, 6, 31, -9, 3, 15])\n",
        "serie=pd.Series(datos)\n",
        "print(serie)"
      ],
      "metadata": {
        "colab": {
          "base_uri": "https://localhost:8080/"
        },
        "id": "kDKs3D2qXhAq",
        "outputId": "b4146307-0f3e-472c-a576-ba231979dfc6"
      },
      "execution_count": 5,
      "outputs": [
        {
          "output_type": "stream",
          "name": "stdout",
          "text": [
            "0     2\n",
            "1    24\n",
            "2     6\n",
            "3    31\n",
            "4    -9\n",
            "5     3\n",
            "6    15\n",
            "dtype: int64\n"
          ]
        }
      ]
    },
    {
      "cell_type": "markdown",
      "source": [
        "Al visualizar la serie en pantalla, obtenemos información sobre el tipo de los datos, `dtype: int64`, en este caso enteros, y muestra los datos introducidos en dos columnas: la primera referida a índices que asigna a cada uno de los valores, y la segunda a los datos de la serie. Por defecto los índices asignados son enteros del 0 a la longitud de los datos menos 1. En este caso, como hay 7 datos, van de 0 a 6.\n",
        "\n",
        "<center><img src=https://raw.githubusercontent.com/ia4legos/Statistics/main/images/img_160_20_10.png width=\"175\" height=\"300\"></center>\n",
        "\n"
      ],
      "metadata": {
        "id": "FzZ--Q7LgrcD"
      }
    },
    {
      "cell_type": "markdown",
      "source": [
        "Verificamos ahora que efectivamente se trata de una lista, con la función `type()`:\n"
      ],
      "metadata": {
        "id": "pgUfBmSZhACz"
      }
    },
    {
      "cell_type": "code",
      "source": [
        "# comprobamos que se trata de una serie de pandas\n",
        "type(serie)\n"
      ],
      "metadata": {
        "colab": {
          "base_uri": "https://localhost:8080/"
        },
        "id": "-lX_eVS4heUz",
        "outputId": "d3154a65-e7fb-4f17-c54e-ffe84027b33b"
      },
      "execution_count": 6,
      "outputs": [
        {
          "output_type": "execute_result",
          "data": {
            "text/plain": [
              "pandas.core.series.Series"
            ]
          },
          "metadata": {},
          "execution_count": 6
        }
      ]
    },
    {
      "cell_type": "markdown",
      "source": [
        "También podemos crear una serie con índices diferentes a los asignados por defecto. Esto lo hacemos con el argumento `index` de la función `Series()`.\n",
        "\n",
        "Supongamos que cada valor corresponde a un día de la semana, y queremos hacer explícita esta información. Creamos pues una lista con los nombres de la semana, y al crear una nueva serie, `serie2`,  especificamos que queremos incorporarlos como índices con el argumento `index`."
      ],
      "metadata": {
        "id": "CmfiFwQ3P22Y"
      }
    },
    {
      "cell_type": "code",
      "source": [
        "# Creamos una serie en la que definimos los índices\n",
        "datos = [2, 24, 6, 31, -9, 3, 15]\n",
        "indices = ['Lun','Mar','Mie','Jue','Vie','Sab','Dom']\n",
        "\n",
        "serie2 = pd.Series(datos, index=indices)\n",
        "print(serie2)"
      ],
      "metadata": {
        "id": "Fejgs0KQQLUZ",
        "colab": {
          "base_uri": "https://localhost:8080/"
        },
        "outputId": "2dcce30a-c270-4766-eca7-2fc42930b221"
      },
      "execution_count": 7,
      "outputs": [
        {
          "output_type": "stream",
          "name": "stdout",
          "text": [
            "Lun     2\n",
            "Mar    24\n",
            "Mie     6\n",
            "Jue    31\n",
            "Vie    -9\n",
            "Sab     3\n",
            "Dom    15\n",
            "dtype: int64\n"
          ]
        }
      ]
    },
    {
      "cell_type": "markdown",
      "source": [
        "De esta forma, la asignación de los datos a los índices queda así:\n",
        "\n",
        "<center><img src=https://raw.githubusercontent.com/ia4legos/Statistics/main/images/img_160_20_20.png width=\"175\" height=\"300\"></center>"
      ],
      "metadata": {
        "id": "qdBP8b41R7l6"
      }
    },
    {
      "cell_type": "markdown",
      "source": [
        "#### <font color='steelblue'>Series con diccionarios\n",
        "\n",
        "También podemos crear una serie de *Pandas* a partir de un diccionario, en el que indicamos los índices como *keys* y los valores como *values*.\n",
        "\n",
        "Nos resultará útil la función `zip(keys,values)`, que nos facilita generar un diccionario a partir de sendas listas con claves (*keys*) y valores (*values*), por supuesto siempre echando mano de la función `dict()`.\n",
        "\n",
        "Veamos cómo crear la serie anterior `serie2`, a partir de un diccionario.\n",
        "\n"
      ],
      "metadata": {
        "id": "eRHMfSe7LGSK"
      }
    },
    {
      "cell_type": "code",
      "source": [
        "#Creación de series con diccionarios\n",
        "\n",
        "# creamos listas con índices y valores\n",
        "indices = [\"lunes\",\"martes\",\"miércoles\",\"jueves\",\"viernes\",\"sábado\",\"domingo\"]\n",
        "datos = [2, 24, 6, 31, -9, 3, 15]\n",
        "# creamos un diccionario con los cambios y lo mostramos\n",
        "series2 = pd.Series(dict(zip(indices,datos)))\n",
        "\n",
        "print(series2)\n",
        "print(\"Estos datos son del tipo:\",type(series2))"
      ],
      "metadata": {
        "colab": {
          "base_uri": "https://localhost:8080/"
        },
        "id": "_lUK_bYSLu0J",
        "outputId": "7ae0fbb3-09cf-42f7-ad37-e59b62204bc3"
      },
      "execution_count": 8,
      "outputs": [
        {
          "output_type": "stream",
          "name": "stdout",
          "text": [
            "lunes         2\n",
            "martes       24\n",
            "miércoles     6\n",
            "jueves       31\n",
            "viernes      -9\n",
            "sábado        3\n",
            "domingo      15\n",
            "dtype: int64\n",
            "Estos datos son del tipo: <class 'pandas.core.series.Series'>\n"
          ]
        }
      ]
    },
    {
      "cell_type": "markdown",
      "source": [
        "### <font color='steelblue'>Explorar\n",
        "\n",
        "Descubrimos cómo obtener la dimensión de una serie, asignarle un nombre, y cómo acceder y modificar sus elementos, esto es, sus valores y sus índices."
      ],
      "metadata": {
        "id": "pSxhFIOA8fN5"
      }
    },
    {
      "cell_type": "markdown",
      "source": [
        "Para conseguir información sobre la dimensión de una serie, al tratarse de un vector, utilizamos la función `len()`."
      ],
      "metadata": {
        "id": "KT2LLK_XQdOC"
      }
    },
    {
      "cell_type": "code",
      "source": [
        "# longitud de la serie\n",
        "len(serie)"
      ],
      "metadata": {
        "colab": {
          "base_uri": "https://localhost:8080/"
        },
        "id": "PLAO8XMCQXh3",
        "outputId": "28658996-da0f-4c3f-e5aa-fb41c057a2b5"
      },
      "execution_count": 9,
      "outputs": [
        {
          "output_type": "execute_result",
          "data": {
            "text/plain": [
              "7"
            ]
          },
          "metadata": {},
          "execution_count": 9
        }
      ]
    },
    {
      "cell_type": "markdown",
      "source": [
        "Por defecto una serie no tiene atributo para su nombre. Con todo, podemos cambiar el nombre para la serie completa con el método `.name`.\n",
        "\n",
        "A nuestra serie vamos a nombrarla como \"Temperatura diaria\"."
      ],
      "metadata": {
        "id": "dkA7QFbXC-hn"
      }
    },
    {
      "cell_type": "code",
      "source": [
        "# Renombrar una serie\n",
        "print(\"nombre original:\",serie.name)\n",
        "\n",
        "# cambiamos nombre\n",
        "serie.name='Temperatura diaria'\n",
        "print(serie)\n",
        "print(\"nombre modificado:\",serie.name)"
      ],
      "metadata": {
        "colab": {
          "base_uri": "https://localhost:8080/"
        },
        "id": "dvT3qU50qhlx",
        "outputId": "e8f27d60-f169-44c3-ee43-5ad73fbc06fa"
      },
      "execution_count": 10,
      "outputs": [
        {
          "output_type": "stream",
          "name": "stdout",
          "text": [
            "nombre original: None\n",
            "0     2\n",
            "1    24\n",
            "2     6\n",
            "3    31\n",
            "4    -9\n",
            "5     3\n",
            "6    15\n",
            "Name: Temperatura diaria, dtype: int64\n",
            "nombre modificado: Temperatura diaria\n"
          ]
        }
      ]
    },
    {
      "cell_type": "markdown",
      "source": [
        "Para acceder directamente a los valores de la serie (como array) y a los índices, tenemos dos métodos:\n",
        "- **`.values`** proporciona un _array_ unidimensional con los datos que almacena la serie\n",
        "- **`.index`** da el rango de etiquetas que constituyen los índices de la serie. Por defecto, los índices asignados son numerales enteros y ordenados que empiezan en el 0.\n",
        "\n",
        "Veamos cómo funcionan."
      ],
      "metadata": {
        "id": "3y1j8LNxO_oA"
      }
    },
    {
      "cell_type": "code",
      "source": [
        "# Valores de una serie\n",
        "\n",
        "print(\"Los valores son:\",serie.values)\n",
        "# verificamos que es una array de numpy\n",
        "print(type(serie.values))"
      ],
      "metadata": {
        "colab": {
          "base_uri": "https://localhost:8080/"
        },
        "id": "QLD0LpRoPEQu",
        "outputId": "06488cbe-0c05-41e0-c9a2-a15ac5cb0930"
      },
      "execution_count": 11,
      "outputs": [
        {
          "output_type": "stream",
          "name": "stdout",
          "text": [
            "Los valores son: [ 2 24  6 31 -9  3 15]\n",
            "<class 'numpy.ndarray'>\n"
          ]
        }
      ]
    },
    {
      "cell_type": "markdown",
      "source": [
        "Visualizamos los índices en las dos series anteriores, primero los que se asignan por defecto si no especificamos nada (en `serie`), y luego los asignados exprofeso en la `serie2`."
      ],
      "metadata": {
        "id": "yce_5dEERGGs"
      }
    },
    {
      "cell_type": "code",
      "source": [
        "# Índices de una serie\n",
        "print(\"Los índices por defecto son:\",serie.index)\n",
        "# índices específicos\n",
        "print(\"Los índices asignados son:\", serie2.index)"
      ],
      "metadata": {
        "colab": {
          "base_uri": "https://localhost:8080/"
        },
        "id": "AaBrpIEaPZ6B",
        "outputId": "ec3cb729-a19d-47f6-f0c5-e0dc0b51f783"
      },
      "execution_count": 12,
      "outputs": [
        {
          "output_type": "stream",
          "name": "stdout",
          "text": [
            "Los índices por defecto son: RangeIndex(start=0, stop=7, step=1)\n",
            "Los índices asignados son: Index(['Lun', 'Mar', 'Mie', 'Jue', 'Vie', 'Sab', 'Dom'], dtype='object')\n"
          ]
        }
      ]
    },
    {
      "cell_type": "markdown",
      "source": [
        "También con el método `.name` podemos asignar un nombre a los índices de una serie."
      ],
      "metadata": {
        "id": "2kuGrAkcSxFk"
      }
    },
    {
      "cell_type": "code",
      "source": [
        "# asignar nombre a los índices\n",
        "serie.index.name='Dia'\n",
        "\n",
        "print(serie)"
      ],
      "metadata": {
        "colab": {
          "base_uri": "https://localhost:8080/"
        },
        "id": "2Sab6OwESo_L",
        "outputId": "f05d9232-cfcc-4558-f0df-7fd253b2b818"
      },
      "execution_count": 13,
      "outputs": [
        {
          "output_type": "stream",
          "name": "stdout",
          "text": [
            "Dia\n",
            "0     2\n",
            "1    24\n",
            "2     6\n",
            "3    31\n",
            "4    -9\n",
            "5     3\n",
            "6    15\n",
            "Name: Temperatura diaria, dtype: int64\n"
          ]
        }
      ]
    },
    {
      "cell_type": "markdown",
      "source": [
        "En cualquier momento podemos cambiar las etiquetas o índices de una serie, asignando a los índices, en `serie.index`, una nueva lista con las nuevas etiquetas."
      ],
      "metadata": {
        "id": "o_9ENC_8TUkB"
      }
    },
    {
      "cell_type": "code",
      "source": [
        "# Cambiar los índices o etiquetas\n",
        "\n",
        "# definimos una serie a partir de una lista\n",
        "serie = pd.Series([2, 24, 6, 31, -9, 3, 15])\n",
        "print(\"Los índices originales son:\",serie.index)\n",
        "\n",
        "# definimos una lista con las nuevas etiquetas\n",
        "indices = [\"lunes\",\"martes\",\"miércoles\",\"jueves\",\"viernes\",\"sábado\",\"domingo\"]\n",
        "# La asignamos a la lista de índices\n",
        "serie.index=indices\n",
        "print(\"Los índices modificados son:\",serie.index)"
      ],
      "metadata": {
        "colab": {
          "base_uri": "https://localhost:8080/"
        },
        "id": "0ATly-2iTeP_",
        "outputId": "33b8b22b-73cf-45fc-c7a9-b8fe95014a3c"
      },
      "execution_count": 14,
      "outputs": [
        {
          "output_type": "stream",
          "name": "stdout",
          "text": [
            "Los índices originales son: RangeIndex(start=0, stop=7, step=1)\n",
            "Los índices modificados son: Index(['lunes', 'martes', 'miércoles', 'jueves', 'viernes', 'sábado',\n",
            "       'domingo'],\n",
            "      dtype='object')\n"
          ]
        }
      ]
    },
    {
      "cell_type": "markdown",
      "source": [
        "###  <font color='steelblue'> Describir\n",
        "\n",
        "Nos ocupamos en este apartado de identificar y modificar el tipo de datos en una serie, y de obtener una descripción básica tanto a nivel numérico como gráfico."
      ],
      "metadata": {
        "id": "6t0vXxBtWgAX"
      }
    },
    {
      "cell_type": "markdown",
      "source": [
        "Como ya vimos, al visualizar en pantalla una serie, proporciona automáticamente el tipo de los datos que alberga, o lo que es lo mismo, el tipo de variable que representa. Con todo, siempre podemos obtener este tipo con el método `dtype`."
      ],
      "metadata": {
        "id": "Dx1VjIGjWjuc"
      }
    },
    {
      "cell_type": "code",
      "source": [
        "# Tipo de variable en la serie\n",
        "serie.dtype"
      ],
      "metadata": {
        "colab": {
          "base_uri": "https://localhost:8080/"
        },
        "id": "na7bXcuwZLzi",
        "outputId": "83dc0217-e896-454a-f431-ed749740ef03"
      },
      "execution_count": 15,
      "outputs": [
        {
          "output_type": "execute_result",
          "data": {
            "text/plain": [
              "dtype('int64')"
            ]
          },
          "metadata": {},
          "execution_count": 15
        }
      ]
    },
    {
      "cell_type": "markdown",
      "source": [
        "No es poco frecuente que una serie contenga datos de fechas secuenciadas en las que se ha recopilado información o se han producido eventos. Este tipo de datos no es carácter, ni entero ni decimal: es de tipo fecha, y requiere, en su construcción de un cambio de tipo. Veamos cómo construir una serie de fechas, apoyándonos en el módulo __`datetime`__, que nos permite crear listas con fechas.\n",
        "\n",
        "Para ello basta identificar con la función `datetime` el instante inicial y el final, y con la función `timedelta` el salto en número de unidades para generar la secuencia entre los dos extremos. Luego, con un bucle recorremos el rango objetivo con los saltos indicados. Formateamos finalmente la fecha con la función `.strftime`.\n"
      ],
      "metadata": {
        "id": "dDdi50nRkKpA"
      }
    },
    {
      "cell_type": "code",
      "source": [
        "# GENERAMOS UNA LISTA CON FECHAS CORRELATIVAS DE LOS REGISTROS\n",
        "# Importamos el módulo datetime\n",
        "import datetime\n",
        "\n",
        "# Creamos una lista de fechas desde el 1 de noviembre al 7 de novimebre de 2021:\n",
        "  # se identifica la fecha inicial\n",
        "dia_inicial = datetime.datetime(2021,11,1)\n",
        "  # se identifica la fecha final\n",
        "dia_final = datetime.datetime(2021,11,8)\n",
        "  # se identifica el tamaño del salto: 1 día\n",
        "paso = datetime.timedelta(days=1)\n",
        "  # Creamos una lista vacía a rellenar con las fechas\n",
        "fechas = []\n",
        "\n",
        "# Rellenamos la lista fecha:\n",
        "\n",
        "  # Mientras el dia_inicial sea menor (estricto) que dia_final:\n",
        "while dia_inicial < dia_final:\n",
        "      # Añadir a la lista 'fechas' el valor de dia_inicial en formato año, mes y día\n",
        "    fechas.append(dia_inicial.strftime('%Y_%m_%d'))\n",
        "      # Sumarle el paso (1 día) a dia_inicial\n",
        "    dia_inicial += paso\n",
        "\n",
        "print(fechas)"
      ],
      "metadata": {
        "id": "7d2GzYwtk06W",
        "colab": {
          "base_uri": "https://localhost:8080/"
        },
        "outputId": "9767addf-78e9-45fd-fe08-33cd5744b210"
      },
      "execution_count": 16,
      "outputs": [
        {
          "output_type": "stream",
          "name": "stdout",
          "text": [
            "['2021_11_01', '2021_11_02', '2021_11_03', '2021_11_04', '2021_11_05', '2021_11_06', '2021_11_07']\n"
          ]
        }
      ]
    },
    {
      "cell_type": "markdown",
      "source": [
        "Ahora bien, esta lista no es reconocible como fechas, pues la interpreta como cadenas de caracteres (tipo `object`). Para solventar esto hemos de utilizar la función `to_datetime()` de *Pandas*, especificando el formato en que vienen dadas dichas fechas.\n",
        "\n",
        "Si creamos una serie con las fechas ya reconocidas como fechas, obtenemos el tipo deseado: `datetime64`."
      ],
      "metadata": {
        "id": "CjoNocx9w32r"
      }
    },
    {
      "cell_type": "code",
      "source": [
        "# Convertimos a fechas (datetime) el listado de fechas (str)\n",
        "fechas_datetime = pd.to_datetime(fechas, format=\"%Y_%m_%d\")\n",
        "\n",
        "# Comprobamos el tipo de las series que se generan\n",
        "\n",
        "# creamos una serie con la lista originaria\n",
        "print(\"Formato de la serie con el listado de fechas:\\n\",\n",
        "      pd.Series(fechas).dtypes)\n",
        "# creamos una serie con la lista convertida a fechas\n",
        "print(\"Formato de la serie con el listado de fechas convertido a fechas:\\n\",\n",
        "      pd.Series(fechas_datetime).dtypes)"
      ],
      "metadata": {
        "colab": {
          "base_uri": "https://localhost:8080/"
        },
        "id": "2f33nEzOxMAp",
        "outputId": "8984ba52-5c43-4470-e7f3-ece86852050d"
      },
      "execution_count": 17,
      "outputs": [
        {
          "output_type": "stream",
          "name": "stdout",
          "text": [
            "Formato de la serie con el listado de fechas:\n",
            " object\n",
            "Formato de la serie con el listado de fechas convertido a fechas:\n",
            " datetime64[ns]\n"
          ]
        }
      ]
    },
    {
      "cell_type": "markdown",
      "source": [
        "Disponemos además de una serie de funciones que nos dan información sobre la serie y la específicamente sobre los datos que contiene:\n",
        "- **`info()`** informa sobre la serie (de qué estructura se trata, cuántos registros tiene, su nombre, el tipo de datos, valores faltantes y memoria utilizada);\n"
      ],
      "metadata": {
        "id": "hjsvQr834Ci7"
      }
    },
    {
      "cell_type": "code",
      "source": [
        "# información sobre la serie\n",
        "serie.info()"
      ],
      "metadata": {
        "colab": {
          "base_uri": "https://localhost:8080/"
        },
        "id": "o6Ygi8Zp4ALE",
        "outputId": "5a4446e3-fe32-433b-f250-956d49401fef"
      },
      "execution_count": 18,
      "outputs": [
        {
          "output_type": "stream",
          "name": "stdout",
          "text": [
            "<class 'pandas.core.series.Series'>\n",
            "Index: 7 entries, lunes to domingo\n",
            "Series name: None\n",
            "Non-Null Count  Dtype\n",
            "--------------  -----\n",
            "7 non-null      int64\n",
            "dtypes: int64(1)\n",
            "memory usage: 112.0+ bytes\n"
          ]
        }
      ]
    },
    {
      "cell_type": "markdown",
      "source": [
        "- **`describe()`** proporciona descriptivos numéricos si la serie es de tipo numérico (entero o decimal) y conteos en el caso de que sea de tipo categórico (cadena de caracteres o fechas). Los descriptivos para series numéricas son conteos, media, desviación estándar, cuartiles y tipo.\n"
      ],
      "metadata": {
        "id": "vklQgWc65smD"
      }
    },
    {
      "cell_type": "code",
      "source": [
        "# Descriptivos numéricos de la serie\n",
        "serie.describe()"
      ],
      "metadata": {
        "colab": {
          "base_uri": "https://localhost:8080/"
        },
        "id": "3Z5RO1UN5vTC",
        "outputId": "62d032c6-6d88-4be5-a057-16a30f129f04"
      },
      "execution_count": 19,
      "outputs": [
        {
          "output_type": "execute_result",
          "data": {
            "text/plain": [
              "count     7.000000\n",
              "mean     10.285714\n",
              "std      13.852969\n",
              "min      -9.000000\n",
              "25%       2.500000\n",
              "50%       6.000000\n",
              "75%      19.500000\n",
              "max      31.000000\n",
              "dtype: float64"
            ]
          },
          "metadata": {},
          "execution_count": 19
        }
      ]
    },
    {
      "cell_type": "markdown",
      "source": [
        "Si queremos visualizar gráficamente los valores de una serie, podemos utilizar simplemente la función **`plot(marker=\"o\")`** para conseguir una secuencia de puntos interconectados, o **`plot(kind='bar')`** si queremos una representación con barras de dichos valores.\n",
        "\n",
        "Veamos cómo quedan para la serie que venimos trabajando."
      ],
      "metadata": {
        "id": "5pztFZYX6HRb"
      }
    },
    {
      "cell_type": "code",
      "source": [
        "# Gráfico de secuencia de puntos\n",
        "serie.plot(marker=\"o\")\n",
        "plt.show()"
      ],
      "metadata": {
        "colab": {
          "base_uri": "https://localhost:8080/",
          "height": 445
        },
        "id": "PT17YTdxYZ0i",
        "outputId": "a84c93cb-6d8f-4980-a0e0-0944e13dd2b4"
      },
      "execution_count": 20,
      "outputs": [
        {
          "output_type": "display_data",
          "data": {
            "text/plain": [
              "<Figure size 1500x500 with 1 Axes>"
            ],
            "image/png": "[encoded data removed]"
          },
          "metadata": {}
        }
      ]
    },
    {
      "cell_type": "code",
      "source": [
        "# Gráfico de barras\n",
        "serie.plot(kind=\"bar\")\n",
        "plt.show()"
      ],
      "metadata": {
        "colab": {
          "base_uri": "https://localhost:8080/",
          "height": 498
        },
        "id": "UYKv-J93YzX5",
        "outputId": "6e143d95-c1b8-4b54-f640-5110516ff46d"
      },
      "execution_count": 21,
      "outputs": [
        {
          "output_type": "display_data",
          "data": {
            "text/plain": [
              "<Figure size 1500x500 with 1 Axes>"
            ],
            "image/png": "[encoded data removed]"
          },
          "metadata": {}
        }
      ]
    },
    {
      "cell_type": "markdown",
      "source": [
        "###  <font color='steelblue'> Seleccionar"
      ],
      "metadata": {
        "id": "8y1JugZtNuhH"
      }
    },
    {
      "cell_type": "markdown",
      "source": [
        "Cuando tenemos una serie podemos realizar cualquier tipo de selección de sus elementos a través de sus índices o etiquetas, si las hemos definido, pero también a través del índice numérico llamado *offset*.\n",
        "\n",
        "Cada uno de los datos está asociado unívocamente con un *offset* y un índice:\n",
        "\n",
        "<center><img src=https://raw.githubusercontent.com/ia4legos/Statistics/main/images/img_160_20_30.png width=\"250\" height=\"300\"></center>\n",
        "\n",
        "La selección de los valores de una serie la podemos realizar con el operador de selección, `[...]`, pero también con unas funciones especiales que son `iloc[]` y `loc[]`, diseñadas respectivamente para índices numéricos y etiquetas. Estas funciones son especialmente útiles sobre dataframes, pero funcionan igualmente sobre series.\n",
        "\n",
        "Veamos cómo funcionan sobre una serie.\n",
        "\n",
        "\n",
        "\n"
      ],
      "metadata": {
        "id": "sxICPptqqMOF"
      }
    },
    {
      "cell_type": "code",
      "source": [
        "# Selección de elementos con [...]\n",
        "\n",
        "# creamos la serie\n",
        "datos = [2, 24, 6, 31, -9, 3, 15]\n",
        "indices = ['Lun','Mar','Mie','Jue','Vie','Sab','Dom']\n",
        "serie = pd.Series(datos,index=indices)\n",
        "print(serie)\n",
        "\n",
        "# Seleccionar un valor mediante el offset\n",
        "print(\"selección offset: La temperatura del tercer día es\" , serie[2])\n",
        "\n",
        "# Seleccionar un valor mediante el índice\n",
        "print(\"selección índice: La temperatura del miércoles es\" , serie[\"Mie\"])"
      ],
      "metadata": {
        "colab": {
          "base_uri": "https://localhost:8080/"
        },
        "id": "3UZ1kXf-C8pS",
        "outputId": "42e69af0-75dc-4b5a-d369-217fe9ce75ce"
      },
      "execution_count": 22,
      "outputs": [
        {
          "output_type": "stream",
          "name": "stdout",
          "text": [
            "Lun     2\n",
            "Mar    24\n",
            "Mie     6\n",
            "Jue    31\n",
            "Vie    -9\n",
            "Sab     3\n",
            "Dom    15\n",
            "dtype: int64\n",
            "selección offset: La temperatura del tercer día es 6\n",
            "selección índice: La temperatura del miércoles es 6\n"
          ]
        }
      ]
    },
    {
      "cell_type": "markdown",
      "source": [
        "\n",
        "\n",
        "Al igual que con las cadenas de texto o las listas, podemos seleccionar un rango de elementos (_slicing_), especificando el índice de inicio, los dos puntos `:`, y el índice final; si la selección es sobre el *offset*, sería con el numeral siguiente al último elemento a incluir.\n",
        "\n",
        "Por ejemplo, queremos seleccionar los datos entre el martes (*offset*=1) y el viernes (*offset*= 4)."
      ],
      "metadata": {
        "id": "Mkv-9yK3zZkR"
      }
    },
    {
      "cell_type": "code",
      "source": [
        "# seleccionamos un rango de elementos con el offset\n",
        "print(\"\\n selección offset: \\n\",serie[1:5])\n",
        "# seleccionamos un rango de elementos con los índices\n",
        "print(\"\\n selección índice: \\n\", serie[\"Mar\":\"Vie\"])\n"
      ],
      "metadata": {
        "colab": {
          "base_uri": "https://localhost:8080/"
        },
        "id": "fzX2gmN310T1",
        "outputId": "547a9f4c-2e16-44d0-b985-35d089081734"
      },
      "execution_count": 23,
      "outputs": [
        {
          "output_type": "stream",
          "name": "stdout",
          "text": [
            "\n",
            " selección offset: \n",
            " Mar    24\n",
            "Mie     6\n",
            "Jue    31\n",
            "Vie    -9\n",
            "dtype: int64\n",
            "\n",
            " selección índice: \n",
            " Mar    24\n",
            "Mie     6\n",
            "Jue    31\n",
            "Vie    -9\n",
            "dtype: int64\n"
          ]
        }
      ]
    },
    {
      "cell_type": "markdown",
      "source": [
        "La selección funciona exactamente igual en las series con los métodos `loc` (para índices) e `iloc` (para *offset*)."
      ],
      "metadata": {
        "id": "TRpo05UQ_Rh7"
      }
    },
    {
      "cell_type": "code",
      "source": [
        "# Selección con iloc y loc\n",
        "\n",
        "# selección por offset\n",
        "print(\"\\n selección offset con iloc: \\n\",serie.iloc[[1,3]])\n",
        "\n",
        "# selección por índices\n",
        "print(\"selección índice con loc:\\n\" , serie.loc[[\"Mar\",\"Jue\"]])"
      ],
      "metadata": {
        "colab": {
          "base_uri": "https://localhost:8080/"
        },
        "id": "Zwi89f02-KNk",
        "outputId": "b910c707-0176-4733-9133-220d0b781a0b"
      },
      "execution_count": 24,
      "outputs": [
        {
          "output_type": "stream",
          "name": "stdout",
          "text": [
            "\n",
            " selección offset con iloc: \n",
            " Mar    24\n",
            "Jue    31\n",
            "dtype: int64\n",
            "selección índice con loc:\n",
            " Mar    24\n",
            "Jue    31\n",
            "dtype: int64\n"
          ]
        }
      ]
    },
    {
      "cell_type": "markdown",
      "source": [
        "### <font color='steelblue'>  Operar"
      ],
      "metadata": {
        "id": "7S0M4DcSNw7l"
      }
    },
    {
      "cell_type": "markdown",
      "source": [
        "Puesto que los datos de las series son _ndarrays_ de _NumPy_, podemos realizar operaciones con ellos, como multiplicarlos o dividirlos. Vemos algunos ejemplos."
      ],
      "metadata": {
        "id": "umf4q7YzzCBy"
      }
    },
    {
      "cell_type": "code",
      "source": [
        "# multiplicamos toda la serie\n",
        "serie * 3"
      ],
      "metadata": {
        "colab": {
          "base_uri": "https://localhost:8080/"
        },
        "id": "EuzXix8EzRAG",
        "outputId": "c6402c2b-9934-4692-9103-e28aab442603"
      },
      "execution_count": 25,
      "outputs": [
        {
          "output_type": "execute_result",
          "data": {
            "text/plain": [
              "Lun     6\n",
              "Mar    72\n",
              "Mie    18\n",
              "Jue    93\n",
              "Vie   -27\n",
              "Sab     9\n",
              "Dom    45\n",
              "dtype: int64"
            ]
          },
          "metadata": {},
          "execution_count": 25
        }
      ]
    },
    {
      "cell_type": "code",
      "source": [
        "# dividimos toda la serie\n",
        "serie / 2"
      ],
      "metadata": {
        "colab": {
          "base_uri": "https://localhost:8080/"
        },
        "id": "EmC3ZYPazV8Q",
        "outputId": "af902534-00ab-4629-eda6-4266cca3a233"
      },
      "execution_count": 26,
      "outputs": [
        {
          "output_type": "execute_result",
          "data": {
            "text/plain": [
              "Lun     1.0\n",
              "Mar    12.0\n",
              "Mie     3.0\n",
              "Jue    15.5\n",
              "Vie    -4.5\n",
              "Sab     1.5\n",
              "Dom     7.5\n",
              "dtype: float64"
            ]
          },
          "metadata": {},
          "execution_count": 26
        }
      ]
    },
    {
      "cell_type": "markdown",
      "source": [
        "En este caso, al dividir, los datos se transforman en números decimales y cambia el tipo de datos a `float64`."
      ],
      "metadata": {
        "id": "MQHETMflN5Jg"
      }
    },
    {
      "cell_type": "markdown",
      "source": [
        "## <font color='steelblue'> 3. Dataframes\n",
        "\n",
        "Un _dataframe_ de la librería _Pandas_ es el tipo de objeto útil para representar una base de datos con una estructura de matriz bidimensional, en la que las columnas representan variables y en cada fila se distribuyen los registros de todas las variables en cada uno de los sujetos u objetos observados o medidos. Estas filas, como en las series, están indexadas y los índices pueden ser sustituidos por etiquetas. Básicamente viene a representar una agrupación de series por columnas, con lo cual puede contener columnas de distintos tipos (texto, enteros, decimales,...), pero cada columna será de un único tipo. Por supuesto, todas las series agrupadas en un _dataframe_, esto es, todas las columnas, han de tener la misma longitud o número de elementos."
      ],
      "metadata": {
        "id": "eE-RAtz3ZL1f"
      }
    },
    {
      "cell_type": "markdown",
      "source": [
        "### <font color='steelblue'>Crear  </font>\n",
        "\n",
        "\n",
        "\n",
        "Podemos crear _dataframes_ a partir de listas, arrays, y también a partir de diccionarios, con la función **`DataFrame()`** de *Pandas*. Además, podemos cargar como _dataframes_ archivos en diferentes formatos, disponibles en nuestro espacio de trabajo o en internet.\n",
        "\n"
      ],
      "metadata": {
        "id": "CjOFwwDCAH3w"
      }
    },
    {
      "cell_type": "markdown",
      "source": [
        "####<font color='steelblue'> Dataframes con listas\n",
        "\n",
        "Para **crear _dataframes_ a partir de listas** hemos de:\n",
        "1. agrupar las listas que representan las columnas en un array bidimensional, con **`np.stack()`**\n",
        "1. definir dicha agrupación como dataframe con  **`pd.DataFrame()`**.\n",
        "\n",
        "Vamos a generar una base de datos con la temperatura media diaria, durante una semana, de las capitales de provincia Alicante, Castellón y Valencia. Seguimos los pasos anteriores:"
      ],
      "metadata": {
        "id": "6hhtN2S-UimK"
      }
    },
    {
      "cell_type": "code",
      "source": [
        "# Definimos como listas los valores/registros de temperatura de cada ciudad\n",
        "Alicante = [23.3, 19.8, 16.3, 14, 13.5, 13.4, 12.6]\n",
        "Castellon = [20.9, 15.7, 15.3, 12.6, 13.3, 14.3, 14.1]\n",
        "Valencia = [21.3, 15.3, 13.7, 10.7, 10.8, 8.5, 11.9]\n",
        "\n",
        "#agrupamos por columnas las listas definidas\n",
        "temperaturas = np.stack([Alicante, Castellon, Valencia], axis=1)\n",
        "\n",
        "# definimos dicha agrupación como DataFrame\n",
        "temperatura = pd.DataFrame(temperaturas)\n",
        "print(temperatura)"
      ],
      "metadata": {
        "colab": {
          "base_uri": "https://localhost:8080/"
        },
        "id": "-_izjhq9suZe",
        "outputId": "bd24c32f-7583-4084-d44d-9e7918e67350"
      },
      "execution_count": 27,
      "outputs": [
        {
          "output_type": "stream",
          "name": "stdout",
          "text": [
            "      0     1     2\n",
            "0  23.3  20.9  21.3\n",
            "1  19.8  15.7  15.3\n",
            "2  16.3  15.3  13.7\n",
            "3  14.0  12.6  10.7\n",
            "4  13.5  13.3  10.8\n",
            "5  13.4  14.3   8.5\n",
            "6  12.6  14.1  11.9\n"
          ]
        }
      ]
    },
    {
      "cell_type": "markdown",
      "source": [
        "Comprobamos que la primera columna contiene los datos registrados para Alicante, la segunda de Castellón y la tercera de Valencia.\n",
        "\n",
        "Si no indicamos nombres para las columnas, estas quedan  nombradas con números enteros correlativos que empiezan en 0. Podemos sin embargo, dar un nombre a cada columna asignando una lista (de nombres) al argumento `columns` de la función `DataFrame()`.\n",
        "\n",
        "Repetimos la definición del dataframe, asignando nombres a las columnas a través del argumento **`columns^** en la función `DataFrame()`."
      ],
      "metadata": {
        "id": "kERubbc_tgGt"
      }
    },
    {
      "cell_type": "code",
      "source": [
        "# Creamos el dataframe de nuevo, indicando un nombre para las columnas\n",
        "temperatura = pd.DataFrame(temperaturas, columns=[\"Alicante\", \"Castellón\", \"Valencia\"])\n",
        "print(temperatura)"
      ],
      "metadata": {
        "colab": {
          "base_uri": "https://localhost:8080/"
        },
        "id": "v0avEviPt0g8",
        "outputId": "a1ddd268-368d-4cea-b828-48d73764add1"
      },
      "execution_count": 28,
      "outputs": [
        {
          "output_type": "stream",
          "name": "stdout",
          "text": [
            "   Alicante  Castellón  Valencia\n",
            "0      23.3       20.9      21.3\n",
            "1      19.8       15.7      15.3\n",
            "2      16.3       15.3      13.7\n",
            "3      14.0       12.6      10.7\n",
            "4      13.5       13.3      10.8\n",
            "5      13.4       14.3       8.5\n",
            "6      12.6       14.1      11.9\n"
          ]
        }
      ]
    },
    {
      "cell_type": "markdown",
      "source": [
        "Por defecto, las filas quedan indexadas numéricamente con la secuencia de enteros que inician en 0:\n",
        "<center><img src=https://raw.githubusercontent.com/ia4legos/Statistics/main/images/img_160_30_10.png width=\"350\" height=\"325\"></center>\n",
        "\n"
      ],
      "metadata": {
        "id": "SMn0yB74t9iz"
      }
    },
    {
      "cell_type": "markdown",
      "source": [
        "Al igual que podemos incluir los nombres de las columnas al crear el dataframe, podemos definir los nombres para los índices con el argumento **`index`** en `pd.DataFrame()`.\n",
        "\n",
        "Definimos a continuación una lista con las etiquetas para los índices, y los incorporamos al crear el _dataframe_.\n"
      ],
      "metadata": {
        "id": "vAoMUVVNXY0H"
      }
    },
    {
      "cell_type": "code",
      "source": [
        "indices = [\"lunes\",\"martes\",\"miércoles\",\"jueves\",\"viernes\",\"sábado\",\"domingo\"]\n",
        "\n",
        "# definimos dicha agrupación como DataFrame\n",
        "temperatura = pd.DataFrame(temperaturas,\n",
        "                          columns=[\"Alicante\", \"Castellón\", \"Valencia\"],\n",
        "                          index = indices)\n",
        "print(temperatura)\n",
        "\n",
        "\n"
      ],
      "metadata": {
        "colab": {
          "base_uri": "https://localhost:8080/"
        },
        "id": "WO7wy96qXsCS",
        "outputId": "54fcff91-b833-4efc-d087-77794ce295b2"
      },
      "execution_count": 29,
      "outputs": [
        {
          "output_type": "stream",
          "name": "stdout",
          "text": [
            "           Alicante  Castellón  Valencia\n",
            "lunes          23.3       20.9      21.3\n",
            "martes         19.8       15.7      15.3\n",
            "miércoles      16.3       15.3      13.7\n",
            "jueves         14.0       12.6      10.7\n",
            "viernes        13.5       13.3      10.8\n",
            "sábado         13.4       14.3       8.5\n",
            "domingo        12.6       14.1      11.9\n"
          ]
        }
      ]
    },
    {
      "cell_type": "markdown",
      "source": [
        "####<font color='steelblue'> Dataframes con diccionarios\n",
        "\n",
        "También podemos **crear un _dataframe_ a partir de un diccionario**, resultando incluso más sencillo que con listas. Para ello basta con:\n",
        "1. definir un diccionario donde la clave (_key_) es el nombre de la variable/columna en el _dataframe_, y los valores registrados vienen dados en una lista;\n",
        "2. transformar el diccionario en un dataframe con la función `pd.DataFrame()`.\n",
        "\n",
        "Como ejemplo vamos a reproducir el _dataframe_ anterior a través de un diccionario."
      ],
      "metadata": {
        "id": "qKGui4O-aU1c"
      }
    },
    {
      "cell_type": "code",
      "source": [
        "# definimos un diccionario\n",
        "temperaturas = {\"Alicante\": [23.3, 19.8, 16.3, 14, 13.5, 13.4, 12.6],\n",
        "                \"Castellon\": [20.9, 15.7, 15.3, 12.6, 13.3, 14.3, 14.1],\n",
        "                \"Valencia\": [21.3, 15.3, 13.7, 10.7, 10.8, 8.5, 11.9]}\n",
        "indices = [\"lunes\",\"martes\",\"miércoles\",\"jueves\",\"viernes\",\"sábado\",\"domingo\"]\n",
        "\n",
        "# transformamos el diccionario a dataframe\n",
        "temperatura = pd.DataFrame(temperaturas,index = indices)\n",
        "print(temperatura)"
      ],
      "metadata": {
        "colab": {
          "base_uri": "https://localhost:8080/"
        },
        "id": "oDY6T4Cs3h0C",
        "outputId": "85f54afe-f307-4a00-dfa6-73fe3d41a7e4"
      },
      "execution_count": 30,
      "outputs": [
        {
          "output_type": "stream",
          "name": "stdout",
          "text": [
            "           Alicante  Castellon  Valencia\n",
            "lunes          23.3       20.9      21.3\n",
            "martes         19.8       15.7      15.3\n",
            "miércoles      16.3       15.3      13.7\n",
            "jueves         14.0       12.6      10.7\n",
            "viernes        13.5       13.3      10.8\n",
            "sábado         13.4       14.3       8.5\n",
            "domingo        12.6       14.1      11.9\n"
          ]
        }
      ]
    },
    {
      "cell_type": "markdown",
      "source": [
        "#### <font color='steelblue'>Dataframes desde archivos\n",
        "\n",
        "Muchas veces las bases de datos con las que trabajamos proceden de otras fuentes y vienen dadas en ficheros de distintos tipos, con extensiones _csv_, _xlsx_, _html_, etc. Con _Pandas_ podemos leer fácilmente estos archivos y convertirlos directamente en _dataframes_ para poderlos manipular de forma eficiente. Disponemos de varias funciones en _Pandas_ para realizar la lectura en función del tipo de fichero/extensión:\n",
        "\n",
        "* **`read_csv`**, lee ficheros con extensión _csv_ que se encuentran en nuestro espacio de trabajo, cuyos elementos  suelen ir delimitados por comas o tabuladores;\n",
        "* **`read_table`**, lee ficheros _csv_ a los que accedemos mediante una url de acceso en internet;\n",
        "* **`read_excel`**: para ficheros con extensión _xls_, _xlsx_, _xlsm_, _xlsb_, _odf_, _ods_ y _odt_;\n",
        "* **`read_json`**: para ficheros en JavaScript con extensión _json_;\n",
        "* **`read_html`**: lee tablas en formato _html_ y las transforma en listas o _dataframes_;\n",
        "* **`read_sql`**: lee consultas o bases de datos de _SQL_.\n",
        "\n"
      ],
      "metadata": {
        "id": "9Jjp5LEFAIE7"
      }
    },
    {
      "cell_type": "markdown",
      "source": [
        "Vamos a ejemplificar cómo utilizar algunas de estas funciones, en concreto las que se utilizan con mayor frecuencia, como son las que permiten leer ficheros _csv_ en nuestro ordenador o espacio de trabajo (`read_csv`), y las que facilitan la lectura de archivos publicados y disponibles en internet (`read_table`).\n",
        "\n",
        "Como siempre, si queremos manipular los datos que leemos con _Python_, hemos de asignar lo que leemos en un objeto de _Python_."
      ],
      "metadata": {
        "id": "AmLzIqEhvSVv"
      }
    },
    {
      "cell_type": "code",
      "source": [
        "# Lectura del fichero y creación de un dataframe\n",
        "deporte = pd.read_csv(\"/content/sample_data/olympics.csv\")\n",
        "# comprobamos que la lectura es correcta\n",
        "print(deporte)\n",
        "# comprobamos que es un dataframe\n",
        "print(type(deporte))\n",
        "\n",
        "# comprobamos el tipo de las variables en el dataframe\n",
        "print(deporte.dtypes)\n"
      ],
      "metadata": {
        "colab": {
          "base_uri": "https://localhost:8080/"
        },
        "id": "KP-bwRMnOKlY",
        "outputId": "764424ae-353d-4d77-c3f8-5e270412365e"
      },
      "execution_count": 33,
      "outputs": [
        {
          "output_type": "stream",
          "name": "stdout",
          "text": [
            "                                                0         1     2     3     4  \\\n",
            "0                                             NaN  № Summer  01 !  02 !  03 !   \n",
            "1                               Afghanistan (AFG)        13     0     0     2   \n",
            "2                                   Algeria (ALG)        12     5     2     8   \n",
            "3                                 Argentina (ARG)        23    18    24    28   \n",
            "4                                   Armenia (ARM)         5     1     2     9   \n",
            "..                                            ...       ...   ...   ...   ...   \n",
            "143  Independent Olympic Participants (IOP) [IOP]         1     0     1     2   \n",
            "144                            Zambia (ZAM) [ZAM]        12     0     1     1   \n",
            "145                          Zimbabwe (ZIM) [ZIM]        12     3     4     1   \n",
            "146                        Mixed team (ZZX) [ZZX]         3     8     5     4   \n",
            "147                                        Totals        27  4809  4775  5130   \n",
            "\n",
            "         5         6     7     8     9     10       11    12    13    14  \\\n",
            "0    Total  № Winter  01 !  02 !  03 !  Total  № Games  01 !  02 !  03 !   \n",
            "1        2         0     0     0     0      0       13     0     0     2   \n",
            "2       15         3     0     0     0      0       15     5     2     8   \n",
            "3       70        18     0     0     0      0       41    18    24    28   \n",
            "4       12         6     0     0     0      0       11     1     2     9   \n",
            "..     ...       ...   ...   ...   ...    ...      ...   ...   ...   ...   \n",
            "143      3         0     0     0     0      0        1     0     1     2   \n",
            "144      2         0     0     0     0      0       12     0     1     1   \n",
            "145      8         1     0     0     0      0       13     3     4     1   \n",
            "146     17         0     0     0     0      0        3     8     5     4   \n",
            "147  14714        22   959   958   948   2865       49  5768  5733  6078   \n",
            "\n",
            "                 15  \n",
            "0    Combined total  \n",
            "1                 2  \n",
            "2                15  \n",
            "3                70  \n",
            "4                12  \n",
            "..              ...  \n",
            "143               3  \n",
            "144               2  \n",
            "145               8  \n",
            "146              17  \n",
            "147           17579  \n",
            "\n",
            "[148 rows x 16 columns]\n",
            "<class 'pandas.core.frame.DataFrame'>\n",
            "0     object\n",
            "1     object\n",
            "2     object\n",
            "3     object\n",
            "4     object\n",
            "5     object\n",
            "6     object\n",
            "7     object\n",
            "8     object\n",
            "9     object\n",
            "10    object\n",
            "11    object\n",
            "12    object\n",
            "13    object\n",
            "14    object\n",
            "15    object\n",
            "dtype: object\n"
          ]
        }
      ]
    },
    {
      "cell_type": "markdown",
      "source": [
        "En ocasiones nos va a interesar **leer directamente un archivo de datos desde internet**, quizá desde algún repositorio web, sin necesidad de descargarlo en nuestro espacio de trabajo. Cuando dichos archivos están disponibles en la web como _dataframes_ (generalmente los repositorios proporcionan previsualizaciones con las que comprobarlo, o los ficheros tienen una extensión .TSV -valores separados tabularmente-), podemos leerlos directamente como _dataframes_ en nuestro cuaderno Colab con la función **`read_table`** del módulo _Pandas_.\n",
        "\n",
        "Para ejemplificar el uso de esta función, utilizamos un archivo publicado en GitHub, llamado [`chipotle.tsv`](https://raw.githubusercontent.com/justmarkham/pandas-videos/master/data/chipotle.tsv)"
      ],
      "metadata": {
        "id": "37OGPuS8AIbq"
      }
    },
    {
      "cell_type": "code",
      "source": [
        "# Leemos el dataset de ordenes de Chipotle de una URL\n",
        "# y guardamos los resultados en un dataframe\n",
        "pedidos = pd.read_table('http://bit.ly/chiporders')\n",
        "\n",
        "# comprobamos que la lectura es correcta\n",
        "print(pedidos)\n",
        "# comprobamos que es un dataframe\n",
        "print(type(pedidos))\n",
        "\n",
        "# comprobamos los tipos de las variables\n",
        "print(pedidos.dtypes)\n"
      ],
      "metadata": {
        "colab": {
          "base_uri": "https://localhost:8080/"
        },
        "id": "19jqz36cp2w3",
        "outputId": "d963cae3-bd2b-4b8f-ddba-27c6e1f1f903"
      },
      "execution_count": 34,
      "outputs": [
        {
          "output_type": "stream",
          "name": "stdout",
          "text": [
            "      order_id  quantity                              item_name  \\\n",
            "0            1         1           Chips and Fresh Tomato Salsa   \n",
            "1            1         1                                   Izze   \n",
            "2            1         1                       Nantucket Nectar   \n",
            "3            1         1  Chips and Tomatillo-Green Chili Salsa   \n",
            "4            2         2                           Chicken Bowl   \n",
            "...        ...       ...                                    ...   \n",
            "4617      1833         1                          Steak Burrito   \n",
            "4618      1833         1                          Steak Burrito   \n",
            "4619      1834         1                     Chicken Salad Bowl   \n",
            "4620      1834         1                     Chicken Salad Bowl   \n",
            "4621      1834         1                     Chicken Salad Bowl   \n",
            "\n",
            "                                     choice_description item_price  \n",
            "0                                                   NaN     $2.39   \n",
            "1                                          [Clementine]     $3.39   \n",
            "2                                               [Apple]     $3.39   \n",
            "3                                                   NaN     $2.39   \n",
            "4     [Tomatillo-Red Chili Salsa (Hot), [Black Beans...    $16.98   \n",
            "...                                                 ...        ...  \n",
            "4617  [Fresh Tomato Salsa, [Rice, Black Beans, Sour ...    $11.75   \n",
            "4618  [Fresh Tomato Salsa, [Rice, Sour Cream, Cheese...    $11.75   \n",
            "4619  [Fresh Tomato Salsa, [Fajita Vegetables, Pinto...    $11.25   \n",
            "4620  [Fresh Tomato Salsa, [Fajita Vegetables, Lettu...     $8.75   \n",
            "4621  [Fresh Tomato Salsa, [Fajita Vegetables, Pinto...     $8.75   \n",
            "\n",
            "[4622 rows x 5 columns]\n",
            "<class 'pandas.core.frame.DataFrame'>\n",
            "order_id               int64\n",
            "quantity               int64\n",
            "item_name             object\n",
            "choice_description    object\n",
            "item_price            object\n",
            "dtype: object\n"
          ]
        }
      ]
    },
    {
      "cell_type": "markdown",
      "source": [
        "### <font color='steelblue'>Explorar\n",
        "Cuando tenemos una base de datos, los primeros pasos a dar consisten en inspeccionarla, esto es, explorar cuál es su dimensión, cómo se presentan los registros y variables, e incluso acceder a los valores que contiene para ver a continuación si la lectura se ha realizado correctamente o hay algún error. En ocasiones nos interesará modificar los nombres de las columnas y/o de las filas. A veces tendremos que incorporar alguna variable más a modo de columna, e incluso eliminar alguna columna o algún registro.\n",
        "\n",
        "Vemos cómo nos ayudan en estas tareas los métodos y funciones `shape`, `head`, `tail`, `index`, `columns`, `rename` y `drop`.\n",
        "\n"
      ],
      "metadata": {
        "id": "FIDhWnS3AIQz"
      }
    },
    {
      "cell_type": "markdown",
      "source": [
        "Cuando mostramos por pantalla un dataframe ya nos indica su **dimensión**, esto es, el número de filas y columnas. Si necesitamos dicha información en una tupla de números, tenemos el método `shape`.\n"
      ],
      "metadata": {
        "id": "5cmzjnrJbcHk"
      }
    },
    {
      "cell_type": "code",
      "source": [
        "# tupla con la dimensión del dataframe\n",
        "temperatura.shape"
      ],
      "metadata": {
        "id": "0vbg3Bxmbfqe",
        "colab": {
          "base_uri": "https://localhost:8080/"
        },
        "outputId": "0079a79b-8f08-4eb4-e512-74e561a569e2"
      },
      "execution_count": 35,
      "outputs": [
        {
          "output_type": "execute_result",
          "data": {
            "text/plain": [
              "(7, 3)"
            ]
          },
          "metadata": {},
          "execution_count": 35
        }
      ]
    },
    {
      "cell_type": "markdown",
      "source": [
        "Generalmente las bases de datos son muy voluminosas, por lo que es poco práctico visualizarlas en pantalla íntegramente. Con todo,siempre interesante ver cómo están estructuradas y cuáles son sus columnas. Para **visualizar solo unas cuantas filas del inicio o del final** tenemos las funciones **`head()`** y **`tail()`** respectivamente. Por defecto, con estas funciones, se muestran los cinco primeros (últimos) elementos, si bien se puede especificar cuántos mostrar (hasta un máximo de 60).\n",
        "\n",
        "El dataframe 'encuesta' tiene un total de 1814 filas, por lo que es inviable visualizarlas todas en pantalla. Mostremos, con estas funciones, solo unas pocas al inicio y al final."
      ],
      "metadata": {
        "id": "vVPC-F4Qr45t"
      }
    },
    {
      "cell_type": "code",
      "source": [
        "# Mostramos las 5 primeras filas\n",
        "print(\"\\n Mostramos las 5 primeras filas \\n\",temperatura.head())\n",
        "\n",
        "# Mostramos las 3 primeras filas\n",
        "print(\"\\n Mostramos las 3 primeras filas \\n\",temperatura.head(3))\n",
        "\n",
        "# Mostramos las 5 últimas filas\n",
        "print(\"\\n Mostramos las 5 últimas filas \\n\",temperatura.tail())\n",
        "\n",
        "# Mostramos las 3 primeras filas\n",
        "print(\"\\n Mostramos las 3 últimas filas \\n\",temperatura.tail(3))"
      ],
      "metadata": {
        "colab": {
          "base_uri": "https://localhost:8080/"
        },
        "id": "zMjNfI-9c4BM",
        "outputId": "95420d9d-f485-45d0-d61a-ec904e846c29"
      },
      "execution_count": 36,
      "outputs": [
        {
          "output_type": "stream",
          "name": "stdout",
          "text": [
            "\n",
            " Mostramos las 5 primeras filas \n",
            "            Alicante  Castellon  Valencia\n",
            "lunes          23.3       20.9      21.3\n",
            "martes         19.8       15.7      15.3\n",
            "miércoles      16.3       15.3      13.7\n",
            "jueves         14.0       12.6      10.7\n",
            "viernes        13.5       13.3      10.8\n",
            "\n",
            " Mostramos las 3 primeras filas \n",
            "            Alicante  Castellon  Valencia\n",
            "lunes          23.3       20.9      21.3\n",
            "martes         19.8       15.7      15.3\n",
            "miércoles      16.3       15.3      13.7\n",
            "\n",
            " Mostramos las 5 últimas filas \n",
            "            Alicante  Castellon  Valencia\n",
            "miércoles      16.3       15.3      13.7\n",
            "jueves         14.0       12.6      10.7\n",
            "viernes        13.5       13.3      10.8\n",
            "sábado         13.4       14.3       8.5\n",
            "domingo        12.6       14.1      11.9\n",
            "\n",
            " Mostramos las 3 últimas filas \n",
            "          Alicante  Castellon  Valencia\n",
            "viernes      13.5       13.3      10.8\n",
            "sábado       13.4       14.3       8.5\n",
            "domingo      12.6       14.1      11.9\n"
          ]
        }
      ]
    },
    {
      "cell_type": "markdown",
      "source": [
        "Para saber **cuál es el nombre de los índices y de las columnas** de un _dataframe_ utilizamos el método `.index` y `.columns` respectivamente."
      ],
      "metadata": {
        "id": "SlKOhA1-bi1r"
      }
    },
    {
      "cell_type": "code",
      "source": [
        "# Nombres de filas (índices) y columnas (variables)\n",
        "print(\"Índices: \",temperatura.index)\n",
        "print(\"Columnas: \",temperatura.columns)"
      ],
      "metadata": {
        "id": "Aa3AVIOyblUA",
        "colab": {
          "base_uri": "https://localhost:8080/"
        },
        "outputId": "bba222c0-4a5e-4424-c403-0bcaf99a88a3"
      },
      "execution_count": 37,
      "outputs": [
        {
          "output_type": "stream",
          "name": "stdout",
          "text": [
            "Índices:  Index(['lunes', 'martes', 'miércoles', 'jueves', 'viernes', 'sábado',\n",
            "       'domingo'],\n",
            "      dtype='object')\n",
            "Columnas:  Index(['Alicante', 'Castellon', 'Valencia'], dtype='object')\n"
          ]
        }
      ]
    },
    {
      "cell_type": "markdown",
      "source": [
        "Si queremos **modificar el nombre de las columnas o de los índices** en un dataframe tenemos dos opciones sencillas:\n",
        "\n",
        "1. crear una lista con los nuevos nombres y asignarla a la lista que contiene las columnas/índices del dataframe,\n",
        "```\n",
        "dataframe.columns = lista_nombres\n",
        "dataframe.index = lista_nombres\n",
        "```\n",
        "\n",
        "2. aplicar al dataframe la función **`.rename()`** con el argumento `columns` o `index` según corresponda, y especificando en un diccionario todas las modificaciones pertinentes `{'nombre_actual':'nombre_nuevo'}`. El argumento `inplace=True` indica que las actualizaciones sustituyen las antiguas variables; si no lo utilizamos, se asume `inplace=False`, y entonces habremos de asignar el cambio a un nuevo objeto para conservar el original.\n",
        "\n",
        "Renombramos todas las columnas en 'temperatura' con los dos métodos propuestos."
      ],
      "metadata": {
        "id": "A5a950WRkbcr"
      }
    },
    {
      "cell_type": "code",
      "source": [
        "# Modificación de nombres de columnas\n",
        "\n",
        "# Partimos del dataframe original\n",
        "temperatura = pd.DataFrame(temperaturas, columns=[\"Alicante\", \"Castellon\", \"Valencia\"])\n",
        "print(temperatura)\n",
        "# modificamos el nombre de las variables en 'temperatura'\n",
        "temperatura.columns = [\"Albacete\", \"Murcia\", \"Tarragona\"]\n",
        "print(temperatura)\n",
        "\n",
        "# Recuperamos el nombre de las variables con 'rename'\n",
        "temperatura.rename(columns={'Albacete':'Alicante', 'Murcia':'Castellon',\n",
        "                            'Tarragona': 'Valencia'}, inplace=True)\n",
        "print(temperatura)"
      ],
      "metadata": {
        "colab": {
          "base_uri": "https://localhost:8080/"
        },
        "id": "vRaEy6k6lC4V",
        "outputId": "d4b173a3-a6a7-465e-dcd3-65417d95be5e"
      },
      "execution_count": 40,
      "outputs": [
        {
          "output_type": "stream",
          "name": "stdout",
          "text": [
            "   Alicante  Castellon  Valencia\n",
            "0      23.3       20.9      21.3\n",
            "1      19.8       15.7      15.3\n",
            "2      16.3       15.3      13.7\n",
            "3      14.0       12.6      10.7\n",
            "4      13.5       13.3      10.8\n",
            "5      13.4       14.3       8.5\n",
            "6      12.6       14.1      11.9\n",
            "   Albacete  Murcia  Tarragona\n",
            "0      23.3    20.9       21.3\n",
            "1      19.8    15.7       15.3\n",
            "2      16.3    15.3       13.7\n",
            "3      14.0    12.6       10.7\n",
            "4      13.5    13.3       10.8\n",
            "5      13.4    14.3        8.5\n",
            "6      12.6    14.1       11.9\n",
            "   Alicante  Castellon  Valencia\n",
            "0      23.3       20.9      21.3\n",
            "1      19.8       15.7      15.3\n",
            "2      16.3       15.3      13.7\n",
            "3      14.0       12.6      10.7\n",
            "4      13.5       13.3      10.8\n",
            "5      13.4       14.3       8.5\n",
            "6      12.6       14.1      11.9\n"
          ]
        }
      ]
    },
    {
      "cell_type": "markdown",
      "source": [
        "Y hacemos lo mismo con los índices, asignando unas etiquetas de fecha a cada fila a través del método `index`. Luego modificamos de nuevo las etiquetas creando un diccionario en el que a cada fecha le asignamos un día de la semana, y con `rename` aparecen como índices los días de la semana."
      ],
      "metadata": {
        "id": "UCg80E_RmGnN"
      }
    },
    {
      "cell_type": "code",
      "source": [
        "# Modificación de índices con asignación 'index'\n",
        "\n",
        "# los índices iniciales son\n",
        "print(\"Los índices iniciales son:\\n\",temperatura.index)\n",
        "# asignamos a la lista con índices, los nuevos índices\n",
        "temperatura.index = fechas\n",
        "print(\"Los nuevos índices son:\\n\",temperatura.index)\n",
        "# Visualizamos el dataframe resultante\n",
        "print(\"El dataframe ahora es \\n\",temperatura)"
      ],
      "metadata": {
        "colab": {
          "base_uri": "https://localhost:8080/"
        },
        "id": "SKXYySC_lIIW",
        "outputId": "c9a5d792-1c88-40b1-a579-cd16bfe05cd8"
      },
      "execution_count": 41,
      "outputs": [
        {
          "output_type": "stream",
          "name": "stdout",
          "text": [
            "Los índices iniciales son:\n",
            " RangeIndex(start=0, stop=7, step=1)\n",
            "Los nuevos índices son:\n",
            " Index(['2021_11_01', '2021_11_02', '2021_11_03', '2021_11_04', '2021_11_05',\n",
            "       '2021_11_06', '2021_11_07'],\n",
            "      dtype='object')\n",
            "El dataframe ahora es \n",
            "             Alicante  Castellon  Valencia\n",
            "2021_11_01      23.3       20.9      21.3\n",
            "2021_11_02      19.8       15.7      15.3\n",
            "2021_11_03      16.3       15.3      13.7\n",
            "2021_11_04      14.0       12.6      10.7\n",
            "2021_11_05      13.5       13.3      10.8\n",
            "2021_11_06      13.4       14.3       8.5\n",
            "2021_11_07      12.6       14.1      11.9\n"
          ]
        }
      ]
    },
    {
      "cell_type": "markdown",
      "source": [
        "Al igual que en las series, seguimos conservando una indexación numérica, u _offset_, que podemos utilizar indistintamente a los índices para seleccionar filas.\n",
        "\n",
        "<center><img src=https://raw.githubusercontent.com/ia4legos/Statistics/main/images/img_160_30_30.png width=\"425\" height=\"325\"></center>\n",
        "\n"
      ],
      "metadata": {
        "id": "QkbU-f1JnQIT"
      }
    },
    {
      "cell_type": "markdown",
      "source": [
        "Luego modificamos de nuevo las etiquetas creando un diccionario en el que a cada fecha le asignamos un día de la semana, y con `rename` aparecen como índices los días de la semana."
      ],
      "metadata": {
        "id": "yzzX011Om7fn"
      }
    },
    {
      "cell_type": "code",
      "source": [
        "# Modificación de índices con rename\n",
        "\n",
        "# índices días de la semana\n",
        "indices = [\"lunes\",\"martes\",\"miércoles\",\"jueves\",\"viernes\",\"sábado\",\"domingo\"]\n",
        "# creamos un diccionario con los cambios y lo mostramos\n",
        "cambios = dict(zip(fechas,indices))\n",
        "print(\"Los cambios propuestos son:\\n\",cambios)\n",
        "\n",
        "# cambiamos los índices con rename y creamos un nuevo dataframe\n",
        "temperatura_bis = temperatura.rename(index = cambios)\n",
        "# Comprobamos los nuevos índices\n",
        "print(\"\\nLos nuevos índices son:\\n\",temperatura_bis.index)\n",
        "# y los índices del dataframe original\n",
        "print(\"Los índices originarios se mantienen:\\n\",temperatura.index)\n",
        "\n",
        "# Visualizamos el dataframe resultante\n",
        "print(\"\\nEl dataframe ahora es \\n\",temperatura_bis)"
      ],
      "metadata": {
        "id": "ERWgkGH-nDTv",
        "colab": {
          "base_uri": "https://localhost:8080/"
        },
        "outputId": "4c7fb1ca-068f-46fd-e141-8ba98c5038ed"
      },
      "execution_count": 42,
      "outputs": [
        {
          "output_type": "stream",
          "name": "stdout",
          "text": [
            "Los cambios propuestos son:\n",
            " {'2021_11_01': 'lunes', '2021_11_02': 'martes', '2021_11_03': 'miércoles', '2021_11_04': 'jueves', '2021_11_05': 'viernes', '2021_11_06': 'sábado', '2021_11_07': 'domingo'}\n",
            "\n",
            "Los nuevos índices son:\n",
            " Index(['lunes', 'martes', 'miércoles', 'jueves', 'viernes', 'sábado',\n",
            "       'domingo'],\n",
            "      dtype='object')\n",
            "Los índices originarios se mantienen:\n",
            " Index(['2021_11_01', '2021_11_02', '2021_11_03', '2021_11_04', '2021_11_05',\n",
            "       '2021_11_06', '2021_11_07'],\n",
            "      dtype='object')\n",
            "\n",
            "El dataframe ahora es \n",
            "            Alicante  Castellon  Valencia\n",
            "lunes          23.3       20.9      21.3\n",
            "martes         19.8       15.7      15.3\n",
            "miércoles      16.3       15.3      13.7\n",
            "jueves         14.0       12.6      10.7\n",
            "viernes        13.5       13.3      10.8\n",
            "sábado         13.4       14.3       8.5\n",
            "domingo        12.6       14.1      11.9\n"
          ]
        }
      ]
    },
    {
      "cell_type": "markdown",
      "source": [
        "Si una vez explorada la base de datos nos falta alguna información, a modo de nueva variable, podemos **añadir muy fácilmente una columna nueva**. Simplemente llamamos al dataframe con el operador de selección `[]`, e incluimos dentro de los paréntesis el nombre entrecomillado para la nueva columna. A esta selección le asignamos los valores que deseamos, organizados en una lista.\n",
        "```\n",
        "dataframe[\"nueva_variable\"] = lista_valores\n",
        "```\n",
        "\n",
        "Para poner un ejemplo vamos a recuperar la lista `fechas` que ya creamos cuando estudiamos las series, en el apartado [Series. Describir](https://colab.research.google.com/drive/1BJJh8NhCrwhpsXuqbfh4HJI1enBdW0Sx#scrollTo=6t0vXxBtWgAX), para crear una nueva variable/columna que contenga las fechas en las que se realizaron las mediciones en el dataframe 'temperatura'."
      ],
      "metadata": {
        "id": "mw3MbrrdgiyN"
      }
    },
    {
      "cell_type": "code",
      "source": [
        "# tenemos el dataframe original\n",
        "temperatura = pd.DataFrame(temperaturas, columns=[\"Alicante\", \"Castellon\", \"Valencia\"])\n",
        "# creamos una nueva variable/columna llamada 'Fecha'\n",
        "temperatura[\"Fecha\"] = pd.to_datetime(fechas, format=\"%Y_%m_%d\")\n",
        "print(temperatura)"
      ],
      "metadata": {
        "colab": {
          "base_uri": "https://localhost:8080/"
        },
        "id": "nHAUTYbWhYMK",
        "outputId": "c69c5b0a-5887-4702-fe3b-725a3bc89152"
      },
      "execution_count": 48,
      "outputs": [
        {
          "output_type": "stream",
          "name": "stdout",
          "text": [
            "   Alicante  Castellon  Valencia      Fecha\n",
            "0      23.3       20.9      21.3 2021-11-01\n",
            "1      19.8       15.7      15.3 2021-11-02\n",
            "2      16.3       15.3      13.7 2021-11-03\n",
            "3      14.0       12.6      10.7 2021-11-04\n",
            "4      13.5       13.3      10.8 2021-11-05\n",
            "5      13.4       14.3       8.5 2021-11-06\n",
            "6      12.6       14.1      11.9 2021-11-07\n"
          ]
        }
      ]
    },
    {
      "cell_type": "markdown",
      "source": [
        "Al igual que a veces necesitamos incorporar nuevas columnas, en ocasiones interesa **eliminar filas y/o columnas** en un dataframe, para lo que disponemos de la función **`.drop()`** de *Pandas*. Esta función aplica el argumento `inplace=False`, que genera un nuevo dataframe para conservar el original, por lo que el cambio habremos de asignarlo a un nuevo objeto para conservarlo.\n",
        "\n",
        "La eliminación de filas y columnas podemos hacerlas tanto con numerales como con los nombres o etiquetas correspondientes.\n",
        "\n",
        "- para eliminar una o varias filas, incluidas en una lista con las etiquetas de las filas correspondientes:\n",
        "  *  `dataframe.drop(lista_indices)`\n",
        "  *  `dataframe.drop(lista_indices, axis=0)`\n",
        "- para eliminar una o varias columnas, incluidas en una lista con los nombres de las columnas correspondientes:\n",
        "  *  `dataframe.drop(columns=lista_variables)`\n",
        "  *  `dataframe.drop(lista_variables, axis=1)`.\n",
        "\n",
        "Si no recordamos las etiquetas o nombres de los índices o columnas, siempre podemos recuperarlos a partir de las listas que los contienen, `dataframe.index` y `dataframe.columns`.\n",
        "\n",
        "Vemos a continuación cómo trabajamos estas funciones con el dataframe 'temperatura' para eliminar registros o filas.\n"
      ],
      "metadata": {
        "id": "j6QMB9CZnso-"
      }
    },
    {
      "cell_type": "code",
      "source": [
        "# Eliminar filas en un dataframe\n",
        "\n",
        "# Partimos del dataframe original\n",
        "temperatura = pd.DataFrame(temperaturas,\n",
        "                           columns=[\"Alicante\", \"Castellon\", \"Valencia\"])\n",
        "# eliminamos las dos primeras filas\n",
        "print(temperatura.drop(range(0,2)))\n",
        "# eliminamos las filas 3 y 4\n",
        "print(temperatura.drop([2,3],axis=0))\n",
        "\n",
        "# renombramos índices y eliminamos el martes y el jueves\n",
        "temperatura.index=indices\n",
        "print(temperatura.drop(['martes','jueves']))\n",
        "\n",
        "# eliminamos el primer registro pero no recordamos su etiqueta\n",
        "print(temperatura.drop(temperatura.index[0]))\n"
      ],
      "metadata": {
        "id": "0aUvwXFRn67T",
        "colab": {
          "base_uri": "https://localhost:8080/"
        },
        "outputId": "d114e827-9959-4982-889c-0e893ad1205f"
      },
      "execution_count": 45,
      "outputs": [
        {
          "output_type": "stream",
          "name": "stdout",
          "text": [
            "   Alicante  Castellon  Valencia\n",
            "2      16.3       15.3      13.7\n",
            "3      14.0       12.6      10.7\n",
            "4      13.5       13.3      10.8\n",
            "5      13.4       14.3       8.5\n",
            "6      12.6       14.1      11.9\n",
            "   Alicante  Castellon  Valencia\n",
            "0      23.3       20.9      21.3\n",
            "1      19.8       15.7      15.3\n",
            "4      13.5       13.3      10.8\n",
            "5      13.4       14.3       8.5\n",
            "6      12.6       14.1      11.9\n",
            "           Alicante  Castellon  Valencia\n",
            "lunes          23.3       20.9      21.3\n",
            "miércoles      16.3       15.3      13.7\n",
            "viernes        13.5       13.3      10.8\n",
            "sábado         13.4       14.3       8.5\n",
            "domingo        12.6       14.1      11.9\n",
            "           Alicante  Castellon  Valencia\n",
            "martes         19.8       15.7      15.3\n",
            "miércoles      16.3       15.3      13.7\n",
            "jueves         14.0       12.6      10.7\n",
            "viernes        13.5       13.3      10.8\n",
            "sábado         13.4       14.3       8.5\n",
            "domingo        12.6       14.1      11.9\n"
          ]
        }
      ]
    },
    {
      "cell_type": "markdown",
      "source": [
        "Y ahora lo hacemos para eliminar columnas."
      ],
      "metadata": {
        "id": "8RrHIriboBKp"
      }
    },
    {
      "cell_type": "code",
      "source": [
        "# Eliminar columnas en un dataframe\n",
        "\n",
        "# añadimos la variable Fecha\n",
        "temperatura[\"Fecha\"]=fechas\n",
        "print(temperatura)\n",
        "# eliminamos la columna Fecha\n",
        "print(temperatura.drop(columns='Fecha'))\n",
        "\n",
        "# eliminamos las dos primeras columnas\n",
        "print(temperatura.drop(columns=[\"Alicante\",\"Castellon\"]))\n",
        "print(temperatura.drop([\"Alicante\",\"Castellon\"],axis=1))\n",
        "print(temperatura.drop(temperatura.columns[0:2],axis=1))"
      ],
      "metadata": {
        "id": "DMshDTv5oDlp",
        "colab": {
          "base_uri": "https://localhost:8080/"
        },
        "outputId": "de36af7d-65ad-4738-d2e8-2713d3824078"
      },
      "execution_count": 46,
      "outputs": [
        {
          "output_type": "stream",
          "name": "stdout",
          "text": [
            "           Alicante  Castellon  Valencia       Fecha\n",
            "lunes          23.3       20.9      21.3  2021_11_01\n",
            "martes         19.8       15.7      15.3  2021_11_02\n",
            "miércoles      16.3       15.3      13.7  2021_11_03\n",
            "jueves         14.0       12.6      10.7  2021_11_04\n",
            "viernes        13.5       13.3      10.8  2021_11_05\n",
            "sábado         13.4       14.3       8.5  2021_11_06\n",
            "domingo        12.6       14.1      11.9  2021_11_07\n",
            "           Alicante  Castellon  Valencia\n",
            "lunes          23.3       20.9      21.3\n",
            "martes         19.8       15.7      15.3\n",
            "miércoles      16.3       15.3      13.7\n",
            "jueves         14.0       12.6      10.7\n",
            "viernes        13.5       13.3      10.8\n",
            "sábado         13.4       14.3       8.5\n",
            "domingo        12.6       14.1      11.9\n",
            "           Valencia       Fecha\n",
            "lunes          21.3  2021_11_01\n",
            "martes         15.3  2021_11_02\n",
            "miércoles      13.7  2021_11_03\n",
            "jueves         10.7  2021_11_04\n",
            "viernes        10.8  2021_11_05\n",
            "sábado          8.5  2021_11_06\n",
            "domingo        11.9  2021_11_07\n",
            "           Valencia       Fecha\n",
            "lunes          21.3  2021_11_01\n",
            "martes         15.3  2021_11_02\n",
            "miércoles      13.7  2021_11_03\n",
            "jueves         10.7  2021_11_04\n",
            "viernes        10.8  2021_11_05\n",
            "sábado          8.5  2021_11_06\n",
            "domingo        11.9  2021_11_07\n",
            "           Valencia       Fecha\n",
            "lunes          21.3  2021_11_01\n",
            "martes         15.3  2021_11_02\n",
            "miércoles      13.7  2021_11_03\n",
            "jueves         10.7  2021_11_04\n",
            "viernes        10.8  2021_11_05\n",
            "sábado          8.5  2021_11_06\n",
            "domingo        11.9  2021_11_07\n"
          ]
        }
      ]
    },
    {
      "cell_type": "markdown",
      "source": [
        "### <font color='steelblue'>Describir\n",
        "\n"
      ],
      "metadata": {
        "id": "Kl4Ban3gdvUC"
      }
    },
    {
      "cell_type": "markdown",
      "source": [
        "Una vez explorada la base de datos, los siguientes pasos tienen que ver con la descripción de la misma, y en particular de las variables que contiene. Trabajamos en este apartado cómo conseguir información sobre el tipo de datos en cada una de las columnas, y también cómo modificarlos cuando nos interese hacer un cambio (funciones `info()`, `dtype()`, `dtypes()` y `astype()`). También contamos cómo obtener los descriptivos estadísticos básicos para variables numéricas y categóricas con `describe()`, así como representar frecuencias con volumen de respuestas a través de diagramas de barras (con `value_counts()` y `plot(kind='bar')`).\n",
        "\n",
        "\n",
        "Para obtener la información básica sobre una base de datos, esto es, formato de la base de datos, nombre de las columnas, número de datos no nulos  y el tipo de variable, podemos utilizar la función **`info()`**."
      ],
      "metadata": {
        "id": "gWP3aciBcZNz"
      }
    },
    {
      "cell_type": "code",
      "source": [
        "temperatura.info()"
      ],
      "metadata": {
        "colab": {
          "base_uri": "https://localhost:8080/"
        },
        "id": "hafQ-JD7ci5w",
        "outputId": "0ca5e3a2-2abf-48b1-ea2e-fd28df4a47f3"
      },
      "execution_count": 50,
      "outputs": [
        {
          "output_type": "stream",
          "name": "stdout",
          "text": [
            "<class 'pandas.core.frame.DataFrame'>\n",
            "RangeIndex: 7 entries, 0 to 6\n",
            "Data columns (total 4 columns):\n",
            " #   Column     Non-Null Count  Dtype         \n",
            "---  ------     --------------  -----         \n",
            " 0   Alicante   7 non-null      float64       \n",
            " 1   Castellon  7 non-null      float64       \n",
            " 2   Valencia   7 non-null      float64       \n",
            " 3   Fecha      7 non-null      datetime64[ns]\n",
            "dtypes: datetime64[ns](1), float64(3)\n",
            "memory usage: 352.0 bytes\n"
          ]
        }
      ]
    },
    {
      "cell_type": "code",
      "source": [
        "deporte.info()"
      ],
      "metadata": {
        "colab": {
          "base_uri": "https://localhost:8080/"
        },
        "id": "nAGIKqcp_7iK",
        "outputId": "d6a75ba8-df16-440e-aad7-c4450c378e89"
      },
      "execution_count": 52,
      "outputs": [
        {
          "output_type": "stream",
          "name": "stdout",
          "text": [
            "<class 'pandas.core.frame.DataFrame'>\n",
            "RangeIndex: 148 entries, 0 to 147\n",
            "Data columns (total 16 columns):\n",
            " #   Column  Non-Null Count  Dtype \n",
            "---  ------  --------------  ----- \n",
            " 0   0       147 non-null    object\n",
            " 1   1       148 non-null    object\n",
            " 2   2       148 non-null    object\n",
            " 3   3       148 non-null    object\n",
            " 4   4       148 non-null    object\n",
            " 5   5       148 non-null    object\n",
            " 6   6       148 non-null    object\n",
            " 7   7       148 non-null    object\n",
            " 8   8       148 non-null    object\n",
            " 9   9       148 non-null    object\n",
            " 10  10      148 non-null    object\n",
            " 11  11      148 non-null    object\n",
            " 12  12      148 non-null    object\n",
            " 13  13      148 non-null    object\n",
            " 14  14      148 non-null    object\n",
            " 15  15      148 non-null    object\n",
            "dtypes: object(16)\n",
            "memory usage: 18.6+ KB\n"
          ]
        }
      ]
    },
    {
      "cell_type": "markdown",
      "source": [
        "Específicamente para **comprobar el tipo de las variables** en un dataframe  de un modo individual disponemos del método **`.dtype`**, y para conseguir el tipo de todas a la vez contamos con **`dtypes`**."
      ],
      "metadata": {
        "id": "OfT2TXJNcjiY"
      }
    },
    {
      "cell_type": "code",
      "source": [
        "# Mostramos todos los tipos de las variables\n",
        "print(temperatura.dtypes)\n",
        "# Mostramos el tipo de una sola variable\n",
        "print(\"\\nEdad es de tipo:\",temperatura[\"Fecha\"].dtype)\n"
      ],
      "metadata": {
        "colab": {
          "base_uri": "https://localhost:8080/"
        },
        "id": "5d0Ohd5SeQio",
        "outputId": "da5f20ba-e108-4f6c-9b0d-382b2025ed76"
      },
      "execution_count": 54,
      "outputs": [
        {
          "output_type": "stream",
          "name": "stdout",
          "text": [
            "Alicante            float64\n",
            "Castellon           float64\n",
            "Valencia            float64\n",
            "Fecha        datetime64[ns]\n",
            "dtype: object\n",
            "\n",
            "Edad es de tipo: datetime64[ns]\n"
          ]
        }
      ]
    },
    {
      "cell_type": "markdown",
      "source": [
        "Para **obtener los descriptivos numéricos básicos** en las variables numéricas de un _dataframe_ (número de datos, media, desviación estándar, y cuartiles), tenemos la función **`describe()`**.\n",
        "\n",
        "Al aplicarla al dataframe `encuesta`, presenta los descriptivos de las variables numéricas `edad`, `peso` y `talla`."
      ],
      "metadata": {
        "id": "RFk_Fe6UccJH"
      }
    },
    {
      "cell_type": "code",
      "source": [
        "# Descriptivos básicos de las variables numéricas en 'encuesta'\n",
        "temperatura.describe()"
      ],
      "metadata": {
        "colab": {
          "base_uri": "https://localhost:8080/",
          "height": 300
        },
        "id": "88tscZged16H",
        "outputId": "ff9417c9-c0bf-4dfe-e755-f29de0483bfb"
      },
      "execution_count": 55,
      "outputs": [
        {
          "output_type": "execute_result",
          "data": {
            "text/plain": [
              "        Alicante  Castellon   Valencia\n",
              "count   7.000000   7.000000   7.000000\n",
              "mean   16.128571  15.171429  13.171429\n",
              "std     4.005710   2.742696   4.204250\n",
              "min    12.600000  12.600000   8.500000\n",
              "25%    13.450000  13.700000  10.750000\n",
              "50%    14.000000  14.300000  11.900000\n",
              "75%    18.050000  15.500000  14.500000\n",
              "max    23.300000  20.900000  21.300000"
            ],
            "text/html": [
              "\n",
              "  <div id=\"df-579f79c1-63d0-4fbe-b1cd-bc18397321db\" class=\"colab-df-container\">\n",
              "    <div>\n",
              "<style scoped>\n",
              "    .dataframe tbody tr th:only-of-type {\n",
              "        vertical-align: middle;\n",
              "    }\n",
              "\n",
              "    .dataframe tbody tr th {\n",
              "        vertical-align: top;\n",
              "    }\n",
              "\n",
              "    .dataframe thead th {\n",
              "        text-align: right;\n",
              "    }\n",
              "</style>\n",
              "<table border=\"1\" class=\"dataframe\">\n",
              "  <thead>\n",
              "    <tr style=\"text-align: right;\">\n",
              "      <th></th>\n",
              "      <th>Alicante</th>\n",
              "      <th>Castellon</th>\n",
              "      <th>Valencia</th>\n",
              "    </tr>\n",
              "  </thead>\n",
              "  <tbody>\n",
              "    <tr>\n",
              "      <th>count</th>\n",
              "      <td>7.000000</td>\n",
              "      <td>7.000000</td>\n",
              "      <td>7.000000</td>\n",
              "    </tr>\n",
              "    <tr>\n",
              "      <th>mean</th>\n",
              "      <td>16.128571</td>\n",
              "      <td>15.171429</td>\n",
              "      <td>13.171429</td>\n",
              "    </tr>\n",
              "    <tr>\n",
              "      <th>std</th>\n",
              "      <td>4.005710</td>\n",
              "      <td>2.742696</td>\n",
              "      <td>4.204250</td>\n",
              "    </tr>\n",
              "    <tr>\n",
              "      <th>min</th>\n",
              "      <td>12.600000</td>\n",
              "      <td>12.600000</td>\n",
              "      <td>8.500000</td>\n",
              "    </tr>\n",
              "    <tr>\n",
              "      <th>25%</th>\n",
              "      <td>13.450000</td>\n",
              "      <td>13.700000</td>\n",
              "      <td>10.750000</td>\n",
              "    </tr>\n",
              "    <tr>\n",
              "      <th>50%</th>\n",
              "      <td>14.000000</td>\n",
              "      <td>14.300000</td>\n",
              "      <td>11.900000</td>\n",
              "    </tr>\n",
              "    <tr>\n",
              "      <th>75%</th>\n",
              "      <td>18.050000</td>\n",
              "      <td>15.500000</td>\n",
              "      <td>14.500000</td>\n",
              "    </tr>\n",
              "    <tr>\n",
              "      <th>max</th>\n",
              "      <td>23.300000</td>\n",
              "      <td>20.900000</td>\n",
              "      <td>21.300000</td>\n",
              "    </tr>\n",
              "  </tbody>\n",
              "</table>\n",
              "</div>\n",
              "    <div class=\"colab-df-buttons\">\n",
              "\n",
              "  <div class=\"colab-df-container\">\n",
              "    <button class=\"colab-df-convert\" onclick=\"convertToInteractive('df-579f79c1-63d0-4fbe-b1cd-bc18397321db')\"\n",
              "            title=\"Convert this dataframe to an interactive table.\"\n",
              "            style=\"display:none;\">\n",
              "\n",
              "  <svg xmlns=\"http://www.w3.org/2000/svg\" height=\"24px\" viewBox=\"0 -960 960 960\">\n",
              "    <path d=\"M120-120v-720h720v720H120Zm60-500h600v-160H180v160Zm220 220h160v-160H400v160Zm0 220h160v-160H400v160ZM180-400h160v-160H180v160Zm440 0h160v-160H620v160ZM180-180h160v-160H180v160Zm440 0h160v-160H620v160Z\"/>\n",
              "  </svg>\n",
              "    </button>\n",
              "\n",
              "  <style>\n",
              "    .colab-df-container {\n",
              "      display:flex;\n",
              "      gap: 12px;\n",
              "    }\n",
              "\n",
              "    .colab-df-convert {\n",
              "      background-color: #E8F0FE;\n",
              "      border: none;\n",
              "      border-radius: 50%;\n",
              "      cursor: pointer;\n",
              "      display: none;\n",
              "      fill: #1967D2;\n",
              "      height: 32px;\n",
              "      padding: 0 0 0 0;\n",
              "      width: 32px;\n",
              "    }\n",
              "\n",
              "    .colab-df-convert:hover {\n",
              "      background-color: #E2EBFA;\n",
              "      box-shadow: 0px 1px 2px rgba(60, 64, 67, 0.3), 0px 1px 3px 1px rgba(60, 64, 67, 0.15);\n",
              "      fill: #174EA6;\n",
              "    }\n",
              "\n",
              "    .colab-df-buttons div {\n",
              "      margin-bottom: 4px;\n",
              "    }\n",
              "\n",
              "    [theme=dark] .colab-df-convert {\n",
              "      background-color: #3B4455;\n",
              "      fill: #D2E3FC;\n",
              "    }\n",
              "\n",
              "    [theme=dark] .colab-df-convert:hover {\n",
              "      background-color: #434B5C;\n",
              "      box-shadow: 0px 1px 3px 1px rgba(0, 0, 0, 0.15);\n",
              "      filter: drop-shadow(0px 1px 2px rgba(0, 0, 0, 0.3));\n",
              "      fill: #FFFFFF;\n",
              "    }\n",
              "  </style>\n",
              "\n",
              "    <script>\n",
              "      const buttonEl =\n",
              "        document.querySelector('#df-579f79c1-63d0-4fbe-b1cd-bc18397321db button.colab-df-convert');\n",
              "      buttonEl.style.display =\n",
              "        google.colab.kernel.accessAllowed ? 'block' : 'none';\n",
              "\n",
              "      async function convertToInteractive(key) {\n",
              "        const element = document.querySelector('#df-579f79c1-63d0-4fbe-b1cd-bc18397321db');\n",
              "        const dataTable =\n",
              "          await google.colab.kernel.invokeFunction('convertToInteractive',\n",
              "                                                    [key], {});\n",
              "        if (!dataTable) return;\n",
              "\n",
              "        const docLinkHtml = 'Like what you see? Visit the ' +\n",
              "          '<a target=\"_blank\" href=https://colab.research.google.com/notebooks/data_table.ipynb>data table notebook</a>'\n",
              "          + ' to learn more about interactive tables.';\n",
              "        element.innerHTML = '';\n",
              "        dataTable['output_type'] = 'display_data';\n",
              "        await google.colab.output.renderOutput(dataTable, element);\n",
              "        const docLink = document.createElement('div');\n",
              "        docLink.innerHTML = docLinkHtml;\n",
              "        element.appendChild(docLink);\n",
              "      }\n",
              "    </script>\n",
              "  </div>\n",
              "\n",
              "\n",
              "<div id=\"df-4821be8f-64b7-418a-bfff-5b3b98f796fc\">\n",
              "  <button class=\"colab-df-quickchart\" onclick=\"quickchart('df-4821be8f-64b7-418a-bfff-5b3b98f796fc')\"\n",
              "            title=\"Suggest charts\"\n",
              "            style=\"display:none;\">\n",
              "\n",
              "<svg xmlns=\"http://www.w3.org/2000/svg\" height=\"24px\"viewBox=\"0 0 24 24\"\n",
              "     width=\"24px\">\n",
              "    <g>\n",
              "        <path d=\"M19 3H5c-1.1 0-2 .9-2 2v14c0 1.1.9 2 2 2h14c1.1 0 2-.9 2-2V5c0-1.1-.9-2-2-2zM9 17H7v-7h2v7zm4 0h-2V7h2v10zm4 0h-2v-4h2v4z\"/>\n",
              "    </g>\n",
              "</svg>\n",
              "  </button>\n",
              "\n",
              "<style>\n",
              "  .colab-df-quickchart {\n",
              "      --bg-color: #E8F0FE;\n",
              "      --fill-color: #1967D2;\n",
              "      --hover-bg-color: #E2EBFA;\n",
              "      --hover-fill-color: #174EA6;\n",
              "      --disabled-fill-color: #AAA;\n",
              "      --disabled-bg-color: #DDD;\n",
              "  }\n",
              "\n",
              "  [theme=dark] .colab-df-quickchart {\n",
              "      --bg-color: #3B4455;\n",
              "      --fill-color: #D2E3FC;\n",
              "      --hover-bg-color: #434B5C;\n",
              "      --hover-fill-color: #FFFFFF;\n",
              "      --disabled-bg-color: #3B4455;\n",
              "      --disabled-fill-color: #666;\n",
              "  }\n",
              "\n",
              "  .colab-df-quickchart {\n",
              "    background-color: var(--bg-color);\n",
              "    border: none;\n",
              "    border-radius: 50%;\n",
              "    cursor: pointer;\n",
              "    display: none;\n",
              "    fill: var(--fill-color);\n",
              "    height: 32px;\n",
              "    padding: 0;\n",
              "    width: 32px;\n",
              "  }\n",
              "\n",
              "  .colab-df-quickchart:hover {\n",
              "    background-color: var(--hover-bg-color);\n",
              "    box-shadow: 0 1px 2px rgba(60, 64, 67, 0.3), 0 1px 3px 1px rgba(60, 64, 67, 0.15);\n",
              "    fill: var(--button-hover-fill-color);\n",
              "  }\n",
              "\n",
              "  .colab-df-quickchart-complete:disabled,\n",
              "  .colab-df-quickchart-complete:disabled:hover {\n",
              "    background-color: var(--disabled-bg-color);\n",
              "    fill: var(--disabled-fill-color);\n",
              "    box-shadow: none;\n",
              "  }\n",
              "\n",
              "  .colab-df-spinner {\n",
              "    border: 2px solid var(--fill-color);\n",
              "    border-color: transparent;\n",
              "    border-bottom-color: var(--fill-color);\n",
              "    animation:\n",
              "      spin 1s steps(1) infinite;\n",
              "  }\n",
              "\n",
              "  @keyframes spin {\n",
              "    0% {\n",
              "      border-color: transparent;\n",
              "      border-bottom-color: var(--fill-color);\n",
              "      border-left-color: var(--fill-color);\n",
              "    }\n",
              "    20% {\n",
              "      border-color: transparent;\n",
              "      border-left-color: var(--fill-color);\n",
              "      border-top-color: var(--fill-color);\n",
              "    }\n",
              "    30% {\n",
              "      border-color: transparent;\n",
              "      border-left-color: var(--fill-color);\n",
              "      border-top-color: var(--fill-color);\n",
              "      border-right-color: var(--fill-color);\n",
              "    }\n",
              "    40% {\n",
              "      border-color: transparent;\n",
              "      border-right-color: var(--fill-color);\n",
              "      border-top-color: var(--fill-color);\n",
              "    }\n",
              "    60% {\n",
              "      border-color: transparent;\n",
              "      border-right-color: var(--fill-color);\n",
              "    }\n",
              "    80% {\n",
              "      border-color: transparent;\n",
              "      border-right-color: var(--fill-color);\n",
              "      border-bottom-color: var(--fill-color);\n",
              "    }\n",
              "    90% {\n",
              "      border-color: transparent;\n",
              "      border-bottom-color: var(--fill-color);\n",
              "    }\n",
              "  }\n",
              "</style>\n",
              "\n",
              "  <script>\n",
              "    async function quickchart(key) {\n",
              "      const quickchartButtonEl =\n",
              "        document.querySelector('#' + key + ' button');\n",
              "      quickchartButtonEl.disabled = true;  // To prevent multiple clicks.\n",
              "      quickchartButtonEl.classList.add('colab-df-spinner');\n",
              "      try {\n",
              "        const charts = await google.colab.kernel.invokeFunction(\n",
              "            'suggestCharts', [key], {});\n",
              "      } catch (error) {\n",
              "        console.error('Error during call to suggestCharts:', error);\n",
              "      }\n",
              "      quickchartButtonEl.classList.remove('colab-df-spinner');\n",
              "      quickchartButtonEl.classList.add('colab-df-quickchart-complete');\n",
              "    }\n",
              "    (() => {\n",
              "      let quickchartButtonEl =\n",
              "        document.querySelector('#df-4821be8f-64b7-418a-bfff-5b3b98f796fc button');\n",
              "      quickchartButtonEl.style.display =\n",
              "        google.colab.kernel.accessAllowed ? 'block' : 'none';\n",
              "    })();\n",
              "  </script>\n",
              "</div>\n",
              "\n",
              "    </div>\n",
              "  </div>\n"
            ]
          },
          "metadata": {},
          "execution_count": 55
        }
      ]
    },
    {
      "cell_type": "markdown",
      "source": [
        "Al observar la información proporcionada, vemos que la variable `edad` cuenta con 1814 registros, y las otras dos con solo 1777, lo que implica que tienen valores perdidos (o faltantes); más adelante estudiaremos cómo tratarlos.\n",
        "\n",
        "Podemos también mostrar esta tabla descriptiva invirtiendo filas y columnas, esto es, las variables por filas y los descriptivos por columnas, aplicando la traspuesta con la función **`.T`.**"
      ],
      "metadata": {
        "id": "sTLXSqOVeCEc"
      }
    },
    {
      "cell_type": "code",
      "source": [
        "# visualización traspuesta de la tabla descriptiva para 'encuesta'\n",
        "temperatura.describe().T"
      ],
      "metadata": {
        "colab": {
          "base_uri": "https://localhost:8080/",
          "height": 143
        },
        "id": "AAcsXQ9cgL0v",
        "outputId": "cc197ae4-85ae-48c7-97ea-d0927e1dc46e"
      },
      "execution_count": 56,
      "outputs": [
        {
          "output_type": "execute_result",
          "data": {
            "text/plain": [
              "           count       mean       std   min    25%   50%    75%   max\n",
              "Alicante     7.0  16.128571  4.005710  12.6  13.45  14.0  18.05  23.3\n",
              "Castellon    7.0  15.171429  2.742696  12.6  13.70  14.3  15.50  20.9\n",
              "Valencia     7.0  13.171429  4.204250   8.5  10.75  11.9  14.50  21.3"
            ],
            "text/html": [
              "\n",
              "  <div id=\"df-44e7be77-466a-4824-954e-493674657663\" class=\"colab-df-container\">\n",
              "    <div>\n",
              "<style scoped>\n",
              "    .dataframe tbody tr th:only-of-type {\n",
              "        vertical-align: middle;\n",
              "    }\n",
              "\n",
              "    .dataframe tbody tr th {\n",
              "        vertical-align: top;\n",
              "    }\n",
              "\n",
              "    .dataframe thead th {\n",
              "        text-align: right;\n",
              "    }\n",
              "</style>\n",
              "<table border=\"1\" class=\"dataframe\">\n",
              "  <thead>\n",
              "    <tr style=\"text-align: right;\">\n",
              "      <th></th>\n",
              "      <th>count</th>\n",
              "      <th>mean</th>\n",
              "      <th>std</th>\n",
              "      <th>min</th>\n",
              "      <th>25%</th>\n",
              "      <th>50%</th>\n",
              "      <th>75%</th>\n",
              "      <th>max</th>\n",
              "    </tr>\n",
              "  </thead>\n",
              "  <tbody>\n",
              "    <tr>\n",
              "      <th>Alicante</th>\n",
              "      <td>7.0</td>\n",
              "      <td>16.128571</td>\n",
              "      <td>4.005710</td>\n",
              "      <td>12.6</td>\n",
              "      <td>13.45</td>\n",
              "      <td>14.0</td>\n",
              "      <td>18.05</td>\n",
              "      <td>23.3</td>\n",
              "    </tr>\n",
              "    <tr>\n",
              "      <th>Castellon</th>\n",
              "      <td>7.0</td>\n",
              "      <td>15.171429</td>\n",
              "      <td>2.742696</td>\n",
              "      <td>12.6</td>\n",
              "      <td>13.70</td>\n",
              "      <td>14.3</td>\n",
              "      <td>15.50</td>\n",
              "      <td>20.9</td>\n",
              "    </tr>\n",
              "    <tr>\n",
              "      <th>Valencia</th>\n",
              "      <td>7.0</td>\n",
              "      <td>13.171429</td>\n",
              "      <td>4.204250</td>\n",
              "      <td>8.5</td>\n",
              "      <td>10.75</td>\n",
              "      <td>11.9</td>\n",
              "      <td>14.50</td>\n",
              "      <td>21.3</td>\n",
              "    </tr>\n",
              "  </tbody>\n",
              "</table>\n",
              "</div>\n",
              "    <div class=\"colab-df-buttons\">\n",
              "\n",
              "  <div class=\"colab-df-container\">\n",
              "    <button class=\"colab-df-convert\" onclick=\"convertToInteractive('df-44e7be77-466a-4824-954e-493674657663')\"\n",
              "            title=\"Convert this dataframe to an interactive table.\"\n",
              "            style=\"display:none;\">\n",
              "\n",
              "  <svg xmlns=\"http://www.w3.org/2000/svg\" height=\"24px\" viewBox=\"0 -960 960 960\">\n",
              "    <path d=\"M120-120v-720h720v720H120Zm60-500h600v-160H180v160Zm220 220h160v-160H400v160Zm0 220h160v-160H400v160ZM180-400h160v-160H180v160Zm440 0h160v-160H620v160ZM180-180h160v-160H180v160Zm440 0h160v-160H620v160Z\"/>\n",
              "  </svg>\n",
              "    </button>\n",
              "\n",
              "  <style>\n",
              "    .colab-df-container {\n",
              "      display:flex;\n",
              "      gap: 12px;\n",
              "    }\n",
              "\n",
              "    .colab-df-convert {\n",
              "      background-color: #E8F0FE;\n",
              "      border: none;\n",
              "      border-radius: 50%;\n",
              "      cursor: pointer;\n",
              "      display: none;\n",
              "      fill: #1967D2;\n",
              "      height: 32px;\n",
              "      padding: 0 0 0 0;\n",
              "      width: 32px;\n",
              "    }\n",
              "\n",
              "    .colab-df-convert:hover {\n",
              "      background-color: #E2EBFA;\n",
              "      box-shadow: 0px 1px 2px rgba(60, 64, 67, 0.3), 0px 1px 3px 1px rgba(60, 64, 67, 0.15);\n",
              "      fill: #174EA6;\n",
              "    }\n",
              "\n",
              "    .colab-df-buttons div {\n",
              "      margin-bottom: 4px;\n",
              "    }\n",
              "\n",
              "    [theme=dark] .colab-df-convert {\n",
              "      background-color: #3B4455;\n",
              "      fill: #D2E3FC;\n",
              "    }\n",
              "\n",
              "    [theme=dark] .colab-df-convert:hover {\n",
              "      background-color: #434B5C;\n",
              "      box-shadow: 0px 1px 3px 1px rgba(0, 0, 0, 0.15);\n",
              "      filter: drop-shadow(0px 1px 2px rgba(0, 0, 0, 0.3));\n",
              "      fill: #FFFFFF;\n",
              "    }\n",
              "  </style>\n",
              "\n",
              "    <script>\n",
              "      const buttonEl =\n",
              "        document.querySelector('#df-44e7be77-466a-4824-954e-493674657663 button.colab-df-convert');\n",
              "      buttonEl.style.display =\n",
              "        google.colab.kernel.accessAllowed ? 'block' : 'none';\n",
              "\n",
              "      async function convertToInteractive(key) {\n",
              "        const element = document.querySelector('#df-44e7be77-466a-4824-954e-493674657663');\n",
              "        const dataTable =\n",
              "          await google.colab.kernel.invokeFunction('convertToInteractive',\n",
              "                                                    [key], {});\n",
              "        if (!dataTable) return;\n",
              "\n",
              "        const docLinkHtml = 'Like what you see? Visit the ' +\n",
              "          '<a target=\"_blank\" href=https://colab.research.google.com/notebooks/data_table.ipynb>data table notebook</a>'\n",
              "          + ' to learn more about interactive tables.';\n",
              "        element.innerHTML = '';\n",
              "        dataTable['output_type'] = 'display_data';\n",
              "        await google.colab.output.renderOutput(dataTable, element);\n",
              "        const docLink = document.createElement('div');\n",
              "        docLink.innerHTML = docLinkHtml;\n",
              "        element.appendChild(docLink);\n",
              "      }\n",
              "    </script>\n",
              "  </div>\n",
              "\n",
              "\n",
              "<div id=\"df-36685acc-168d-48f2-976b-92cb891fe329\">\n",
              "  <button class=\"colab-df-quickchart\" onclick=\"quickchart('df-36685acc-168d-48f2-976b-92cb891fe329')\"\n",
              "            title=\"Suggest charts\"\n",
              "            style=\"display:none;\">\n",
              "\n",
              "<svg xmlns=\"http://www.w3.org/2000/svg\" height=\"24px\"viewBox=\"0 0 24 24\"\n",
              "     width=\"24px\">\n",
              "    <g>\n",
              "        <path d=\"M19 3H5c-1.1 0-2 .9-2 2v14c0 1.1.9 2 2 2h14c1.1 0 2-.9 2-2V5c0-1.1-.9-2-2-2zM9 17H7v-7h2v7zm4 0h-2V7h2v10zm4 0h-2v-4h2v4z\"/>\n",
              "    </g>\n",
              "</svg>\n",
              "  </button>\n",
              "\n",
              "<style>\n",
              "  .colab-df-quickchart {\n",
              "      --bg-color: #E8F0FE;\n",
              "      --fill-color: #1967D2;\n",
              "      --hover-bg-color: #E2EBFA;\n",
              "      --hover-fill-color: #174EA6;\n",
              "      --disabled-fill-color: #AAA;\n",
              "      --disabled-bg-color: #DDD;\n",
              "  }\n",
              "\n",
              "  [theme=dark] .colab-df-quickchart {\n",
              "      --bg-color: #3B4455;\n",
              "      --fill-color: #D2E3FC;\n",
              "      --hover-bg-color: #434B5C;\n",
              "      --hover-fill-color: #FFFFFF;\n",
              "      --disabled-bg-color: #3B4455;\n",
              "      --disabled-fill-color: #666;\n",
              "  }\n",
              "\n",
              "  .colab-df-quickchart {\n",
              "    background-color: var(--bg-color);\n",
              "    border: none;\n",
              "    border-radius: 50%;\n",
              "    cursor: pointer;\n",
              "    display: none;\n",
              "    fill: var(--fill-color);\n",
              "    height: 32px;\n",
              "    padding: 0;\n",
              "    width: 32px;\n",
              "  }\n",
              "\n",
              "  .colab-df-quickchart:hover {\n",
              "    background-color: var(--hover-bg-color);\n",
              "    box-shadow: 0 1px 2px rgba(60, 64, 67, 0.3), 0 1px 3px 1px rgba(60, 64, 67, 0.15);\n",
              "    fill: var(--button-hover-fill-color);\n",
              "  }\n",
              "\n",
              "  .colab-df-quickchart-complete:disabled,\n",
              "  .colab-df-quickchart-complete:disabled:hover {\n",
              "    background-color: var(--disabled-bg-color);\n",
              "    fill: var(--disabled-fill-color);\n",
              "    box-shadow: none;\n",
              "  }\n",
              "\n",
              "  .colab-df-spinner {\n",
              "    border: 2px solid var(--fill-color);\n",
              "    border-color: transparent;\n",
              "    border-bottom-color: var(--fill-color);\n",
              "    animation:\n",
              "      spin 1s steps(1) infinite;\n",
              "  }\n",
              "\n",
              "  @keyframes spin {\n",
              "    0% {\n",
              "      border-color: transparent;\n",
              "      border-bottom-color: var(--fill-color);\n",
              "      border-left-color: var(--fill-color);\n",
              "    }\n",
              "    20% {\n",
              "      border-color: transparent;\n",
              "      border-left-color: var(--fill-color);\n",
              "      border-top-color: var(--fill-color);\n",
              "    }\n",
              "    30% {\n",
              "      border-color: transparent;\n",
              "      border-left-color: var(--fill-color);\n",
              "      border-top-color: var(--fill-color);\n",
              "      border-right-color: var(--fill-color);\n",
              "    }\n",
              "    40% {\n",
              "      border-color: transparent;\n",
              "      border-right-color: var(--fill-color);\n",
              "      border-top-color: var(--fill-color);\n",
              "    }\n",
              "    60% {\n",
              "      border-color: transparent;\n",
              "      border-right-color: var(--fill-color);\n",
              "    }\n",
              "    80% {\n",
              "      border-color: transparent;\n",
              "      border-right-color: var(--fill-color);\n",
              "      border-bottom-color: var(--fill-color);\n",
              "    }\n",
              "    90% {\n",
              "      border-color: transparent;\n",
              "      border-bottom-color: var(--fill-color);\n",
              "    }\n",
              "  }\n",
              "</style>\n",
              "\n",
              "  <script>\n",
              "    async function quickchart(key) {\n",
              "      const quickchartButtonEl =\n",
              "        document.querySelector('#' + key + ' button');\n",
              "      quickchartButtonEl.disabled = true;  // To prevent multiple clicks.\n",
              "      quickchartButtonEl.classList.add('colab-df-spinner');\n",
              "      try {\n",
              "        const charts = await google.colab.kernel.invokeFunction(\n",
              "            'suggestCharts', [key], {});\n",
              "      } catch (error) {\n",
              "        console.error('Error during call to suggestCharts:', error);\n",
              "      }\n",
              "      quickchartButtonEl.classList.remove('colab-df-spinner');\n",
              "      quickchartButtonEl.classList.add('colab-df-quickchart-complete');\n",
              "    }\n",
              "    (() => {\n",
              "      let quickchartButtonEl =\n",
              "        document.querySelector('#df-36685acc-168d-48f2-976b-92cb891fe329 button');\n",
              "      quickchartButtonEl.style.display =\n",
              "        google.colab.kernel.accessAllowed ? 'block' : 'none';\n",
              "    })();\n",
              "  </script>\n",
              "</div>\n",
              "\n",
              "    </div>\n",
              "  </div>\n"
            ]
          },
          "metadata": {},
          "execution_count": 56
        }
      ]
    },
    {
      "cell_type": "markdown",
      "source": [
        "Cuando queremos una **descripción básica para las variables cualitativas**, hemos de indicar en la función **`describe()`** el argumento **`include=['object']`**. Los descriptivos básicos en este caso consisten en conteos, respuestas posibles, categoría con más respuestas y frecuencia de esta."
      ],
      "metadata": {
        "id": "EKuv__cjhkff"
      }
    },
    {
      "cell_type": "code",
      "source": [
        "# Descriptivos básicos para las variables cualitativas\n",
        "pedidos.describe(include=['object']).T"
      ],
      "metadata": {
        "colab": {
          "base_uri": "https://localhost:8080/",
          "height": 143
        },
        "id": "a0LZhI1_gQkn",
        "outputId": "c6960ad0-04a0-4f57-cf37-68e632e31ddc"
      },
      "execution_count": 59,
      "outputs": [
        {
          "output_type": "execute_result",
          "data": {
            "text/plain": [
              "                   count unique           top freq\n",
              "item_name           4622     50  Chicken Bowl  726\n",
              "choice_description  3376   1043   [Diet Coke]  134\n",
              "item_price          4622     78        $8.75   730"
            ],
            "text/html": [
              "\n",
              "  <div id=\"df-e551cf28-1985-414e-a8e4-d130d02a3419\" class=\"colab-df-container\">\n",
              "    <div>\n",
              "<style scoped>\n",
              "    .dataframe tbody tr th:only-of-type {\n",
              "        vertical-align: middle;\n",
              "    }\n",
              "\n",
              "    .dataframe tbody tr th {\n",
              "        vertical-align: top;\n",
              "    }\n",
              "\n",
              "    .dataframe thead th {\n",
              "        text-align: right;\n",
              "    }\n",
              "</style>\n",
              "<table border=\"1\" class=\"dataframe\">\n",
              "  <thead>\n",
              "    <tr style=\"text-align: right;\">\n",
              "      <th></th>\n",
              "      <th>count</th>\n",
              "      <th>unique</th>\n",
              "      <th>top</th>\n",
              "      <th>freq</th>\n",
              "    </tr>\n",
              "  </thead>\n",
              "  <tbody>\n",
              "    <tr>\n",
              "      <th>item_name</th>\n",
              "      <td>4622</td>\n",
              "      <td>50</td>\n",
              "      <td>Chicken Bowl</td>\n",
              "      <td>726</td>\n",
              "    </tr>\n",
              "    <tr>\n",
              "      <th>choice_description</th>\n",
              "      <td>3376</td>\n",
              "      <td>1043</td>\n",
              "      <td>[Diet Coke]</td>\n",
              "      <td>134</td>\n",
              "    </tr>\n",
              "    <tr>\n",
              "      <th>item_price</th>\n",
              "      <td>4622</td>\n",
              "      <td>78</td>\n",
              "      <td>$8.75</td>\n",
              "      <td>730</td>\n",
              "    </tr>\n",
              "  </tbody>\n",
              "</table>\n",
              "</div>\n",
              "    <div class=\"colab-df-buttons\">\n",
              "\n",
              "  <div class=\"colab-df-container\">\n",
              "    <button class=\"colab-df-convert\" onclick=\"convertToInteractive('df-e551cf28-1985-414e-a8e4-d130d02a3419')\"\n",
              "            title=\"Convert this dataframe to an interactive table.\"\n",
              "            style=\"display:none;\">\n",
              "\n",
              "  <svg xmlns=\"http://www.w3.org/2000/svg\" height=\"24px\" viewBox=\"0 -960 960 960\">\n",
              "    <path d=\"M120-120v-720h720v720H120Zm60-500h600v-160H180v160Zm220 220h160v-160H400v160Zm0 220h160v-160H400v160ZM180-400h160v-160H180v160Zm440 0h160v-160H620v160ZM180-180h160v-160H180v160Zm440 0h160v-160H620v160Z\"/>\n",
              "  </svg>\n",
              "    </button>\n",
              "\n",
              "  <style>\n",
              "    .colab-df-container {\n",
              "      display:flex;\n",
              "      gap: 12px;\n",
              "    }\n",
              "\n",
              "    .colab-df-convert {\n",
              "      background-color: #E8F0FE;\n",
              "      border: none;\n",
              "      border-radius: 50%;\n",
              "      cursor: pointer;\n",
              "      display: none;\n",
              "      fill: #1967D2;\n",
              "      height: 32px;\n",
              "      padding: 0 0 0 0;\n",
              "      width: 32px;\n",
              "    }\n",
              "\n",
              "    .colab-df-convert:hover {\n",
              "      background-color: #E2EBFA;\n",
              "      box-shadow: 0px 1px 2px rgba(60, 64, 67, 0.3), 0px 1px 3px 1px rgba(60, 64, 67, 0.15);\n",
              "      fill: #174EA6;\n",
              "    }\n",
              "\n",
              "    .colab-df-buttons div {\n",
              "      margin-bottom: 4px;\n",
              "    }\n",
              "\n",
              "    [theme=dark] .colab-df-convert {\n",
              "      background-color: #3B4455;\n",
              "      fill: #D2E3FC;\n",
              "    }\n",
              "\n",
              "    [theme=dark] .colab-df-convert:hover {\n",
              "      background-color: #434B5C;\n",
              "      box-shadow: 0px 1px 3px 1px rgba(0, 0, 0, 0.15);\n",
              "      filter: drop-shadow(0px 1px 2px rgba(0, 0, 0, 0.3));\n",
              "      fill: #FFFFFF;\n",
              "    }\n",
              "  </style>\n",
              "\n",
              "    <script>\n",
              "      const buttonEl =\n",
              "        document.querySelector('#df-e551cf28-1985-414e-a8e4-d130d02a3419 button.colab-df-convert');\n",
              "      buttonEl.style.display =\n",
              "        google.colab.kernel.accessAllowed ? 'block' : 'none';\n",
              "\n",
              "      async function convertToInteractive(key) {\n",
              "        const element = document.querySelector('#df-e551cf28-1985-414e-a8e4-d130d02a3419');\n",
              "        const dataTable =\n",
              "          await google.colab.kernel.invokeFunction('convertToInteractive',\n",
              "                                                    [key], {});\n",
              "        if (!dataTable) return;\n",
              "\n",
              "        const docLinkHtml = 'Like what you see? Visit the ' +\n",
              "          '<a target=\"_blank\" href=https://colab.research.google.com/notebooks/data_table.ipynb>data table notebook</a>'\n",
              "          + ' to learn more about interactive tables.';\n",
              "        element.innerHTML = '';\n",
              "        dataTable['output_type'] = 'display_data';\n",
              "        await google.colab.output.renderOutput(dataTable, element);\n",
              "        const docLink = document.createElement('div');\n",
              "        docLink.innerHTML = docLinkHtml;\n",
              "        element.appendChild(docLink);\n",
              "      }\n",
              "    </script>\n",
              "  </div>\n",
              "\n",
              "\n",
              "<div id=\"df-396f0295-b0da-4819-8ebc-f3237a900a05\">\n",
              "  <button class=\"colab-df-quickchart\" onclick=\"quickchart('df-396f0295-b0da-4819-8ebc-f3237a900a05')\"\n",
              "            title=\"Suggest charts\"\n",
              "            style=\"display:none;\">\n",
              "\n",
              "<svg xmlns=\"http://www.w3.org/2000/svg\" height=\"24px\"viewBox=\"0 0 24 24\"\n",
              "     width=\"24px\">\n",
              "    <g>\n",
              "        <path d=\"M19 3H5c-1.1 0-2 .9-2 2v14c0 1.1.9 2 2 2h14c1.1 0 2-.9 2-2V5c0-1.1-.9-2-2-2zM9 17H7v-7h2v7zm4 0h-2V7h2v10zm4 0h-2v-4h2v4z\"/>\n",
              "    </g>\n",
              "</svg>\n",
              "  </button>\n",
              "\n",
              "<style>\n",
              "  .colab-df-quickchart {\n",
              "      --bg-color: #E8F0FE;\n",
              "      --fill-color: #1967D2;\n",
              "      --hover-bg-color: #E2EBFA;\n",
              "      --hover-fill-color: #174EA6;\n",
              "      --disabled-fill-color: #AAA;\n",
              "      --disabled-bg-color: #DDD;\n",
              "  }\n",
              "\n",
              "  [theme=dark] .colab-df-quickchart {\n",
              "      --bg-color: #3B4455;\n",
              "      --fill-color: #D2E3FC;\n",
              "      --hover-bg-color: #434B5C;\n",
              "      --hover-fill-color: #FFFFFF;\n",
              "      --disabled-bg-color: #3B4455;\n",
              "      --disabled-fill-color: #666;\n",
              "  }\n",
              "\n",
              "  .colab-df-quickchart {\n",
              "    background-color: var(--bg-color);\n",
              "    border: none;\n",
              "    border-radius: 50%;\n",
              "    cursor: pointer;\n",
              "    display: none;\n",
              "    fill: var(--fill-color);\n",
              "    height: 32px;\n",
              "    padding: 0;\n",
              "    width: 32px;\n",
              "  }\n",
              "\n",
              "  .colab-df-quickchart:hover {\n",
              "    background-color: var(--hover-bg-color);\n",
              "    box-shadow: 0 1px 2px rgba(60, 64, 67, 0.3), 0 1px 3px 1px rgba(60, 64, 67, 0.15);\n",
              "    fill: var(--button-hover-fill-color);\n",
              "  }\n",
              "\n",
              "  .colab-df-quickchart-complete:disabled,\n",
              "  .colab-df-quickchart-complete:disabled:hover {\n",
              "    background-color: var(--disabled-bg-color);\n",
              "    fill: var(--disabled-fill-color);\n",
              "    box-shadow: none;\n",
              "  }\n",
              "\n",
              "  .colab-df-spinner {\n",
              "    border: 2px solid var(--fill-color);\n",
              "    border-color: transparent;\n",
              "    border-bottom-color: var(--fill-color);\n",
              "    animation:\n",
              "      spin 1s steps(1) infinite;\n",
              "  }\n",
              "\n",
              "  @keyframes spin {\n",
              "    0% {\n",
              "      border-color: transparent;\n",
              "      border-bottom-color: var(--fill-color);\n",
              "      border-left-color: var(--fill-color);\n",
              "    }\n",
              "    20% {\n",
              "      border-color: transparent;\n",
              "      border-left-color: var(--fill-color);\n",
              "      border-top-color: var(--fill-color);\n",
              "    }\n",
              "    30% {\n",
              "      border-color: transparent;\n",
              "      border-left-color: var(--fill-color);\n",
              "      border-top-color: var(--fill-color);\n",
              "      border-right-color: var(--fill-color);\n",
              "    }\n",
              "    40% {\n",
              "      border-color: transparent;\n",
              "      border-right-color: var(--fill-color);\n",
              "      border-top-color: var(--fill-color);\n",
              "    }\n",
              "    60% {\n",
              "      border-color: transparent;\n",
              "      border-right-color: var(--fill-color);\n",
              "    }\n",
              "    80% {\n",
              "      border-color: transparent;\n",
              "      border-right-color: var(--fill-color);\n",
              "      border-bottom-color: var(--fill-color);\n",
              "    }\n",
              "    90% {\n",
              "      border-color: transparent;\n",
              "      border-bottom-color: var(--fill-color);\n",
              "    }\n",
              "  }\n",
              "</style>\n",
              "\n",
              "  <script>\n",
              "    async function quickchart(key) {\n",
              "      const quickchartButtonEl =\n",
              "        document.querySelector('#' + key + ' button');\n",
              "      quickchartButtonEl.disabled = true;  // To prevent multiple clicks.\n",
              "      quickchartButtonEl.classList.add('colab-df-spinner');\n",
              "      try {\n",
              "        const charts = await google.colab.kernel.invokeFunction(\n",
              "            'suggestCharts', [key], {});\n",
              "      } catch (error) {\n",
              "        console.error('Error during call to suggestCharts:', error);\n",
              "      }\n",
              "      quickchartButtonEl.classList.remove('colab-df-spinner');\n",
              "      quickchartButtonEl.classList.add('colab-df-quickchart-complete');\n",
              "    }\n",
              "    (() => {\n",
              "      let quickchartButtonEl =\n",
              "        document.querySelector('#df-396f0295-b0da-4819-8ebc-f3237a900a05 button');\n",
              "      quickchartButtonEl.style.display =\n",
              "        google.colab.kernel.accessAllowed ? 'block' : 'none';\n",
              "    })();\n",
              "  </script>\n",
              "</div>\n",
              "\n",
              "    </div>\n",
              "  </div>\n"
            ]
          },
          "metadata": {},
          "execution_count": 59
        }
      ]
    },
    {
      "cell_type": "markdown",
      "source": [
        "**Para obtener las frecuencias absolutas o conteos en todas las categorías de respuesta posibles de una variable/columna categórica**, disponemos de la función **`value_counts()`**, que aplicamos a la variable seleccionada.\n",
        "\n",
        "La probamos con la variable `provincia`."
      ],
      "metadata": {
        "id": "7RG6JWXwf-HJ"
      }
    },
    {
      "cell_type": "code",
      "source": [
        "# obtenemos las frecuencias de respuesta en la variable 'provincia'\n",
        "pedidos[\"item_name\"].value_counts()"
      ],
      "metadata": {
        "colab": {
          "base_uri": "https://localhost:8080/"
        },
        "id": "0axRdcR2izQU",
        "outputId": "6c4f44c1-2609-4cc6-f4b1-ae53078c5790"
      },
      "execution_count": 63,
      "outputs": [
        {
          "output_type": "execute_result",
          "data": {
            "text/plain": [
              "Chicken Bowl                             726\n",
              "Chicken Burrito                          553\n",
              "Chips and Guacamole                      479\n",
              "Steak Burrito                            368\n",
              "Canned Soft Drink                        301\n",
              "Steak Bowl                               211\n",
              "Chips                                    211\n",
              "Bottled Water                            162\n",
              "Chicken Soft Tacos                       115\n",
              "Chips and Fresh Tomato Salsa             110\n",
              "Chicken Salad Bowl                       110\n",
              "Canned Soda                              104\n",
              "Side of Chips                            101\n",
              "Veggie Burrito                            95\n",
              "Barbacoa Burrito                          91\n",
              "Veggie Bowl                               85\n",
              "Carnitas Bowl                             68\n",
              "Barbacoa Bowl                             66\n",
              "Carnitas Burrito                          59\n",
              "Steak Soft Tacos                          55\n",
              "6 Pack Soft Drink                         54\n",
              "Chips and Tomatillo Red Chili Salsa       48\n",
              "Chicken Crispy Tacos                      47\n",
              "Chips and Tomatillo Green Chili Salsa     43\n",
              "Carnitas Soft Tacos                       40\n",
              "Steak Crispy Tacos                        35\n",
              "Chips and Tomatillo-Green Chili Salsa     31\n",
              "Steak Salad Bowl                          29\n",
              "Nantucket Nectar                          27\n",
              "Barbacoa Soft Tacos                       25\n",
              "Chips and Roasted Chili Corn Salsa        22\n",
              "Izze                                      20\n",
              "Chips and Tomatillo-Red Chili Salsa       20\n",
              "Veggie Salad Bowl                         18\n",
              "Chips and Roasted Chili-Corn Salsa        18\n",
              "Barbacoa Crispy Tacos                     11\n",
              "Barbacoa Salad Bowl                       10\n",
              "Chicken Salad                              9\n",
              "Veggie Soft Tacos                          7\n",
              "Carnitas Crispy Tacos                      7\n",
              "Veggie Salad                               6\n",
              "Carnitas Salad Bowl                        6\n",
              "Burrito                                    6\n",
              "Steak Salad                                4\n",
              "Crispy Tacos                               2\n",
              "Salad                                      2\n",
              "Bowl                                       2\n",
              "Chips and Mild Fresh Tomato Salsa          1\n",
              "Veggie Crispy Tacos                        1\n",
              "Carnitas Salad                             1\n",
              "Name: item_name, dtype: int64"
            ]
          },
          "metadata": {},
          "execution_count": 63
        }
      ]
    },
    {
      "cell_type": "markdown",
      "source": [
        "Aunque lo trabajaremos más adelante de modo extensivo, introducimos aquí los **gráficos de barras** para una representación gráfica básica en variables cualitativas. Estos gráficos, aplicados a las frecuencias de conteo de las variables categóricas que conseguimos con `value_counts`, permiten visualizar rápidamente cómo se distribuyen los datos en cada una de las categorías de respuesta.\n",
        "\n",
        "Representamos a continuación la tabla de frecuencias a través de un diagrama de barras,  añadiendo la función **`plot(kind=bar)`** de `matplotlib` a las frecuencias absolutas `value_counts()`."
      ],
      "metadata": {
        "id": "F4RCOfAfnkRb"
      }
    },
    {
      "cell_type": "code",
      "source": [
        "pedidos[\"item_name\"].value_counts().plot(kind=\"bar\");"
      ],
      "metadata": {
        "colab": {
          "base_uri": "https://localhost:8080/",
          "height": 690
        },
        "id": "3yU0uHWOnqGt",
        "outputId": "5847cfb2-eb45-4f94-cb69-bacf4dc6f462"
      },
      "execution_count": 64,
      "outputs": [
        {
          "output_type": "display_data",
          "data": {
            "text/plain": [
              "<Figure size 1500x500 with 1 Axes>"
            ],
            "image/png": "[encoded data removed]"
          },
          "metadata": {}
        }
      ]
    },
    {
      "cell_type": "markdown",
      "source": [
        "Por supuesto, es sencillo también representar gráficamente las variables de tipo cuantitativo, por ejemplo a través de histogramas o de gráficos de dispersión, pero esto lo trabajaremos en detalle en los próximos cuadernos."
      ],
      "metadata": {
        "id": "I6HLZuTqquya"
      }
    },
    {
      "cell_type": "markdown",
      "source": [
        "### <font color='steelblue'>Seleccionar\n",
        "\n",
        "Cuando trabajamos sobre una base de datos será frecuente la selección de elementos, filas, columnas o una combinación de ambas, para ir resolviendo cuestiones de interés. Aprendemos aquí los modos básicos de selección en dataframes, tanto con el operador de selección `[...]` como con los métodos `loc` e `iloc`.\n",
        "\n",
        "Para seleccionar cierta columna de un _dataframe_ podemos utilizar directamente el nombre de variable que representa, entrecomillado, dentro de los operadores de selección `[]`, y aplicados al *dataframe*, **`dataframe['nombre_variable']`**.\n",
        "\n",
        "Otra opción es escribir el nombre del dataframe, y aplicar a continuación el punto y el nombre de la variable, **`dataframe.nombre_variable`**.\n",
        "\n",
        "Si se trata de seleccionar varias columnas, las especificamos seleccionando sobre el dataframe una lista con sus nombres entrecomillados, **`dataframe[[\"var1\",\"var2\",...]]`**.\n",
        "\n",
        "Como ejemplo, seleccionamos las columnas con las temperaturas de Alicante y Valencia en el dataframe 'temperatura'."
      ],
      "metadata": {
        "id": "j-5kqCl94Mcd"
      }
    },
    {
      "cell_type": "code",
      "source": [
        "# Selección de una columna/variable\n",
        "print(\"Selección de una columna\")\n",
        "print(\"\\nModo1: dataframe[nombre_variable]\")\n",
        "print(temperatura[\"Alicante\"])\n",
        "print(\"\\nModo2: dataframe.nombre_variable\")\n",
        "print(temperatura.Alicante)\n",
        "\n",
        "print(\"\\nSelección de varias columnas\")\n",
        "# Selección de varias columnas/variables\n",
        "print(temperatura[[\"Alicante\",\"Valencia\"]])"
      ],
      "metadata": {
        "colab": {
          "base_uri": "https://localhost:8080/"
        },
        "id": "BudDXz5z4Xll",
        "outputId": "9e524a87-669f-41c0-f292-b771276ab2e5"
      },
      "execution_count": 65,
      "outputs": [
        {
          "output_type": "stream",
          "name": "stdout",
          "text": [
            "Selección de una columna\n",
            "\n",
            "Modo1: dataframe[nombre_variable]\n",
            "0    23.3\n",
            "1    19.8\n",
            "2    16.3\n",
            "3    14.0\n",
            "4    13.5\n",
            "5    13.4\n",
            "6    12.6\n",
            "Name: Alicante, dtype: float64\n",
            "\n",
            "Modo2: dataframe.nombre_variable\n",
            "0    23.3\n",
            "1    19.8\n",
            "2    16.3\n",
            "3    14.0\n",
            "4    13.5\n",
            "5    13.4\n",
            "6    12.6\n",
            "Name: Alicante, dtype: float64\n",
            "\n",
            "Selección de varias columnas\n",
            "   Alicante  Valencia\n",
            "0      23.3      21.3\n",
            "1      19.8      15.3\n",
            "2      16.3      13.7\n",
            "3      14.0      10.7\n",
            "4      13.5      10.8\n",
            "5      13.4       8.5\n",
            "6      12.6      11.9\n"
          ]
        }
      ]
    },
    {
      "cell_type": "markdown",
      "source": [
        "Existe sin embargo un método más genérico para seleccionar filas y columnas, a través de dos funciones específicas como son:\n",
        "- `iloc[]` para seleccionar filas y columnas utilizando los numerales que las identifican\n",
        "- `loc[]` para seleccionar filas y columnas utilizando los nombres o etiquetas que las identifican.\n",
        "\n",
        "En ambas, como argumentos podemos pasar una etiqueta única, una lista de etiquetas, una porción de etiquetas o una serie booleana (de datos `True/False`).\n",
        "\n",
        "Estos métodos se aplican a un data frame seguidos de un punto, y con la selección entre corchetes:\n",
        "```\n",
        "dataframe.loc[seleccion]\n",
        "dataframe.iloc[seleccion]\n",
        "```\n",
        "\n",
        "Las reglas de selección con estas funciones son las siguientes:\n",
        "- seleccionar toda una fila *f*, `.iloc[f] / .loc[f]`,\n",
        "- seleccionar toda una columna *c*, `.iloc[:,c] / .loc[:,c]`\n",
        "- realizar múltiples selecciones de filas y columnas, `.iloc[lista_f,lista_c] / .loc[lista_f,lista_c]`.\n",
        "\n",
        "Veamos algunos ejemplos, primero seleccionando por los numerales con `iloc` y luego con las etiquetas con `loc`."
      ],
      "metadata": {
        "id": "KzxU1VDu64xv"
      }
    },
    {
      "cell_type": "code",
      "source": [
        "# Selección por numerales\n",
        "\n",
        "# Selección de la primera fila\n",
        "print(\"\\n Primera fila:\\n\",temperatura.iloc[0])\n",
        "# selección de la última fila\n",
        "print(\"\\n Última fila:\\n\",temperatura.iloc[-1])\n",
        "\n",
        "# Selección de la primera columna\n",
        "print(\"\\n Primera columna:\\n\",temperatura.iloc[:,0])\n",
        "# selección de la última columna\n",
        "print(\"\\n Última columna:\\n\",temperatura.iloc[:,-1])\n",
        "\n"
      ],
      "metadata": {
        "colab": {
          "base_uri": "https://localhost:8080/"
        },
        "id": "HnVoNyO3sigv",
        "outputId": "1a6497fa-0c8d-4876-aa1c-5be8fc3ee177"
      },
      "execution_count": 67,
      "outputs": [
        {
          "output_type": "stream",
          "name": "stdout",
          "text": [
            "\n",
            " Primera fila:\n",
            " Alicante                    23.3\n",
            "Castellon                   20.9\n",
            "Valencia                    21.3\n",
            "Fecha        2021-11-01 00:00:00\n",
            "Name: 0, dtype: object\n",
            "\n",
            " Última fila:\n",
            " Alicante                    12.6\n",
            "Castellon                   14.1\n",
            "Valencia                    11.9\n",
            "Fecha        2021-11-07 00:00:00\n",
            "Name: 6, dtype: object\n",
            "\n",
            " Primera columna:\n",
            " 0    23.3\n",
            "1    19.8\n",
            "2    16.3\n",
            "3    14.0\n",
            "4    13.5\n",
            "5    13.4\n",
            "6    12.6\n",
            "Name: Alicante, dtype: float64\n",
            "\n",
            " Última columna:\n",
            " 0   2021-11-01\n",
            "1   2021-11-02\n",
            "2   2021-11-03\n",
            "3   2021-11-04\n",
            "4   2021-11-05\n",
            "5   2021-11-06\n",
            "6   2021-11-07\n",
            "Name: Fecha, dtype: datetime64[ns]\n"
          ]
        }
      ]
    },
    {
      "cell_type": "code",
      "source": [
        "# Seleccionar varias columnas\n",
        "temperatura.loc[:,[\"Alicante\",\"Valencia\"]]"
      ],
      "metadata": {
        "colab": {
          "base_uri": "https://localhost:8080/",
          "height": 269
        },
        "id": "_IzAbubaknwu",
        "outputId": "8ce34987-25e1-4390-80f1-a55ee650774f"
      },
      "execution_count": 68,
      "outputs": [
        {
          "output_type": "execute_result",
          "data": {
            "text/plain": [
              "   Alicante  Valencia\n",
              "0      23.3      21.3\n",
              "1      19.8      15.3\n",
              "2      16.3      13.7\n",
              "3      14.0      10.7\n",
              "4      13.5      10.8\n",
              "5      13.4       8.5\n",
              "6      12.6      11.9"
            ],
            "text/html": [
              "\n",
              "  <div id=\"df-582455c6-9314-4fdb-a841-32bb79ace777\" class=\"colab-df-container\">\n",
              "    <div>\n",
              "<style scoped>\n",
              "    .dataframe tbody tr th:only-of-type {\n",
              "        vertical-align: middle;\n",
              "    }\n",
              "\n",
              "    .dataframe tbody tr th {\n",
              "        vertical-align: top;\n",
              "    }\n",
              "\n",
              "    .dataframe thead th {\n",
              "        text-align: right;\n",
              "    }\n",
              "</style>\n",
              "<table border=\"1\" class=\"dataframe\">\n",
              "  <thead>\n",
              "    <tr style=\"text-align: right;\">\n",
              "      <th></th>\n",
              "      <th>Alicante</th>\n",
              "      <th>Valencia</th>\n",
              "    </tr>\n",
              "  </thead>\n",
              "  <tbody>\n",
              "    <tr>\n",
              "      <th>0</th>\n",
              "      <td>23.3</td>\n",
              "      <td>21.3</td>\n",
              "    </tr>\n",
              "    <tr>\n",
              "      <th>1</th>\n",
              "      <td>19.8</td>\n",
              "      <td>15.3</td>\n",
              "    </tr>\n",
              "    <tr>\n",
              "      <th>2</th>\n",
              "      <td>16.3</td>\n",
              "      <td>13.7</td>\n",
              "    </tr>\n",
              "    <tr>\n",
              "      <th>3</th>\n",
              "      <td>14.0</td>\n",
              "      <td>10.7</td>\n",
              "    </tr>\n",
              "    <tr>\n",
              "      <th>4</th>\n",
              "      <td>13.5</td>\n",
              "      <td>10.8</td>\n",
              "    </tr>\n",
              "    <tr>\n",
              "      <th>5</th>\n",
              "      <td>13.4</td>\n",
              "      <td>8.5</td>\n",
              "    </tr>\n",
              "    <tr>\n",
              "      <th>6</th>\n",
              "      <td>12.6</td>\n",
              "      <td>11.9</td>\n",
              "    </tr>\n",
              "  </tbody>\n",
              "</table>\n",
              "</div>\n",
              "    <div class=\"colab-df-buttons\">\n",
              "\n",
              "  <div class=\"colab-df-container\">\n",
              "    <button class=\"colab-df-convert\" onclick=\"convertToInteractive('df-582455c6-9314-4fdb-a841-32bb79ace777')\"\n",
              "            title=\"Convert this dataframe to an interactive table.\"\n",
              "            style=\"display:none;\">\n",
              "\n",
              "  <svg xmlns=\"http://www.w3.org/2000/svg\" height=\"24px\" viewBox=\"0 -960 960 960\">\n",
              "    <path d=\"M120-120v-720h720v720H120Zm60-500h600v-160H180v160Zm220 220h160v-160H400v160Zm0 220h160v-160H400v160ZM180-400h160v-160H180v160Zm440 0h160v-160H620v160ZM180-180h160v-160H180v160Zm440 0h160v-160H620v160Z\"/>\n",
              "  </svg>\n",
              "    </button>\n",
              "\n",
              "  <style>\n",
              "    .colab-df-container {\n",
              "      display:flex;\n",
              "      gap: 12px;\n",
              "    }\n",
              "\n",
              "    .colab-df-convert {\n",
              "      background-color: #E8F0FE;\n",
              "      border: none;\n",
              "      border-radius: 50%;\n",
              "      cursor: pointer;\n",
              "      display: none;\n",
              "      fill: #1967D2;\n",
              "      height: 32px;\n",
              "      padding: 0 0 0 0;\n",
              "      width: 32px;\n",
              "    }\n",
              "\n",
              "    .colab-df-convert:hover {\n",
              "      background-color: #E2EBFA;\n",
              "      box-shadow: 0px 1px 2px rgba(60, 64, 67, 0.3), 0px 1px 3px 1px rgba(60, 64, 67, 0.15);\n",
              "      fill: #174EA6;\n",
              "    }\n",
              "\n",
              "    .colab-df-buttons div {\n",
              "      margin-bottom: 4px;\n",
              "    }\n",
              "\n",
              "    [theme=dark] .colab-df-convert {\n",
              "      background-color: #3B4455;\n",
              "      fill: #D2E3FC;\n",
              "    }\n",
              "\n",
              "    [theme=dark] .colab-df-convert:hover {\n",
              "      background-color: #434B5C;\n",
              "      box-shadow: 0px 1px 3px 1px rgba(0, 0, 0, 0.15);\n",
              "      filter: drop-shadow(0px 1px 2px rgba(0, 0, 0, 0.3));\n",
              "      fill: #FFFFFF;\n",
              "    }\n",
              "  </style>\n",
              "\n",
              "    <script>\n",
              "      const buttonEl =\n",
              "        document.querySelector('#df-582455c6-9314-4fdb-a841-32bb79ace777 button.colab-df-convert');\n",
              "      buttonEl.style.display =\n",
              "        google.colab.kernel.accessAllowed ? 'block' : 'none';\n",
              "\n",
              "      async function convertToInteractive(key) {\n",
              "        const element = document.querySelector('#df-582455c6-9314-4fdb-a841-32bb79ace777');\n",
              "        const dataTable =\n",
              "          await google.colab.kernel.invokeFunction('convertToInteractive',\n",
              "                                                    [key], {});\n",
              "        if (!dataTable) return;\n",
              "\n",
              "        const docLinkHtml = 'Like what you see? Visit the ' +\n",
              "          '<a target=\"_blank\" href=https://colab.research.google.com/notebooks/data_table.ipynb>data table notebook</a>'\n",
              "          + ' to learn more about interactive tables.';\n",
              "        element.innerHTML = '';\n",
              "        dataTable['output_type'] = 'display_data';\n",
              "        await google.colab.output.renderOutput(dataTable, element);\n",
              "        const docLink = document.createElement('div');\n",
              "        docLink.innerHTML = docLinkHtml;\n",
              "        element.appendChild(docLink);\n",
              "      }\n",
              "    </script>\n",
              "  </div>\n",
              "\n",
              "\n",
              "<div id=\"df-a25991c3-0ab7-4ebc-9873-a59eba80859d\">\n",
              "  <button class=\"colab-df-quickchart\" onclick=\"quickchart('df-a25991c3-0ab7-4ebc-9873-a59eba80859d')\"\n",
              "            title=\"Suggest charts\"\n",
              "            style=\"display:none;\">\n",
              "\n",
              "<svg xmlns=\"http://www.w3.org/2000/svg\" height=\"24px\"viewBox=\"0 0 24 24\"\n",
              "     width=\"24px\">\n",
              "    <g>\n",
              "        <path d=\"M19 3H5c-1.1 0-2 .9-2 2v14c0 1.1.9 2 2 2h14c1.1 0 2-.9 2-2V5c0-1.1-.9-2-2-2zM9 17H7v-7h2v7zm4 0h-2V7h2v10zm4 0h-2v-4h2v4z\"/>\n",
              "    </g>\n",
              "</svg>\n",
              "  </button>\n",
              "\n",
              "<style>\n",
              "  .colab-df-quickchart {\n",
              "      --bg-color: #E8F0FE;\n",
              "      --fill-color: #1967D2;\n",
              "      --hover-bg-color: #E2EBFA;\n",
              "      --hover-fill-color: #174EA6;\n",
              "      --disabled-fill-color: #AAA;\n",
              "      --disabled-bg-color: #DDD;\n",
              "  }\n",
              "\n",
              "  [theme=dark] .colab-df-quickchart {\n",
              "      --bg-color: #3B4455;\n",
              "      --fill-color: #D2E3FC;\n",
              "      --hover-bg-color: #434B5C;\n",
              "      --hover-fill-color: #FFFFFF;\n",
              "      --disabled-bg-color: #3B4455;\n",
              "      --disabled-fill-color: #666;\n",
              "  }\n",
              "\n",
              "  .colab-df-quickchart {\n",
              "    background-color: var(--bg-color);\n",
              "    border: none;\n",
              "    border-radius: 50%;\n",
              "    cursor: pointer;\n",
              "    display: none;\n",
              "    fill: var(--fill-color);\n",
              "    height: 32px;\n",
              "    padding: 0;\n",
              "    width: 32px;\n",
              "  }\n",
              "\n",
              "  .colab-df-quickchart:hover {\n",
              "    background-color: var(--hover-bg-color);\n",
              "    box-shadow: 0 1px 2px rgba(60, 64, 67, 0.3), 0 1px 3px 1px rgba(60, 64, 67, 0.15);\n",
              "    fill: var(--button-hover-fill-color);\n",
              "  }\n",
              "\n",
              "  .colab-df-quickchart-complete:disabled,\n",
              "  .colab-df-quickchart-complete:disabled:hover {\n",
              "    background-color: var(--disabled-bg-color);\n",
              "    fill: var(--disabled-fill-color);\n",
              "    box-shadow: none;\n",
              "  }\n",
              "\n",
              "  .colab-df-spinner {\n",
              "    border: 2px solid var(--fill-color);\n",
              "    border-color: transparent;\n",
              "    border-bottom-color: var(--fill-color);\n",
              "    animation:\n",
              "      spin 1s steps(1) infinite;\n",
              "  }\n",
              "\n",
              "  @keyframes spin {\n",
              "    0% {\n",
              "      border-color: transparent;\n",
              "      border-bottom-color: var(--fill-color);\n",
              "      border-left-color: var(--fill-color);\n",
              "    }\n",
              "    20% {\n",
              "      border-color: transparent;\n",
              "      border-left-color: var(--fill-color);\n",
              "      border-top-color: var(--fill-color);\n",
              "    }\n",
              "    30% {\n",
              "      border-color: transparent;\n",
              "      border-left-color: var(--fill-color);\n",
              "      border-top-color: var(--fill-color);\n",
              "      border-right-color: var(--fill-color);\n",
              "    }\n",
              "    40% {\n",
              "      border-color: transparent;\n",
              "      border-right-color: var(--fill-color);\n",
              "      border-top-color: var(--fill-color);\n",
              "    }\n",
              "    60% {\n",
              "      border-color: transparent;\n",
              "      border-right-color: var(--fill-color);\n",
              "    }\n",
              "    80% {\n",
              "      border-color: transparent;\n",
              "      border-right-color: var(--fill-color);\n",
              "      border-bottom-color: var(--fill-color);\n",
              "    }\n",
              "    90% {\n",
              "      border-color: transparent;\n",
              "      border-bottom-color: var(--fill-color);\n",
              "    }\n",
              "  }\n",
              "</style>\n",
              "\n",
              "  <script>\n",
              "    async function quickchart(key) {\n",
              "      const quickchartButtonEl =\n",
              "        document.querySelector('#' + key + ' button');\n",
              "      quickchartButtonEl.disabled = true;  // To prevent multiple clicks.\n",
              "      quickchartButtonEl.classList.add('colab-df-spinner');\n",
              "      try {\n",
              "        const charts = await google.colab.kernel.invokeFunction(\n",
              "            'suggestCharts', [key], {});\n",
              "      } catch (error) {\n",
              "        console.error('Error during call to suggestCharts:', error);\n",
              "      }\n",
              "      quickchartButtonEl.classList.remove('colab-df-spinner');\n",
              "      quickchartButtonEl.classList.add('colab-df-quickchart-complete');\n",
              "    }\n",
              "    (() => {\n",
              "      let quickchartButtonEl =\n",
              "        document.querySelector('#df-a25991c3-0ab7-4ebc-9873-a59eba80859d button');\n",
              "      quickchartButtonEl.style.display =\n",
              "        google.colab.kernel.accessAllowed ? 'block' : 'none';\n",
              "    })();\n",
              "  </script>\n",
              "</div>\n",
              "\n",
              "    </div>\n",
              "  </div>\n"
            ]
          },
          "metadata": {},
          "execution_count": 68
        }
      ]
    },
    {
      "cell_type": "code",
      "source": [
        "print(temperatura.index)\n",
        "print(temperatura.index[2:4])"
      ],
      "metadata": {
        "colab": {
          "base_uri": "https://localhost:8080/"
        },
        "id": "CSEXPPjZu_tc",
        "outputId": "21672ce0-c8cf-4a3b-e3ab-f68271137184"
      },
      "execution_count": 69,
      "outputs": [
        {
          "output_type": "stream",
          "name": "stdout",
          "text": [
            "RangeIndex(start=0, stop=7, step=1)\n",
            "RangeIndex(start=2, stop=4, step=1)\n"
          ]
        }
      ]
    },
    {
      "cell_type": "markdown",
      "source": [
        "### <font color='steelblue'>Operar"
      ],
      "metadata": {
        "id": "byM4HKo-TzUk"
      }
    },
    {
      "cell_type": "markdown",
      "source": [
        "Por último en esta introducción, comentar que podemos operar los valores en las variables numéricas de un dataframe con las operaciones convencionales. Cuando no todas las columnas de un dataframe son numéricas, no podemos operar en bloque el dataframe.\n",
        "\n",
        "Volvemos sobre el dataframe 'temperatura'."
      ],
      "metadata": {
        "id": "o6ea_dbgYv05"
      }
    },
    {
      "cell_type": "code",
      "source": [
        "temperatura = pd.DataFrame(temperaturas,\n",
        "                           columns=[\"Alicante\", \"Castellón\", \"Valencia\"])\n",
        "temperatura[\"Fecha\"]=pd.to_datetime(fechas, format=\"%Y_%m_%d\")\n",
        "\n",
        "# identificamos las variables numéricas\n",
        "sel=temperatura.dtypes==\"float64\"\n",
        "print(temperatura.columns[sel])\n",
        "# seleccionamos las variables numéricas en el dataframe\n",
        "print(temperatura.loc[:,sel])\n",
        "# Multiplicamos su valor por 2\n",
        "print(temperatura.loc[:,sel]*2)\n",
        "# Calculamos una nueva columna con su media\n",
        "temperatura[\"media\"] = round((temperatura[\"Alicante\"] + temperatura[\"Castellón\"] +\n",
        "                        temperatura[\"Valencia\"])/3,2)\n",
        "print(temperatura)"
      ],
      "metadata": {
        "colab": {
          "base_uri": "https://localhost:8080/"
        },
        "id": "51eRi6G9EchU",
        "outputId": "e8ecdef1-2d66-4059-e560-7f0e80b14f6d"
      },
      "execution_count": null,
      "outputs": [
        {
          "output_type": "stream",
          "name": "stdout",
          "text": [
            "Index(['Alicante', 'Castellón', 'Valencia'], dtype='object')\n",
            "   Alicante  Castellón  Valencia\n",
            "0      23.3       20.9      21.3\n",
            "1      19.8       15.7      15.3\n",
            "2      16.3       15.3      13.7\n",
            "3      14.0       12.6      10.7\n",
            "4      13.5       13.3      10.8\n",
            "5      13.4       14.3       8.5\n",
            "6      12.6       14.1      11.9\n",
            "   Alicante  Castellón  Valencia\n",
            "0      46.6       41.8      42.6\n",
            "1      39.6       31.4      30.6\n",
            "2      32.6       30.6      27.4\n",
            "3      28.0       25.2      21.4\n",
            "4      27.0       26.6      21.6\n",
            "5      26.8       28.6      17.0\n",
            "6      25.2       28.2      23.8\n",
            "   Alicante  Castellón  Valencia      Fecha  media\n",
            "0      23.3       20.9      21.3 2021-11-01  21.83\n",
            "1      19.8       15.7      15.3 2021-11-02  16.93\n",
            "2      16.3       15.3      13.7 2021-11-03  15.10\n",
            "3      14.0       12.6      10.7 2021-11-04  12.43\n",
            "4      13.5       13.3      10.8 2021-11-05  12.53\n",
            "5      13.4       14.3       8.5 2021-11-06  12.07\n",
            "6      12.6       14.1      11.9 2021-11-07  12.87\n"
          ]
        }
      ]
    }
  ]
}
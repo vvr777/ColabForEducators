{
  "nbformat": 4,
  "nbformat_minor": 0,
  "metadata": {
    "colab": {
      "provenance": []
    },
    "kernelspec": {
      "name": "python3",
      "display_name": "Python 3"
    },
    "language_info": {
      "name": "python"
    }
  },
  "cells": [
    {
      "cell_type": "markdown",
      "source": [
        "## **PROGRAMACIÓN FUNCIONAL I**"
      ],
      "metadata": {
        "id": "AWvpywdpzhoc"
      }
    },
    {
      "cell_type": "markdown",
      "source": [
        "## <font color='steelblue'> Contenidos: </font>\n",
        "\n",
        "1. Programar con funciones.\n",
        "1. Crear una función.\n",
        "1. Conflictos con variables.\n",
        "1. Variables locales.\n",
        "1. Variables libres: globales y no-locales.\n",
        "1. Modificar variables en niveles superiores: declarar `global` y `nonlocal`.\n"
      ],
      "metadata": {
        "id": "LM2ZUu31V9HS"
      }
    },
    {
      "cell_type": "markdown",
      "source": [
        "## <font color='steelblue'> 1. Programar con funciones\n"
      ],
      "metadata": {
        "id": "SesRoXZfZ7q9"
      }
    },
    {
      "cell_type": "markdown",
      "source": [
        "En los cuadernos anteriores ya hemos visto y utilizado muchas funciones programadas y disponibles en los módulos con los que hemos trabajado. Una función generalmente recibe unos argumentos o datos de entrada, realiza una serie de operaciones sobre ellos y devuelve un resultado.\n",
        "\n",
        "En Python podemos programar nuestras propias funciones para reutilizarlas con diferentes datos de entrada. Escribir funciones nos ayuda también a simplificar problemas, dividiéndolos en subproblemas, y resolviendo cada uno con una función. Se consigue pues, una mayor eficiencia para encontrar y depurar errores al testar y depurar varios fragmentos de código de forma separada y secuencial, en lugar de uno único muy largo. La simplificación es clave para una programación eficiente y bien estructurada.\n",
        "\n",
        "\n",
        "Las funciones también mejoran la legibilidad de un programa y facilitan la colaboración con otras personas. Nos permiten descubrir de un modo más intuitivo qué hace un programa, esto es, qué procedimientos o funciones secuencia, sin necesidad de entrar en los detalles o cómo lo hace, que queda encapsulado en forma de funciones."
      ],
      "metadata": {
        "id": "lK4vCQM3MFVk"
      }
    },
    {
      "cell_type": "markdown",
      "source": [
        "## <font color='steelblue'> 2. Crear una función"
      ],
      "metadata": {
        "id": "Dy-4PRSSkw20"
      }
    },
    {
      "cell_type": "markdown",
      "source": [
        "De forma general, una función se crea, o define, en Python con la palabra clave `def`, seguida del nombre de la función y los argumentos o parámetros (opcionales) entre paréntesis a continuación. Cuando no se requieren argumentos, sí será preciso sin embargo, mantener los paréntesis, `()`. Para iniciar la programación de los procesos que contiene la función se ha de escribir `:`, hacer un salto de línea, e indentar (con sangría) el código preciso para programar dichos procesos. Para devolver un resultado se utiliza la sentencia `return`, seguida del resultado a devolver, que además da por finalizada la ejecución de la función; con todo, tampoco es necesario devolver un resultado.\n",
        "```\n",
        "def nombre_funcion(argumentos_opcionales):\n",
        "  procedimientos\n",
        "  ...\n",
        "  return resultado\n",
        "```\n"
      ],
      "metadata": {
        "id": "NghTGq3ndAgH"
      }
    },
    {
      "cell_type": "markdown",
      "source": [
        "Para poder utilizar una función en un programa se tiene que haber definido antes. Por ello, normalmente las definiciones de las funciones se suelen escribir al inicio de los programas.\n",
        "\n",
        "El ejemplo siguiente definimos una función sin argumentos que muestra en pantalla varios mensajes y no devuelve ningún resultado.\n"
      ],
      "metadata": {
        "id": "GmUzm60temYH"
      }
    },
    {
      "cell_type": "code",
      "source": [
        "def saludo_y_despedida():\n",
        "  print(\"¡Hola!\")\n",
        "  print(\"Esto es una función\")\n",
        "  print(\"¡Adiós!\")"
      ],
      "metadata": {
        "id": "GrLZpDhze2T9"
      },
      "execution_count": null,
      "outputs": []
    },
    {
      "cell_type": "markdown",
      "source": [
        "Una vez definida la función, para que ejecute el código que contiene hay que llamarla, como siempre hemos venido haciendo con otras funciones.\n"
      ],
      "metadata": {
        "id": "wWLbVtawfd9-"
      }
    },
    {
      "cell_type": "code",
      "source": [
        "saludo_y_despedida()"
      ],
      "metadata": {
        "colab": {
          "base_uri": "https://localhost:8080/"
        },
        "id": "hfF7J2DwfZ2p",
        "outputId": "2b7dc9c4-fbf0-4aa7-baf4-848f1e01918a"
      },
      "execution_count": null,
      "outputs": [
        {
          "output_type": "stream",
          "name": "stdout",
          "text": [
            "¡Hola!\n",
            "Esto es una función\n",
            "¡Adiós!\n"
          ]
        }
      ]
    },
    {
      "cell_type": "markdown",
      "source": [
        "Cuando programemos código, integraremos llamadas a funciones definidas previamente, para conseguir los resultados que pretendemos. A continuación mostramos un ejemplo."
      ],
      "metadata": {
        "id": "Vv25iTUvf3q0"
      }
    },
    {
      "cell_type": "code",
      "source": [
        "print(\"Aviso: Vamos a ejecutar una función\")\n",
        "saludo_y_despedida()\n",
        "print(\"Hemos terminado\")"
      ],
      "metadata": {
        "colab": {
          "base_uri": "https://localhost:8080/"
        },
        "id": "B2dM2QdFfwAs",
        "outputId": "413a0a32-cf20-4e1a-ea2f-f37090fdc2d5"
      },
      "execution_count": null,
      "outputs": [
        {
          "output_type": "stream",
          "name": "stdout",
          "text": [
            "Aviso: Vamos a ejecutar una función\n",
            "¡Hola!\n",
            "Esto es una función\n",
            "¡Adiós!\n",
            "Hemos terminado\n"
          ]
        }
      ]
    },
    {
      "cell_type": "markdown",
      "source": [
        "A la hora de definir funciones y para facilitar su entendimiento, siempre es recomendable incluir una explicación, llamada **_docstring_**, ubicada entre triples comillas `\"\"\" ...\"\"\"`, y en la que describiremos los argumentos e incluso la mecánica del programa, para facilitar su reutilización por otros usuarios -e incluso por nosotros mismos, pasado un tiempo. Si queremos mostrar esta explicación, una vez definida la función, basta escribir  `funcion.__doc__` (la barra baja es doble a ambos lados), donde `funcion` es el nombre que hemos dado a la función."
      ],
      "metadata": {
        "id": "gG-1M_1w9Ekz"
      }
    },
    {
      "cell_type": "code",
      "source": [
        "def saludo_y_despedida():\n",
        "  \"\"\"\n",
        "  Esta función saluda, se presenta y se despide\n",
        "  \"\"\"\n",
        "  print(\"¡Hola!\")\n",
        "  print(\"Esto es una función\")\n",
        "  print(\"¡Adiós!\")\n",
        "\n",
        "saludo_y_despedida.__doc__"
      ],
      "metadata": {
        "colab": {
          "base_uri": "https://localhost:8080/",
          "height": 35
        },
        "id": "Vyq4vY6_9G5j",
        "outputId": "29d0b7c8-4a36-4e1a-f412-d18dc8870d76"
      },
      "execution_count": null,
      "outputs": [
        {
          "output_type": "execute_result",
          "data": {
            "text/plain": [
              "'\\n  Esta función saluda, se presenta y se despide\\n  '"
            ],
            "application/vnd.google.colaboratory.intrinsic+json": {
              "type": "string"
            }
          },
          "metadata": {},
          "execution_count": 4
        }
      ]
    },
    {
      "cell_type": "markdown",
      "source": [
        "## <font color='steelblue'> 3. Conflictos con variables"
      ],
      "metadata": {
        "id": "EjT3mXJ-yGVd"
      }
    },
    {
      "cell_type": "markdown",
      "source": [
        "Como se ha comentado antes, una de las principales ventajas de las subrutinas o funciones (las refiriremos indistintamente con ambos nombres), es que permiten reutilizar código. Sin embargo, copiar y pegar subrutinas de un programa a otro puede producir lo que se llama un **conflicto de nombres de variables** cuando nombramos con el mismo nombre variables auxiliares en una función y variables que ya estábamos utilizando en el programa principal. Los cambios en dicha variable a través de la función o subrutina podrían afectar al resto del programa de forma imprevista.\n",
        "\n",
        "\n",
        "Para resolver el problema de los conflictos de nombres, los lenguajes de programación limitan lo que se llama el alcance o el ámbito de las variables. Es decir, permiten que una variable exista únicamente en el interior de una subrutina y no afecte a otras variables con el mismo nombre situadas fuera de ella, siempre que se respeten ciertas normas y la programación esté diseñada en varios niveles. Como las subrutinas pueden contener a su vez otras subrutinas, se suele hablar de niveles: el nivel más alto sería el programa principal, el siguiente nivel serían las subrutinas incluidas en el programa principal y cada vez que hay una subrutina incluida dentro de otra estaríamos bajando un nivel.\n",
        "\n",
        "\n",
        "El problema es más complicado de lo que parece a primera vista, porque a menudo también nos interesará que una subrutina pueda modificar variables que estén definidas en otros puntos del programa. Así que los lenguajes de programación tienen que establecer mecanismos para aislar las variables y evitar los conflictos de nombres, pero al mismo tiempo deben permitir el acceso a las variables en los casos que se requiera.\n",
        "\n",
        "Aunque cada lenguaje tiene sus particularidades, el mecanismo más habitual para evitar los conflictos de nombres se basa en los siguientes principios:\n",
        "* *cada variable pertenece a un ámbito o nivel determinado*: al programa principal o a una subrutina;\n",
        "* las variables son completamente inaccesibles en los niveles superiores al que pertenecen;\n",
        "* las variables pueden ser accesibles o no en niveles inferiores al que pertenecen;\n",
        "* en cada subrutina, las variables que se utilizan pueden ser entonces:\n",
        "  * **variables locales**: las que pertenecen al nivel de la subrutina (y que pueden ser accesibles a niveles inferiores)\n",
        "  * **variables libres**: las que pertenecen a niveles superiores, pero son accesibles en la subrutina."
      ],
      "metadata": {
        "id": "C0dgEQWgkW0N"
      }
    },
    {
      "cell_type": "markdown",
      "source": [
        "Python sigue estos principios generales, pero con algunas particularidades:\n",
        "\n",
        "* En los lenguajes tipificados, como se deben declarar las variables que se utilizan, la declaración se aprovecha para indicar si la variable pertenece a la subrutina o procede de un nivel superior. Pero como *Python* no es un lenguaje tipificado, el nivel de pertenencia de la variable debe deducirse del programa siguiendo ciertas reglas (que comentamos a continuación). No obstante,  *Python* también permite declarar explícitamente el nivel en los casos en que se quiera un nivel distinto al determinado por las reglas.\n",
        "* *Python* distingue entre dos tipos de variables: **variables locales** y **variables libres**. A su vez, hace una distinción entre dos tipos de variables libres:  **variables globales** y **variables no locales**:\n",
        "  * **variables locales** son las que pertenecen al nivel de la subrutina y que pueden ser accesibles a niveles inferiores;\n",
        "  * **variables globales** son variables libres que pertenecen al nivel del programa principal;\n",
        "  * **variables no locales** son variables libres que pertenecen a un nivel superior al de la subrutina, pero que no son globales.\n",
        "\n",
        "  Si el programa contiene solo funciones a un nivel (las funciones que utiliza no contienen a su vez otras funciones), entonces todas las variables libres, esto es, las que provienen del programa principal, son variables globales. Pero si el programa contiene por ejemplo una función que a su vez contiene otra *sub-función*, las variables libres de esa *sub-función* pueden ser globales, si pertenecen al programa principal, o no locales, si pertenecen a la función 'madre'.\n",
        "\n",
        "* Para identificar explícitamente las variables globales y las no locales se utilizan las palabras reservadas **`global`** y **`nonlocal`**. Las variables locales no necesitan identificación.\n",
        "\n",
        "Para entender bien todos estos conceptos y cómo se usan estos tipos de variables, trabajaremos a continuación con ejemplos prácticos."
      ],
      "metadata": {
        "id": "P_oWzRRkmAJz"
      }
    },
    {
      "cell_type": "markdown",
      "source": [
        "## <font color='steelblue'> 4. Variables locales"
      ],
      "metadata": {
        "id": "eE-RAtz3ZL1f"
      }
    },
    {
      "cell_type": "markdown",
      "source": [
        "Las variables a las que se asigna valor en una función se consideran **variables locales**. Esto implica que solo operan dentro de la función, incluso cuando en el programa ya exista una variable externa con el mismo nombre.\n",
        "\n",
        "Veamos un ejemplo. A continuación definimos una función dentro de la cual creamos una variable `a` a la que asignamos un valor, para luego mostrarlo por pantalla. Seguidamente la ejecutamos."
      ],
      "metadata": {
        "id": "Lb4gPG8urOwZ"
      }
    },
    {
      "cell_type": "code",
      "source": [
        "# Definimos la función\n",
        "def funcion():\n",
        "  \"\"\"\n",
        "  1. Le damos el valor 5 a la variable local 'a'\n",
        "  2. la mostramos por pantalla\n",
        "  \"\"\"\n",
        "\n",
        "  a = 5\n",
        "  print(\"funcion: a =\",a)\n",
        "\n",
        "# Ejecutamos la función\n",
        "funcion()"
      ],
      "metadata": {
        "id": "nkydj29VrZ9q",
        "colab": {
          "base_uri": "https://localhost:8080/"
        },
        "outputId": "8d956537-0126-4dab-9bca-0cb971a2f1f7"
      },
      "execution_count": null,
      "outputs": [
        {
          "output_type": "stream",
          "name": "stdout",
          "text": [
            "funcion: a = 5\n"
          ]
        }
      ]
    },
    {
      "cell_type": "markdown",
      "source": [
        "Ahora veamos qué pasa si antes de llamar a la función operamos con la declaración de una variable externa `a` a la que asignamos otro valor."
      ],
      "metadata": {
        "id": "rUnxV39ysPI3"
      }
    },
    {
      "cell_type": "code",
      "source": [
        "a = 10\n",
        "# ejecutamos la función (variable local)\n",
        "funcion()\n",
        "# visualizamos la variable global\n",
        "print(\"a=\",a)"
      ],
      "metadata": {
        "colab": {
          "base_uri": "https://localhost:8080/"
        },
        "id": "_2NjGWSSsdLE",
        "outputId": "6e4e93f6-604c-46b6-8a3d-5e2f157400d1"
      },
      "execution_count": null,
      "outputs": [
        {
          "output_type": "stream",
          "name": "stdout",
          "text": [
            "funcion: a = 5\n",
            "a= 10\n"
          ]
        }
      ]
    },
    {
      "cell_type": "markdown",
      "source": [
        "Aquí observamos el potencial de las variables locales: cuando ejecutamos la función, esta opera con la variable local interna `a=5` que ha definido, pero fuera de la función, respeta el valor de la variable predefinida `a=10`."
      ],
      "metadata": {
        "id": "wat5dAl7sgTd"
      }
    },
    {
      "cell_type": "markdown",
      "source": [
        "Obtendremos mensajes de error si llamamos a variables externas que no existen o llamamos a una variable externa y operamos con otra interna que recibe el mismo nombre. Veamos varios ejemplos.\n",
        "\n"
      ],
      "metadata": {
        "id": "ntFy9g32tgM4"
      }
    },
    {
      "cell_type": "code",
      "source": [
        "# borramos la variable externa 'a': no existe\n",
        "del a\n",
        "def funcion2():\n",
        "  \"\"\"\n",
        "  Error: la función \"llama\" a una variable inexistente\n",
        "  \"\"\"\n",
        "  print(\"funcion: a=\",a)\n",
        "\n",
        "funcion2()"
      ],
      "metadata": {
        "colab": {
          "base_uri": "https://localhost:8080/",
          "height": 331
        },
        "id": "qI34eKNI6xkv",
        "outputId": "97ccec39-f517-4c2c-dde4-a5a7d96b08f7"
      },
      "execution_count": null,
      "outputs": [
        {
          "output_type": "error",
          "ename": "NameError",
          "evalue": "ignored",
          "traceback": [
            "\u001b[0;31m---------------------------------------------------------------------------\u001b[0m",
            "\u001b[0;31mNameError\u001b[0m                                 Traceback (most recent call last)",
            "\u001b[0;32m<ipython-input-7-c5ae0a444347>\u001b[0m in \u001b[0;36m<cell line: 9>\u001b[0;34m()\u001b[0m\n\u001b[1;32m      7\u001b[0m   \u001b[0mprint\u001b[0m\u001b[0;34m(\u001b[0m\u001b[0;34m\"funcion: a=\"\u001b[0m\u001b[0;34m,\u001b[0m\u001b[0ma\u001b[0m\u001b[0;34m)\u001b[0m\u001b[0;34m\u001b[0m\u001b[0;34m\u001b[0m\u001b[0m\n\u001b[1;32m      8\u001b[0m \u001b[0;34m\u001b[0m\u001b[0m\n\u001b[0;32m----> 9\u001b[0;31m \u001b[0mfuncion2\u001b[0m\u001b[0;34m(\u001b[0m\u001b[0;34m)\u001b[0m\u001b[0;34m\u001b[0m\u001b[0;34m\u001b[0m\u001b[0m\n\u001b[0m",
            "\u001b[0;32m<ipython-input-7-c5ae0a444347>\u001b[0m in \u001b[0;36mfuncion2\u001b[0;34m()\u001b[0m\n\u001b[1;32m      5\u001b[0m   \u001b[0mError\u001b[0m\u001b[0;34m:\u001b[0m \u001b[0mla\u001b[0m \u001b[0mfunción\u001b[0m \u001b[0;34m\"llama\"\u001b[0m \u001b[0ma\u001b[0m \u001b[0muna\u001b[0m \u001b[0mvariable\u001b[0m \u001b[0minexistente\u001b[0m\u001b[0;34m\u001b[0m\u001b[0;34m\u001b[0m\u001b[0m\n\u001b[1;32m      6\u001b[0m   \"\"\"\n\u001b[0;32m----> 7\u001b[0;31m   \u001b[0mprint\u001b[0m\u001b[0;34m(\u001b[0m\u001b[0;34m\"funcion: a=\"\u001b[0m\u001b[0;34m,\u001b[0m\u001b[0ma\u001b[0m\u001b[0;34m)\u001b[0m\u001b[0;34m\u001b[0m\u001b[0;34m\u001b[0m\u001b[0m\n\u001b[0m\u001b[1;32m      8\u001b[0m \u001b[0;34m\u001b[0m\u001b[0m\n\u001b[1;32m      9\u001b[0m \u001b[0mfuncion2\u001b[0m\u001b[0;34m(\u001b[0m\u001b[0;34m)\u001b[0m\u001b[0;34m\u001b[0m\u001b[0;34m\u001b[0m\u001b[0m\n",
            "\u001b[0;31mNameError\u001b[0m: name 'a' is not defined"
          ]
        }
      ]
    },
    {
      "cell_type": "code",
      "source": [
        "# definimos una variable externa\n",
        "a=10\n",
        "def funcion3():\n",
        "  \"\"\"\n",
        "  Error: la función llama a la variable externa, pero crea una local\n",
        "  con el mismo nombre, que genera conflicto\n",
        "  \"\"\"\n",
        "  print(\"funcion: a=\",a)\n",
        "  a=5\n",
        "\n",
        "funcion3()"
      ],
      "metadata": {
        "colab": {
          "base_uri": "https://localhost:8080/",
          "height": 331
        },
        "id": "aKEBrOoG8NF7",
        "outputId": "0f272248-a486-4f20-c22d-541a239d49fd"
      },
      "execution_count": null,
      "outputs": [
        {
          "output_type": "error",
          "ename": "UnboundLocalError",
          "evalue": "ignored",
          "traceback": [
            "\u001b[0;31m---------------------------------------------------------------------------\u001b[0m",
            "\u001b[0;31mUnboundLocalError\u001b[0m                         Traceback (most recent call last)",
            "\u001b[0;32m<ipython-input-8-e0a75f5e07fc>\u001b[0m in \u001b[0;36m<cell line: 11>\u001b[0;34m()\u001b[0m\n\u001b[1;32m      9\u001b[0m   \u001b[0ma\u001b[0m\u001b[0;34m=\u001b[0m\u001b[0;36m5\u001b[0m\u001b[0;34m\u001b[0m\u001b[0;34m\u001b[0m\u001b[0m\n\u001b[1;32m     10\u001b[0m \u001b[0;34m\u001b[0m\u001b[0m\n\u001b[0;32m---> 11\u001b[0;31m \u001b[0mfuncion3\u001b[0m\u001b[0;34m(\u001b[0m\u001b[0;34m)\u001b[0m\u001b[0;34m\u001b[0m\u001b[0;34m\u001b[0m\u001b[0m\n\u001b[0m",
            "\u001b[0;32m<ipython-input-8-e0a75f5e07fc>\u001b[0m in \u001b[0;36mfuncion3\u001b[0;34m()\u001b[0m\n\u001b[1;32m      6\u001b[0m   \u001b[0mcon\u001b[0m \u001b[0mel\u001b[0m \u001b[0mmismo\u001b[0m \u001b[0mnombre\u001b[0m\u001b[0;34m,\u001b[0m \u001b[0mque\u001b[0m \u001b[0mgenera\u001b[0m \u001b[0mconflicto\u001b[0m\u001b[0;34m\u001b[0m\u001b[0;34m\u001b[0m\u001b[0m\n\u001b[1;32m      7\u001b[0m   \"\"\"\n\u001b[0;32m----> 8\u001b[0;31m   \u001b[0mprint\u001b[0m\u001b[0;34m(\u001b[0m\u001b[0;34m\"funcion: a=\"\u001b[0m\u001b[0;34m,\u001b[0m\u001b[0ma\u001b[0m\u001b[0;34m)\u001b[0m\u001b[0;34m\u001b[0m\u001b[0;34m\u001b[0m\u001b[0m\n\u001b[0m\u001b[1;32m      9\u001b[0m   \u001b[0ma\u001b[0m\u001b[0;34m=\u001b[0m\u001b[0;36m5\u001b[0m\u001b[0;34m\u001b[0m\u001b[0;34m\u001b[0m\u001b[0m\n\u001b[1;32m     10\u001b[0m \u001b[0;34m\u001b[0m\u001b[0m\n",
            "\u001b[0;31mUnboundLocalError\u001b[0m: local variable 'a' referenced before assignment"
          ]
        }
      ]
    },
    {
      "cell_type": "markdown",
      "source": [
        "No se genera conflicto sin embargo, cuando en la función llamamos a variables externas y no creamos ninguna interna (local) con el mismo nombre. Trabajamos con ello en la siguiente sección."
      ],
      "metadata": {
        "id": "w7DblA2q_Kek"
      }
    },
    {
      "cell_type": "markdown",
      "source": [
        "## <font color='steelblue'>5. Variables libres: globales  y no-locales"
      ],
      "metadata": {
        "id": "SlCP5r5oJjze"
      }
    },
    {
      "cell_type": "markdown",
      "source": [
        "Si a una variable **no** se le asigna un valor en una función, *Python* la considera libre y busca su valor en los niveles superiores de esa función, empezando por el inmediatamente superior y subiendo progresivamente hasta el nivel del programa principal. Si a la variable se le asigna un valor en algún nivel intermedio, entonces se considera **no local** (`nonlocal`), y si se le asigna en el programa principal, se considera **global** (`global`).\n",
        "\n",
        "En el ejemplo siguiente, definimos una variable `a` en el programa principal, y una función que busca su valor predefinido previamente, para visualizarlo en pantalla. Se trata pues, de una llamada a una variable **global** definida en el programa principal."
      ],
      "metadata": {
        "id": "0kuHNiOMlHg4"
      }
    },
    {
      "cell_type": "code",
      "source": [
        "# Definimos la función que busca una variable global 'a'\n",
        "def funcion():\n",
        "  \"\"\"\n",
        "  Esta función muestra por pantalla un texto y el valor de 'a'.\n",
        "  La variable 'a' deber haberse definido previamente.\n",
        "  \"\"\"\n",
        "\n",
        "  print(f\"funcion: a= {a}\")\n",
        "\n",
        "# Creamos la variable global en el programa principal\n",
        "a=5\n",
        "\n",
        "# Ejecutamos la función\n",
        "funcion()\n",
        "# mostramos el valor de la variable global\n",
        "print(f\"La variable 'a' fuera de la función vale {a}\")\n"
      ],
      "metadata": {
        "id": "9CTxe-kWmRaD",
        "colab": {
          "base_uri": "https://localhost:8080/"
        },
        "outputId": "60b22e10-d210-46aa-8c53-45fd15adcc1a"
      },
      "execution_count": null,
      "outputs": [
        {
          "output_type": "stream",
          "name": "stdout",
          "text": [
            "funcion: a= 5\n",
            "La variable 'a' fuera de la función vale 5\n"
          ]
        }
      ]
    },
    {
      "cell_type": "markdown",
      "source": [
        "Cuando definimos variables dentro de funciones y las llamamos desde subfunciones, se consideran no-locales,  `nonlocal`. En este caso no se generará conflicto con variables globales (externas):"
      ],
      "metadata": {
        "id": "N1xK0DScn8pX"
      }
    },
    {
      "cell_type": "code",
      "source": [
        "def funcion():\n",
        "  \"\"\"\n",
        "  Dentro de la función principal, creamos una variable y\n",
        "  definimos una subfunción que la llama.\n",
        "  \"\"\"\n",
        "  # Definimos una función ('sub-funcion') dentro de 'funcion'\n",
        "  def sub_funcion():\n",
        "    \"\"\"\n",
        "    La subfunción muestra por pantalla un mensaje y el valor de la variable no local 'a'\n",
        "    \"\"\"\n",
        "\n",
        "    print(f\"subfuncion: a={a}\")\n",
        "\n",
        "  \"\"\"\n",
        "  A continuación, dentro de la función principal\n",
        "  1. le damos el valor 3 a la variable no local 'a'\n",
        "  2. ejecutamos la subfunción\n",
        "  3. mostramos un mensaje por pantalla con la variable no local 'a'\n",
        "  \"\"\"\n",
        "  # definimos la variable no-local\n",
        "  a = 3\n",
        "  # ejecutamos la subfunción\n",
        "  sub_funcion()\n",
        "  # mostramos el valor de 'a' dentro de la función\n",
        "  print(f\"funcion: a={a}\")\n",
        "\n",
        "# Una vez definida, aunque tengamos variables externas (globales), no genera conflicto\n",
        "a=4\n",
        "print(f\"a={a}\")\n",
        "funcion()"
      ],
      "metadata": {
        "id": "AzyE-TGZoPpQ",
        "colab": {
          "base_uri": "https://localhost:8080/"
        },
        "outputId": "f0d2d3c3-840b-46df-b6be-2239a02ee368"
      },
      "execution_count": null,
      "outputs": [
        {
          "output_type": "stream",
          "name": "stdout",
          "text": [
            "a=4\n",
            "subfuncion: a=3\n",
            "funcion: a=3\n"
          ]
        }
      ]
    },
    {
      "cell_type": "markdown",
      "source": [
        "## <font color='steelblue'>6. Modificar variables en niveles superiores: declarar `global` y `nonlocal`"
      ],
      "metadata": {
        "id": "WFM5f00wJX4h"
      }
    },
    {
      "cell_type": "markdown",
      "source": [
        "En ocasiones nos va a interesar programar funciones que accedan a variables declaradas previamente y modifiquen sus valores. Esto lo podemos conseguir **declarando** explícitamente esas variables como libres, esto es, `global` si dichas variables están disponibles en el programa principal, o `nonlocal` si están disponibles en funciones 'madre'.\n",
        "\n",
        "Declarar variables como globales dentro de una función, nos va a permitir acceder a variables externas predefinidas en el programa principal y modificar su valor dentro de una función. Las operaciones que se realizan dentro de la función persisten pues al nivel del programa principal y la variable global queda definitivamente modificada. Para reconocer esa variable como predefinida de modo global anteriormente utilizamos, dentro de la función, la declaración\n",
        "```\n",
        "global nombre_variable\n",
        "```\n",
        "\n",
        "En el siguiente ejemplo, dentro de la función declaramos una variable como **global** para modificar su valor.  "
      ],
      "metadata": {
        "id": "T3qXmSq94MVy"
      }
    },
    {
      "cell_type": "code",
      "source": [
        "def funcion():\n",
        "  \"\"\"\n",
        "  1. Definimos la variable 'a' como global\n",
        "  2. mostramos un mensaje por pantalla con el valor de la variable 'a' global\n",
        "  3. modificamos el valor de la variable global 'a'\n",
        "  \"\"\"\n",
        "\n",
        "  global a\n",
        "  print(f\"funcion: a={a}\")\n",
        "  a = 1"
      ],
      "metadata": {
        "id": "2jVgZF_D4eur"
      },
      "execution_count": null,
      "outputs": []
    },
    {
      "cell_type": "code",
      "source": [
        "# Se define una variable externa con el valor 5 (programa principal)\n",
        "a = 5\n",
        "print(f\"a={a}\")\n",
        "# se ejecuta la función que modifica su valor\n",
        "funcion()\n",
        "# el valor de 'a' ha quedado modificado en el programa principal\n",
        "print(f\"a={a}\")"
      ],
      "metadata": {
        "colab": {
          "base_uri": "https://localhost:8080/"
        },
        "id": "-zKC2egz4hkA",
        "outputId": "1f9b041a-055c-4150-b9d2-aad2a20ae548"
      },
      "execution_count": null,
      "outputs": [
        {
          "output_type": "stream",
          "name": "stdout",
          "text": [
            "a=5\n",
            "funcion: a=5\n",
            "a=1\n"
          ]
        }
      ]
    },
    {
      "cell_type": "markdown",
      "source": [
        "Cuando queremos hacer algo similar con variables que están definidas dentro de una función, podemos declararlas como `nonlocal` dentro de sub-funciones que las llaman. Las operaciones que realicemos en la subfunción modifican el valor de la variable dentro de la función. Sin embargo, esto no interfiere con variables externas globales que estén definidas con el mismo nombre en el programa principal.\n",
        "\n",
        "Veamos a continuación un ejemplo. Definimos una función que asigna inicialmente el valor 'a=3'. Dentro de ella definimos una sub-función que modifica el valor de 'a' dentro de la función. Estas operaciones no afectan a una variable externa global que esté definida con el mismo nombre en el programa principal."
      ],
      "metadata": {
        "id": "9BvF5-upBZNO"
      }
    },
    {
      "cell_type": "code",
      "source": [
        "def funcion():\n",
        "  \"\"\"\n",
        "  Definimos una subfunción dentro de la función\n",
        "  \"\"\"\n",
        "\n",
        "  def sub_funcion():\n",
        "    \"\"\"\n",
        "    1. Declaramos la variabla 'a' como no local\n",
        "    2. mostramos por pantalla su valor inicial\n",
        "    3. modificamos su valor por '3'\n",
        "    4. mostramos por pantalla su valor modificado\n",
        "    \"\"\"\n",
        "\n",
        "    #declaramos la variable 'a' como nonlocal\n",
        "    nonlocal a\n",
        "    # mostramos su valor (inicial) por pantalla\n",
        "    print(f\"sub-funcion antes de modificar: a={a}\")\n",
        "    # modificamos su valor\n",
        "    a = 1\n",
        "    # mostramos su valor modificado por pantalla\n",
        "    print(f\"sub-funcion tras modificar: a={a}\")\n",
        "\n",
        "  \"\"\"\n",
        "  Volvemos a la función principal\n",
        "  1. Le damos el valor 3 a la variable 'a'\n",
        "  2. llamamos a la subfunción\n",
        "  3. mostramos un mensaje y el valor de la variable 'a' no local (1, por la asignación en la subfunción)\n",
        "  \"\"\"\n",
        "\n",
        "  a = 3\n",
        "  print(f\"funcion inicial: a={a}\")\n",
        "  sub_funcion()\n",
        "  print(f\"funcion final: a={a}\")\n",
        "# fin de la función\n"
      ],
      "metadata": {
        "id": "7Uz6aH6wCRhD"
      },
      "execution_count": null,
      "outputs": []
    },
    {
      "cell_type": "code",
      "source": [
        "# creamos una variable externa (global)\n",
        "a = 4\n",
        "print(f\"La variable 'a' fuera de la función vale {a}\")\n",
        "# ejecutamos la función\n",
        "funcion()\n",
        "# mostramos el valor de la variable global\n",
        "print(f\"La variable 'a' fuera de la función vale {a}\")"
      ],
      "metadata": {
        "colab": {
          "base_uri": "https://localhost:8080/"
        },
        "id": "RBw6zEz7Ci0R",
        "outputId": "d1f2e0a0-b3ba-49e2-a4df-84d1fa137829"
      },
      "execution_count": null,
      "outputs": [
        {
          "output_type": "stream",
          "name": "stdout",
          "text": [
            "La variable 'a' fuera de la función vale 4\n",
            "funcion inicial: a=3\n",
            "sub-funcion antes de modificar: a=3\n",
            "sub-funcion tras modificar: a=1\n",
            "funcion final: a=1\n",
            "La variable 'a' fuera de la función vale 4\n"
          ]
        }
      ]
    },
    {
      "cell_type": "markdown",
      "source": [
        "Por supuesto, para poder operar sobre variables `nonlocal` es preciso que estén definidas (y asignadas) en la función contenedora. De no ser así, obtendremos un mensaje de error. Así, si escribimos el siguiente código nos dará error.\n",
        "\n",
        "```\n",
        "def funcion():\n",
        "  \"\"\"\n",
        "  Definimos una subfunción dentro de la función\n",
        "  \"\"\"\n",
        "\n",
        "  def sub_funcion():\n",
        "    \"\"\"\n",
        "    1. Declaramos la variabla 'a' como no local\n",
        "    2. mostramos por pantalla un mensaje y el valor de la variable 'a' no local\n",
        "    3. le damos el valor 3 a la variable 'a'\n",
        "    \"\"\"\n",
        "\n",
        "    nonlocal a\n",
        "    print(a)\n",
        "    a=1\n",
        "\n",
        "  \"\"\"\n",
        "  1. llamamos a la subfunción\n",
        "  2. mostramos el valor de la variable 'a' no local (1, por la asignación en la subfunción)\n",
        "  \"\"\"\n",
        "\n",
        "  sub_funcion()\n",
        "  print(a)\n",
        "\n",
        "a = 4\n",
        "funcion()\n",
        "print(a)\n",
        "```\n",
        "\n",
        "Esto es debido que al llamar a la variable `a` como **nonlocal**, no encuentra ninguna que se llame igual en el nivel superior `funcion()`."
      ],
      "metadata": {
        "id": "5aL1z4VgIXRk"
      }
    }
  ]
}
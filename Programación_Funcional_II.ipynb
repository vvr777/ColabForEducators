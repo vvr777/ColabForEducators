{
  "nbformat": 4,
  "nbformat_minor": 0,
  "metadata": {
    "colab": {
      "provenance": []
    },
    "kernelspec": {
      "name": "python3",
      "display_name": "Python 3"
    },
    "language_info": {
      "name": "python"
    }
  },
  "cells": [
    {
      "cell_type": "markdown",
      "source": [
        "## **PROGRAMACIÓN FUNCIONAL II**"
      ],
      "metadata": {
        "id": "46jVpoXkzZCL"
      }
    },
    {
      "cell_type": "markdown",
      "source": [
        "## <font color='steelblue'> Contenidos: </font>\n",
        "\n",
        "1. Argumentos y resultados\n",
        "1. Funciones con varios argumentos\n",
        "1. Funciones modificadoras\n",
        "1. Condiciones, bucles y contadores en funciones\n",
        "1. Funciones como argumentos de funciones\n",
        "1. Argumentos predeterminados\n"
      ],
      "metadata": {
        "id": "LM2ZUu31V9HS"
      }
    },
    {
      "cell_type": "markdown",
      "source": [
        "## <font color='steelblue'> 1. Argumentos y resultados\n"
      ],
      "metadata": {
        "id": "SesRoXZfZ7q9"
      }
    },
    {
      "cell_type": "markdown",
      "source": [
        "En el cuaderno anterior vimos que la estructura básica para definir funciones es la siguiente:\n",
        "\n",
        "```\n",
        "def nombre_funcion(argumentos_opcionales):\n",
        "  procedimientos\n",
        "  ...\n",
        "  return resultado\n",
        "```\n",
        "\n",
        "donde definíamos una función con o sin argumentos, programábamos a continuación los procedimientos a realizar, y devolvíamos, con `return` el resultado que deseábamos. Si bien estuvimos trabajando con funciones que no incluían argumentos ni devolvían resultados, ahora trabajaremos con argumentos y devolución de resultados.\n",
        "\n",
        "\n",
        "Con el fin de ilustrar su uso, nos vamos a enfocar a programar una función que devuelva la media de varios valores, planteando posibles alternativas respecto a cómo recibe los *inputs* o valores de entrada -y cómo podemos registrarlos como argumentos-, y cómo devuelve los resultados o *outputs*.\n",
        "\n",
        "\n",
        "Para iniciarnos en el uso de los argumentos, recordemos que siempre podemos programar **funciones que utilicen variables globales**  en el programa principal, y por lo tanto no requieran de argumentos. Así, si queremos calcular la media sobre dos variables predefinidas como globales, bastará utilizar el nombre con el que han sido definidas, sin necesidad de incluir argumentos:\n"
      ],
      "metadata": {
        "id": "LMYgG_2viU-U"
      }
    },
    {
      "cell_type": "code",
      "source": [
        "# Definimos la media de dos variables llamadas 'a' y 'b'\n",
        "def media():\n",
        "  \"\"\"\n",
        "  1. La variable 'media' tomará como valor el resultado de dividir el valor de la suma de las\n",
        "  variables globales 'a' y 'b', y luego la división de esta entre 2.\n",
        "  2. se muestra un mensaje con las variables 'a', 'b' y 'media'.\n",
        "  \"\"\"\n",
        "  media = (a+b)/2\n",
        "  print(f\"La media entre {a} y {b} vale: {media}\")\n",
        "\n",
        "# Creamos las variables globales\n",
        "a = 2\n",
        "b = 6\n",
        "\n",
        "# Y ejecutamos la función\n",
        "media()"
      ],
      "metadata": {
        "id": "fxr8CX9LnI2v",
        "colab": {
          "base_uri": "https://localhost:8080/"
        },
        "outputId": "9bcda0b3-7ca0-44aa-bc62-3fdd110687d2"
      },
      "execution_count": null,
      "outputs": [
        {
          "output_type": "stream",
          "name": "stdout",
          "text": [
            "La media entre 2 y 6 vale: 4.0\n"
          ]
        }
      ]
    },
    {
      "cell_type": "markdown",
      "source": [
        "Por supuesto, esta programación requiere de la existencia de esas dos variables globles, 'a' y 'b', reconocidas exactamente por esos nombres.\n",
        "\n",
        "Para prevenir su no existencia en el programa principal, podemos programar la misma **función con argumentos**. Incluimos como argumentos los dos valores (o variables que contienen dichos valores) que deseamos promediar, y a los que podemos dar cualquier nombre, como por ejemplo 'x' e 'y'. A los argumentos los llamaremos indistintamente \"argumentos\", \"parámetros\" o incluso \"inputs\"."
      ],
      "metadata": {
        "id": "WU8jnz18nxgI"
      }
    },
    {
      "cell_type": "code",
      "source": [
        "# Definimos la función para calcular el promedio de dos valores 'x' e 'y'\n",
        "# que proporcionamos como argumentos de la función\n",
        "def calcular_media(x, y):\n",
        "  \"\"\"\n",
        "  Calcula la media de dos números y muestra un mensaje\n",
        "\n",
        "  Parámetros o argumentos:\n",
        "    - x: número o variable que contiene un número\n",
        "    - y: número o variable que contiene un número\n",
        "  \"\"\"\n",
        "  media = (x+y)/2\n",
        "  print(f\"La media entre {x} y {y} vale: {media}\")\n",
        "\n",
        "# A continuación definimos las variables\n",
        "a = 2\n",
        "b = 4\n",
        "# Y ejecutamos la función\n",
        "calcular_media(a, b)\n",
        "# o ejecutamos la función directamente con los valores\n",
        "calcular_media(2,4)"
      ],
      "metadata": {
        "id": "ua3mXrOun__f",
        "colab": {
          "base_uri": "https://localhost:8080/"
        },
        "outputId": "7855be65-ef29-4593-f501-58c4d3b68df2"
      },
      "execution_count": null,
      "outputs": [
        {
          "output_type": "stream",
          "name": "stdout",
          "text": [
            "La media entre 2 y 4 vale: 3.0\n",
            "La media entre 2 y 4 vale: 3.0\n"
          ]
        }
      ]
    },
    {
      "cell_type": "markdown",
      "source": [
        "Puesto que esta función para calcular el promedio la hemos definido con dos argumentos que necesariamente han de ser números, si le pasamos otro tipo de variable o más de dos valores, nos dará un error.\n",
        "\n",
        "Ya hemos visto cómo utilizar los argumentos para definir una función. Vayamos pues, a cómo **devolver resultados**. Estamos interesados ahora en llamar a la función con dos valores cualesquiera que le pasemos, y almacenar el resultado del promedio en otra variable. Para ello, hemos de echar mano del comando `return resultado_a_devolver`, que nos facilita la devolución del resultado calculado en la función que deseamos devolver. Veamos cómo hacerlo con el ejemplo anterior.\n"
      ],
      "metadata": {
        "id": "ZFsPAQDspxfx"
      }
    },
    {
      "cell_type": "code",
      "source": [
        "# Definimos la función para calcular el promedio de dos valores 'x' e 'y'\n",
        "# que proporcionamos como argumentos de la función\n",
        "# y le pedimos que devuelva el valor promedio calculado\n",
        "def calcular_media(x, y):\n",
        "  \"\"\"\n",
        "  Calcula la media de dos números y devuelve su valor\n",
        "\n",
        "  Parámetros:\n",
        "    - x: número o variable que contenga un número\n",
        "    - y: número o variable que contenga un número\n",
        "\n",
        "  Devuelve:\n",
        "    el valor de la media entre 'x' e 'y'\n",
        "  \"\"\"\n",
        "  media = (x+y)/2\n",
        "  return media"
      ],
      "metadata": {
        "id": "7sFyJYLNqu52"
      },
      "execution_count": null,
      "outputs": []
    },
    {
      "cell_type": "markdown",
      "source": [
        "Puesto que vamos a devolver un resultado que queremos guardar en una variable, habremos de crear una nueva variable a la que asignaremos dicho resultado. Procedemos igual que antes, creando una nueva variable para almacenar el resultado."
      ],
      "metadata": {
        "id": "IAOoa00aq0cC"
      }
    },
    {
      "cell_type": "code",
      "source": [
        "# definimos las variables con los valores a promediar\n",
        "a = 2\n",
        "b = 4\n",
        "# llamamos a la función y la asignamos a una nueva variable llamada 'media'\n",
        "media = calcular_media(a, b)\n",
        "# mostramos en pantalla el resultado almacenado en 'media'\n",
        "print(f\"La media de {a} y {b} es: {media}\")"
      ],
      "metadata": {
        "colab": {
          "base_uri": "https://localhost:8080/"
        },
        "id": "j0eRdsJ9rG0A",
        "outputId": "262a4c53-5c95-442a-9394-06a42534dc64"
      },
      "execution_count": null,
      "outputs": [
        {
          "output_type": "stream",
          "name": "stdout",
          "text": [
            "La media de 2 y 4 es: 3.0\n"
          ]
        }
      ]
    },
    {
      "cell_type": "markdown",
      "source": [
        "Esta variable se actualiza cada vez que ejecutamos la función `calcular_media()` realizando la asignación. Si simplemente la ejecutamos sin asignar, el valor de 'media' no cambiará.\n",
        "Veámoslo con un ejemplo en el que cambiamos los valores a promediar, pero no actualizamos la asignación, por lo que utiliza la media de los valores en la celda de código previa."
      ],
      "metadata": {
        "id": "vQHs_M43rZSE"
      }
    },
    {
      "cell_type": "code",
      "source": [
        "a = 3\n",
        "b = 5\n",
        "calcular_media(3,5)\n",
        "print(f\"La media de {a} y {b} es: {media}\")"
      ],
      "metadata": {
        "id": "yyXtFG6ArNI9",
        "colab": {
          "base_uri": "https://localhost:8080/"
        },
        "outputId": "81b8841d-8784-4bb6-b818-9f88bf2706f4"
      },
      "execution_count": null,
      "outputs": [
        {
          "output_type": "stream",
          "name": "stdout",
          "text": [
            "La media de 3 y 5 es: 3.0\n"
          ]
        }
      ]
    },
    {
      "cell_type": "markdown",
      "source": [
        "Cuando programamos funciones podemos contemplar todos los tipos de variables existentes para utilizarlos como argumentos, siempre dependiendo de lo que pretendemos calcular con dicha función. En el ejemplo anterior programamos una función que aplica a dos variables numéricas con un solo número cada una de ellas, pero también podemos crear **funciones que aplican a cadenas de texto**, `string`, e incluso que **devuelven más de un resultado**. Veamos un ejemplo.\n",
        "\n",
        "\n",
        "La función `return` nos permite devolver cuantos resultados deseemos, simplemente separándolos con comas.\n",
        "```\n",
        "return resultado_1, resultado_2, resultado_3\n",
        "```\n",
        "\n",
        "Queremos programar una función que, a partir de un texto, nos devuelva el número de palabras que contiene y el número de caracteres totales. Veamos cómo hacerla."
      ],
      "metadata": {
        "id": "v7MJKDCarFDf"
      }
    },
    {
      "cell_type": "code",
      "source": [
        "# Definimos la función 'contador'\n",
        "# que recibe como argumento una variable 'string' llamada 'texto'\n",
        "def contador(texto):\n",
        "  \"\"\"\n",
        "  Calcula cuántas palabras y cuántos caracteres hay en una cadena de texto.\n",
        "\n",
        "  Parámetros:\n",
        "    - texto: cadena de texto o variable que almacena una cadena de texto\n",
        "\n",
        "  Devuelve:\n",
        "    el número de palabras y de caracteres que tiene 'texto'\n",
        "  \"\"\"\n",
        "  # Separamos en una lista 'palabras' las palabras por los espacios en blanco\n",
        "  palabras = texto.split(\" \")\n",
        "  # contamos cuántas palabras hay: número de elementos de la lista 'palabras'\n",
        "  contador_palabras = len(palabras)\n",
        "  # contamos el número de caracteres (incluidos espacios)\n",
        "  contador_caracteres = len(texto)\n",
        "  # devolvemos el número de palabras y el número de caracteres,\n",
        "  # almacenados en las variables locales 'contador_palabras' y 'contador_caracteres'\n",
        "  return contador_palabras, contador_caracteres"
      ],
      "metadata": {
        "id": "wFbhb3HTrSdS"
      },
      "execution_count": null,
      "outputs": []
    },
    {
      "cell_type": "markdown",
      "source": [
        "Cuando la llamemos, tendremos que asignar los dos resultados que devuelve a sendas variables (externas a la función), y cuyos nombres escribiremos uno a continuación del otro, separados por una coma y seguidos de un solo símbolo `=`, después del cual ejecutamos la función.\n",
        "\n",
        "Mostramos a continuación que el cálculo y la asignación se han realizado correctamente."
      ],
      "metadata": {
        "id": "leJbAOqZsvzS"
      }
    },
    {
      "cell_type": "code",
      "source": [
        "# definimos un texto\n",
        "texto = \"Haz algo original y ninguna inteligencia artificial podrá reemplazarte\"\n",
        "# creamos nuevas variables a las que asignar el resultado de la función,\n",
        "# y la llamamos, aplicándole como argumento la cadena 'texto'\n",
        "contador_palabras, contador_caracteres = contador(texto)\n",
        "\n",
        "# mostramos en pantalla los resultados obtenidos\n",
        "print(f\"Esta cadena de texto tiene {contador_palabras} palabras y {contador_caracteres} caracteres\")"
      ],
      "metadata": {
        "colab": {
          "base_uri": "https://localhost:8080/"
        },
        "id": "YoPOXcwVrQ6i",
        "outputId": "fd5af584-1795-46c8-b5eb-3fa2968b1791"
      },
      "execution_count": null,
      "outputs": [
        {
          "output_type": "stream",
          "name": "stdout",
          "text": [
            "Esta cadena de texto tiene 9 palabras y 70 caracteres\n"
          ]
        }
      ]
    },
    {
      "cell_type": "markdown",
      "source": [
        "Si en vez de crear dos variables para almacenar los dos resultados que devuelve la función, solo creamos una a la que asignamos el resultado de la función, esta será una **tupla** con dos elementos, en cada uno de los cuales habrá almacenado cada uno de los dos resultados a devolver. Para visualizarlos, tendremos que tener esto en cuenta, con el fin de identificar correctamente cada uno de sus elementos.\n"
      ],
      "metadata": {
        "id": "_VT2e9jbtr62"
      }
    },
    {
      "cell_type": "code",
      "source": [
        "# asignamos a una sola variable el resultado de la función 'contador(texto)'\n",
        "contadores = contador(texto)\n",
        "# resulta ser una tupla\n",
        "print(f\"El resultado es {contadores}\")\n",
        "\n",
        "# primer valor: número de palabras\n",
        "print(f\"Esta cadena de texto tiene {contadores[0]} palabras\")\n",
        "# segundo valor: número de caracteres\n",
        "print(f\"Esta cadena de texto tiene {contadores[1]} caracteres\")"
      ],
      "metadata": {
        "colab": {
          "base_uri": "https://localhost:8080/"
        },
        "id": "J6tkGVfcts_Z",
        "outputId": "91379f28-71aa-4e0a-83ee-50b8b87ac5f8"
      },
      "execution_count": null,
      "outputs": [
        {
          "output_type": "stream",
          "name": "stdout",
          "text": [
            "El resultado es (9, 70)\n",
            "Esta cadena de texto tiene 9 palabras\n",
            "Esta cadena de texto tiene 70 caracteres\n"
          ]
        }
      ]
    },
    {
      "cell_type": "markdown",
      "source": [
        "## <font color='steelblue'> 2. Funciones con varios argumentos\n"
      ],
      "metadata": {
        "id": "Dy-4PRSSkw20"
      }
    },
    {
      "cell_type": "markdown",
      "source": [
        "Imagina la función 'media' que construimos para promediar dos valores, pero ahora pretendiendo promediar más de dos valores: tres, cuatro, o incluso 100. La pregunta que se nos ocurre es: ¿hemos de crear otra función para promediar tres valores, otra para promediar cuatro, etc.? La respuesta es NO, y tenemos varias opciones:\n",
        "1. la primera es utilizar un número a priori indeterminado de argumentos (valores a promediar, en nuestro caso), que identificamos como `*args` al definir la función, y que se introducirán separados por comas;\n",
        "2. la segunda es definir la función solicitando como argumento único una lista de valores (a promediar).\n",
        "\n",
        "\n",
        "Veamos cómo proceder con la primera opción. Creamos una función para calcular la media de un número cualquiera de valores que introduciremos separados por comas, definiendo la función con un argumento genérico `*args`. La ejecutamos a continuación para calcular el promedio de tres valores."
      ],
      "metadata": {
        "id": "SwE98vDQxnqi"
      }
    },
    {
      "cell_type": "code",
      "source": [
        "# Función que calcula la media una sucesión de valores\n",
        "# introducidos como argumentos y separados por comas\n",
        "def calcular_media(*args):\n",
        "  \"\"\"\n",
        "  Calcula la media de todos los números que pasemos como argumentos,\n",
        "  a los que trata como una 'lista'\n",
        "  Parámetros:\n",
        "    - Admite infinitos, y cada parámetro que pasamos ha de ser un número,\n",
        "     o una variable que almacena un número\n",
        "  Devuelve:\n",
        "    el valor de la media de todos los parámetros\n",
        "  \"\"\"\n",
        "  # inicializamos un contador a cero, en el que acumulamos la suma de valores\n",
        "  suma = 0\n",
        "  # recorremos todos los argumentos y los vamos acumulando en el contador\n",
        "  for i in args:\n",
        "    suma += i\n",
        "  # una vez sumados todos, dividimos por el número total de parámetros\n",
        "  media = suma/len(args)\n",
        "  # devolvemos la media\n",
        "  return media\n",
        "\n",
        "# Definimos tres valores a promediar\n",
        "a, b, c = 2, 4, 6\n",
        "# ejecutamos la función y la asignamos a la variable 'media'\n",
        "media = calcular_media(a, b, c)\n",
        "# visualizamos todos los valores y resultado\n",
        "print(f\"La media de {a}, {b} y {c} es: {media}\")"
      ],
      "metadata": {
        "id": "85EWK8PDyZf5",
        "colab": {
          "base_uri": "https://localhost:8080/"
        },
        "outputId": "bee4425e-f832-45dc-e157-9ed7f4a9cd7e"
      },
      "execution_count": null,
      "outputs": [
        {
          "output_type": "stream",
          "name": "stdout",
          "text": [
            "La media de 2, 4 y 6 es: 4.0\n"
          ]
        }
      ]
    },
    {
      "cell_type": "markdown",
      "source": [
        "Podemos programar también la función siguiendo la segunda opción: en lugar de definir un argumento `*args`, definimos un argumento que necesariamente habrá de ser una **lista** con elementos numéricos."
      ],
      "metadata": {
        "id": "TsBtYMD0Lhdd"
      }
    },
    {
      "cell_type": "code",
      "source": [
        "# Función que calcula la media una sucesión de valores\n",
        "# introducidos en una lista llamada 'numeros'\n",
        "def calcular_media2(numeros):\n",
        "  \"\"\"\n",
        "  Calcula la media una lista de valores llamada 'numeros'\n",
        "  Parámetros:\n",
        "    - numeros: lista de números o variable que contiene una lista de números\n",
        "  Devuelve:\n",
        "    el valor de la media de todos los que contenga la lista\n",
        "  \"\"\"\n",
        "  suma = 0\n",
        "  for i in numeros:\n",
        "    suma += i\n",
        "  media = suma/len(numeros)\n",
        "  return media\n",
        "\n",
        "# Definimos una lista de valores a promediar\n",
        "numeros = [2,4,6]\n",
        "# ejecutamos la función y la asignamos a la variable 'media'\n",
        "media = calcular_media2(numeros)\n",
        "# visualizamos todos los valores y resultado\n",
        "print(f\"La media de {numeros[0]}, {numeros[1]} y {numeros[2]} es: {media}\")\n",
        "# automatizamos la visualización de todos los valores y resultado\n",
        "print(\"La media de\")\n",
        "for i in numeros:\n",
        "  print(i)\n",
        "print(f\"es {media}\")"
      ],
      "metadata": {
        "id": "Ugfr5BvdLqcj",
        "colab": {
          "base_uri": "https://localhost:8080/"
        },
        "outputId": "6c4c926c-0ebb-460f-abbd-e20fab3c6ef7"
      },
      "execution_count": null,
      "outputs": [
        {
          "output_type": "stream",
          "name": "stdout",
          "text": [
            "La media de 2, 4 y 6 es: 4.0\n",
            "La media de\n",
            "2\n",
            "4\n",
            "6\n",
            "es 4.0\n"
          ]
        }
      ]
    },
    {
      "cell_type": "markdown",
      "source": [
        "## <font color='steelblue'> 3. Funciones modificadoras"
      ],
      "metadata": {
        "id": "EjT3mXJ-yGVd"
      }
    },
    {
      "cell_type": "markdown",
      "source": [
        "En *Python* no se producen conflictos entre los nombres de los argumentos y los nombres de las variables globales. Es decir, el nombre de un argumento puede coincidir o no con el de una variable global, pero *Python* no los confunde, esto es, resuelve las operaciones sobre el argumento y no sobre variables globales que tengan el mismo nombre que el argumento.\n",
        "\n",
        "Sin embargo, podemos programar funciones que operen específicamente modificando objetos o variables globales, sin necesidad de dar un valor de retorno, siempre y cuando estas sean **objetos mutables**. Dentro de los objetos mutables se encuentran las listas, diccionarios y sets, entre otros.\n",
        "\n",
        "No podremos modificar variables globales del tipo **inmutable**, como son los números (float, enteros, ...), las tuplas y las cadenas de texto, entre otros. En ese caso, solo conseguiremos modificaciones de una variable inmutable a través de funciones que devuelvan un valor que podamos asignar a un nuevo objeto, aunque lo nombremos igual.\n",
        "\n",
        "Veamos algunos ejemplos.\n"
      ],
      "metadata": {
        "id": "fXOt6l6GwMDK"
      }
    },
    {
      "cell_type": "markdown",
      "source": [
        "### <font color='steelblue'> Modificar objetos mutables\n",
        "\n",
        "En primer lugar vamos a crear una función útil para modificar un objeto mutable. A una lista cualquiera predefinida como variable global, queremos añadirle un elemento adicional.\n",
        "Tras definirla, veamos cómo opera sobre una variable global llamada 'a', cuyo identificador reconocemos a través de la función `id(a)`."
      ],
      "metadata": {
        "id": "5R30a1MT7GxF"
      }
    },
    {
      "cell_type": "code",
      "source": [
        "def modificar(b):\n",
        "  \"\"\"\n",
        "  Añade el valor 6 a una lista 'b'\n",
        "\n",
        "  Parámetros:\n",
        "    - b: lista de números o variable que contiene una lista de números\n",
        "  \"\"\"\n",
        "  b += [6]\n",
        "\n",
        "# creamos una variable global llamada 'b', que es lista\n",
        "a = [2,4]\n",
        "# comprobamos su valor y su identificador\n",
        "print(f\"Al principio: a={a} y su identificador {id(a)}\")\n",
        "# ejecutamos la función sobre la lista 'a'\n",
        "modificar(a)\n",
        "# comprobamos su valor y su identificador después de ejecutar la función 'modificar()'\n",
        "print(f\"Después de llamar a modificar(a): a={a} y su identificador {id(a)}\")"
      ],
      "metadata": {
        "colab": {
          "base_uri": "https://localhost:8080/"
        },
        "id": "mUSffZGd5N6I",
        "outputId": "ab2b8d17-ca7a-4e08-b86b-0d61c8f91a57"
      },
      "execution_count": null,
      "outputs": [
        {
          "output_type": "stream",
          "name": "stdout",
          "text": [
            "Al principio: a=[2, 4] y su identificador 138803438390848\n",
            "Después de llamar a modificar(a): a=[2, 4, 6] y su identificador 138803438390848\n"
          ]
        }
      ]
    },
    {
      "cell_type": "markdown",
      "source": [
        "Comprobamos pues, que la función 'modificar' ha modificado el valor del objeto lista 'a' al ejecutarla, y 'a' sigue siendo el mismo objeto, puesto que conserva el mismo identificador.\n",
        "\n",
        "Por supuesto, el efecto es el mismo si llamamos a la función `modificar()` con una variable global que recibe el mismo nombre del argumento con el que ha sido definida. Comprobémoslo."
      ],
      "metadata": {
        "id": "8Tg1HrK95n7O"
      }
    },
    {
      "cell_type": "code",
      "source": [
        "# creamos una variable global llamada 'b', que es lista\n",
        "b = [1]\n",
        "# comprobamos su valor y su identificador\n",
        "print(f\"Al principio: b={b} y su identificador es {id(b)}\")\n",
        "# ejecutamos la función sobre la lista 'b'\n",
        "modificar(b)\n",
        "# comprobamos su valor y su identificador después de ejecutar la función 'modificar()'\n",
        "print(f\"Después de llamar a modificar(b): b={b} y su identificador es {id(b)}\")"
      ],
      "metadata": {
        "colab": {
          "base_uri": "https://localhost:8080/"
        },
        "id": "dSE24pRRzOT4",
        "outputId": "5f19a7ba-dde0-4bb3-cf39-6ab15825181c"
      },
      "execution_count": null,
      "outputs": [
        {
          "output_type": "stream",
          "name": "stdout",
          "text": [
            "Al principio: b=[1] y su identificador es 138803422856896\n",
            "Después de llamar a modificar(b): b=[1, 6] y su identificador es 138803422856896\n"
          ]
        }
      ]
    },
    {
      "cell_type": "markdown",
      "source": [
        "Y por último, verificamos que la función anterior, al tener como argumento un objeto mutable, opera igual cuando aplica directamente sobre un objeto, sin devolver ningún valor, que cuando devuelve un valor con el comando `return`.\n",
        "\n",
        "Para comprobarlo, programamos la misma función añadiendo un valor de retorno con `return` y la ejecutamos varias veces."
      ],
      "metadata": {
        "id": "eSq3L1ibCnnz"
      }
    },
    {
      "cell_type": "code",
      "source": [
        "def modificar(b):\n",
        "  \"\"\"\n",
        "  Añade el valor 6 a una lista 'b'\n",
        "\n",
        "  Parámetros:\n",
        "    - b: lista de números o variable que contiene una lista de números\n",
        "  \"\"\"\n",
        "  b += [6]\n",
        "  # devuelve el resultado de añadir '6'\n",
        "  return b\n",
        "\n",
        "# creamos una variable global llamada 'b', que es lista\n",
        "b = [1]\n",
        "# comprobamos su valor y su identificador\n",
        "print(f\"Al principio: b={b} y su identificador {id(b)}\")\n",
        "# ejecutamos la función sobre la lista 'b'\n",
        "modificar(b)\n",
        "# comprobamos su valor y su identificador después de ejecutar la función 'modificar()'\n",
        "print(f\"Después de llamar a modificar(b): b={b} y su identificador {id(b)}\")\n",
        "# ejecutamos de nuevo y asignamos a un objeto con el mismo nombre\n",
        "b=modificar(b)\n",
        "# y comprobamos su valor y su identificador después de ejecutar la función 'modificar()'\n",
        "print(f\"Después de ejecutar y asignar a b: b={b} y su identificador {id(b)}\")\n"
      ],
      "metadata": {
        "colab": {
          "base_uri": "https://localhost:8080/"
        },
        "id": "BwEvfm9xB7rA",
        "outputId": "c7b6447f-3d8f-41d3-b6a4-ccf659fe1cde"
      },
      "execution_count": null,
      "outputs": [
        {
          "output_type": "stream",
          "name": "stdout",
          "text": [
            "Al principio: b=[1] y su identificador 138803422816128\n",
            "Después de llamar a modificar(b): b=[1, 6] y su identificador 138803422816128\n",
            "Después de ejecutar y asignar a b: b=[1, 6, 6] y su identificador 138803422816128\n"
          ]
        }
      ]
    },
    {
      "cell_type": "markdown",
      "source": [
        "Comprobamos pues, que al tratarse de un objeto mutable, la función modifica el valor de 'b' cada vez que la ejecutamos, añadiendo un nuevo elemento '6'. Puesto que el objeto es mutable, se modifica con cada ejecución, manteniendo su identificador original aunque cambie su valor. Y además, aunque se haga asignación a lo que podría ser una nueva variable con el mismo nombre, la reconoce como mutable y cambia el valor, manteniendo el mismo identificador."
      ],
      "metadata": {
        "id": "hZmOqwGBDKiC"
      }
    },
    {
      "cell_type": "markdown",
      "source": [
        "### <font color='steelblue'> Modificar objetos inmutables\n",
        "\n",
        "Cuando trabajamos con objetos inmutables, sin embargo, no podremos conseguir este efecto con ninguna función, de modo que si queremos mantener el mismo nombre del objeto con otro valor, habremos de echar mano del comando `return` para devolver un valor asignable a otro objeto que podemos nombrar igual. No obstante este objeto asignado, aunque conserve el mismo nombre, será diferente al original y en consecuencia tendrá  distinto identificador.\n",
        "\n",
        "\n",
        "Vamos a definir una función similar a la anterior, que pretenda modificar un número sumándole una unidad, y veamos cómo opera sobre un número cualquiera llamado 'a'.  "
      ],
      "metadata": {
        "id": "Wv820_1MxGkq"
      }
    },
    {
      "cell_type": "code",
      "source": [
        "# Definimos una función que pretende modificar un valor\n",
        "def modificar(b):\n",
        "  \"\"\"\n",
        "  Le suma 1 a un número (inmutable)\n",
        "\n",
        "  Parámetros:\n",
        "    - b: número o variable que contiene un número\n",
        "  \"\"\"\n",
        "  b += 1\n",
        "\n",
        "# creamos una variable global llamada 'a', que es número\n",
        "a = 1\n",
        "# comprobamos su valor y su identificador\n",
        "print(f\"Al principio: a={a} y su identificador es {id(a)}\")\n",
        "# ejecutamos la función sobre la variable 'a'\n",
        "modificar(a)\n",
        "# comprobamos su valor y su identificador después de ejecutar la función 'modificar()'\n",
        "print(f\"Después de llamar a modificar(a): a={a} y su identificador es {id(a)}\")"
      ],
      "metadata": {
        "colab": {
          "base_uri": "https://localhost:8080/"
        },
        "id": "KObBXk1R9h6B",
        "outputId": "28e4d975-26f0-4943-d5ff-5014acaf6509"
      },
      "execution_count": null,
      "outputs": [
        {
          "output_type": "stream",
          "name": "stdout",
          "text": [
            "Al principio: a=1 y su identificador es 138803716849904\n",
            "Después de llamar a modificar(a): a=1 y su identificador es 138803716849904\n"
          ]
        }
      ]
    },
    {
      "cell_type": "markdown",
      "source": [
        "Hemos verificado pues, que la variable global 'a', que es un número entero, y por lo tanto inmutable, no es modificada, ni en valor ni en identificador, al aplicar la función 'modificar()'. Para cambiar su valor hemos de reprogramar la función, añadiendo un valor de retorno con el comando `return` y asignarlo a una nueva variable que tendrá un idendificador distinto aunque le demos el mismo nombre."
      ],
      "metadata": {
        "id": "AhMxe75n93Ri"
      }
    },
    {
      "cell_type": "code",
      "source": [
        "def modificar(b):\n",
        "  \"\"\"\n",
        "  Le suma 1 a un número (inmutable)\n",
        "\n",
        "  Parámetros:\n",
        "    - b: número o variable que contiene un número\n",
        "  \"\"\"\n",
        "  b += 1\n",
        "  return b\n",
        "\n",
        "# creamos una variable global llamada 'a', que es número\n",
        "a = 1\n",
        "# comprobamos su valor y su identificador\n",
        "print(f\"Al principio: a={a} y su identificador es {id(a)}\")\n",
        "# ejecutamos la función y asignamos a otro objeto con el mismo nombre\n",
        "a=modificar(a)\n",
        "# comprobamos su valor y su identificador después de la asignación\n",
        "print(f\"Después de asignar modificar(a): a={a} y su identificador es {id(a)}\")"
      ],
      "metadata": {
        "colab": {
          "base_uri": "https://localhost:8080/"
        },
        "id": "YvdhZxga_Tfw",
        "outputId": "07115a4c-ea72-4d14-f2b7-4d2e060f1a7f"
      },
      "execution_count": null,
      "outputs": [
        {
          "output_type": "stream",
          "name": "stdout",
          "text": [
            "Al principio: a=1 y su identificador es 138803716849904\n",
            "Después de asignar modificar(a): a=2 y su identificador es 138803716849936\n"
          ]
        }
      ]
    },
    {
      "cell_type": "markdown",
      "source": [
        "Hemos comprobado pues, que aunque la nueva variable se llama igual que la originaria, es distinta, pues tiene un identificador distinto. De hecho, cada vez que ejecutamos la función, genera un nuevo objeto, con un nuevo identificador.\n",
        "\n",
        "Esto aplicaría igualmente a cualquier otro objeto inmutable aunque tuviera un nombre similar al argumento de la función.\n",
        "\n",
        "En caso de que queramos mantener el valor de la variable global y generar otra en la que almacenar el resultado, basta con asignar este a una nueva variable con un nombre distinto."
      ],
      "metadata": {
        "id": "1qhMN3At_j_o"
      }
    },
    {
      "cell_type": "code",
      "source": [
        "# creamos una variable global llamada 'a', que es número\n",
        "a = 1\n",
        "# comprobamos su valor y su identificador\n",
        "print(f\"Al principio: a={a} y su identificador es {id(a)}\")\n",
        "# ejecutamos la función y asignamos a otro objeto con distinto nombre\n",
        "aa=modificar(a)\n",
        "# comprobamos su valor y su identificador después de la asignación\n",
        "print(f\"Después de asignar modificar(a): aa={aa} y su identificador es {id(aa)}\")\n",
        "# y la variable global sigue manteniendo su valor\n",
        "print(f\"Tras ejecutar modificar(a): a={a} y su identificador es {id(a)}\")"
      ],
      "metadata": {
        "colab": {
          "base_uri": "https://localhost:8080/"
        },
        "id": "ZibLrrBrrzrt",
        "outputId": "7ddf7ef7-c910-4aee-a940-cffca6c08ced"
      },
      "execution_count": null,
      "outputs": [
        {
          "output_type": "stream",
          "name": "stdout",
          "text": [
            "Al principio: a=1 y su identificador es 138803716849904\n",
            "Después de asignar modificar(a): aa=2 y su identificador es 138803716849936\n",
            "Tras ejecutar modificar(a): a=1 y su identificador es 138803716849904\n"
          ]
        }
      ]
    },
    {
      "cell_type": "markdown",
      "source": [
        "## <font color='steelblue'>4. Condiciones, bucles y contadores en funciones\n",
        "\n",
        "En esta sección vamos a ver cómo integrar condiciones, bucles y contadores dentro de una función. Nos serán útiles para programar distintas ejecuciones, recorrer elementos de variables y contabilizar ejecuciones y actualizaciones de variables."
      ],
      "metadata": {
        "id": "SlCP5r5oJjze"
      }
    },
    {
      "cell_type": "markdown",
      "source": [
        "### <font color='steelblue'>Condiciones\n",
        "\n",
        "Una condición dentro de una función nos permite proceder con distintas ejecuciones en función de si se dan diversas condiciones sobre variables y/o argumentos.\n",
        "\n",
        "Veamos algunos ejemplos.\n",
        "\n",
        "En primer lugar, programamos una función que devuelve el resultado de la división por 2 cuando la llamamos con un número par, y devuelve el número sin dividir cuando es impar. Utiliza los comandos `if` y `else`."
      ],
      "metadata": {
        "id": "RE_ZXYc4SfFY"
      }
    },
    {
      "cell_type": "code",
      "source": [
        "def condicional1(x):\n",
        "    \"\"\"\n",
        "    Comprueba si un número es par (divisible entre 2) o no\n",
        "    Si es par, lo divide por 2; si es impar no.\n",
        "\n",
        "    Parámetros:\n",
        "      - x: número o variable que contiene un número\n",
        "    \"\"\"\n",
        "    # comprueba si el número es divisible por 2\n",
        "    if x%2 == 0:\n",
        "      # si lo es, lo divide por 2 y muestra el resultado\n",
        "      print(f\"El número {x} es par y al dividirlo entre 2 da {x/2}\")\n",
        "    # si no lo es, anuncia en pantalla que es impar\n",
        "    else:\n",
        "      print(f\"El número {x} es impar\")\n",
        "\n",
        "condicional1(2)\n",
        "condicional1(5)"
      ],
      "metadata": {
        "colab": {
          "base_uri": "https://localhost:8080/"
        },
        "id": "-WQDAe-lSx94",
        "outputId": "3ffc937a-891a-47e0-ab8a-139044146da1"
      },
      "execution_count": null,
      "outputs": [
        {
          "output_type": "stream",
          "name": "stdout",
          "text": [
            "El número 2 es par y al dividirlo entre 2 da 1.0\n",
            "El número 5 es impar\n"
          ]
        }
      ]
    },
    {
      "cell_type": "markdown",
      "source": [
        "En la siguiente función se plantean varias alternativas posibles en la ejecución, incorporando los comandos `if`, `elif` y `else`:\n",
        "- si el número proporcionado (como argumento) es mayor que 10, devuelve 0\n",
        "- si está entre 5 y 10, lo eleva al cuadrado\n",
        "- si está entre 0 y 5, lo eleva al cubo\n",
        "- y en otro caso devuelve el número original."
      ],
      "metadata": {
        "id": "gSAARCM32NI2"
      }
    },
    {
      "cell_type": "code",
      "source": [
        "def condicional2(x):\n",
        "    \"\"\"\n",
        "    Realiza distintas operaciones en función del valor de x\n",
        "    en (-infty,0],(0,5], (5,10], (10,+infty)\n",
        "    Parámetros:\n",
        "      - x: número o variable que contiene un número\n",
        "\n",
        "    Devuelve:\n",
        "      - 0, si x in (10,+infty)\n",
        "      - el cuadrado de 'x', si x in (5,10]\n",
        "      - el cubo de 'x', si x in (0,5]\n",
        "      - 'x', en caso contrario, si x in (-infty,0]\n",
        "    \"\"\"\n",
        "    # Devuelve un valor que depende del argumento de entrada x\n",
        "    if x > 10:\n",
        "        return 0\n",
        "    elif x > 5:\n",
        "        return x**2\n",
        "    elif x > 0:\n",
        "        return x**3\n",
        "    else:\n",
        "        return x\n",
        "\n",
        "# Lo ejecutamos para distintos valores\n",
        "print(condicional2(12))\n",
        "print(condicional2(6))\n",
        "print(condicional2(3))\n",
        "print(condicional2(-3))"
      ],
      "metadata": {
        "colab": {
          "base_uri": "https://localhost:8080/"
        },
        "id": "eTYEcCvFSxtX",
        "outputId": "2f551dc8-766b-4e5a-88cf-77002c04614f"
      },
      "execution_count": null,
      "outputs": [
        {
          "output_type": "stream",
          "name": "stdout",
          "text": [
            "0\n",
            "36\n",
            "27\n",
            "-3\n"
          ]
        }
      ]
    },
    {
      "cell_type": "markdown",
      "source": [
        "Como esta función solo devuelve el valor de la operación, tenemos que utilizar la función `print` para mostrar el resultado."
      ],
      "metadata": {
        "id": "TPM963k4WIdz"
      }
    },
    {
      "cell_type": "markdown",
      "source": [
        "### <font color='steelblue'>Bucles\n",
        "\n",
        "Los bucles los podemos utilizar **fuera de las funciones**, para ejecutarlas cíclicamente sobre distintos elementos o variables, o **dentro de las funciones**, para resolver procesos iterativos, esto es, para operar sucesivamente sobre los elementos de un objeto cuya dimensión puede variar.\n",
        "\n",
        "Veamos varios ejemplos.\n",
        "\n",
        "En primer lugar programamos un bucle que ejecute la función que definimos antes, sucesivamente sobre una lista de valores."
      ],
      "metadata": {
        "id": "q_4acvFjSfNZ"
      }
    },
    {
      "cell_type": "code",
      "source": [
        "# Para cada uno de los elementos en la lista de enteros entre el 0 y el 6\n",
        "for i in range(7):\n",
        "  # ejecutamos la función\n",
        "  condicional1(i)"
      ],
      "metadata": {
        "colab": {
          "base_uri": "https://localhost:8080/"
        },
        "id": "kf6WtQOhVjM_",
        "outputId": "7b7bd44e-865e-401b-fbf2-ea38a21901d9"
      },
      "execution_count": null,
      "outputs": [
        {
          "output_type": "stream",
          "name": "stdout",
          "text": [
            "El número 0 es par y al dividirlo entre 2 da 0.0\n",
            "El número 1 es impar\n",
            "El número 2 es par y al dividirlo entre 2 da 1.0\n",
            "El número 3 es impar\n",
            "El número 4 es par y al dividirlo entre 2 da 2.0\n",
            "El número 5 es impar\n",
            "El número 6 es par y al dividirlo entre 2 da 3.0\n"
          ]
        }
      ]
    },
    {
      "cell_type": "markdown",
      "source": [
        "Programamos ahora una función que recibe como argumento una lista y devuelve el resultado de sumar todos sus elementos."
      ],
      "metadata": {
        "id": "_Pyk1GvbH8mM"
      }
    },
    {
      "cell_type": "code",
      "source": [
        "def suma(lista):\n",
        "  # inicializamos el resultado a cero\n",
        "  resul=0\n",
        "  # recorremos los elementos de la lista y vamos sumándolos\n",
        "  for i in lista:\n",
        "    resul += i\n",
        "  return(resul)\n",
        "\n",
        "# definimos una lista\n",
        "a=range(-2, 14, 3)\n",
        "# y llamamos a la función para mostrar el resultado\n",
        "print(f\"La suma de {list(a)} es {suma(a)}\")"
      ],
      "metadata": {
        "colab": {
          "base_uri": "https://localhost:8080/"
        },
        "id": "libd4RSVIHt_",
        "outputId": "6b50d6fd-ca95-4f37-aa33-344618c37e05"
      },
      "execution_count": null,
      "outputs": [
        {
          "output_type": "stream",
          "name": "stdout",
          "text": [
            "La suma de [-2, 1, 4, 7, 10, 13] es 33\n"
          ]
        }
      ]
    },
    {
      "cell_type": "markdown",
      "source": [
        "### <font color='steelblue'>Contadores\n",
        "\n",
        "Los contadores son elementos muy útiles en las funciones que realizan procedimientos iterativos, esto es, que integran bucles en su código, para contabilizar cuántas veces se dan ciertas condiciones de interés.\n",
        "\n",
        "En el ejemplo a continuación programamos una función que inspecciona todos los valores que se le pasan como argumento y cuenta cuántos de ellos son pares y cuántos son impares."
      ],
      "metadata": {
        "id": "kN0UQvyFSfUi"
      }
    },
    {
      "cell_type": "code",
      "source": [
        "def condicional_contador1(*args):\n",
        "    \"\"\"\n",
        "    Cuenta el número de valores pares e impares en '*args'\n",
        "    Parámetros:\n",
        "      - números o variables que almacenan números\n",
        "\n",
        "    Devuelve:\n",
        "      el número de valores pares (par) e impares (impar)\n",
        "    \"\"\"\n",
        "    # Definimos e inicializamos a cero sendos contadores\n",
        "    par = 0   # para el número de valores pares\n",
        "    impar = 0 # para el número de valores impares\n",
        "    # recorremos todos los valores introducidos\n",
        "    for i in args:\n",
        "      # si es par, actualizamos el contador \"par\"\n",
        "      if i%2 == 0:\n",
        "        print(f\"El número {i} es par\")\n",
        "        par += 1\n",
        "      # si es impar, actualizamos el contador \"impar\"\n",
        "      else:\n",
        "        print(f\"El número {i} es impar\")\n",
        "        impar += 1\n",
        "\n",
        "    return par, impar\n",
        "\n",
        "# llamamos a la función y guardamos los resultados en 'pares' e 'impares'\n",
        "pares, impares = condicional_contador1(0, 1, 2, 3, 4, 5, 6)\n",
        "print(f\"Hay {pares} números pares y {impares} impares\")"
      ],
      "metadata": {
        "id": "MIJGtpvDYqen",
        "colab": {
          "base_uri": "https://localhost:8080/"
        },
        "outputId": "fbee6ccb-a580-4500-8e9b-be01c346f48e"
      },
      "execution_count": null,
      "outputs": [
        {
          "output_type": "stream",
          "name": "stdout",
          "text": [
            "El número 0 es par\n",
            "El número 1 es impar\n",
            "El número 2 es par\n",
            "El número 3 es impar\n",
            "El número 4 es par\n",
            "El número 5 es impar\n",
            "El número 6 es par\n",
            "Hay 4 números pares y 3 impares\n"
          ]
        }
      ]
    },
    {
      "cell_type": "markdown",
      "source": [
        "En el ejemplo a continuación, integramos contadores para definir una función que cuente el número de artículos determinados (el, la, los, las) en una cadena de texto.\n"
      ],
      "metadata": {
        "id": "Ngs-byrpbMOE"
      }
    },
    {
      "cell_type": "code",
      "source": [
        "def cuenta_articulos(frase):\n",
        "    \"\"\"\n",
        "    Cuenta el número de artículos definidos (el, la, los, las) en una frase\n",
        "    Parámetros:\n",
        "      - frase: cadena de texto o variable que almacena una variable de texto\n",
        "    \"\"\"\n",
        "    # generamos una lista que tiene por elementos las palabras de la frase\n",
        "    palabras = frase.split()\n",
        "    # inicializamos a cero el contador de artículos\n",
        "    contador = 0\n",
        "    for palabra in palabras:\n",
        "        # para evitar mayúsculas, convertimos todas las palabras a minúsculas\n",
        "        # si se trata de un artículo, actualiza el contador\n",
        "        if palabra.lower() in ('el', 'la', 'los', 'las'):\n",
        "            contador += 1\n",
        "    print(f\"En la frase '{frase}' \\nhay {contador} artículos definidos\")\n",
        "\n",
        "# creamos una frase y ejecutamos la función\n",
        "texto = \"Un poco menos trivial : esta función cuenta el número de artículos ( el , la , los, las ) en las cadenas de texto\"\n",
        "cuenta_articulos(texto)"
      ],
      "metadata": {
        "id": "bAFX4cNebtvO",
        "colab": {
          "base_uri": "https://localhost:8080/"
        },
        "outputId": "3a7fbade-c7e0-4680-ac35-92eb4e718234"
      },
      "execution_count": null,
      "outputs": [
        {
          "output_type": "stream",
          "name": "stdout",
          "text": [
            "En la frase 'Un poco menos trivial : esta función cuenta el número de artículos ( el , la , los, las ) en las cadenas de texto' \n",
            "hay 5 artículos definidos\n"
          ]
        }
      ]
    },
    {
      "cell_type": "markdown",
      "source": [
        "**Nota:** Para que se separen bien todas las palabras por espacios y realizar el conteo correctamente, escribimos todas las palabras y signos de puntuación de la frase con un espacio delante y uno detrás."
      ],
      "metadata": {
        "id": "neAbkwK2cmMs"
      }
    },
    {
      "cell_type": "markdown",
      "source": [
        "## <font color='steelblue'>5. Funciones como argumentos de funciones"
      ],
      "metadata": {
        "id": "WFM5f00wJX4h"
      }
    },
    {
      "cell_type": "markdown",
      "source": [
        "Hasta ahora hemos trabajado con funciones definidas con argumentos que son números o variables, listas o cadenas de texto. En principio todo tipo de objetos son viables como argumentos de funciones. En esta sección vamos a mostrar cómo es posible también definir funciones como argumentos de otras funciones. Esto significa que una función recibe entre sus argumentos una función que aplica/utiliza en al procedimiento que resuelve con el resto de argumentos.\n",
        "\n",
        "Veamos un ejemplo en el que programamos tres funciones `f0`, `f1` y `f2`, cada una de las cuales realiza una operación básica sobre un argumento numérico que recibe. Definimos a continuación otra función  `positivo()` que recibe como argumentos una función y un valor numérico.\n"
      ],
      "metadata": {
        "id": "plxQ3wIqfsyw"
      }
    },
    {
      "cell_type": "code",
      "source": [
        "def f0(x):\n",
        "    \"\"\"\n",
        "    Calcula el cuadrado de un número y le resta 5\n",
        "    Parámetros:\n",
        "      - x: número o variable que contiene un número\n",
        "    Devuelve:\n",
        "      el resultado de la operación\n",
        "    \"\"\"\n",
        "    x = x**2 - 5\n",
        "    return x\n",
        "\n",
        "def f1(x):\n",
        "    \"\"\"\n",
        "    Calcula el cubo de un número y le resta 6\n",
        "    Parámetros:\n",
        "      - x: número o variable que contiene un número\n",
        "    Devuelve:\n",
        "      el resultado de la operación\n",
        "    \"\"\"\n",
        "    x = x**3 - 6\n",
        "    return x\n",
        "\n",
        "def f2(x):\n",
        "    \"\"\"\n",
        "    Suma 2 a un número y le resta su cuadrado\n",
        "    Parámetros:\n",
        "      - x: número o variable que contiene un número\n",
        "    Devuelve:\n",
        "      el resultado de la operación\n",
        "    \"\"\"\n",
        "    x = x + 2 -x**2\n",
        "    return x\n",
        "\n",
        "def positivo(f, x):\n",
        "    \"\"\"\n",
        "    Comprueba y muestra si el resultado de una función 'f' aplicada a 'x' es positivo\n",
        "    Parámetros:\n",
        "      - f: función con un solo parámetro\n",
        "      - x: número o variable que contiene un número y al que se aplica 'f'.\n",
        "    \"\"\"\n",
        "    # Comprobamos si el valor de f(x) es positivo, lo mostramos e informamos\n",
        "    if f(x) > 0:\n",
        "        print(f\"Calculamos {f.__name__}({x})={f(x)}, que da un resultado positivo\")\n",
        "    # y si es negativo, también lo mostramos e informamos\n",
        "    else:\n",
        "        print(f\"Calculamos {f.__name__}({x})={f(x)}, que da un resultado no positivo\")"
      ],
      "metadata": {
        "id": "2cLmKgw7gMM7"
      },
      "execution_count": null,
      "outputs": []
    },
    {
      "cell_type": "markdown",
      "source": [
        "Vamos a probar que la función `positivo()` funciona correctamente con cualquiera de las funciones `f0`, `f1` y `f2`, para un valor numérico fijo `x`.\n"
      ],
      "metadata": {
        "id": "2PxA6aCkiQbW"
      }
    },
    {
      "cell_type": "code",
      "source": [
        "# Creamos una variable con un valor numérico\n",
        "x = 5.2\n",
        "\n",
        "# Aplicamos la función 'positivo' a 'f0'\n",
        "positivo(f0, x)\n",
        "\n",
        "# Aplicamos la función 'positivo' a 'f1'\n",
        "positivo(f1, x)\n",
        "\n",
        "# Aplicamos la función 'positivo' a 'f2'\n",
        "positivo(f2, x)"
      ],
      "metadata": {
        "colab": {
          "base_uri": "https://localhost:8080/"
        },
        "id": "e4ZOdM9ohDto",
        "outputId": "77184fe8-de84-4ae0-f8b0-a200c05fc0e6"
      },
      "execution_count": null,
      "outputs": [
        {
          "output_type": "stream",
          "name": "stdout",
          "text": [
            "Calculamos f0(5.2)=22.040000000000003, que da un resultado positivo\n",
            "Calculamos f1(5.2)=134.608, que da un resultado positivo\n",
            "Calculamos f2(5.2)=-19.840000000000003, que da un resultado no positivo\n"
          ]
        }
      ]
    },
    {
      "cell_type": "markdown",
      "source": [
        "## <font color='steelblue'>6. Argumentos predeterminados"
      ],
      "metadata": {
        "id": "KygsXbuJxU2v"
      }
    },
    {
      "cell_type": "markdown",
      "source": [
        "En ocasiones, puede ser útil que las funciones tengan argumentos con valores preasignados o predeterminados, pero modificables. Estos valores preasignados serán los que utilice por defecto la función si el usuario no introduce otro valor alternativo, y si lo hace utilizará el valor que incorpore como argumento al llamar a la función."
      ],
      "metadata": {
        "id": "RNjpjuumfs6i"
      }
    },
    {
      "cell_type": "markdown",
      "source": [
        "Como ejemplo, asumimos un problema de movimiento. Queremos programar una función que nos devuelva, en función del tiempo $t$ transcurrido desde el inicio del movimiento, la posición $r_t$ de un cuerpo que se mueve en una recta, parte de una posición inicial $r_ {0}$ con una velocidad inicial $v_ {0}$, y está sujeta a una aceleración $a$.\n",
        "\n",
        "La posición $r_t$ en la que está el móvil en un instante $t$ viene dada por:\n",
        "\n",
        "$$r_t = r_0 + v_0 t + \\frac{1}{2} a t^{2}$$\n",
        "\n",
        "La función que buscamos depende pues, de varios parámetros o argumentos: el tiempo transcurrido desde el inicio del movimiento $t$, la posición inicial $r_0$, la velocidad inicial $v_0$ y la aceleración $a$.\n",
        "\n",
        "Cuando el movimiento corresponde a una caída  libre en la vertical, la aceleración se debe generalmente de modo exclusivo a la gravedad $g=9.81 m/s^2$, y la velocidad inicial es cero al partir de un cuerpo en reposo. Por lo tanto, podríamos implementar la función que calcula la distancia rectilínea recorrida por un cuerpo en movimiento, asumiendo por defecto una caída libre, con los valores por defecto $r_0=0$, $v_0=0$ y $a=g$."
      ],
      "metadata": {
        "id": "SmL957KWzwl5"
      }
    },
    {
      "cell_type": "code",
      "source": [
        "def posicion_r(t, r0=0.0, v0=0.0, a=9.81):\n",
        "    \"\"\"\n",
        "    Calcula la posición de un cuerpo en movimiento rectilíneo uniformemente acelerado.\n",
        "    Parámetros:\n",
        "      - t: tiempo\n",
        "      - r0: posición inicial\n",
        "      - v0: velocidad inicial (por defecto parte de reposo)\n",
        "      - a: aceleración (gravedad 9.81 por defecto)\n",
        "    Devuelve:\n",
        "      la posición final transcurrido un tiempo t\n",
        "    \"\"\"\n",
        "    # Calculamos la posición final con\n",
        "    return r0 + v0*t + 0.5*a*t*t"
      ],
      "metadata": {
        "id": "HZiQ-k7xlBy5"
      },
      "execution_count": null,
      "outputs": []
    },
    {
      "cell_type": "markdown",
      "source": [
        "Para calcular el espacio recorrido por un cuerpo en caída libre después de que hayan transcurrido 0,2 segundos basta aplicar la función con un argumento de tiempo 't'.\n"
      ],
      "metadata": {
        "id": "LhwxLx0xlIcs"
      }
    },
    {
      "cell_type": "code",
      "source": [
        "# distancia recorrida en caída libre\n",
        "posicion_r(0.2)"
      ],
      "metadata": {
        "colab": {
          "base_uri": "https://localhost:8080/"
        },
        "id": "XgMpwUO8lEYX",
        "outputId": "af9a3656-b381-40aa-cf2f-b57e72b159f6"
      },
      "execution_count": null,
      "outputs": [
        {
          "output_type": "execute_result",
          "data": {
            "text/plain": [
              "0.19620000000000004"
            ]
          },
          "metadata": {},
          "execution_count": 26
        }
      ]
    },
    {
      "cell_type": "markdown",
      "source": [
        "Si queremos utilizar esta función para calcular la posición a la que se encuentra un coche (que se mueve horizontalmente a nivel del mar) después de 0.2 segundos, que parte de una posición $r_0=1$ con una velocidad constante $v_0=2 m/s$ y aplica una aceleración de $a=5m/s^2$, introducimos estos argumentos en la función anterior."
      ],
      "metadata": {
        "id": "9YU4u7Ykln0K"
      }
    },
    {
      "cell_type": "code",
      "source": [
        "# distancia recorrida por un móvil en m.r.u.a.\n",
        "posicion_r(0.2, 1, 2.0, 5.0)"
      ],
      "metadata": {
        "colab": {
          "base_uri": "https://localhost:8080/"
        },
        "id": "Ttm-5HOTl7CE",
        "outputId": "d2cb7f95-704a-4501-d0a6-cd9616d61b9f"
      },
      "execution_count": null,
      "outputs": [
        {
          "output_type": "execute_result",
          "data": {
            "text/plain": [
              "1.5"
            ]
          },
          "metadata": {},
          "execution_count": 27
        }
      ]
    },
    {
      "cell_type": "markdown",
      "source": [
        "Los argumentos que pasamos a una función siguen el orden en el que han sido definidos. Así pues, si queremos usar algunos de los valores por defecto y utilizar otros, lo más eficiente es nombrar los argumentos introducidos por su nombre, especialmente cuando saltamos el introducir algunos parámetros por defecto, para asegurarnos de que estamos utilizando los valores que deseamos."
      ],
      "metadata": {
        "id": "s3bsoJnBmDoX"
      }
    },
    {
      "cell_type": "code",
      "source": [
        "# distancia recorrida por un móvil en m.r.u.a., partiendo del reposo\n",
        "# en posición 1 y aceleración constante 10\n",
        "posicion_r(0.2,1,a=10)"
      ],
      "metadata": {
        "colab": {
          "base_uri": "https://localhost:8080/"
        },
        "id": "VS8OqknWmWZw",
        "outputId": "318f1239-756c-4104-ca7d-1cedbefc5e9d"
      },
      "execution_count": null,
      "outputs": [
        {
          "output_type": "execute_result",
          "data": {
            "text/plain": [
              "1.2"
            ]
          },
          "metadata": {},
          "execution_count": 28
        }
      ]
    }
  ]
}
{
  "nbformat": 4,
  "nbformat_minor": 0,
  "metadata": {
    "colab": {
      "provenance": []
    },
    "kernelspec": {
      "name": "python3",
      "display_name": "Python 3"
    },
    "language_info": {
      "name": "python"
    }
  },
  "cells": [
    {
      "cell_type": "markdown",
      "source": [
        "## **TIPOS DE DATOS**"
      ],
      "metadata": {
        "id": "65mbvJU1rt_r"
      }
    },
    {
      "cell_type": "markdown",
      "source": [
        "### <font color='steelblue'>Contenidos:</font>\n",
        "1. Tipos de datos en Python\n",
        "1. Datos enteros, decimales y nulos\n",
        "1. Datos booleanos\n",
        "1. Listas\n",
        "1. Tuplas y colecciones\n",
        "1. Diccionarios\n",
        "1. Cadenas de texto\n"
      ],
      "metadata": {
        "id": "LM2ZUu31V9HS"
      }
    },
    {
      "cell_type": "markdown",
      "source": [
        "## <font color='steelblue'>1. Tipos de datos en Python\n"
      ],
      "metadata": {
        "id": "SesRoXZfZ7q9"
      }
    },
    {
      "cell_type": "markdown",
      "source": [
        "Como en cualquier lenguaje de programación, una de las primeras cosas que hemos de conocer, es con qué tipo de datos podemos trabajar. Los tipos de datos más comunes utilizados en *Python* se muestran en la siguiente tabla:\n",
        "\n",
        "\n",
        "| Tipo de dato         | Identificador  | Clase  | Descripción                                   | Ejemplo                                    |\n",
        "| :-------------------- | :--------- | :------------- | :-------------------------------------------- | :----------------------------------------- |\n",
        "| número entero               | `int`      | numérico   | números enteros positivos o negativos              | `24`                                       |\n",
        "| número decimal | `float`    | numérico   | número real en forma decimal                   | `5.4325`                                  |\n",
        "| booleano               | `bool`     | booleano | true o false                                 | `True`                                     |\n",
        "| cadena de texto                | `str`      | secuencia  | texto                                          | `\"¿Cómo estás?\"`                 |\n",
        "| lista                  | `list`     | secuencia  | colección de objetos mutables y ordenados   | `['UMH', 'UA', 'UV']`               |\n",
        "| tupla                 | `tuple`    | secuencia  | colección de objetos inmutables y ordenados | `('Thursday', 6, 9, 2018)`                 |\n",
        "| diccionario            | `dict`     | mapeo   | asignación de pares clave-valor                    | `{'nombre':'Estadística', 'código':511, 'créditos':6}` |\n",
        "|  objeto nulo      | `NoneType` |  ninguno  | no representa ningún valor                           | `None`                                     |\n",
        "\n",
        "Cuando tenemos un objeto y queremos identificar de qué tipo es, basta con utilizar la función `type()`\n",
        "\n",
        "> type(objeto)"
      ],
      "metadata": {
        "id": "flfy4Wmmxsaw"
      }
    },
    {
      "cell_type": "markdown",
      "source": [
        "## <font color='steelblue'> 2. Datos enteros, decimales y nulos </font>\n",
        "\n",
        "En este apartado vamos a aprender algo más sobre cómo reconocer y operar datos con valores de tipo numérico y sin valor, esto es, con los números enteros, decimales y con los objetos nulos."
      ],
      "metadata": {
        "id": "W2DmpJ7RgKh_"
      }
    },
    {
      "cell_type": "markdown",
      "source": [
        "### <font color='steelblue'>Números enteros\n",
        "\n",
        "Los números enteros, identificados por el símbolo $\\mathbb Z$, son aquellos que van desde $-\\infty$ hasta $+\\infty$ y no tienen decimales.\n",
        "\n",
        "A continuación, creamos una variable de tipo entero e identificamos su tipo con la función `type()`.  Los datos enteros se reconocen en Python con el identificador `int`."
      ],
      "metadata": {
        "id": "ZmAMlFfkYegK"
      }
    },
    {
      "cell_type": "code",
      "source": [
        "a = 5\n",
        "print(a)\n",
        "print(type(a))"
      ],
      "metadata": {
        "id": "avRmz7WOyC8p",
        "colab": {
          "base_uri": "https://localhost:8080/"
        },
        "outputId": "6e4d57b5-5de8-4866-adad-4f321d657e9f"
      },
      "execution_count": null,
      "outputs": [
        {
          "output_type": "stream",
          "name": "stdout",
          "text": [
            "5\n",
            "<class 'int'>\n"
          ]
        }
      ]
    },
    {
      "cell_type": "markdown",
      "source": [
        "### <font color='steelblue'>Números decimales\n",
        "\n",
        "Los números decimales o números reales, identificados por el símbolo $\\mathbb R$ se reconocen en Python con el tipo `float` y son todos aquellos que se encuentran entre $-\\infty$ y $+\\infty$ y tienen un punto decimal, con decimales tras él.\n",
        "\n",
        "A continuación creamos una variable con un número decimal e identificamos su tipo.\n"
      ],
      "metadata": {
        "id": "KmFBOvduacDo"
      }
    },
    {
      "cell_type": "code",
      "source": [
        "e = 2.71828\n",
        "print(e)\n",
        "print(type(e))"
      ],
      "metadata": {
        "id": "4ZotKdwPoMVS",
        "colab": {
          "base_uri": "https://localhost:8080/"
        },
        "outputId": "6aeb8857-b8f6-4b68-8107-2feccc4bddcd"
      },
      "execution_count": null,
      "outputs": [
        {
          "output_type": "stream",
          "name": "stdout",
          "text": [
            "2.71828\n",
            "<class 'float'>\n"
          ]
        }
      ]
    },
    {
      "cell_type": "markdown",
      "source": [
        "Un número entero con un punto decimal se interpretará como decimal."
      ],
      "metadata": {
        "id": "absRyDfShyKi"
      }
    },
    {
      "cell_type": "code",
      "source": [
        "d = 5.\n",
        "print(type(d))"
      ],
      "metadata": {
        "colab": {
          "base_uri": "https://localhost:8080/"
        },
        "id": "I86-mhNlh4lm",
        "outputId": "5c78998d-3dc3-4370-e023-8c13e3ac5a7d"
      },
      "execution_count": null,
      "outputs": [
        {
          "output_type": "stream",
          "name": "stdout",
          "text": [
            "<class 'float'>\n"
          ]
        }
      ]
    },
    {
      "cell_type": "markdown",
      "source": [
        "### <font color='steelblue'>El tipo tras realizar cálculos\n",
        "\n",
        "Las operaciones básicas con este tipo de datos numéricos ya se trabajaron en el cuaderno  anterior ([20. Manipulación de números y textos](https://colab.research.google.com/drive/1VZhdQgHZuG0mQysoy-ukNSo1gX65VC5N#scrollTo=-qIZVpUq-z8f)). Aquí nos centraremos en revisar cómo cambia el tipo de estos datos cuando hacemos operaciones con ellos.\n",
        "\n",
        "- Las sumas, las restas y las multiplicaciones con números enteros siempre darán un resultado de tipo entero `int`."
      ],
      "metadata": {
        "id": "G38oMvH1iBal"
      }
    },
    {
      "cell_type": "code",
      "source": [
        "a = 2\n",
        "b = 3\n",
        "print('La suma a+b=',a+b, 'es de tipo' ,type(a+b))\n",
        "print('La resta a-b=',a-b, 'es de tipo' ,type(a-b))\n",
        "print('La multiplicación a*b=',a*b, 'es de tipo' ,type(a*b))"
      ],
      "metadata": {
        "colab": {
          "base_uri": "https://localhost:8080/"
        },
        "id": "AwVb-BLSphH6",
        "outputId": "5799a240-5c38-4c3e-a090-77f7145e0584"
      },
      "execution_count": null,
      "outputs": [
        {
          "output_type": "stream",
          "name": "stdout",
          "text": [
            "La suma a+b= 5 es de tipo <class 'int'>\n",
            "La resta a-b= -1 es de tipo <class 'int'>\n",
            "La multiplicación a*b= 6 es de tipo <class 'int'>\n"
          ]
        }
      ]
    },
    {
      "cell_type": "markdown",
      "source": [
        "- Las divisiones de números enteros siempre darán resultados de tipo decimal, aunque el decimal del resultado sea 0."
      ],
      "metadata": {
        "id": "FxQkK10eqRbv"
      }
    },
    {
      "cell_type": "code",
      "source": [
        "a = 2\n",
        "b = 4\n",
        "print('El cociente a/b=',a/b, 'es de tipo' ,type(a / b))\n",
        "print('El cociente b/a=',b/a, 'es de tipo' ,type(b/a))"
      ],
      "metadata": {
        "colab": {
          "base_uri": "https://localhost:8080/"
        },
        "id": "N1E3aSCAqXvG",
        "outputId": "0fbdcd03-3ddb-4a6c-e9a8-90053ce9be01"
      },
      "execution_count": null,
      "outputs": [
        {
          "output_type": "stream",
          "name": "stdout",
          "text": [
            "El cociente a/b= 0.5 es de tipo <class 'float'>\n",
            "El cociente b/a= 2.0 es de tipo <class 'float'>\n"
          ]
        }
      ]
    },
    {
      "cell_type": "markdown",
      "source": [
        "Con todo, siempre podemos convertir a entero un número decimal (redondeando) o convertir a decimal un número entero. Estas dos operaciones las realizamos respectivamente con las funciones `int()` y `float()`. Veamos un ejemplo."
      ],
      "metadata": {
        "id": "yPHzpPawqs9N"
      }
    },
    {
      "cell_type": "code",
      "source": [
        "a = 2.34 # decimal\n",
        "b=int(a) # entero\n",
        "print('El número',a,'de tipo',type(a),'lo convertimos a tipo',type(b),':',b)\n",
        "print('El número',b,'de tipo',type(b),'lo convertimos a tipo',type(float(b)),':',float(b))"
      ],
      "metadata": {
        "colab": {
          "base_uri": "https://localhost:8080/"
        },
        "id": "NY1BevMgq43l",
        "outputId": "c44a49ef-6f9d-4b06-849b-f8cc0d40abc8"
      },
      "execution_count": null,
      "outputs": [
        {
          "output_type": "stream",
          "name": "stdout",
          "text": [
            "El número 2.34 de tipo <class 'float'> lo convertimos a tipo <class 'int'> : 2\n",
            "El número 2 de tipo <class 'int'> lo convertimos a tipo <class 'float'> : 2.0\n"
          ]
        }
      ]
    },
    {
      "cell_type": "markdown",
      "source": [
        "- Y por supuesto, las operaciones con decimales siempre darán decimales."
      ],
      "metadata": {
        "id": "MSbobAlOd-ud"
      }
    },
    {
      "cell_type": "code",
      "source": [
        "a=1.2\n",
        "b=3.4\n",
        "print('El cociente de dos decimales es',type(a/b))"
      ],
      "metadata": {
        "colab": {
          "base_uri": "https://localhost:8080/"
        },
        "id": "xnUjt9EMeDb1",
        "outputId": "c1ee3295-4dbe-474d-879a-d9406b590a4a"
      },
      "execution_count": null,
      "outputs": [
        {
          "output_type": "stream",
          "name": "stdout",
          "text": [
            "El cociente de dos decimales es <class 'float'>\n"
          ]
        }
      ]
    },
    {
      "cell_type": "markdown",
      "source": [
        "### <font color='steelblue'>Objeto nulo\n",
        "\n",
        "Un objeto nulo es un tipo de objeto propio de *Python* cuyo valor es: `None`, o lo que es lo mismo, se trata de un objeto sin valor. Se reconoce con el tipo `NoneType`. En otros cuadernos veremos para qué podemos utilizarlo.\n"
      ],
      "metadata": {
        "id": "W5rDhtybjP7r"
      }
    },
    {
      "cell_type": "code",
      "source": [
        "a = None\n",
        "print(a)\n",
        "print(type(a))"
      ],
      "metadata": {
        "colab": {
          "base_uri": "https://localhost:8080/"
        },
        "id": "bZwQ4BUwrlYq",
        "outputId": "84efc823-4f82-4607-ae3e-4b3b53655d33"
      },
      "execution_count": null,
      "outputs": [
        {
          "output_type": "stream",
          "name": "stdout",
          "text": [
            "None\n",
            "<class 'NoneType'>\n"
          ]
        }
      ]
    },
    {
      "cell_type": "markdown",
      "source": [
        "## <font color='steelblue'>3. Datos booleanos\n"
      ],
      "metadata": {
        "id": "Dy-4PRSSkw20"
      }
    },
    {
      "cell_type": "markdown",
      "source": [
        "Una variable booleana sólo tiene dos valores posibles: `True` y `False` y se reconoce con tipo `bool` en Python. Este tipo de variables nos resultan útiles cuando trabajamos con condiciones y bucles.\n",
        "\n",
        "Vemos un par de ejemplos a continuación."
      ],
      "metadata": {
        "id": "2y00zS4glSVu"
      }
    },
    {
      "cell_type": "code",
      "source": [
        "la_verdad = True\n",
        "print(f'La verdad es {la_verdad} y es de tipo {type(la_verdad)}')\n",
        "la_mentira = False\n",
        "print(f'La mentira es {la_mentira} y es de tipo {type(la_mentira)}')\n"
      ],
      "metadata": {
        "colab": {
          "base_uri": "https://localhost:8080/"
        },
        "id": "3i1vukbG0gtD",
        "outputId": "66dce9dc-6ae2-4743-a41e-a9431130a931"
      },
      "execution_count": null,
      "outputs": [
        {
          "output_type": "stream",
          "name": "stdout",
          "text": [
            "La verdad es True y es de tipo <class 'bool'>\n",
            "La mentira es False y es de tipo <class 'bool'>\n"
          ]
        }
      ]
    },
    {
      "cell_type": "markdown",
      "source": [
        "## <font color='steelblue'>4. Listas"
      ],
      "metadata": {
        "id": "EjT3mXJ-yGVd"
      }
    },
    {
      "cell_type": "markdown",
      "source": [
        "Una lista es un objeto que contiene diversos elementos que pueden ser de distintos tipos. Podríamos construir una lista en la que todos los elementos son numéros, de modo que asimilaríamos entonces una lista a un vector, tal y como lo entendemos en matemáticas. Pero también podemos crear listas en las que unos elementos sean numéricos, otros sean cadenas, otros objetos sean booleanos o nulos, o incluso en las que alguno de los elementos fuera asimismo otra lista.\n",
        "\n",
        "Para crear una lista basta escribir sus elementos entre corchetes `[ele1 ,ele2, ...]`, separados entre sí por comas.\n",
        "\n",
        "Veamos algunos ejemplos."
      ],
      "metadata": {
        "id": "pJ7EQ9OW9L6u"
      }
    },
    {
      "cell_type": "code",
      "source": [
        "# una lista con todos sus elementos numéricos: un vector\n",
        "lista_vector=[4,5,6]\n",
        "print(f'Este vector {lista_vector} es de tipo {type(lista_vector)}')\n",
        "\n",
        "# una lista con elementos de distintos tipos:\n",
        "mi_lista = [1, 2, \"tres\", None, False, lista_vector]\n",
        "print('Esto ',mi_lista,'es una',type(mi_lista))"
      ],
      "metadata": {
        "colab": {
          "base_uri": "https://localhost:8080/"
        },
        "id": "K-U75foACNCL",
        "outputId": "8ad01bfd-a2cf-4e35-d023-cdfe367176ab"
      },
      "execution_count": null,
      "outputs": [
        {
          "output_type": "stream",
          "name": "stdout",
          "text": [
            "Este vector [4, 5, 6] es de tipo <class 'list'>\n",
            "Esto  [1, 2, 'tres', None, False, [4, 5, 6]] es una <class 'list'>\n"
          ]
        }
      ]
    },
    {
      "cell_type": "markdown",
      "source": [
        "Podemos también crear una lista vacía, sin elementos, para luego rellenarla. Esto lo podemos hacer de dos modos, con `list()` y `[]`."
      ],
      "metadata": {
        "id": "7FmT14xo_w8q"
      }
    },
    {
      "cell_type": "code",
      "source": [
        "lista_vacia=list()\n",
        "print(lista_vacia)\n",
        "lista_vacia=[]\n",
        "print(lista_vacia)"
      ],
      "metadata": {
        "colab": {
          "base_uri": "https://localhost:8080/"
        },
        "id": "ZStIT_CpARMu",
        "outputId": "a0cddb45-2a3e-4ff6-e684-b6b27126c749"
      },
      "execution_count": null,
      "outputs": [
        {
          "output_type": "stream",
          "name": "stdout",
          "text": [
            "[]\n",
            "[]\n"
          ]
        }
      ]
    },
    {
      "cell_type": "markdown",
      "source": [
        "La función `len()` nos devuelve la longitud de una lista."
      ],
      "metadata": {
        "id": "BodK5vv9Cn2r"
      }
    },
    {
      "cell_type": "code",
      "source": [
        "mi_lista = [1, 2, \"tres\", None, False, [4, 5, 6]]\n",
        "len(mi_lista)"
      ],
      "metadata": {
        "colab": {
          "base_uri": "https://localhost:8080/"
        },
        "id": "6rWQO1HBC-Ll",
        "outputId": "16a55810-1c55-49f9-b339-c063f12547c7"
      },
      "execution_count": null,
      "outputs": [
        {
          "output_type": "execute_result",
          "data": {
            "text/plain": [
              "6"
            ]
          },
          "metadata": {},
          "execution_count": 12
        }
      ]
    },
    {
      "cell_type": "markdown",
      "source": [
        "Veamos a continuación diferentes manipulaciones y funciones que podemos aplicar a las listas, que nos serán muy útiles en el futuro próximo.\n",
        "\n",
        "Puesto que estamos familiarizándonos con el modo de programar en Python, ve fijándote en que para aplicar una función predefinida a un objeto como una lista, escribimos su nombre, a continuación un punto `.` y a continuación la función, generalmente acabada en doble paréntesis `()`.\n",
        "\n",
        "> `nombre_lista.funcion()"
      ],
      "metadata": {
        "id": "NMuB4XPqX1ZA"
      }
    },
    {
      "cell_type": "markdown",
      "source": [
        "### <font color='steelblue'>Indexar</font>\n",
        "\n",
        "Cuando queremos acceder a un elemento de una lista, basta utilizar su índice de referencia, el que indica qué posición ocupa en la lista, y utilizar los corchetes para extraerlo, al igual que hacíamos con las cadenas de caracteres en el cuaderno anterior.\n",
        "\n",
        "El indexado en las listas funciona de modo similar al indexado que ya estudiamos en cadenas de caracteres, empezando en el cero y ascendente de izquierda a derecha, y empezando en el -1 y descendente de derecha a izquierda. Si al querer acceder a un elemento de una lista, si escribimos un índice que está fuera de rango, nos dará error."
      ],
      "metadata": {
        "id": "gHEgzp6kzOxj"
      }
    },
    {
      "cell_type": "code",
      "source": [
        "mi_lista = [1, 2, \"tres\", None, False, [4, 5, 6]]\n",
        "# Seleccionamos el primer elemento\n",
        "print(mi_lista[0])\n",
        "# seleccionamos el último elemento\n",
        "print(mi_lista[-1])"
      ],
      "metadata": {
        "colab": {
          "base_uri": "https://localhost:8080/"
        },
        "id": "9UhHgayz1rtS",
        "outputId": "ec01ca9d-6906-4df6-9b9b-195a72c55795"
      },
      "execution_count": null,
      "outputs": [
        {
          "output_type": "stream",
          "name": "stdout",
          "text": [
            "1\n",
            "[4, 5, 6]\n"
          ]
        }
      ]
    },
    {
      "cell_type": "markdown",
      "source": [
        "Utilizando el indexado, podemos seccionar una lista para extraer ciertos elementos."
      ],
      "metadata": {
        "id": "WyxWKuvkWExb"
      }
    },
    {
      "cell_type": "code",
      "source": [
        "# extraemos los elementos en las posiciones 1 y 2\n",
        "print(mi_lista[1:3])"
      ],
      "metadata": {
        "id": "_JaWtFPRWHM7",
        "colab": {
          "base_uri": "https://localhost:8080/"
        },
        "outputId": "118580e6-3d59-490c-8919-003f437b652b"
      },
      "execution_count": null,
      "outputs": [
        {
          "output_type": "stream",
          "name": "stdout",
          "text": [
            "[2, 'tres']\n"
          ]
        }
      ]
    },
    {
      "cell_type": "markdown",
      "source": [
        "### <font color='steelblue'>Modificar</font>\n",
        "\n",
        "Para modificar el valor de un elemento, o incluso de varios elementos, simplemente hemos de seleccionarlos y asignar los nuevos valores."
      ],
      "metadata": {
        "id": "UgopmQ3pG8m-"
      }
    },
    {
      "cell_type": "code",
      "source": [
        "mi_lista = [1,2,3,4]\n",
        "print(mi_lista)\n",
        "# modificamos el primer elemento\n",
        "mi_lista[0] = \"uno\"\n",
        "print(mi_lista)\n",
        "# modificamos los elementos 2 y 3 (índices 1 y 2)\n",
        "mi_lista[1:3]=['dos','tres']\n",
        "print(mi_lista)"
      ],
      "metadata": {
        "colab": {
          "base_uri": "https://localhost:8080/"
        },
        "id": "vtTDSph1HHoe",
        "outputId": "4212e259-6471-4e6d-8f2a-ef46e0d2e51c"
      },
      "execution_count": null,
      "outputs": [
        {
          "output_type": "stream",
          "name": "stdout",
          "text": [
            "[1, 2, 3, 4]\n",
            "['uno', 2, 3, 4]\n",
            "['uno', 'dos', 'tres', 4]\n"
          ]
        }
      ]
    },
    {
      "cell_type": "markdown",
      "source": [
        "**Nota:** Cuidado porque esto que acabamos de ver posible en las listas **NO** se puede aplicar sobre las cadenas de texto.  \n",
        "\n",
        "Por ejemplo: si escribimos mal *Python*, habrá que escribir de nuevo la variable, y no intentar cambiar la letra errónea.\n",
        "\n",
        "```markdown\n",
        "nombre = \"Pyrhon\"\n",
        "nombre[2] = \"t\" # ¡Esto no funciona!\n",
        "nombre = \"Python\"\n",
        "```"
      ],
      "metadata": {
        "id": "iX52iZppHgyG"
      }
    },
    {
      "cell_type": "markdown",
      "source": [
        "### <font color='steelblue'>Anexar\n",
        "\n",
        "Podemos añadir nuevos elementos a una lista gracias a la función `append()`, pero siempre de uno en uno. El elemento a anexar lo habremos de incluir como argumento de la función y esta lo ubica a continuación del último elemento de la lista. La lista queda pues modificada, con este elemento añadido."
      ],
      "metadata": {
        "id": "ECYB-Vr039Jq"
      }
    },
    {
      "cell_type": "code",
      "source": [
        "mi_lista = [1,2]\n",
        "print(mi_lista)\n",
        "# añadimos el valor 3\n",
        "mi_lista.append(3)\n",
        "print(mi_lista)\n",
        "# añadimos un vector con 2 elementos\n",
        "mi_lista.append([4,5])\n",
        "print(mi_lista)"
      ],
      "metadata": {
        "colab": {
          "base_uri": "https://localhost:8080/"
        },
        "id": "0Q4ZN7zgGBhO",
        "outputId": "418f07ce-d0dd-4088-9851-1e928ece1b05"
      },
      "execution_count": null,
      "outputs": [
        {
          "output_type": "stream",
          "name": "stdout",
          "text": [
            "[1, 2]\n",
            "[1, 2, 3]\n",
            "[1, 2, 3, [4, 5]]\n"
          ]
        }
      ]
    },
    {
      "cell_type": "markdown",
      "source": [
        "Si queremos añadir más de un elemento, lo tendremos que hacer con el operador `+`, concatenando listas. Podemos concatenar varias listas para generar una nueva lista con otro nombre, o podemos utilizar el operador `+=`  para concatenar una segunda lista a la lista original. Veamos cómo funciona con un par de ejemplos.\n"
      ],
      "metadata": {
        "id": "tahnlqisIlT_"
      }
    },
    {
      "cell_type": "code",
      "source": [
        "#  creamos dos listas\n",
        "lista_1 = [\"Hola\", \"Adiós\", \"Felipe\"]\n",
        "lista_2 = [1, 2, True]\n",
        "# las concatenamos en una nueva lista\n",
        "mi_lista = lista_1 + lista_2\n",
        "print(mi_lista)\n",
        "# ahora anexamos la lista2 a la lista1, modificando la lista1\n",
        "lista_1 += lista_2\n",
        "print(lista_1)"
      ],
      "metadata": {
        "colab": {
          "base_uri": "https://localhost:8080/"
        },
        "id": "iJlmBSlSk9pZ",
        "outputId": "c88bc535-699a-45a6-d84c-0031a29d6388"
      },
      "execution_count": null,
      "outputs": [
        {
          "output_type": "stream",
          "name": "stdout",
          "text": [
            "['Hola', 'Adiós', 'Felipe', 1, 2, True]\n",
            "['Hola', 'Adiós', 'Felipe', 1, 2, True]\n"
          ]
        }
      ]
    },
    {
      "cell_type": "markdown",
      "source": [
        "### <font color='steelblue'>Eliminar </font>\n",
        "\n",
        "A veces necesitaremos prescindir de algún elemento de una lista y borrarlo de la lista original. Para ello utilizaremos la función `remove()`, indicando como argumento el valor que queremos eliminar."
      ],
      "metadata": {
        "id": "R4a0hnDaGbJK"
      }
    },
    {
      "cell_type": "code",
      "source": [
        "mi_lista = [\"Hola\", 2, [3, 4], \"No\"]\n",
        "print(mi_lista)\n",
        "# queremos eliminar el elemento \"No\"\n",
        "mi_lista.remove(\"No\")\n",
        "print(mi_lista)"
      ],
      "metadata": {
        "colab": {
          "base_uri": "https://localhost:8080/"
        },
        "id": "P3Q6DaNWGKgO",
        "outputId": "07cfea84-d362-4d23-d817-c5362ff2dbea"
      },
      "execution_count": null,
      "outputs": [
        {
          "output_type": "stream",
          "name": "stdout",
          "text": [
            "['Hola', 2, [3, 4], 'No']\n",
            "['Hola', 2, [3, 4]]\n"
          ]
        }
      ]
    },
    {
      "cell_type": "markdown",
      "source": [
        "Otra opción para eliminar elementos de una lista es utilizar la función `del` , escribiendo a continuación la lista con los elementos, esta vez indexados, que queremos eliminar."
      ],
      "metadata": {
        "id": "OhZu_BoVRqh5"
      }
    },
    {
      "cell_type": "code",
      "source": [
        "mi_lista = [\"Hola\", 2, [3, 4], \"No\"]\n",
        "print(mi_lista)\n",
        "# queremos eliminar los elementos indexados en las posiciones 0 y 1\n",
        "del mi_lista[0:2]\n",
        "print(mi_lista)"
      ],
      "metadata": {
        "colab": {
          "base_uri": "https://localhost:8080/"
        },
        "id": "UJrJkrZURv_z",
        "outputId": "fa1eb89f-0256-45dc-f527-147f5bbdb9fd"
      },
      "execution_count": null,
      "outputs": [
        {
          "output_type": "stream",
          "name": "stdout",
          "text": [
            "['Hola', 2, [3, 4], 'No']\n",
            "[[3, 4], 'No']\n"
          ]
        }
      ]
    },
    {
      "cell_type": "markdown",
      "source": [
        "### <font color='steelblue'>Ordenar </font>\n",
        "\n",
        "Si todos los elementos de una lista son del mismo tipo, todos cadenas o todos números, podemos ordenar sus elementos, en orden alfabético para las cadenas y numérico para los números, con la función `sort()`."
      ],
      "metadata": {
        "id": "1s0gFrouNfJj"
      }
    },
    {
      "cell_type": "code",
      "source": [
        "# partimos de una cadena de texto\n",
        "frase = \"El ignorante afirma, el sabio duda y reflexiona.\"\n",
        "# la seccionamos por palabras\n",
        "palabras = frase.split()\n",
        "print(palabras)\n",
        "# ordenamos las palabras por orden alfabético\n",
        "palabras.sort()\n",
        "print(palabras)"
      ],
      "metadata": {
        "colab": {
          "base_uri": "https://localhost:8080/"
        },
        "id": "SBl0_7n3NxGM",
        "outputId": "82b1ef7f-508e-4085-b2a2-ce9fd6c273b1"
      },
      "execution_count": null,
      "outputs": [
        {
          "output_type": "stream",
          "name": "stdout",
          "text": [
            "['El', 'ignorante', 'afirma,', 'el', 'sabio', 'duda', 'y', 'reflexiona.']\n",
            "['El', 'afirma,', 'duda', 'el', 'ignorante', 'reflexiona.', 'sabio', 'y']\n"
          ]
        }
      ]
    },
    {
      "cell_type": "markdown",
      "source": [
        "Recordemos que en el orden alfabético, las mayúsculas anteceden a todas las minúsculas."
      ],
      "metadata": {
        "id": "TP6dnZOaeZ9r"
      }
    },
    {
      "cell_type": "code",
      "source": [
        "# ahora ordenamos una lista numérica\n",
        "numeros=[10,2,30,4,50]\n",
        "numeros.sort()\n",
        "print(numeros)"
      ],
      "metadata": {
        "colab": {
          "base_uri": "https://localhost:8080/"
        },
        "id": "jdVBDB-rdUBx",
        "outputId": "e127d7a9-6908-4b7a-a86f-9ab8397e5c67"
      },
      "execution_count": null,
      "outputs": [
        {
          "output_type": "stream",
          "name": "stdout",
          "text": [
            "[2, 4, 10, 30, 50]\n"
          ]
        }
      ]
    },
    {
      "cell_type": "markdown",
      "source": [
        "### <font color='steelblue'>Anidar </font>\n",
        "\n",
        "Ya comentamos antes que una lista podría tener elementos que a su vez fueran listas. Tenemos entonces listas anidadas.\n",
        "\n",
        "Si queremos acceder a un elemento concreto de una lista anidada, lo tenemos que hacer con dos pares de corchetes `[..][..]`, de modo que en el primero especicamos el índice de la lista original que alude al elemento en el que se ubica la lista anidada a la que queremos acceder, y en el segundo corchete el índice del elemento buscado dentro de la sublista o lista anidada. Seguro que con un ejemplo lo entiendes a la primera."
      ],
      "metadata": {
        "id": "cyg9bfR0O4V4"
      }
    },
    {
      "cell_type": "code",
      "source": [
        "# tenemos tres listas anidadas en mi_lista\n",
        "mi_lista = [[1,2,3], [4,5,6], [7,8,9]]\n",
        "# queremos acceder a un elemento de la primera lista anidada\n",
        "print(mi_lista[0])\n",
        "# que es el que está indexado con un 1 (el segundo elemento)\n",
        "print(mi_lista[0][1])"
      ],
      "metadata": {
        "colab": {
          "base_uri": "https://localhost:8080/"
        },
        "id": "4HmS3boPUoWK",
        "outputId": "364d01c8-7531-4203-9e43-e55d0fbfc150"
      },
      "execution_count": null,
      "outputs": [
        {
          "output_type": "stream",
          "name": "stdout",
          "text": [
            "[1, 2, 3]\n",
            "2\n"
          ]
        }
      ]
    },
    {
      "cell_type": "markdown",
      "source": [
        "## <font color='steelblue'>5. Tuplas y colecciones </font>\n",
        "\n",
        "Descubramos a continuación las funcionalidades de las tuplas y los sets en Python."
      ],
      "metadata": {
        "id": "eE-RAtz3ZL1f"
      }
    },
    {
      "cell_type": "markdown",
      "source": [
        "### <font color='steelblue'>Tuplas\n",
        "\n",
        "En ocasiones cuando se trabaja con datos y programación, interesa definir listas cuyos elementos no puedan ser modificados o eliminados. En esas circunstancias es recomendable utilizar **tuplas** en lugar de listas.\n",
        "\n",
        "Las tuplas se utilizan, igual que las listas, para almacenar varios elementos en un objeto o variable. Para crearlas podemos utilizar directamente los paréntesis `()` y separando los elementos a incluir por comas, `(elemento1,elemento2,...)`, o con el comando  `tuple()`, pero en esta ocasión integrando como argumento la lista que queremos convertir en tupla. Si queremos crear una tupla vacía, sin elementos, no incluimos argumentos.\n",
        "\n",
        "Al igual que las listas, la longitud de una tupla la obtenemos con la función `len()`.\n",
        "\n",
        "Veamos algunos ejemplos."
      ],
      "metadata": {
        "id": "2FFdX8V1cVdO"
      }
    },
    {
      "cell_type": "code",
      "source": [
        "# definimos una tupla vacía\n",
        "tupla_vacia=tuple()\n",
        "print(tupla_vacia)\n",
        "tupla_vacia=()\n",
        "print(tupla_vacia)"
      ],
      "metadata": {
        "colab": {
          "base_uri": "https://localhost:8080/"
        },
        "id": "7PWbf6ShBCXD",
        "outputId": "8973de0a-ee71-45c5-90e2-49c1b04fe271"
      },
      "execution_count": null,
      "outputs": [
        {
          "output_type": "stream",
          "name": "stdout",
          "text": [
            "()\n",
            "()\n"
          ]
        }
      ]
    },
    {
      "cell_type": "code",
      "source": [
        "# definimos una tupla directamente con paréntesis\n",
        "recintos = (\"Elche\", \"Sant Joan\", \"Altea\", \"Orihuela\")\n",
        "print(recintos)\n",
        "print(len(recintos))\n",
        "print(type(recintos))"
      ],
      "metadata": {
        "colab": {
          "base_uri": "https://localhost:8080/"
        },
        "id": "2TUUkhTLczlP",
        "outputId": "117265ac-ddc7-4ed5-bc14-056703e8afa5"
      },
      "execution_count": null,
      "outputs": [
        {
          "output_type": "stream",
          "name": "stdout",
          "text": [
            "('Elche', 'Sant Joan', 'Altea', 'Orihuela')\n",
            "4\n",
            "<class 'tuple'>\n"
          ]
        }
      ]
    },
    {
      "cell_type": "code",
      "source": [
        "# o la definimos a partir de una lista\n",
        "sedes = [\"Elche\", \"Sant Joan\", \"Altea\", \"Orihuela\"]\n",
        "print(f'Esto {sedes} es una {type(sedes)}')\n",
        "# y la convertimos en tupla\n",
        "sedes_tupla = tuple(sedes)\n",
        "print(f'Esto {sedes_tupla} es una {type(sedes_tupla)}')"
      ],
      "metadata": {
        "colab": {
          "base_uri": "https://localhost:8080/"
        },
        "id": "H3lvAmiBk9i6",
        "outputId": "ddb01a85-3615-4500-ce72-da4bd728297e"
      },
      "execution_count": null,
      "outputs": [
        {
          "output_type": "stream",
          "name": "stdout",
          "text": [
            "Esto ['Elche', 'Sant Joan', 'Altea', 'Orihuela'] es una <class 'list'>\n",
            "Esto ('Elche', 'Sant Joan', 'Altea', 'Orihuela') es una <class 'tuple'>\n"
          ]
        }
      ]
    },
    {
      "cell_type": "markdown",
      "source": [
        "Al igual que para las listas, podemos recorrer las tuplas a través de sus índices y con el corchete, para localizar sus elementos."
      ],
      "metadata": {
        "id": "5HuJu7AKINay"
      }
    },
    {
      "cell_type": "code",
      "source": [
        "print(recintos[0])\n",
        "print(recintos[1:])"
      ],
      "metadata": {
        "colab": {
          "base_uri": "https://localhost:8080/"
        },
        "id": "efBPg0ehIWwV",
        "outputId": "b096895a-d59a-464b-fb67-fb0bba159f4d"
      },
      "execution_count": null,
      "outputs": [
        {
          "output_type": "stream",
          "name": "stdout",
          "text": [
            "Elche\n",
            "('Sant Joan', 'Altea', 'Orihuela')\n"
          ]
        }
      ]
    },
    {
      "cell_type": "markdown",
      "source": [
        "Sin embargo, como hemos dicho, las tuplas son inmutables. Por lo que el siguiente código generará un error:\n",
        "\n",
        "```markdown\n",
        "recintos[3] = \"Salesas\"\n",
        "recintos.append(\"Salesas\")\n",
        "```"
      ],
      "metadata": {
        "id": "UchI7JgmdCuI"
      }
    },
    {
      "cell_type": "markdown",
      "source": [
        "### <font color='steelblue'>Sets </font>\n",
        "\n",
        "Los sets o colecciones se utilizan también para almacenar distintos elementos en un solo objeto o variable. Para crearlos se incluyen entre llaves `{}` los elementos, separados por comas, `{elemento1,elemento2,...}`. Si queremos crear una colección vacía utilizamos simplemente `set()` sin argumentos.\n",
        "\n"
      ],
      "metadata": {
        "id": "ti3u-YwK0unZ"
      }
    },
    {
      "cell_type": "code",
      "source": [
        "# una colección vacía\n",
        "set_vacia=set()\n",
        "print(set_vacia)"
      ],
      "metadata": {
        "colab": {
          "base_uri": "https://localhost:8080/"
        },
        "id": "WSaqhuzFB2SC",
        "outputId": "28a1a471-6dd0-48c1-a55b-4802100726c1"
      },
      "execution_count": null,
      "outputs": [
        {
          "output_type": "stream",
          "name": "stdout",
          "text": [
            "set()\n"
          ]
        }
      ]
    },
    {
      "cell_type": "code",
      "source": [
        "# una colección de cadenas de texto\n",
        "recintos_set = {\"Elche\", \"Sant Joan\", \"Altea\"}\n",
        "print(f'Esto {recintos_set} es de tipo {type(recintos_set)}')"
      ],
      "metadata": {
        "colab": {
          "base_uri": "https://localhost:8080/"
        },
        "id": "_JMxGPHF3Afu",
        "outputId": "17e30c72-bba1-414a-9728-a3426296d34c"
      },
      "execution_count": null,
      "outputs": [
        {
          "output_type": "stream",
          "name": "stdout",
          "text": [
            "Esto {'Altea', 'Sant Joan', 'Elche'} es de tipo <class 'set'>\n"
          ]
        }
      ]
    },
    {
      "cell_type": "markdown",
      "source": [
        "Al igual que las tuplas, sus elementos son inmutables, no están ordenados y no están indexados.\n",
        "Sin embargo, en una colección, a diferencia de las tuplas, sí podemos añadir o eliminar elementos, con las funciones `add()` y `remove()` respectivamente."
      ],
      "metadata": {
        "id": "Lc4QkQTUCCK6"
      }
    },
    {
      "cell_type": "code",
      "source": [
        "# añadimos un elemento\n",
        "recintos_set.add(\"Orihuela\")\n",
        "print(recintos_set)\n",
        "# borramos el mismo elemento\n",
        "recintos_set.remove(\"Orihuela\")\n",
        "print(recintos_set)"
      ],
      "metadata": {
        "id": "bLNl7ze6CFJk",
        "colab": {
          "base_uri": "https://localhost:8080/"
        },
        "outputId": "a570b0cd-8e1d-4e58-ad56-3d0fc1c0cd70"
      },
      "execution_count": null,
      "outputs": [
        {
          "output_type": "stream",
          "name": "stdout",
          "text": [
            "{'Altea', 'Sant Joan', 'Orihuela', 'Elche'}\n",
            "{'Altea', 'Sant Joan', 'Elche'}\n"
          ]
        }
      ]
    },
    {
      "cell_type": "markdown",
      "source": [
        "Observamos que al volcar en pantalla el contenido del set, no se mantiene el orden original en que introdujimos los elementos.\n",
        "\n",
        "Cuando queremos eliminar elementos en un set o colección, además de la función `remove()`, podemos utilizar:\n",
        "\n",
        "* `discard()`, que elimina un elemento concreto\n",
        "* `clear()`, que vacía la colección eliminando todos sus elementos"
      ],
      "metadata": {
        "id": "CdurN-IANr6k"
      }
    },
    {
      "cell_type": "code",
      "source": [
        "recintos_set.discard(\"Altea\")\n",
        "print(recintos_set)\n",
        "recintos_set.clear()\n",
        "print(recintos_set)"
      ],
      "metadata": {
        "colab": {
          "base_uri": "https://localhost:8080/"
        },
        "id": "vWrT_a6OODmr",
        "outputId": "69389dcb-446a-447e-c963-23d5ac201f3e"
      },
      "execution_count": null,
      "outputs": [
        {
          "output_type": "stream",
          "name": "stdout",
          "text": [
            "{'Sant Joan', 'Elche'}\n",
            "set()\n"
          ]
        }
      ]
    },
    {
      "cell_type": "markdown",
      "source": [
        "Si comparamos dos sets con los mismos elementos, aunque estén introducidos en diferente orden, obtendremos un resultado de que son iguales"
      ],
      "metadata": {
        "id": "K1WXTGJ13Meg"
      }
    },
    {
      "cell_type": "code",
      "source": [
        "{1, 2, 3} == {3, 1, 2}"
      ],
      "metadata": {
        "colab": {
          "base_uri": "https://localhost:8080/"
        },
        "id": "lvc5tAYK3SAg",
        "outputId": "f55ebb51-6887-4534-f8ea-a0957a91bbed"
      },
      "execution_count": null,
      "outputs": [
        {
          "output_type": "execute_result",
          "data": {
            "text/plain": [
              "True"
            ]
          },
          "metadata": {},
          "execution_count": 31
        }
      ]
    },
    {
      "cell_type": "markdown",
      "source": [
        "## <font color='steelblue'>6. Diccionarios </font>"
      ],
      "metadata": {
        "id": "4iHKryLD71Zm"
      }
    },
    {
      "cell_type": "markdown",
      "source": [
        "Podríamos definir un diccionario como un objeto que almacena distintos elementos y sus etiquetas. La analogía con un diccionario al uso es directa: un término tiene asociado un significado; el término actúa pues, como etiqueta del significado que representa.\n",
        "\n",
        "\n",
        "Los diccionarios se definen con llaves `{}`, y entre ellas y separados por comas, ubicamos sus elementos. Cada uno de estos elementos se conforma de una etiqueta o clave (*key*), seguida de dos puntos, `:` y seguida de su valor (*value*), `{'etiqueta1' : valor1, 'etiqueta2' : valor2, ...}`. Las etiquetas siempre irán entrecomilladas, y los valores sólo si son cadenas de texto. Los valores pueden ser de cualquier tipo.\n",
        "\n",
        "Si queremos crear un diccionario vacío para rellenarlo posteriormente con elementos, basta utilizar las llaves `{}` o `dict()` sin argumentos.\n",
        "\n",
        "Su longitud se obtiene con la función `len()`.\n",
        "\n",
        "Veamos diversos ejemplos de diccionarios."
      ],
      "metadata": {
        "id": "BU8g1-kbQy28"
      }
    },
    {
      "cell_type": "code",
      "source": [
        "# un diccionario vacío\n",
        "diccionario_vacio=dict()\n",
        "print(diccionario_vacio)\n",
        "diccionario_vacio={}\n",
        "print(diccionario_vacio)"
      ],
      "metadata": {
        "colab": {
          "base_uri": "https://localhost:8080/"
        },
        "id": "gltKNC1sDe-I",
        "outputId": "fe6d0765-853b-41a6-9e35-dc78ee7f4107"
      },
      "execution_count": null,
      "outputs": [
        {
          "output_type": "stream",
          "name": "stdout",
          "text": [
            "{}\n",
            "{}\n"
          ]
        }
      ]
    },
    {
      "cell_type": "code",
      "source": [
        "# un diccionario en que los valores son cadenas de texto\n",
        "mi_diccionario = {\"ciencia\": \"estudio sistemático del mundo natural\",\n",
        "                  \"célula\": \"unidad más pequeña de materia viviente\",\n",
        "                  \"elemento\": \"sustancia que no puede ser dividida en una sustancia más simple\"}\n",
        "print(mi_diccionario)\n",
        "print(len(mi_diccionario))"
      ],
      "metadata": {
        "id": "-ZUCN_DSTsIl",
        "colab": {
          "base_uri": "https://localhost:8080/"
        },
        "outputId": "2e4dd01a-f88e-45a0-e260-f71e494bc9ed"
      },
      "execution_count": null,
      "outputs": [
        {
          "output_type": "stream",
          "name": "stdout",
          "text": [
            "{'ciencia': 'estudio sistemático del mundo natural', 'célula': 'unidad más pequeña de materia viviente', 'elemento': 'sustancia que no puede ser dividida en una sustancia más simple'}\n",
            "3\n"
          ]
        }
      ]
    },
    {
      "cell_type": "code",
      "source": [
        "# un diccionario en que los valores son números\n",
        "asignaturas = {\n",
        "    \"Bioquímica I\": 9,\n",
        "    \"Anotomía Humana I\": 8.5,\n",
        "    \"Histología\": 9.3\n",
        "}\n",
        "print(asignaturas)"
      ],
      "metadata": {
        "colab": {
          "base_uri": "https://localhost:8080/"
        },
        "id": "Szn0ocCsXvbb",
        "outputId": "ccc10fdb-86cf-4ee1-e925-70b1a0497a02"
      },
      "execution_count": null,
      "outputs": [
        {
          "output_type": "stream",
          "name": "stdout",
          "text": [
            "{'Bioquímica I': 9, 'Anotomía Humana I': 8.5, 'Histología': 9.3}\n"
          ]
        }
      ]
    },
    {
      "cell_type": "markdown",
      "source": [
        "Una vez definido un diccionario, podemos acceder a sus etiquetas o claves con la función `keys()`, así como a los valores que contienen, con la función `values()`."
      ],
      "metadata": {
        "id": "tBi540rTYtd-"
      }
    },
    {
      "cell_type": "code",
      "source": [
        "# visualizamos sólo las etiquetas o claves\n",
        "print(asignaturas.keys())\n",
        "# visualizamos sólo los valores\n",
        "print(asignaturas.values())"
      ],
      "metadata": {
        "colab": {
          "base_uri": "https://localhost:8080/"
        },
        "id": "5pu1ZVlmZJGy",
        "outputId": "9b640fa3-cfa5-47bc-e6c8-a7f14762bd51"
      },
      "execution_count": null,
      "outputs": [
        {
          "output_type": "stream",
          "name": "stdout",
          "text": [
            "dict_keys(['Bioquímica I', 'Anotomía Humana I', 'Histología'])\n",
            "dict_values([9, 8.5, 9.3])\n"
          ]
        }
      ]
    },
    {
      "cell_type": "markdown",
      "source": [
        "### <font color='steelblue'>Indexar </font>\n",
        "\n",
        "Las claves o etiquetas de los elementos de un diccionario se utilizan para la indexación de sus elementos. Así, si queremos acceder a un elemento del diccionario, utilizamos los corchetes y la etiqueta entrecomillada de dicho elemento."
      ],
      "metadata": {
        "id": "MC20U3ANUvi7"
      }
    },
    {
      "cell_type": "code",
      "source": [
        "# seleccionamos el valor del elemento etiquetado como 'ciencia'\n",
        "descripcion1 = mi_diccionario[\"ciencia\"]\n",
        "print(descripcion1)"
      ],
      "metadata": {
        "id": "VQvCP3HnVLVp",
        "colab": {
          "base_uri": "https://localhost:8080/"
        },
        "outputId": "b6d29ec4-1114-4eb4-a288-afd4690dfbae"
      },
      "execution_count": null,
      "outputs": [
        {
          "output_type": "stream",
          "name": "stdout",
          "text": [
            "estudio sistemático del mundo natural\n"
          ]
        }
      ]
    },
    {
      "cell_type": "markdown",
      "source": [
        "### <font color='steelblue'>Modificar </font>\n",
        "\n",
        "Los diccionarios son mutables, esto es, podemos cambiar, eliminar o añadir elementos.\n",
        "\n",
        "- Para cambiar el valor de algún elemento, sólo tenemos que acceder al mismo a través de su etiqueta.\n",
        "- Para añadir un elemento basta con especificar una nueva etiqueta y asignarle un valor.\n",
        "- Para borrar un elemento, utilizamos la función `del`."
      ],
      "metadata": {
        "id": "UOLT6EBDW7p2"
      }
    },
    {
      "cell_type": "code",
      "source": [
        "# modificamos el valor del elemento etiquetado como 'ciencia'\n",
        "mi_diccionario[\"ciencia\"] = \"descripción\"\n",
        "print(mi_diccionario)\n",
        "# borramos el elemento etiquetado como 'ciencia'\n",
        "del mi_diccionario[\"ciencia\"]\n",
        "print(mi_diccionario)\n",
        "# añadimos un nuevo elemento\n",
        "mi_diccionario[\"tecnica\"] = \"habilidad para ejecutar cualquier cosa\"\n",
        "print(mi_diccionario)"
      ],
      "metadata": {
        "colab": {
          "base_uri": "https://localhost:8080/"
        },
        "id": "J6lZk1-AXDcE",
        "outputId": "35af5f42-50ae-46af-b4ce-a186054fdce9"
      },
      "execution_count": null,
      "outputs": [
        {
          "output_type": "stream",
          "name": "stdout",
          "text": [
            "{'ciencia': 'descripción', 'célula': 'unidad más pequeña de materia viviente', 'elemento': 'sustancia que no puede ser dividida en una sustancia más simple'}\n",
            "{'célula': 'unidad más pequeña de materia viviente', 'elemento': 'sustancia que no puede ser dividida en una sustancia más simple'}\n",
            "{'célula': 'unidad más pequeña de materia viviente', 'elemento': 'sustancia que no puede ser dividida en una sustancia más simple', 'tecnica': 'habilidad para ejecutar cualquier cosa'}\n"
          ]
        }
      ]
    },
    {
      "cell_type": "markdown",
      "source": [
        "### <font color='steelblue'>Eliminar\n",
        "\n",
        "Al igual que los sets, los diccionarios también pueden vaciarse con la función `clear()`."
      ],
      "metadata": {
        "id": "_6qCVReHZQDY"
      }
    },
    {
      "cell_type": "code",
      "source": [
        "asignaturas.clear()\n",
        "print(asignaturas)"
      ],
      "metadata": {
        "colab": {
          "base_uri": "https://localhost:8080/"
        },
        "id": "zYmG2E3EYsIH",
        "outputId": "ad9cb02d-38ab-46b2-da3b-7e7bbdfff314"
      },
      "execution_count": null,
      "outputs": [
        {
          "output_type": "stream",
          "name": "stdout",
          "text": [
            "{}\n"
          ]
        }
      ]
    },
    {
      "cell_type": "markdown",
      "source": [
        "## <font color='steelblue'>7. Cadenas de texto </font>"
      ],
      "metadata": {
        "id": "SlCP5r5oJjze"
      }
    },
    {
      "cell_type": "markdown",
      "source": [
        "Las cadenas de texto (*string*) son de tipo `str`, y si bien ya las presentamos en el cuaderno anterior, aquí proponemos funciones que seguro te resultarán útiles en el futuro próximo.\n"
      ],
      "metadata": {
        "id": "oXIIvnKqkjmt"
      }
    },
    {
      "cell_type": "code",
      "source": [
        "nombre = 'Felipe'\n",
        "print(nombre)\n",
        "print(type(nombre))"
      ],
      "metadata": {
        "id": "Vu7X9bdbkkVG",
        "colab": {
          "base_uri": "https://localhost:8080/"
        },
        "outputId": "7e336565-2dcc-4aa9-b726-d4124e5204bb"
      },
      "execution_count": null,
      "outputs": [
        {
          "output_type": "stream",
          "name": "stdout",
          "text": [
            "Felipe\n",
            "<class 'str'>\n"
          ]
        }
      ]
    },
    {
      "cell_type": "markdown",
      "source": [
        "### <font color='steelblue'>Separar palabras</font>\n",
        "\n",
        "Una aplicación interesante cuando analizamos textos, puede ser separar todas las palabras que contiene y aislar sus elementos. Esto lo podemos hacer aplicando la función `split()` a una cadena de texto, y utilizando como argumento `sep= `, con el fin de que reconozca los espacios como separadores de las palabras. El resultado será una lista en la que los elementos son cada una de las palabras de la cadena de texto."
      ],
      "metadata": {
        "id": "C318sjVFzF8P"
      }
    },
    {
      "cell_type": "code",
      "source": [
        "frase = \"El nombre de Python se deriva de la serie de televisión Monty Python's Flying Circus.\"\n",
        "palabras = frase.split()\n",
        "# mostramos el nuevo objeto (lista) con las palabras como elementos\n",
        "print(palabras)\n",
        "# y mostramos de qué tipo es el objeto 'palabras'\n",
        "print(type(palabras))"
      ],
      "metadata": {
        "colab": {
          "base_uri": "https://localhost:8080/"
        },
        "id": "iBmy_rut6__G",
        "outputId": "1972eede-117a-4b7d-8621-a4ee9ac661d3"
      },
      "execution_count": null,
      "outputs": [
        {
          "output_type": "stream",
          "name": "stdout",
          "text": [
            "['El', 'nombre', 'de', 'Python', 'se', 'deriva', 'de', 'la', 'serie', 'de', 'televisión', 'Monty', \"Python's\", 'Flying', 'Circus.']\n",
            "<class 'list'>\n"
          ]
        }
      ]
    },
    {
      "cell_type": "markdown",
      "source": [
        "Si en lugar de separar palabras queremos fragmentar la cadena cada vez que se encuentre con un determinado carácter, bastará indicar dicho carácter entrecomillado en el argumento `sep='carácter_separador'`."
      ],
      "metadata": {
        "id": "EQTlUlJxTY6D"
      }
    },
    {
      "cell_type": "code",
      "source": [
        "frase = \"El que sólo sabe medicina, ni medicina sabe.\"\n",
        "# Fragmentamos esta frase con las comas que contenga\n",
        "palabras = frase.split(sep=',')\n",
        "print(palabras)"
      ],
      "metadata": {
        "colab": {
          "base_uri": "https://localhost:8080/"
        },
        "id": "Som4YF6j7lVr",
        "outputId": "7cdceab2-d569-4839-fbc6-53e26ac2883a"
      },
      "execution_count": null,
      "outputs": [
        {
          "output_type": "stream",
          "name": "stdout",
          "text": [
            "['El que sólo sabe medicina', ' ni medicina sabe.']\n"
          ]
        }
      ]
    },
    {
      "cell_type": "markdown",
      "source": [
        "### <font color='steelblue'>Mayúsculas y minúsculas </font>\n",
        "\n",
        "Python discrimina entre mayúsculas y minúsculas, de modo que con tipografías diferentes, tendremos variables diferentes."
      ],
      "metadata": {
        "id": "xFajM5jMgGuN"
      }
    },
    {
      "cell_type": "code",
      "source": [
        "nombre1=\"pepe\"\n",
        "nombre2=\"Pepe\"\n",
        "# Comparamos si son iguales\n",
        "print(nombre1==nombre2)"
      ],
      "metadata": {
        "colab": {
          "base_uri": "https://localhost:8080/"
        },
        "id": "PEk1krdXH1wq",
        "outputId": "5522d3f1-cf5d-431a-bebe-f9bce4b37c07"
      },
      "execution_count": null,
      "outputs": [
        {
          "output_type": "stream",
          "name": "stdout",
          "text": [
            "False\n"
          ]
        }
      ]
    },
    {
      "cell_type": "markdown",
      "source": [
        "Ante una cadena de texto dada, podemos convertir en mayúsculas o minúsculas sus caracteres, con las funciones `upper()` y `lower()` respectivamente."
      ],
      "metadata": {
        "id": "zXjmWlj2HNME"
      }
    },
    {
      "cell_type": "code",
      "source": [
        "universidad = \"Universidad San Martin de Porres\"\n",
        "print(universidad)\n",
        "# convertimos a  mayúsculas\n",
        "print(universidad.upper())\n",
        "print(universidad.lower())\n"
      ],
      "metadata": {
        "colab": {
          "base_uri": "https://localhost:8080/"
        },
        "id": "Dfk3n7R5glNf",
        "outputId": "d75b1d20-4873-4b0d-d7e5-8ffdffad447e"
      },
      "execution_count": null,
      "outputs": [
        {
          "output_type": "stream",
          "name": "stdout",
          "text": [
            "Universidad San Martin de Porres\n",
            "UNIVERSIDAD SAN MARTIN DE PORRES\n",
            "universidad san martin de porres\n"
          ]
        }
      ]
    },
    {
      "cell_type": "markdown",
      "source": [
        "### <font color='steelblue'>Contar </font>\n",
        "\n",
        "Con la función `count()` se puede contar el número de veces que aparece un determinado carácter o conjunto de caracteres (siempre que estén todos en minúsculas o todos en mayúsculas)."
      ],
      "metadata": {
        "id": "LzcF3QzBgyCt"
      }
    },
    {
      "cell_type": "code",
      "source": [
        "# número de 'u's minúsculas\n",
        "print(universidad.count(\"u\"))\n",
        "# número de 'u's en total (convirtiendo todo a minúsculas previamente)\n",
        "print(universidad.lower().count(\"u\"))"
      ],
      "metadata": {
        "colab": {
          "base_uri": "https://localhost:8080/"
        },
        "id": "HwsND035g154",
        "outputId": "4e82f66b-d171-479d-f000-a933be744208"
      },
      "execution_count": null,
      "outputs": [
        {
          "output_type": "stream",
          "name": "stdout",
          "text": [
            "0\n",
            "1\n"
          ]
        }
      ]
    },
    {
      "cell_type": "markdown",
      "source": [
        "### <font color='steelblue'>Separar y unir letras </font>\n",
        "\n",
        "También podemos separar una cadena por letras con la función `list()`. El resultado es una lista, en la que los espacios quedan también registrados como `' '`."
      ],
      "metadata": {
        "id": "aD3gOqnxhUWT"
      }
    },
    {
      "cell_type": "code",
      "source": [
        "letras = list(universidad.upper())\n",
        "print(letras)"
      ],
      "metadata": {
        "colab": {
          "base_uri": "https://localhost:8080/"
        },
        "id": "I9F-fHt3hifm",
        "outputId": "5add5bba-fbc2-4292-e409-ba585c699bd4"
      },
      "execution_count": null,
      "outputs": [
        {
          "output_type": "stream",
          "name": "stdout",
          "text": [
            "['U', 'N', 'I', 'V', 'E', 'R', 'S', 'I', 'D', 'A', 'D', ' ', 'S', 'A', 'N', ' ', 'M', 'A', 'R', 'T', 'I', 'N', ' ', 'D', 'E', ' ', 'P', 'O', 'R', 'R', 'E', 'S']\n"
          ]
        }
      ]
    },
    {
      "cell_type": "markdown",
      "source": [
        "Podemos volver a unirlas, especificando entre comillas el separador que queremos aplicar  `'carácter_separador'` y aplicándole la función `join()` a continuación. Si queremos unirlas sin más, utilizamos `''` sin espacios; si queremos unirlas con una barra baja, utilizamos `'_'`. Veamos algunos ejemplos"
      ],
      "metadata": {
        "id": "4qncn9mNhoyc"
      }
    },
    {
      "cell_type": "code",
      "source": [
        "# unimos las letras sin separación\n",
        "print(\"\".join(letras))\n",
        "\n",
        "# unimos separando con guión bajo\n",
        "print(\"_\".join(letras))"
      ],
      "metadata": {
        "colab": {
          "base_uri": "https://localhost:8080/"
        },
        "id": "-xdVUjXNhyZQ",
        "outputId": "7b10ca7d-4b98-4e32-bf00-5e6acd85905d"
      },
      "execution_count": null,
      "outputs": [
        {
          "output_type": "stream",
          "name": "stdout",
          "text": [
            "UNIVERSIDAD SAN MARTIN DE PORRES\n",
            "U_N_I_V_E_R_S_I_D_A_D_ _S_A_N_ _M_A_R_T_I_N_ _D_E_ _P_O_R_R_E_S\n"
          ]
        }
      ]
    },
    {
      "cell_type": "markdown",
      "source": [
        "Por supuesto, podemos combinar distintas operaciones, y por ejemplo encadenar una unión de letras, conversión a minúsculas y separación de palabras (aprovechando que el espaciado entre palabras se conservó al separar las letras)."
      ],
      "metadata": {
        "id": "9R8TNwoEifAH"
      }
    },
    {
      "cell_type": "code",
      "source": [
        "print(letras)\n",
        "print(\"_\".join(letras).lower().split(\" \"))"
      ],
      "metadata": {
        "colab": {
          "base_uri": "https://localhost:8080/"
        },
        "id": "Y5LBrz6Sik_i",
        "outputId": "c789bd9e-e3b5-4a5f-8e3a-9ac7241f8579"
      },
      "execution_count": null,
      "outputs": [
        {
          "output_type": "stream",
          "name": "stdout",
          "text": [
            "['U', 'N', 'I', 'V', 'E', 'R', 'S', 'I', 'D', 'A', 'D', ' ', 'S', 'A', 'N', ' ', 'M', 'A', 'R', 'T', 'I', 'N', ' ', 'D', 'E', ' ', 'P', 'O', 'R', 'R', 'E', 'S']\n",
            "['u_n_i_v_e_r_s_i_d_a_d_', '_s_a_n_', '_m_a_r_t_i_n_', '_d_e_', '_p_o_r_r_e_s']\n"
          ]
        }
      ]
    },
    {
      "cell_type": "markdown",
      "source": [
        "Otra forma de separar los caracteres distintos que contiene una cadena de texto, incluidos los espacios, es a través de  `set()`. Esta función opera sobre las cadenas de texto, creando un set cuyos elementos son cada uno de los caracteres distintos contenidos en una cadena.\n",
        "\n",
        "Por ejemplo, para obtener todos los caracteres distintos que tiene la cadena `universidad`, primero convertimos toda la cadena a mayúsculas (o minúsculas) y luego la convertimos en `set`:\n"
      ],
      "metadata": {
        "id": "PVY7Uv2a79Zl"
      }
    },
    {
      "cell_type": "code",
      "source": [
        "universidad = \"Universidad San Martin de Porres\"\n",
        "caracteres = set(universidad.upper())\n",
        "print(caracteres)"
      ],
      "metadata": {
        "colab": {
          "base_uri": "https://localhost:8080/"
        },
        "id": "2lJ4oDmi7ZFR",
        "outputId": "e3df1e7f-baa6-4825-96d7-1e45f1695a7d"
      },
      "execution_count": null,
      "outputs": [
        {
          "output_type": "stream",
          "name": "stdout",
          "text": [
            "{' ', 'U', 'R', 'P', 'T', 'M', 'S', 'D', 'V', 'O', 'I', 'A', 'N', 'E'}\n"
          ]
        }
      ]
    }
  ]
}
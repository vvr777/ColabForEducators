{
  "nbformat": 4,
  "nbformat_minor": 0,
  "metadata": {
    "colab": {
      "provenance": []
    },
    "kernelspec": {
      "name": "python3",
      "display_name": "Python 3"
    },
    "language_info": {
      "name": "python"
    }
  },
  "cells": [
    {
      "cell_type": "markdown",
      "source": [
        "## **VALORES LÓGICOS Y CONDICIONES SIMPLES**"
      ],
      "metadata": {
        "id": "s0aU-YjYvAVD"
      }
    },
    {
      "cell_type": "markdown",
      "source": [
        "### <font color='steelblue'>Contenidos:</font>\n",
        "1. Datos booleanos en condiciones\n",
        "1. Comparadores\n",
        "1. Operadores lógicos\n",
        "1. La condición `if`\n",
        "1. La condición `if-else`\n",
        "1. La condición `elif`\n",
        "\n",
        "\n"
      ],
      "metadata": {
        "id": "LM2ZUu31V9HS"
      }
    },
    {
      "cell_type": "markdown",
      "source": [
        "## <font color='steelblue'>1. Datos booleanos en condiciones </font>"
      ],
      "metadata": {
        "id": "gyIYWyH2DZIa"
      }
    },
    {
      "cell_type": "markdown",
      "source": [
        "Los datos de tipo booleano ya los introdujimos en el cuaderno *30. Tipos de datos en Python*, y serán clave para trabajar con condiciones lógicas.\n",
        "\n",
        "Generalmente no definiremos objetos booleanos directamente con sintaxis del tipo `x = True`, sino que serán el resultado de comparaciones y operaciones lógicas que veremos a continuación.  El valor `True` nos indica veracidad y `False` negación."
      ],
      "metadata": {
        "id": "KqKdNqSRokEk"
      }
    },
    {
      "cell_type": "markdown",
      "source": [
        "## <font color='steelblue'>2. Comparadores\n"
      ],
      "metadata": {
        "id": "SesRoXZfZ7q9"
      }
    },
    {
      "cell_type": "markdown",
      "source": [
        "Cuando tenemos dos objetos, sean del tipo que sean, podemos compararlos para comprobar sin cumplen diversas condiciones posibles.  El resultado de esta comparación nos dará como resultado uno de los dos valores booleanos: `True` o `False`.\n",
        "\n",
        "La sintaxis para realizar comparaciones entre dos objetos `a` y `b` se detallan en la tabla a continuación, junto con la pregunta que responden:\n",
        "\n",
        "| Operador  | Descripción                          |\n",
        "| :-------- | :----------------------------------- |\n",
        "| `a == b ` | ¿`a` es igual que `b`?                 |\n",
        "| `a != b`  | ¿`a` es distinto a `b`?             |\n",
        "| `a > b`   | ¿`a` es mayor que `b`?             |\n",
        "| `a >= b`  | ¿`a` es mayor o igual que `b`? |\n",
        "| `a < b`   | ¿`a` es menor que `b`?                |\n",
        "| `a <= b`  | ¿`a` es menor o igual que `b`?    |\n",
        "| `a in b`  | ¿`a` está entre los elementos de `b`?       |\n",
        "| `a is b`  | ¿`a` es el mismo objeto que `b`?       |"
      ],
      "metadata": {
        "id": "A72YI8AwKT4v"
      }
    },
    {
      "cell_type": "markdown",
      "source": [
        "Resolvemos ahora algunas comparaciones para ejemplificar el uso de todos estos operadores."
      ],
      "metadata": {
        "id": "boGjsgggLmrQ"
      }
    },
    {
      "cell_type": "code",
      "source": [
        "a = 5\n",
        "b = 3\n",
        "print(f'a es {a} y b es {b}')\n",
        "print('¿\"a\" es igual a \"b\"?',a == b)"
      ],
      "metadata": {
        "colab": {
          "base_uri": "https://localhost:8080/"
        },
        "id": "fTL2MCFkMRCl",
        "outputId": "c5b025e3-20e6-47d3-96c7-876f5da5784a"
      },
      "execution_count": null,
      "outputs": [
        {
          "output_type": "stream",
          "name": "stdout",
          "text": [
            "a es 5 y b es 3\n",
            "¿\"a\" es igual a \"b\"? False\n"
          ]
        }
      ]
    },
    {
      "cell_type": "markdown",
      "source": [
        "En este caso, como `a=5` y `b=3` NO son iguales, la comparación devuelve el valor booleano `False`.\n",
        "\n",
        "Sin embargo, si comparamos si **no** son iguales o, si `a` es mayor o mayor o igual que `b`, nos dará como resultado el valor `True`, pues estas condiciones son verdaderas."
      ],
      "metadata": {
        "id": "H6XKxjTDNVRC"
      }
    },
    {
      "cell_type": "code",
      "source": [
        "print('¿\"a\" es distinto a \"b\"?',a != b)\n",
        "print('¿\"a\" es mayor que \"b\"?',a > b)\n",
        "print('¿\"a\" es menor o igual que \"b\"?',a <= b)"
      ],
      "metadata": {
        "colab": {
          "base_uri": "https://localhost:8080/"
        },
        "id": "-XfGLYeWParb",
        "outputId": "89c797c4-b5bc-4d3f-c461-35c61bc0775b"
      },
      "execution_count": null,
      "outputs": [
        {
          "output_type": "stream",
          "name": "stdout",
          "text": [
            "¿\"a\" es distinto a \"b\"? True\n",
            "¿\"a\" es mayor que \"b\"? True\n",
            "¿\"a\" es menor o igual que \"b\"? False\n"
          ]
        }
      ]
    },
    {
      "cell_type": "markdown",
      "source": [
        "Podemos comparar valores numéricos enteros y decimales, y siempre que el decimal sea 0 y la parte entera coincidan, dará como resultado `True`.  "
      ],
      "metadata": {
        "id": "u5TiweSocjgE"
      }
    },
    {
      "cell_type": "code",
      "source": [
        "# comparación de un entero con un decimal\n",
        "print(2 == 2.0)"
      ],
      "metadata": {
        "id": "CeOxzA22ckil",
        "colab": {
          "base_uri": "https://localhost:8080/"
        },
        "outputId": "8ff06a62-8fbe-40c2-a8bf-9b6b84241229"
      },
      "execution_count": null,
      "outputs": [
        {
          "output_type": "stream",
          "name": "stdout",
          "text": [
            "True\n"
          ]
        }
      ]
    },
    {
      "cell_type": "markdown",
      "source": [
        "Las comparaciones también pueden realizarse sobre variables de tipo cadena de texto. En estos casos, los comparadores de 'mayor que' y 'menor que', hacen referencia al orden alfabético de la cadena, empezando por la primera letra y siguiendo por el resto. Así, la letra \"a\" es menor a la \"b\" y esta es menor a la \"B\", puesto que las mayúsculas se ordenan después de las minúsculas."
      ],
      "metadata": {
        "id": "BKIUtkfJcmbB"
      }
    },
    {
      "cell_type": "code",
      "source": [
        "# comparaciones de textos\n",
        "a = \"Hola\"\n",
        "b = \"Hala\"\n",
        "print('¿Coinciden las dos palabras?', a == b)\n",
        "print(f'¿{a} > {b}?, es decir, en el diccionario, ¿{a} está después de {b}?', a > b)"
      ],
      "metadata": {
        "colab": {
          "base_uri": "https://localhost:8080/"
        },
        "id": "ghN9ZRFZcwMc",
        "outputId": "d41d45fe-d30d-4a3f-fabc-c953b63a8777"
      },
      "execution_count": null,
      "outputs": [
        {
          "output_type": "stream",
          "name": "stdout",
          "text": [
            "¿Coinciden las dos palabras? False\n",
            "¿Hola > Hala?, es decir, en el diccionario, ¿Hola está después de Hala? True\n"
          ]
        }
      ]
    },
    {
      "cell_type": "markdown",
      "source": [
        "También podemos comparar las longitudes de cadenas de texto:"
      ],
      "metadata": {
        "id": "CAcW10STRCx5"
      }
    },
    {
      "cell_type": "code",
      "source": [
        "a = \"Cubo\"\n",
        "b = \"Hola\"\n",
        "print(f'¿{a} y {b} tienen el mismo número de letras?',len(a) == len(b))"
      ],
      "metadata": {
        "colab": {
          "base_uri": "https://localhost:8080/"
        },
        "id": "ug0TGt_wRIAs",
        "outputId": "b66bcc1d-59e7-4b99-8380-dc955dd9cf18"
      },
      "execution_count": null,
      "outputs": [
        {
          "output_type": "stream",
          "name": "stdout",
          "text": [
            "¿Cubo y Hola tienen el mismo número de letras? True\n"
          ]
        }
      ]
    },
    {
      "cell_type": "markdown",
      "source": [
        "\"Cubo\" y \"Hola\" tienen el mismo número de caracteres (4)."
      ],
      "metadata": {
        "id": "8RpE9srTROKF"
      }
    },
    {
      "cell_type": "markdown",
      "source": [
        "Otro comparador frecuente en la práctica cuando trabajamos con vectores, listas o cadenas de caracteres es `in`, que nos resulta útil para comprobar si cierto valor está presente en un objeto con varios elementos/valores. Si se combina con el operador `not` (`not in`), servirá para verificar que el valor no está contenido en un objeto."
      ],
      "metadata": {
        "id": "ikTYTLrZKd7e"
      }
    },
    {
      "cell_type": "code",
      "source": [
        "a = [0, 1, 2]\n",
        "b = 2\n",
        "c = [3, 4, 5]\n",
        "print(f'¿{b} está en {a}?', b in a)\n",
        "print(f'¿{b} no está en {c}?',b not in c)\n",
        "print('¿La palabra \"Hola\" tiene una \"a\"',\"a\" in \"Hola\")"
      ],
      "metadata": {
        "colab": {
          "base_uri": "https://localhost:8080/"
        },
        "id": "UjmbdLb3GCn8",
        "outputId": "a073c2c7-a488-446e-ee76-12a43186dfa5"
      },
      "execution_count": null,
      "outputs": [
        {
          "output_type": "stream",
          "name": "stdout",
          "text": [
            "¿2 está en [0, 1, 2]? True\n",
            "¿2 no está en [3, 4, 5]? True\n",
            "¿La palabra \"Hola\" tiene una \"a\" True\n"
          ]
        }
      ]
    },
    {
      "cell_type": "markdown",
      "source": [
        "\n",
        "En Python, los valores 'vacíos', esto es, `None`, `\"\"`, `[]`, `{}`,`()`, ..., no son evaluados ni como `True` ni como `False`. Sin embargo, los valores `0`, `0.0`, y por supuesto `False`, son evaluados como `False`.  \n",
        "\n",
        "Veamos varios ejemplos, en los que además mostramos la diferencia entre el comparador `==` que se refiere a comparar valores, y el comparador `is` que se refiere a identificar si dos variables apuntan al mismo objeto.\n",
        "\n",
        "Así, un objeto definido como `False` será  `False` (comparador `is`), y además su valor también será `False` (comparador `==`)."
      ],
      "metadata": {
        "id": "Znp_5qirxZXf"
      }
    },
    {
      "cell_type": "code",
      "source": [
        "var_cero=0.\n",
        "var_vacio=\"\"\n",
        "lis_vacio=[]\n",
        "var_False=False\n",
        "var_none=None\n",
        "\n",
        "\n",
        "print(f'¿El valor {var_cero} es \"False\"?', var_cero == False)\n",
        "print(f'¿{var_cero} es un objeto \"False\"?', var_cero is False)\n",
        "print()\n",
        "\n",
        "print(f'¿El valor de {var_False} es \"False\"?', var_False == False)\n",
        "print(f'¿{var_False} es un objeto \"False\"?', var_False is False)\n",
        "print()\n",
        "\n",
        "# None y \"\" no son ni verdadero ni falso\n",
        "print(f'¿El valor de \"{var_vacio}\" es \"False\"?', var_vacio == False)\n",
        "print(f'¿El valor de \"{var_vacio}\" es \"True\"?', var_vacio == True)\n",
        "print(f'¿\"{var_vacio}\" apunta a un objeto \"False\"?', var_vacio is False)\n",
        "print()\n",
        "print(f'¿El valor de \"{lis_vacio}\" es \"False\"?', lis_vacio == False)\n",
        "print(f'¿El valor de \"{lis_vacio}\" es \"True\"?', lis_vacio == True)\n",
        "print(f'¿\"{lis_vacio}\" apunta a un objeto \"False\"?', lis_vacio is False)\n",
        "print()\n",
        "print('¿El valor de var_none es \"False\"?', var_none == False)\n",
        "print('¿El valor de var_none es \"True\"?', var_none == True)\n",
        "print('¿var_none apunta a un objeto \"False\"?', var_none is False)\n"
      ],
      "metadata": {
        "colab": {
          "base_uri": "https://localhost:8080/"
        },
        "id": "JD3oGBWQxzWe",
        "outputId": "b294ea56-3986-4f68-e3cf-7907a28bee3d"
      },
      "execution_count": null,
      "outputs": [
        {
          "output_type": "stream",
          "name": "stdout",
          "text": [
            "¿El valor 0.0 es \"False\"? True\n",
            "¿0.0 es un objeto \"False\"? False\n",
            "\n",
            "¿El valor de False es \"False\"? True\n",
            "¿False es un objeto \"False\"? True\n",
            "\n",
            "¿El valor de \"\" es \"False\"? False\n",
            "¿El valor de \"\" es \"True\"? False\n",
            "¿\"\" apunta a un objeto \"False\"? False\n",
            "\n",
            "¿El valor de \"[]\" es \"False\"? False\n",
            "¿El valor de \"[]\" es \"True\"? False\n",
            "¿\"[]\" apunta a un objeto \"False\"? False\n",
            "\n",
            "¿El valor de var_none es \"False\"? False\n",
            "¿El valor de var_none es \"True\"? False\n",
            "¿var_none apunta a un objeto \"False\"? False\n"
          ]
        }
      ]
    },
    {
      "cell_type": "markdown",
      "source": [
        "## <font color='steelblue'>3. Operadores lógicos </font>\n"
      ],
      "metadata": {
        "id": "Dy-4PRSSkw20"
      }
    },
    {
      "cell_type": "markdown",
      "source": [
        "Por otro lado, los operadores lógicos, también llamados operadores booleanos,  se usan para combinar dos valores booleanos y devolver un resultado verdadero, falso o nulo. A partir de dos valores booleanos, $a$ y $b$, se definen los siguientes operadores, que responderán con `True/False` a la pregunta explícita a continuación:\n",
        "\n",
        "| Operador | Descripción |\n",
        "| :---: | :--- |\n",
        "|`a and b`| ¿`a` y `b` son ambas verdaderas? |\n",
        "|`a or b` | ¿Es al menos una de `a` y `b` verdadera? |\n",
        "| `not a` | ¿`a` es falsa? |"
      ],
      "metadata": {
        "id": "6HtMrSYlc93r"
      }
    },
    {
      "cell_type": "code",
      "source": [
        "# Ejemplos:\n",
        "a = True\n",
        "b = False\n",
        "print('a es',a,'y b es',b)\n",
        "# operador 'and'\n",
        "print('¿Son ambos True? ',a and b)\n",
        "# operador 'or'\n",
        "print('¿Alguno es True?', a or b)\n",
        "# operador 'not'\n",
        "print('¿Es False b?', not b)"
      ],
      "metadata": {
        "id": "uyAt9Jq9c-_l",
        "colab": {
          "base_uri": "https://localhost:8080/"
        },
        "outputId": "57be446e-71c0-49dc-e166-89072fc36813"
      },
      "execution_count": null,
      "outputs": [
        {
          "output_type": "stream",
          "name": "stdout",
          "text": [
            "a es True y b es False\n",
            "¿Son ambos True?  False\n",
            "¿Alguno es True? True\n",
            "¿Es False b? True\n"
          ]
        }
      ]
    },
    {
      "cell_type": "markdown",
      "source": [
        "También podemos combinar el operador `not` tantas veces como queramos, teniendo en cuenta que una doble negación equivale a una afirmación:"
      ],
      "metadata": {
        "id": "L_bMq_VgBwA3"
      }
    },
    {
      "cell_type": "code",
      "source": [
        "print('a es',a)\n",
        "print('\"not a\" es',not a)\n",
        "print('\"not not a \" es',not not a)\n",
        "print('\"not not not a\" es',not not not a)"
      ],
      "metadata": {
        "colab": {
          "base_uri": "https://localhost:8080/"
        },
        "id": "Nqw_t5BEBrfU",
        "outputId": "a5448126-84e1-4261-dcd8-12e980524fb9"
      },
      "execution_count": null,
      "outputs": [
        {
          "output_type": "stream",
          "name": "stdout",
          "text": [
            "a es True\n",
            "\"not a\" es False\n",
            "\"not not a \" es True\n",
            "\"not not not a\" es False\n"
          ]
        }
      ]
    },
    {
      "cell_type": "markdown",
      "source": [
        "\n",
        "Estos operadores pueden combinarse con los comparadores para comprobar diferentes condiciones:"
      ],
      "metadata": {
        "id": "qD4YlV2pCF3h"
      }
    },
    {
      "cell_type": "code",
      "source": [
        "a = 2\n",
        "b = 2.5\n",
        "c = \"Python\"\n",
        "d = \"R\"\n",
        "print('¿Es (a > b) o (c distinto a d)?', a>b or c!=d)"
      ],
      "metadata": {
        "colab": {
          "base_uri": "https://localhost:8080/"
        },
        "id": "Nna1YTY1Cr84",
        "outputId": "ba42e5e8-cdc0-4df7-f8f6-b4ae66d86e88"
      },
      "execution_count": null,
      "outputs": [
        {
          "output_type": "stream",
          "name": "stdout",
          "text": [
            "¿Es (a > b) o (c distinto a d)? True\n"
          ]
        }
      ]
    },
    {
      "cell_type": "markdown",
      "source": [
        "Para evaluar el código anterior, se han seguido los siguientes pasos:\n",
        "\n",
        "1. Se compara si `a` es mayor que `b`, que  resulta `False`.\n",
        "1. Se compara si `c` es distinto a `d`, que da el valor `True`.\n",
        "1. Se cuestiona si alguna de las dos comparaciones es verdadera, que da el valor `True`.\n",
        "\n",
        "Para facilitar la lectura se recomienda utilizar paréntesis para cada elemento booleano del operador.\n",
        "\n",
        "En cualquier caso, las operaciones se realizan siempre de izquierda a derecha. Veamos un ejemplo con más operadores lógicos encadenados."
      ],
      "metadata": {
        "id": "FA2AFPweE6e_"
      }
    },
    {
      "cell_type": "code",
      "source": [
        "e = 2\n",
        "print((a != e) and (a <= b) or (c != d))"
      ],
      "metadata": {
        "colab": {
          "base_uri": "https://localhost:8080/"
        },
        "id": "jme_9muzGNum",
        "outputId": "dfbb37b2-798b-4353-ff9c-170949940e63"
      },
      "execution_count": null,
      "outputs": [
        {
          "output_type": "stream",
          "name": "stdout",
          "text": [
            "True\n"
          ]
        }
      ]
    },
    {
      "cell_type": "markdown",
      "source": [
        "1. Se evalúan los tres elementos, definidos por comparaciones, que resultan `True`, `False` y `True`.\n",
        "1. Se resuelve el primer operador `True and False`, que resulta `False`.\n",
        "1. Con el resultado se resuelve el segundo operador `False or True`, que resulta `True`.\n"
      ],
      "metadata": {
        "id": "uEFHiox0HPME"
      }
    },
    {
      "cell_type": "markdown",
      "source": [
        "## <font color='steelblue'>4. La condición ``if`` </font>"
      ],
      "metadata": {
        "id": "EjT3mXJ-yGVd"
      }
    },
    {
      "cell_type": "markdown",
      "source": [
        "La sentencia `if` se utiliza para ejecutar código sólo cuando es cierta (`True`) la condición simple que se formula a continuación de `if`. Si no es cierta (`False`), no se ejecutará ese código, y el programa continuará con el código que siga. La formulación es:\n",
        "```\n",
        "if condicion:\n",
        "  codigo a ejecutar si condicion=True\n",
        "codigo de continuación\n",
        "```\n",
        "donde `condicion` es un valor booleano, proveniente generalmente de una comparación o de una operación lógica.\n",
        "\n",
        "Tan importante es utilizar los dos puntos `:`  a continuación de la condición, como saltar de línea e indentar con una sangría (con el tabulador '`->|`') todo el código que queremos ejecutar cuando la condición es cierta.  \n",
        "\n",
        "Para continuar con la ejecución de más código, independiente a la condición, este se emplaza en otra línea, al mismo nivel de indentación (a la izquierda) del `if`.\n"
      ],
      "metadata": {
        "id": "ZmAMlFfkYegK"
      }
    },
    {
      "cell_type": "code",
      "source": [
        "a = 5\n",
        "b = 3\n",
        "c = 2\n",
        "# testamos si 'a es distinto de b'.\n",
        "if a != b:\n",
        "  # Si es cierto (True), entonces se ejecuta:\n",
        "  print(f\"{a} y {b} no son iguales\")\n",
        "# si no es cierto, no se devuelve nada\n",
        "if (a == b) or (a < c):\n",
        "  print(\"No verás nada\")"
      ],
      "metadata": {
        "colab": {
          "base_uri": "https://localhost:8080/"
        },
        "id": "avRmz7WOyC8p",
        "outputId": "379584ba-adf5-4f7b-85df-34fd6fc5a7b5"
      },
      "execution_count": null,
      "outputs": [
        {
          "output_type": "stream",
          "name": "stdout",
          "text": [
            "5 y 3 no son iguales\n"
          ]
        }
      ]
    },
    {
      "cell_type": "markdown",
      "source": [
        "En el primer `if`, puesto que la condición `a != b` resulta `True`, se pinta en pantalla '5 y 3 no son iguales'. En el segundo `if`, como la condición `(a == b) or (a < c)` resulta `False`, no pinta en pantalla \"No verás nada\"."
      ],
      "metadata": {
        "id": "OjzgNSLuRCZ9"
      }
    },
    {
      "cell_type": "markdown",
      "source": [
        "Cabe remarcar que lo habitual es utilizar un valor booleano para `condicion`. Sin embargo, en ocasiones podemos usar un objeto no booleano, que al tener `if` delante será interpretado como booleano. Debemos saber pues, qué valor booleano interpreta Python según el valor del objeto, para lo que tenemos las siguientes reglas:\n",
        "\n",
        "\n",
        "* Se interpretan como `False` los objetos con valores `False`, `None` o `0`,  así como lo objetos vacíos o de longitud cero (`''`, `[]`, `()`, `{}`, `set()`).\n",
        "* Se interpretan como `True` todos los objetos que tienen al menos un valor y este es distinto de 0 o de `False`.\n",
        "\n",
        "Por lo tanto, cuando construyamos nuestras condiciones con objetos de este tipo, habremos de considerar si utilizarlos directamente o especificar alguna comparación sobre ellos."
      ],
      "metadata": {
        "id": "v3mVk2PXJd1o"
      }
    },
    {
      "cell_type": "code",
      "source": [
        "var_false=False\n",
        "# la condición 1 pregunta si var_false es False, y la respuesta es True:\n",
        "# ejecuta código\n",
        "if var_false==False:\n",
        "  print(f'Condición 1: var_false es {var_false}')\n",
        "\n",
        "# la condición 2 no pregunta, y la respuesta es False:\n",
        "# no ejecuta código\n",
        "if var_false:\n",
        "  print(f'Condición 2: var_false es {var_false}')\n",
        "\n",
        "valor = 2\n",
        "# la condición devuelve True: ejecuta código\n",
        "if valor:\n",
        "  print(f'valor={valor} se ha interpretado como True')\n",
        "\n",
        "valor = 0\n",
        "# la condición devuelve False: no ejecuta código\n",
        "if valor:\n",
        "  print(f'valor={valor} se ha interpretado como True')"
      ],
      "metadata": {
        "colab": {
          "base_uri": "https://localhost:8080/"
        },
        "id": "1KHg2qEzWqY7",
        "outputId": "66f4aca3-77ee-487b-dfbd-5e2f274113b7"
      },
      "execution_count": null,
      "outputs": [
        {
          "output_type": "stream",
          "name": "stdout",
          "text": [
            "Condición 1: var_false es False\n",
            "valor=2 se ha interpretado como True\n"
          ]
        }
      ]
    },
    {
      "cell_type": "markdown",
      "source": [
        "También podemos **anidar condiciones**, esto es, un `if` dentro de otro `if`.\n",
        "\n",
        "Veamos un ejemplo en el que primero testamos si *Python* es distinto a *R*; si es cierta esa afirmación, entonces testamos si  *Python* es igual a *C++*, y si es cierto pinta en pantalla esa afirmación (como no lo es, no pintará nada). El programa continúa, después de acabar el primer `if`, pintando en pantalla \"Fin\".\n",
        "\n",
        "**Nota:** Fíjate en la indentación que se produce tras cada `if` y que permite visualizar, cómo se secuencia el código anidado a la primera sentencia, a la segunda, y cómo prosigue con más código independiente a todas las condiciones, `print(\"Fin\")`, alineado al mismo nivel del primer `if`."
      ],
      "metadata": {
        "id": "HTzeQkO-RarH"
      }
    },
    {
      "cell_type": "code",
      "source": [
        "a = \"Python\"\n",
        "b = \"R\"\n",
        "c = \"C++\"\n",
        "# ¿Python es distinto de R?\n",
        "if a != b:\n",
        "  print(f\"{a} y {b} no son el mismo programa\")\n",
        "  # ¿Python es igual a C++?\n",
        "  if a == c:\n",
        "    print(f\"{a} y {c} son el mismo programa\")\n",
        "\n",
        "# Tras especificar todo el código anidado en if, el programa continúa\n",
        "print(\"Fin\")"
      ],
      "metadata": {
        "colab": {
          "base_uri": "https://localhost:8080/"
        },
        "id": "B0kWn6TMRhe9",
        "outputId": "cb350ea6-51be-42b2-b9c6-602b03ad286a"
      },
      "execution_count": null,
      "outputs": [
        {
          "output_type": "stream",
          "name": "stdout",
          "text": [
            "Python y R no son el mismo programa\n",
            "Fin\n"
          ]
        }
      ]
    },
    {
      "cell_type": "markdown",
      "source": [
        "## <font color='steelblue'>5. La condición ``if-else``"
      ],
      "metadata": {
        "id": "3dmqLEiKBT-v"
      }
    },
    {
      "cell_type": "markdown",
      "source": [
        "Cuando después de una condición `if`, si en lugar de proseguir con la ejecución de más código, queremos proponer otra alternativa de cálculo en caso de que la condición sea `False`, añadiremos el comando `else` para especificar dicha alternativa.\n",
        "\n",
        "La formulación será pues:\n",
        "```\n",
        "if condicion:\n",
        "  código a ejecutar si condicion=True\n",
        "else:\n",
        "  código a ejecutar si condicion=False\n",
        "```\n",
        "\n",
        "Observa que `if` y `else` están alineados al mismo nivel a la izquierda, que ambos comandos concluyen con dos puntos `:`, y que el código correspondiente a cada uno está en otra línea e indentado con sangría. Sólo `if` contiene la condición que se ha de testar.\n",
        "\n",
        "Veamos varios ejemplos.\n",
        "En el primero comparamos dos palabras después de convertirlas a minúsculas, y visualizamos en pantalla si son la misma o no.\n",
        "\n"
      ],
      "metadata": {
        "id": "YLqPCcZOfb8v"
      }
    },
    {
      "cell_type": "code",
      "source": [
        "a = \"Hola\"\n",
        "b = \"hOLA\"\n",
        "if a.lower() != b.lower():\n",
        "  print(f\"{a} y {b} no son la misma palabra\")\n",
        "else:\n",
        "  print(f\"{a} y {b} son la misma palabra si no discriminamos entre mayúsculas y minúsculas.\")"
      ],
      "metadata": {
        "colab": {
          "base_uri": "https://localhost:8080/"
        },
        "id": "88GpllwMfnJZ",
        "outputId": "db0ce45c-eb13-46f3-d176-66ad6a0a46e8"
      },
      "execution_count": null,
      "outputs": [
        {
          "output_type": "stream",
          "name": "stdout",
          "text": [
            "Hola y hOLA son la misma palabra si no discriminamos entre mayúsculas y minúsculas.\n"
          ]
        }
      ]
    },
    {
      "cell_type": "markdown",
      "source": [
        "Podemos utilizar condiciones con cualquier tipo de objeto. Veamos un ejemplo con diccionarios, en el que queremos verificar si dos asignaturas dadas han sido evaluadas y con qué nota.\n"
      ],
      "metadata": {
        "id": "Liq47tFNixs6"
      }
    },
    {
      "cell_type": "code",
      "source": [
        "evaluadas = {\n",
        "    \"Bioquímica I\": 9,\n",
        "    \"Anotomía Humana I\": 8.5,\n",
        "    \"Histología\": 9.3\n",
        "}\n",
        "asignatura1 = \"Histología\"\n",
        "asignatura2 = \"Calculo numérico\"\n",
        "if asignatura1 in evaluadas:\n",
        "  print(f\"La asignatura {asignatura1} ha sido evaluada con un {evaluadas[asignatura1]}\")\n",
        "else:\n",
        "  print(f\"La asignatura {asignatura1} no ha sido evaluada\")\n",
        "if asignatura2 in evaluadas:\n",
        "  print(f\"La asignatura {asignatura2} ha sido evaluada con un {evaluadas[asignatura2]}\")\n",
        "else:\n",
        "  print(f\"La asignatura {asignatura2} no ha sido evaluada\")"
      ],
      "metadata": {
        "colab": {
          "base_uri": "https://localhost:8080/"
        },
        "id": "sC5xululjymK",
        "outputId": "bea46efa-be87-4bbe-eb1f-7109b03a7097"
      },
      "execution_count": null,
      "outputs": [
        {
          "output_type": "stream",
          "name": "stdout",
          "text": [
            "La asignatura Histología ha sido evaluada con un 9.3\n",
            "La asignatura Calculo numérico no ha sido evaluada\n"
          ]
        }
      ]
    },
    {
      "cell_type": "markdown",
      "source": [
        "Siempre podemos anidar condiciones `if-else` cuando tenemos varias condiciones a testar.\n",
        "\n",
        "Veamos este ejemplo, en el que tenemos tres valores a, b y c. Si a es mayor que b, nos preguntamos si c es mayor que a, en cuyo caso tenemos la ordenación; si no es el caso, preguntamos por cuál es el mayor de b y c y obtenemos el orden. Si la primera condición no es cierta, tenemos que a es menor que b, por lo que c supera a b, en cuyo caso tenemos la ordenación, y si no es el caso, preguntamos por el orden de a y c para conseguir el orden definitivo."
      ],
      "metadata": {
        "id": "X2oVwXBkfL6h"
      }
    },
    {
      "cell_type": "code",
      "source": [
        "a = 8\n",
        "b = 1\n",
        "c = 6\n",
        "if a > b:\n",
        "  if c > a:\n",
        "    print(f\"{c} > {a} > {b} \")\n",
        "  else:\n",
        "    if c > b:\n",
        "      print(f\"{a} > {c} > {b}\")\n",
        "    else:\n",
        "      print(f\"{a} > {b} > {c}\")\n",
        "else:\n",
        "  if c > b:\n",
        "    print(f\"{c} > {b} > {a}\")\n",
        "  else:\n",
        "    if a < c:\n",
        "      print(f\"{b} > {c} > {a}\")\n",
        "    else:\n",
        "      print(f\"{b} > {a} > {c}\")"
      ],
      "metadata": {
        "colab": {
          "base_uri": "https://localhost:8080/"
        },
        "id": "5UsWoBw3fWao",
        "outputId": "bde25ee5-80c1-4070-a186-cfbc9889cbf2"
      },
      "execution_count": null,
      "outputs": [
        {
          "output_type": "stream",
          "name": "stdout",
          "text": [
            "8 > 6 > 1\n"
          ]
        }
      ]
    },
    {
      "cell_type": "markdown",
      "source": [
        "Prueba a ejecutar el código anterior, modificando los valores de a, b y c, y comprueba que opera correctamente."
      ],
      "metadata": {
        "id": "QPRCgy9tgL8D"
      }
    },
    {
      "cell_type": "markdown",
      "source": [
        "## <font color='steelblue'>6. La condición `elif`</font>"
      ],
      "metadata": {
        "id": "eE-RAtz3ZL1f"
      }
    },
    {
      "cell_type": "markdown",
      "source": [
        "La condición `if-else` nos permite especificar dos alternativas de cálculo. Cuando son varias las alternativas posibles para ejecutar código condicionado, añadimos `elif` a cada una de las alternativas adicionales a las que ofrecen `if` y `else`.  \n",
        "\n",
        "La formulación es similar a la que ya vimos para `if-else`:\n",
        "```\n",
        "if condicion1:\n",
        "  código a ejecutar si condicion1=True\n",
        "elif condicion2:\n",
        "  código a ejecutar si condicion2=True\n",
        "elif condicion3:\n",
        "  código a ejecutar si condicion3=True\n",
        "...\n",
        "else\n",
        "  código a ejecutar si condiciones123..=False\n",
        "```\n",
        "\n",
        "El comando `elif` va acompañado de una condición alternativa a las que se han propuesto previamente (pues solo se ejecuta si las anteriores eran `False`), y seguido de dos puntos, `:`, después de los cuales se salta línea e indenta el código a ejecutar. La condición acaba con `else` para dar la respuesta cuando todas las condiciones anteriores fueron fallidas. En la secuencia de alternativas se ejecuta solo la primera condición que se cumple.\n",
        "\n",
        "Podríamos no obstante, prescindir de `else` si no contemplamos más ejecuciones alternativas."
      ],
      "metadata": {
        "id": "7OVH6geGk2fq"
      }
    },
    {
      "cell_type": "markdown",
      "source": [
        "En el ejemplo a continuación, simulamos el comportamiento de una alarma térmica, que da un mensaje de \"riesgo de sobrecalentamiento\" si la temperatura es superior a 40ºC, \"sin riesgo\" si está entre 0º y 40º, y \"riesgo de congelación\", si la temperatura es inferior a 0º. Varía el valor de 'temp' y comprueba que la alarma opera correctamente."
      ],
      "metadata": {
        "id": "yJWMHMCXFpcS"
      }
    },
    {
      "cell_type": "code",
      "source": [
        "temp = 25\n",
        "if temp > 40:\n",
        "  print(\"Riesgo de sobrecalentamiento\")\n",
        "elif temp > 0:\n",
        "  print(\"Sin riesgo\")\n",
        "else:\n",
        "  print(\"Riesgo de congelación\")"
      ],
      "metadata": {
        "colab": {
          "base_uri": "https://localhost:8080/"
        },
        "id": "vdP4dA0yjX43",
        "outputId": "97bb5bd6-4442-416d-f10b-c20742c023f4"
      },
      "execution_count": null,
      "outputs": [
        {
          "output_type": "stream",
          "name": "stdout",
          "text": [
            "Sin riesgo\n"
          ]
        }
      ]
    },
    {
      "cell_type": "markdown",
      "source": [
        "En el siguiente ejemplo queremos descubrir en qué grado está (de entre dos posibles) una asignatura que nos dan, y qué nota media ha tenido en dicho grado durante el curso actual. La asignatura se llama \"Cinesiterapia\" y pertenece al grado en Medicina, al grado en Fisioterapia, o quizá no esté en ninguno de ellos."
      ],
      "metadata": {
        "id": "lFZMCge2jY6M"
      }
    },
    {
      "cell_type": "code",
      "source": [
        "asignaturas_fisio = {\n",
        "    \"Historia de la fisioterapis\": 9.2,\n",
        "    \"Cinesiterapia\": 8,\n",
        "    \"Terapias manuales\": 9.4}\n",
        "asignatura = \"Cinesiterapia\"\n",
        "print(asignaturas_fisio[asignatura])"
      ],
      "metadata": {
        "colab": {
          "base_uri": "https://localhost:8080/"
        },
        "id": "bQ8tge8VNQm4",
        "outputId": "5ac954f8-c151-4c6f-d64a-94b0b1ebd0e6"
      },
      "execution_count": null,
      "outputs": [
        {
          "output_type": "stream",
          "name": "stdout",
          "text": [
            "8\n"
          ]
        }
      ]
    },
    {
      "cell_type": "code",
      "source": [
        "asignaturas_medicina = {\n",
        "    \"Genética\": 9,\n",
        "    \"Historia de la medicina\": 8.5,\n",
        "    \"Neurobilogía\": 9.3\n",
        "}\n",
        "asignaturas_fisio = {\n",
        "    \"Historia de la fisioterapis\": 9.2,\n",
        "    \"Cinesiterapia\": 8,\n",
        "    \"Terapias manuales\": 9.4\n",
        "}\n",
        "asignatura = \"Cinesiterapia\"\n",
        "if asignatura in asignaturas_medicina:\n",
        "  print(f\"La asignatura {asignatura} es del Grado en Medicina \")\n",
        "  print(f\"y la nota media ha sido {asignaturas_medicina[asignatura]}.\")\n",
        "elif asignatura in asignaturas_fisio:\n",
        "  print(f\"La asignatura {asignatura} es del Grado en Fisioterapia\")\n",
        "  print(f\"y la nota media ha sido {asignaturas_fisio[asignatura]}.\")\n",
        "else:\n",
        "  print(f\"La asignatura {asignatura} NO es de ninguno de los dos grados.\")"
      ],
      "metadata": {
        "colab": {
          "base_uri": "https://localhost:8080/"
        },
        "id": "v_ZxHpNSlGAN",
        "outputId": "4a14af1f-a425-4c17-f03e-f13124940635"
      },
      "execution_count": null,
      "outputs": [
        {
          "output_type": "stream",
          "name": "stdout",
          "text": [
            "La asignatura Cinesiterapia es del Grado en Fisioterapia\n",
            "y la nota media ha sido 8.\n"
          ]
        }
      ]
    },
    {
      "cell_type": "markdown",
      "source": [
        "Combinamos por último condiciones anidadas con `elif`. Prueba a ejecutar el código con los valores comentados y los que tú quieras incluir."
      ],
      "metadata": {
        "id": "55wxx4gaOg6-"
      }
    },
    {
      "cell_type": "code",
      "source": [
        "b = 0\n",
        "#b=1\n",
        "#b = \"\"\n",
        "#b = False\n",
        "#b= None\n",
        "if b:\n",
        "  print(\"Soy verdadero\")\n",
        "else:\n",
        "  print(\"Soy falso\", end=\" \")\n",
        "  if b == 0:\n",
        "    print(\"porque valgo 0\")\n",
        "  elif b == None:\n",
        "    print(\"porque soy 'None'\")\n",
        "  elif b == False:\n",
        "    print(\"porque soy 'False'\")\n",
        "  else:\n",
        "    print(\"porque estoy vacío\")"
      ],
      "metadata": {
        "colab": {
          "base_uri": "https://localhost:8080/"
        },
        "id": "-K6HOtpaOnmk",
        "outputId": "55b2b9e3-fca3-4270-8b3b-4efab5b65488"
      },
      "execution_count": null,
      "outputs": [
        {
          "output_type": "stream",
          "name": "stdout",
          "text": [
            "Soy falso porque valgo 0\n"
          ]
        }
      ]
    }
  ]
}